{
  "nbformat": 4,
  "nbformat_minor": 0,
  "metadata": {
    "kernelspec": {
      "display_name": "Python 3",
      "language": "python",
      "name": "python3"
    },
    "language_info": {
      "codemirror_mode": {
        "name": "ipython",
        "version": 3
      },
      "file_extension": ".py",
      "mimetype": "text/x-python",
      "name": "python",
      "nbconvert_exporter": "python",
      "pygments_lexer": "ipython3",
      "version": "3.6.3"
    },
    "colab": {
      "name": "Team_14_JHB- Baseline_model(updated).ipynb",
      "provenance": [],
      "include_colab_link": true
    }
  },
  "cells": [
    {
      "cell_type": "markdown",
      "metadata": {
        "id": "view-in-github",
        "colab_type": "text"
      },
      "source": [
        "<a href=\"https://colab.research.google.com/github/thembeks/Regression-Sendy-Logistics-Challenge-Team-14/blob/2ndbranch/Team_14_JHB_Baseline_model(updated).ipynb\" target=\"_parent\"><img src=\"https://colab.research.google.com/assets/colab-badge.svg\" alt=\"Open In Colab\"/></a>"
      ]
    },
    {
      "cell_type": "markdown",
      "metadata": {
        "heading_collapsed": true,
        "id": "IqMuqcW2IewE",
        "colab_type": "text"
      },
      "source": [
        "# Sendy Logistics\n",
        "\n",
        "The costs of logistics in Sub-Saharan Africa increase the costs of manufactured goods up to 320% whereas in Europe it is only 90% of the manufacturing cost. Economies are better when logistics are efficient and affordable.\n",
        "\n",
        "Sendy is a logistics company situated in Nairobi, Kenya. They help men and women behind every type of business to trade easily , deliver more competitively and build extraordinary business. \n",
        "\n",
        "\n",
        "***“We believe in them; we believe that logistics should be an enabler for them to achieve their goals, rather than a hindrance. We believe that everyone should be able to participate and thrive in the economy and that no small business should be left out because the cost of logistics is either too high or inaccessible.”***\n",
        "\n",
        "\n",
        "The purpose of this notebook is to predict the estimated time of delivery of orders from the time the order is picked up till it is delivered at its final destination.\n",
        "\n",
        "This will help Sendy improve their customer satisfaction as well ad the reliabilty of their service. It will also ensure Sendy's resources are being used efficiently through a decrease of cost in doing business, planning for order scheduling and improved resource management. "
      ]
    },
    {
      "cell_type": "markdown",
      "metadata": {
        "heading_collapsed": true,
        "id": "Un-DzQ1oIewO",
        "colab_type": "text"
      },
      "source": [
        "# Data Preprocessing\n",
        "The models within the Baseline notebook are trained using very little data transformation. The data is cleaned minimally so that it could be used to build models to make predictions on it. The Baseline models will be then compared to the actual models where further data preprocessing would be done to the data."
      ]
    },
    {
      "cell_type": "markdown",
      "metadata": {
        "heading_collapsed": true,
        "hidden": true,
        "id": "sxO2oCeOIewR",
        "colab_type": "text"
      },
      "source": [
        "### Importing the libraries"
      ]
    },
    {
      "cell_type": "code",
      "metadata": {
        "hidden": true,
        "id": "fUvcECy7IewT",
        "colab_type": "code",
        "outputId": "c8ccb887-a635-4482-fbba-4ebe0f99f8cb",
        "colab": {
          "base_uri": "https://localhost:8080/"
        }
      },
      "source": [
        "#Import python libraries\n",
        "import numpy as np\n",
        "import matplotlib.pyplot as plt\n",
        "import pandas as pd\n",
        "import seaborn as sns\n",
        "\n",
        "#Packages used to display the Exploratory Data Analysis(EDA)\n",
        "from pandas_profiling import ProfileReport\n",
        "from IPython.display import IFrame\n",
        "\n",
        "#Train_test_split used to split the x dataframe into the training set and test set\n",
        "from sklearn.model_selection import train_test_split\n",
        "\n",
        "#Training the multiple linear regression model on the split data\n",
        "from sklearn.linear_model import LinearRegression\n",
        "\n",
        "#Training the XGBoost regression model on the split data\n",
        "import xgboost as xgb\n",
        "#Accuracy packages\n",
        "from sklearn.metrics import mean_squared_error"
      ],
      "execution_count": 0,
      "outputs": [
        {
          "output_type": "stream",
          "text": [
            "/usr/local/lib/python3.6/dist-packages/statsmodels/tools/_testing.py:19: FutureWarning: pandas.util.testing is deprecated. Use the functions in the public API at pandas.testing instead.\n",
            "  import pandas.util.testing as tm\n"
          ],
          "name": "stderr"
        }
      ]
    },
    {
      "cell_type": "markdown",
      "metadata": {
        "heading_collapsed": true,
        "hidden": true,
        "id": "Z4vC8stmIewr",
        "colab_type": "text"
      },
      "source": [
        "### Importing the datasets"
      ]
    },
    {
      "cell_type": "markdown",
      "metadata": {
        "heading_collapsed": true,
        "hidden": true,
        "id": "lOCzzavgIewt",
        "colab_type": "text"
      },
      "source": [
        "##### **Variable definitions**\n",
        "The Variable definitions dataframe lists the column names found in the Rider, Train, Test and Sample Submissions dataframes and gives a brief description of the data found within the column.\n",
        "\n",
        "*Aside note: Column names listed in this datframe may not appear the Rider, Train, Test and Sample Submissions dataframes because during the process of modelling the data, the columns may not be useful and will be removed.*"
      ]
    },
    {
      "cell_type": "code",
      "metadata": {
        "hidden": true,
        "id": "lbAH_BGyIeww",
        "colab_type": "code",
        "outputId": "1c966f50-dc01-4bb4-f561-92ad902e4474",
        "colab": {
          "base_uri": "https://localhost:8080/",
          "height": 881
        }
      },
      "source": [
        "var_definitions = pd.read_csv(\"https://raw.githubusercontent.com/thembeks/Regression-Sendy-Logistics-Challenge-Team-14/Predict/VariableDefinitions.csv\", names=['Column_Name', 'Description'])\n",
        "var_definitions.style.set_properties(subset=['Description'], **{'width': '600px'})"
      ],
      "execution_count": 0,
      "outputs": [
        {
          "output_type": "execute_result",
          "data": {
            "text/html": [
              "<style  type=\"text/css\" >\n",
              "    #T_c0d17e4c_a016_11ea_af52_0242ac1c0002row0_col1 {\n",
              "            width:  600px;\n",
              "        }    #T_c0d17e4c_a016_11ea_af52_0242ac1c0002row1_col1 {\n",
              "            width:  600px;\n",
              "        }    #T_c0d17e4c_a016_11ea_af52_0242ac1c0002row2_col1 {\n",
              "            width:  600px;\n",
              "        }    #T_c0d17e4c_a016_11ea_af52_0242ac1c0002row3_col1 {\n",
              "            width:  600px;\n",
              "        }    #T_c0d17e4c_a016_11ea_af52_0242ac1c0002row4_col1 {\n",
              "            width:  600px;\n",
              "        }    #T_c0d17e4c_a016_11ea_af52_0242ac1c0002row5_col1 {\n",
              "            width:  600px;\n",
              "        }    #T_c0d17e4c_a016_11ea_af52_0242ac1c0002row6_col1 {\n",
              "            width:  600px;\n",
              "        }    #T_c0d17e4c_a016_11ea_af52_0242ac1c0002row7_col1 {\n",
              "            width:  600px;\n",
              "        }    #T_c0d17e4c_a016_11ea_af52_0242ac1c0002row8_col1 {\n",
              "            width:  600px;\n",
              "        }    #T_c0d17e4c_a016_11ea_af52_0242ac1c0002row9_col1 {\n",
              "            width:  600px;\n",
              "        }    #T_c0d17e4c_a016_11ea_af52_0242ac1c0002row10_col1 {\n",
              "            width:  600px;\n",
              "        }    #T_c0d17e4c_a016_11ea_af52_0242ac1c0002row11_col1 {\n",
              "            width:  600px;\n",
              "        }    #T_c0d17e4c_a016_11ea_af52_0242ac1c0002row12_col1 {\n",
              "            width:  600px;\n",
              "        }    #T_c0d17e4c_a016_11ea_af52_0242ac1c0002row13_col1 {\n",
              "            width:  600px;\n",
              "        }    #T_c0d17e4c_a016_11ea_af52_0242ac1c0002row14_col1 {\n",
              "            width:  600px;\n",
              "        }    #T_c0d17e4c_a016_11ea_af52_0242ac1c0002row15_col1 {\n",
              "            width:  600px;\n",
              "        }    #T_c0d17e4c_a016_11ea_af52_0242ac1c0002row16_col1 {\n",
              "            width:  600px;\n",
              "        }    #T_c0d17e4c_a016_11ea_af52_0242ac1c0002row17_col1 {\n",
              "            width:  600px;\n",
              "        }    #T_c0d17e4c_a016_11ea_af52_0242ac1c0002row18_col1 {\n",
              "            width:  600px;\n",
              "        }    #T_c0d17e4c_a016_11ea_af52_0242ac1c0002row19_col1 {\n",
              "            width:  600px;\n",
              "        }    #T_c0d17e4c_a016_11ea_af52_0242ac1c0002row20_col1 {\n",
              "            width:  600px;\n",
              "        }    #T_c0d17e4c_a016_11ea_af52_0242ac1c0002row21_col1 {\n",
              "            width:  600px;\n",
              "        }    #T_c0d17e4c_a016_11ea_af52_0242ac1c0002row22_col1 {\n",
              "            width:  600px;\n",
              "        }    #T_c0d17e4c_a016_11ea_af52_0242ac1c0002row23_col1 {\n",
              "            width:  600px;\n",
              "        }    #T_c0d17e4c_a016_11ea_af52_0242ac1c0002row24_col1 {\n",
              "            width:  600px;\n",
              "        }    #T_c0d17e4c_a016_11ea_af52_0242ac1c0002row25_col1 {\n",
              "            width:  600px;\n",
              "        }    #T_c0d17e4c_a016_11ea_af52_0242ac1c0002row26_col1 {\n",
              "            width:  600px;\n",
              "        }    #T_c0d17e4c_a016_11ea_af52_0242ac1c0002row27_col1 {\n",
              "            width:  600px;\n",
              "        }    #T_c0d17e4c_a016_11ea_af52_0242ac1c0002row28_col1 {\n",
              "            width:  600px;\n",
              "        }    #T_c0d17e4c_a016_11ea_af52_0242ac1c0002row29_col1 {\n",
              "            width:  600px;\n",
              "        }    #T_c0d17e4c_a016_11ea_af52_0242ac1c0002row30_col1 {\n",
              "            width:  600px;\n",
              "        }    #T_c0d17e4c_a016_11ea_af52_0242ac1c0002row31_col1 {\n",
              "            width:  600px;\n",
              "        }    #T_c0d17e4c_a016_11ea_af52_0242ac1c0002row32_col1 {\n",
              "            width:  600px;\n",
              "        }    #T_c0d17e4c_a016_11ea_af52_0242ac1c0002row33_col1 {\n",
              "            width:  600px;\n",
              "        }    #T_c0d17e4c_a016_11ea_af52_0242ac1c0002row34_col1 {\n",
              "            width:  600px;\n",
              "        }    #T_c0d17e4c_a016_11ea_af52_0242ac1c0002row35_col1 {\n",
              "            width:  600px;\n",
              "        }</style><table id=\"T_c0d17e4c_a016_11ea_af52_0242ac1c0002\" ><thead>    <tr>        <th class=\"blank level0\" ></th>        <th class=\"col_heading level0 col0\" >Column_Name</th>        <th class=\"col_heading level0 col1\" >Description</th>    </tr></thead><tbody>\n",
              "                <tr>\n",
              "                        <th id=\"T_c0d17e4c_a016_11ea_af52_0242ac1c0002level0_row0\" class=\"row_heading level0 row0\" >0</th>\n",
              "                        <td id=\"T_c0d17e4c_a016_11ea_af52_0242ac1c0002row0_col0\" class=\"data row0 col0\" >Order No</td>\n",
              "                        <td id=\"T_c0d17e4c_a016_11ea_af52_0242ac1c0002row0_col1\" class=\"data row0 col1\" >Unique number identifying the order</td>\n",
              "            </tr>\n",
              "            <tr>\n",
              "                        <th id=\"T_c0d17e4c_a016_11ea_af52_0242ac1c0002level0_row1\" class=\"row_heading level0 row1\" >1</th>\n",
              "                        <td id=\"T_c0d17e4c_a016_11ea_af52_0242ac1c0002row1_col0\" class=\"data row1 col0\" >User Id</td>\n",
              "                        <td id=\"T_c0d17e4c_a016_11ea_af52_0242ac1c0002row1_col1\" class=\"data row1 col1\" >Unique number identifying the customer on a platform</td>\n",
              "            </tr>\n",
              "            <tr>\n",
              "                        <th id=\"T_c0d17e4c_a016_11ea_af52_0242ac1c0002level0_row2\" class=\"row_heading level0 row2\" >2</th>\n",
              "                        <td id=\"T_c0d17e4c_a016_11ea_af52_0242ac1c0002row2_col0\" class=\"data row2 col0\" >Vehicle Type</td>\n",
              "                        <td id=\"T_c0d17e4c_a016_11ea_af52_0242ac1c0002row2_col1\" class=\"data row2 col1\" >For this competition limited to bikes, however in practice Sendy service extends to trucks and vans</td>\n",
              "            </tr>\n",
              "            <tr>\n",
              "                        <th id=\"T_c0d17e4c_a016_11ea_af52_0242ac1c0002level0_row3\" class=\"row_heading level0 row3\" >3</th>\n",
              "                        <td id=\"T_c0d17e4c_a016_11ea_af52_0242ac1c0002row3_col0\" class=\"data row3 col0\" >Platform Type</td>\n",
              "                        <td id=\"T_c0d17e4c_a016_11ea_af52_0242ac1c0002row3_col1\" class=\"data row3 col1\" >Platform used to place the order, there are 4 types</td>\n",
              "            </tr>\n",
              "            <tr>\n",
              "                        <th id=\"T_c0d17e4c_a016_11ea_af52_0242ac1c0002level0_row4\" class=\"row_heading level0 row4\" >4</th>\n",
              "                        <td id=\"T_c0d17e4c_a016_11ea_af52_0242ac1c0002row4_col0\" class=\"data row4 col0\" >Personal or Business</td>\n",
              "                        <td id=\"T_c0d17e4c_a016_11ea_af52_0242ac1c0002row4_col1\" class=\"data row4 col1\" >Customer type</td>\n",
              "            </tr>\n",
              "            <tr>\n",
              "                        <th id=\"T_c0d17e4c_a016_11ea_af52_0242ac1c0002level0_row5\" class=\"row_heading level0 row5\" >5</th>\n",
              "                        <td id=\"T_c0d17e4c_a016_11ea_af52_0242ac1c0002row5_col0\" class=\"data row5 col0\" >Placement - Day of Month</td>\n",
              "                        <td id=\"T_c0d17e4c_a016_11ea_af52_0242ac1c0002row5_col1\" class=\"data row5 col1\" >Placement - Day of Month i.e 1-31</td>\n",
              "            </tr>\n",
              "            <tr>\n",
              "                        <th id=\"T_c0d17e4c_a016_11ea_af52_0242ac1c0002level0_row6\" class=\"row_heading level0 row6\" >6</th>\n",
              "                        <td id=\"T_c0d17e4c_a016_11ea_af52_0242ac1c0002row6_col0\" class=\"data row6 col0\" >Placement - Weekday (Mo = 1)</td>\n",
              "                        <td id=\"T_c0d17e4c_a016_11ea_af52_0242ac1c0002row6_col1\" class=\"data row6 col1\" >Placement - Weekday (Monday = 1)</td>\n",
              "            </tr>\n",
              "            <tr>\n",
              "                        <th id=\"T_c0d17e4c_a016_11ea_af52_0242ac1c0002level0_row7\" class=\"row_heading level0 row7\" >7</th>\n",
              "                        <td id=\"T_c0d17e4c_a016_11ea_af52_0242ac1c0002row7_col0\" class=\"data row7 col0\" >Placement - Time</td>\n",
              "                        <td id=\"T_c0d17e4c_a016_11ea_af52_0242ac1c0002row7_col1\" class=\"data row7 col1\" >Placement - Time - Time of day the order was placed</td>\n",
              "            </tr>\n",
              "            <tr>\n",
              "                        <th id=\"T_c0d17e4c_a016_11ea_af52_0242ac1c0002level0_row8\" class=\"row_heading level0 row8\" >8</th>\n",
              "                        <td id=\"T_c0d17e4c_a016_11ea_af52_0242ac1c0002row8_col0\" class=\"data row8 col0\" >Confirmation - Day of Month</td>\n",
              "                        <td id=\"T_c0d17e4c_a016_11ea_af52_0242ac1c0002row8_col1\" class=\"data row8 col1\" >Confirmation - Day of Month i.e 1-31</td>\n",
              "            </tr>\n",
              "            <tr>\n",
              "                        <th id=\"T_c0d17e4c_a016_11ea_af52_0242ac1c0002level0_row9\" class=\"row_heading level0 row9\" >9</th>\n",
              "                        <td id=\"T_c0d17e4c_a016_11ea_af52_0242ac1c0002row9_col0\" class=\"data row9 col0\" >Confirmation - Weekday (Mo = 1)</td>\n",
              "                        <td id=\"T_c0d17e4c_a016_11ea_af52_0242ac1c0002row9_col1\" class=\"data row9 col1\" >Confirmation - Weekday (Monday = 1)</td>\n",
              "            </tr>\n",
              "            <tr>\n",
              "                        <th id=\"T_c0d17e4c_a016_11ea_af52_0242ac1c0002level0_row10\" class=\"row_heading level0 row10\" >10</th>\n",
              "                        <td id=\"T_c0d17e4c_a016_11ea_af52_0242ac1c0002row10_col0\" class=\"data row10 col0\" >Confirmation - Time</td>\n",
              "                        <td id=\"T_c0d17e4c_a016_11ea_af52_0242ac1c0002row10_col1\" class=\"data row10 col1\" >Confirmation - Time - Time of day the order was confirmed by a rider</td>\n",
              "            </tr>\n",
              "            <tr>\n",
              "                        <th id=\"T_c0d17e4c_a016_11ea_af52_0242ac1c0002level0_row11\" class=\"row_heading level0 row11\" >11</th>\n",
              "                        <td id=\"T_c0d17e4c_a016_11ea_af52_0242ac1c0002row11_col0\" class=\"data row11 col0\" >Arrival at Pickup - Day of Month</td>\n",
              "                        <td id=\"T_c0d17e4c_a016_11ea_af52_0242ac1c0002row11_col1\" class=\"data row11 col1\" >Arrival at Pickup - Day of Month i.e 1-31</td>\n",
              "            </tr>\n",
              "            <tr>\n",
              "                        <th id=\"T_c0d17e4c_a016_11ea_af52_0242ac1c0002level0_row12\" class=\"row_heading level0 row12\" >12</th>\n",
              "                        <td id=\"T_c0d17e4c_a016_11ea_af52_0242ac1c0002row12_col0\" class=\"data row12 col0\" >Arrival at Pickup - Weekday (Mo = 1)</td>\n",
              "                        <td id=\"T_c0d17e4c_a016_11ea_af52_0242ac1c0002row12_col1\" class=\"data row12 col1\" >Arrival at Pickup - Weekday (Monday = 1)</td>\n",
              "            </tr>\n",
              "            <tr>\n",
              "                        <th id=\"T_c0d17e4c_a016_11ea_af52_0242ac1c0002level0_row13\" class=\"row_heading level0 row13\" >13</th>\n",
              "                        <td id=\"T_c0d17e4c_a016_11ea_af52_0242ac1c0002row13_col0\" class=\"data row13 col0\" >Arrival at Pickup - Time</td>\n",
              "                        <td id=\"T_c0d17e4c_a016_11ea_af52_0242ac1c0002row13_col1\" class=\"data row13 col1\" >Time of day the the rider arrived at the location to pick up the order - as marked by the rider through the Sendy application</td>\n",
              "            </tr>\n",
              "            <tr>\n",
              "                        <th id=\"T_c0d17e4c_a016_11ea_af52_0242ac1c0002level0_row14\" class=\"row_heading level0 row14\" >14</th>\n",
              "                        <td id=\"T_c0d17e4c_a016_11ea_af52_0242ac1c0002row14_col0\" class=\"data row14 col0\" >Pickup - Day of Month</td>\n",
              "                        <td id=\"T_c0d17e4c_a016_11ea_af52_0242ac1c0002row14_col1\" class=\"data row14 col1\" >Pickup - Day of Month i.e 1-31</td>\n",
              "            </tr>\n",
              "            <tr>\n",
              "                        <th id=\"T_c0d17e4c_a016_11ea_af52_0242ac1c0002level0_row15\" class=\"row_heading level0 row15\" >15</th>\n",
              "                        <td id=\"T_c0d17e4c_a016_11ea_af52_0242ac1c0002row15_col0\" class=\"data row15 col0\" >Pickup - Weekday (Mo = 1)</td>\n",
              "                        <td id=\"T_c0d17e4c_a016_11ea_af52_0242ac1c0002row15_col1\" class=\"data row15 col1\" >Pickup - Weekday (Monday = 1)</td>\n",
              "            </tr>\n",
              "            <tr>\n",
              "                        <th id=\"T_c0d17e4c_a016_11ea_af52_0242ac1c0002level0_row16\" class=\"row_heading level0 row16\" >16</th>\n",
              "                        <td id=\"T_c0d17e4c_a016_11ea_af52_0242ac1c0002row16_col0\" class=\"data row16 col0\" >Pickup - Time</td>\n",
              "                        <td id=\"T_c0d17e4c_a016_11ea_af52_0242ac1c0002row16_col1\" class=\"data row16 col1\" >Pickup - Time - Time of day the the rider picked up the order - as marked by the rider through the Sendy application</td>\n",
              "            </tr>\n",
              "            <tr>\n",
              "                        <th id=\"T_c0d17e4c_a016_11ea_af52_0242ac1c0002level0_row17\" class=\"row_heading level0 row17\" >17</th>\n",
              "                        <td id=\"T_c0d17e4c_a016_11ea_af52_0242ac1c0002row17_col0\" class=\"data row17 col0\" >Arrival at Destination - Day of Month</td>\n",
              "                        <td id=\"T_c0d17e4c_a016_11ea_af52_0242ac1c0002row17_col1\" class=\"data row17 col1\" >Arrival at Delivery - Day of Month i.e 1-31</td>\n",
              "            </tr>\n",
              "            <tr>\n",
              "                        <th id=\"T_c0d17e4c_a016_11ea_af52_0242ac1c0002level0_row18\" class=\"row_heading level0 row18\" >18</th>\n",
              "                        <td id=\"T_c0d17e4c_a016_11ea_af52_0242ac1c0002row18_col0\" class=\"data row18 col0\" >Arrival at Destination - Weekday (Mo = 1)</td>\n",
              "                        <td id=\"T_c0d17e4c_a016_11ea_af52_0242ac1c0002row18_col1\" class=\"data row18 col1\" >Arrival at Delivery - Weekday (Monday = 1)</td>\n",
              "            </tr>\n",
              "            <tr>\n",
              "                        <th id=\"T_c0d17e4c_a016_11ea_af52_0242ac1c0002level0_row19\" class=\"row_heading level0 row19\" >19</th>\n",
              "                        <td id=\"T_c0d17e4c_a016_11ea_af52_0242ac1c0002row19_col0\" class=\"data row19 col0\" >Arrival at Destination - Time</td>\n",
              "                        <td id=\"T_c0d17e4c_a016_11ea_af52_0242ac1c0002row19_col1\" class=\"data row19 col1\" >Arrival at Delivery Time - Time of day the rider arrived at the destination to deliver the order - as marked by the rider through the Sendy application</td>\n",
              "            </tr>\n",
              "            <tr>\n",
              "                        <th id=\"T_c0d17e4c_a016_11ea_af52_0242ac1c0002level0_row20\" class=\"row_heading level0 row20\" >20</th>\n",
              "                        <td id=\"T_c0d17e4c_a016_11ea_af52_0242ac1c0002row20_col0\" class=\"data row20 col0\" >Distance (KM)</td>\n",
              "                        <td id=\"T_c0d17e4c_a016_11ea_af52_0242ac1c0002row20_col1\" class=\"data row20 col1\" >The distance from Pickup to Destination</td>\n",
              "            </tr>\n",
              "            <tr>\n",
              "                        <th id=\"T_c0d17e4c_a016_11ea_af52_0242ac1c0002level0_row21\" class=\"row_heading level0 row21\" >21</th>\n",
              "                        <td id=\"T_c0d17e4c_a016_11ea_af52_0242ac1c0002row21_col0\" class=\"data row21 col0\" >Temperature</td>\n",
              "                        <td id=\"T_c0d17e4c_a016_11ea_af52_0242ac1c0002row21_col1\" class=\"data row21 col1\" >Temperature at the time of order placement in Degrees Celsius (measured every three hours)</td>\n",
              "            </tr>\n",
              "            <tr>\n",
              "                        <th id=\"T_c0d17e4c_a016_11ea_af52_0242ac1c0002level0_row22\" class=\"row_heading level0 row22\" >22</th>\n",
              "                        <td id=\"T_c0d17e4c_a016_11ea_af52_0242ac1c0002row22_col0\" class=\"data row22 col0\" >Precipitation in millimeters</td>\n",
              "                        <td id=\"T_c0d17e4c_a016_11ea_af52_0242ac1c0002row22_col1\" class=\"data row22 col1\" > Precipitation at the time of order placement (measured every three hours)</td>\n",
              "            </tr>\n",
              "            <tr>\n",
              "                        <th id=\"T_c0d17e4c_a016_11ea_af52_0242ac1c0002level0_row23\" class=\"row_heading level0 row23\" >23</th>\n",
              "                        <td id=\"T_c0d17e4c_a016_11ea_af52_0242ac1c0002row23_col0\" class=\"data row23 col0\" >Pickup Lat</td>\n",
              "                        <td id=\"T_c0d17e4c_a016_11ea_af52_0242ac1c0002row23_col1\" class=\"data row23 col1\" >Latitude of pick up location</td>\n",
              "            </tr>\n",
              "            <tr>\n",
              "                        <th id=\"T_c0d17e4c_a016_11ea_af52_0242ac1c0002level0_row24\" class=\"row_heading level0 row24\" >24</th>\n",
              "                        <td id=\"T_c0d17e4c_a016_11ea_af52_0242ac1c0002row24_col0\" class=\"data row24 col0\" >Pickup Long</td>\n",
              "                        <td id=\"T_c0d17e4c_a016_11ea_af52_0242ac1c0002row24_col1\" class=\"data row24 col1\" >Longitude of pick up location</td>\n",
              "            </tr>\n",
              "            <tr>\n",
              "                        <th id=\"T_c0d17e4c_a016_11ea_af52_0242ac1c0002level0_row25\" class=\"row_heading level0 row25\" >25</th>\n",
              "                        <td id=\"T_c0d17e4c_a016_11ea_af52_0242ac1c0002row25_col0\" class=\"data row25 col0\" >Destination Lat</td>\n",
              "                        <td id=\"T_c0d17e4c_a016_11ea_af52_0242ac1c0002row25_col1\" class=\"data row25 col1\" >Latitude of delivery location</td>\n",
              "            </tr>\n",
              "            <tr>\n",
              "                        <th id=\"T_c0d17e4c_a016_11ea_af52_0242ac1c0002level0_row26\" class=\"row_heading level0 row26\" >26</th>\n",
              "                        <td id=\"T_c0d17e4c_a016_11ea_af52_0242ac1c0002row26_col0\" class=\"data row26 col0\" >Destination Long</td>\n",
              "                        <td id=\"T_c0d17e4c_a016_11ea_af52_0242ac1c0002row26_col1\" class=\"data row26 col1\" >Longitude of delivery location</td>\n",
              "            </tr>\n",
              "            <tr>\n",
              "                        <th id=\"T_c0d17e4c_a016_11ea_af52_0242ac1c0002level0_row27\" class=\"row_heading level0 row27\" >27</th>\n",
              "                        <td id=\"T_c0d17e4c_a016_11ea_af52_0242ac1c0002row27_col0\" class=\"data row27 col0\" >Rider Id</td>\n",
              "                        <td id=\"T_c0d17e4c_a016_11ea_af52_0242ac1c0002row27_col1\" class=\"data row27 col1\" > ID of the Rider who accepted the order</td>\n",
              "            </tr>\n",
              "            <tr>\n",
              "                        <th id=\"T_c0d17e4c_a016_11ea_af52_0242ac1c0002level0_row28\" class=\"row_heading level0 row28\" >28</th>\n",
              "                        <td id=\"T_c0d17e4c_a016_11ea_af52_0242ac1c0002row28_col0\" class=\"data row28 col0\" >Time from Pickup to Arrival</td>\n",
              "                        <td id=\"T_c0d17e4c_a016_11ea_af52_0242ac1c0002row28_col1\" class=\"data row28 col1\" >Time in seconds between 'Pickup' and 'Arrival at Destination' - calculated from the columns for the purpose of facilitating the task</td>\n",
              "            </tr>\n",
              "            <tr>\n",
              "                        <th id=\"T_c0d17e4c_a016_11ea_af52_0242ac1c0002level0_row29\" class=\"row_heading level0 row29\" >29</th>\n",
              "                        <td id=\"T_c0d17e4c_a016_11ea_af52_0242ac1c0002row29_col0\" class=\"data row29 col0\" >nan</td>\n",
              "                        <td id=\"T_c0d17e4c_a016_11ea_af52_0242ac1c0002row29_col1\" class=\"data row29 col1\" >nan</td>\n",
              "            </tr>\n",
              "            <tr>\n",
              "                        <th id=\"T_c0d17e4c_a016_11ea_af52_0242ac1c0002level0_row30\" class=\"row_heading level0 row30\" >30</th>\n",
              "                        <td id=\"T_c0d17e4c_a016_11ea_af52_0242ac1c0002row30_col0\" class=\"data row30 col0\" >Rider Metrics</td>\n",
              "                        <td id=\"T_c0d17e4c_a016_11ea_af52_0242ac1c0002row30_col1\" class=\"data row30 col1\" >nan</td>\n",
              "            </tr>\n",
              "            <tr>\n",
              "                        <th id=\"T_c0d17e4c_a016_11ea_af52_0242ac1c0002level0_row31\" class=\"row_heading level0 row31\" >31</th>\n",
              "                        <td id=\"T_c0d17e4c_a016_11ea_af52_0242ac1c0002row31_col0\" class=\"data row31 col0\" >Rider Id</td>\n",
              "                        <td id=\"T_c0d17e4c_a016_11ea_af52_0242ac1c0002row31_col1\" class=\"data row31 col1\" >Unique number identifying the rider (same as in order details)</td>\n",
              "            </tr>\n",
              "            <tr>\n",
              "                        <th id=\"T_c0d17e4c_a016_11ea_af52_0242ac1c0002level0_row32\" class=\"row_heading level0 row32\" >32</th>\n",
              "                        <td id=\"T_c0d17e4c_a016_11ea_af52_0242ac1c0002row32_col0\" class=\"data row32 col0\" >No_Of_Orders</td>\n",
              "                        <td id=\"T_c0d17e4c_a016_11ea_af52_0242ac1c0002row32_col1\" class=\"data row32 col1\" > Number of Orders the rider has delivered</td>\n",
              "            </tr>\n",
              "            <tr>\n",
              "                        <th id=\"T_c0d17e4c_a016_11ea_af52_0242ac1c0002level0_row33\" class=\"row_heading level0 row33\" >33</th>\n",
              "                        <td id=\"T_c0d17e4c_a016_11ea_af52_0242ac1c0002row33_col0\" class=\"data row33 col0\" >Age</td>\n",
              "                        <td id=\"T_c0d17e4c_a016_11ea_af52_0242ac1c0002row33_col1\" class=\"data row33 col1\" >Number of days since the rider delivered the first order</td>\n",
              "            </tr>\n",
              "            <tr>\n",
              "                        <th id=\"T_c0d17e4c_a016_11ea_af52_0242ac1c0002level0_row34\" class=\"row_heading level0 row34\" >34</th>\n",
              "                        <td id=\"T_c0d17e4c_a016_11ea_af52_0242ac1c0002row34_col0\" class=\"data row34 col0\" >Average_Rating</td>\n",
              "                        <td id=\"T_c0d17e4c_a016_11ea_af52_0242ac1c0002row34_col1\" class=\"data row34 col1\" >Average rating of the rider</td>\n",
              "            </tr>\n",
              "            <tr>\n",
              "                        <th id=\"T_c0d17e4c_a016_11ea_af52_0242ac1c0002level0_row35\" class=\"row_heading level0 row35\" >35</th>\n",
              "                        <td id=\"T_c0d17e4c_a016_11ea_af52_0242ac1c0002row35_col0\" class=\"data row35 col0\" >No_of_Ratings</td>\n",
              "                        <td id=\"T_c0d17e4c_a016_11ea_af52_0242ac1c0002row35_col1\" class=\"data row35 col1\" > Number of ratings the rider has received. Rating an order is optional for the customer.</td>\n",
              "            </tr>\n",
              "    </tbody></table>"
            ],
            "text/plain": [
              "<pandas.io.formats.style.Styler at 0x7f3cab97fa20>"
            ]
          },
          "metadata": {
            "tags": []
          },
          "execution_count": 2
        }
      ]
    },
    {
      "cell_type": "markdown",
      "metadata": {
        "heading_collapsed": true,
        "hidden": true,
        "id": "GNx0v-D7Iew-",
        "colab_type": "text"
      },
      "source": [
        "##### **Rider dataframe**\n",
        "The Rider Dataframe lists all the riders that have delivered orders for Sendy and any information pertaining to that particular rider."
      ]
    },
    {
      "cell_type": "code",
      "metadata": {
        "hidden": true,
        "id": "caZX5x5lIexA",
        "colab_type": "code",
        "outputId": "5d966aa6-a245-4c4b-fd00-7f055e235ef7",
        "colab": {
          "base_uri": "https://localhost:8080/",
          "height": 204
        }
      },
      "source": [
        "rider= pd.read_csv('https://raw.githubusercontent.com/thembeks/Regression-Sendy-Logistics-Challenge-Team-14/Predict/Riders.csv')\n",
        "rider.columns= [col.replace(' ', '_') for col in rider.columns]\n",
        "rider.head()"
      ],
      "execution_count": 2,
      "outputs": [
        {
          "output_type": "execute_result",
          "data": {
            "text/html": [
              "<div>\n",
              "<style scoped>\n",
              "    .dataframe tbody tr th:only-of-type {\n",
              "        vertical-align: middle;\n",
              "    }\n",
              "\n",
              "    .dataframe tbody tr th {\n",
              "        vertical-align: top;\n",
              "    }\n",
              "\n",
              "    .dataframe thead th {\n",
              "        text-align: right;\n",
              "    }\n",
              "</style>\n",
              "<table border=\"1\" class=\"dataframe\">\n",
              "  <thead>\n",
              "    <tr style=\"text-align: right;\">\n",
              "      <th></th>\n",
              "      <th>Rider_Id</th>\n",
              "      <th>No_Of_Orders</th>\n",
              "      <th>Age</th>\n",
              "      <th>Average_Rating</th>\n",
              "      <th>No_of_Ratings</th>\n",
              "    </tr>\n",
              "  </thead>\n",
              "  <tbody>\n",
              "    <tr>\n",
              "      <th>0</th>\n",
              "      <td>Rider_Id_396</td>\n",
              "      <td>2946</td>\n",
              "      <td>2298</td>\n",
              "      <td>14.0</td>\n",
              "      <td>1159</td>\n",
              "    </tr>\n",
              "    <tr>\n",
              "      <th>1</th>\n",
              "      <td>Rider_Id_479</td>\n",
              "      <td>360</td>\n",
              "      <td>951</td>\n",
              "      <td>13.5</td>\n",
              "      <td>176</td>\n",
              "    </tr>\n",
              "    <tr>\n",
              "      <th>2</th>\n",
              "      <td>Rider_Id_648</td>\n",
              "      <td>1746</td>\n",
              "      <td>821</td>\n",
              "      <td>14.3</td>\n",
              "      <td>466</td>\n",
              "    </tr>\n",
              "    <tr>\n",
              "      <th>3</th>\n",
              "      <td>Rider_Id_753</td>\n",
              "      <td>314</td>\n",
              "      <td>980</td>\n",
              "      <td>12.5</td>\n",
              "      <td>75</td>\n",
              "    </tr>\n",
              "    <tr>\n",
              "      <th>4</th>\n",
              "      <td>Rider_Id_335</td>\n",
              "      <td>536</td>\n",
              "      <td>1113</td>\n",
              "      <td>13.7</td>\n",
              "      <td>156</td>\n",
              "    </tr>\n",
              "  </tbody>\n",
              "</table>\n",
              "</div>"
            ],
            "text/plain": [
              "       Rider_Id  No_Of_Orders   Age  Average_Rating  No_of_Ratings\n",
              "0  Rider_Id_396          2946  2298            14.0           1159\n",
              "1  Rider_Id_479           360   951            13.5            176\n",
              "2  Rider_Id_648          1746   821            14.3            466\n",
              "3  Rider_Id_753           314   980            12.5             75\n",
              "4  Rider_Id_335           536  1113            13.7            156"
            ]
          },
          "metadata": {
            "tags": []
          },
          "execution_count": 2
        }
      ]
    },
    {
      "cell_type": "code",
      "metadata": {
        "hidden": true,
        "id": "9AscbW_2IexP",
        "colab_type": "code",
        "outputId": "a647e98a-733b-4b56-afee-d4a427623bd0",
        "colab": {}
      },
      "source": [
        "rider.info()\n",
        "rider.shape"
      ],
      "execution_count": 0,
      "outputs": [
        {
          "output_type": "stream",
          "text": [
            "<class 'pandas.core.frame.DataFrame'>\n",
            "RangeIndex: 960 entries, 0 to 959\n",
            "Data columns (total 5 columns):\n",
            "Rider_Id          960 non-null object\n",
            "No_Of_Orders      960 non-null int64\n",
            "Age               960 non-null int64\n",
            "Average_Rating    960 non-null float64\n",
            "No_of_Ratings     960 non-null int64\n",
            "dtypes: float64(1), int64(3), object(1)\n",
            "memory usage: 37.6+ KB\n"
          ],
          "name": "stdout"
        },
        {
          "output_type": "execute_result",
          "data": {
            "text/plain": [
              "(960, 5)"
            ]
          },
          "metadata": {
            "tags": []
          },
          "execution_count": 4
        }
      ]
    },
    {
      "cell_type": "markdown",
      "metadata": {
        "heading_collapsed": true,
        "hidden": true,
        "id": "RRGpjEWXIexc",
        "colab_type": "text"
      },
      "source": [
        "##### **Training set dataframe**\n",
        "Most of the modelling will be done with this dataframe to get a prediction of the arrival time for motorbike deliveries in Nairobi."
      ]
    },
    {
      "cell_type": "code",
      "metadata": {
        "hidden": true,
        "id": "9hv_8u7DIexi",
        "colab_type": "code",
        "outputId": "3bdee0f6-5784-4cf4-fe4f-7fbc796b1a28",
        "colab": {
          "base_uri": "https://localhost:8080/",
          "height": 326
        }
      },
      "source": [
        "train= pd.read_csv('https://raw.githubusercontent.com/thembeks/Regression-Sendy-Logistics-Challenge-Team-14/Predict/Train.csv')\n",
        "train.columns= [col.replace(' ', '_') for col in train.columns]\n",
        "train.head()"
      ],
      "execution_count": 3,
      "outputs": [
        {
          "output_type": "execute_result",
          "data": {
            "text/html": [
              "<div>\n",
              "<style scoped>\n",
              "    .dataframe tbody tr th:only-of-type {\n",
              "        vertical-align: middle;\n",
              "    }\n",
              "\n",
              "    .dataframe tbody tr th {\n",
              "        vertical-align: top;\n",
              "    }\n",
              "\n",
              "    .dataframe thead th {\n",
              "        text-align: right;\n",
              "    }\n",
              "</style>\n",
              "<table border=\"1\" class=\"dataframe\">\n",
              "  <thead>\n",
              "    <tr style=\"text-align: right;\">\n",
              "      <th></th>\n",
              "      <th>Order_No</th>\n",
              "      <th>User_Id</th>\n",
              "      <th>Vehicle_Type</th>\n",
              "      <th>Platform_Type</th>\n",
              "      <th>Personal_or_Business</th>\n",
              "      <th>Placement_-_Day_of_Month</th>\n",
              "      <th>Placement_-_Weekday_(Mo_=_1)</th>\n",
              "      <th>Placement_-_Time</th>\n",
              "      <th>Confirmation_-_Day_of_Month</th>\n",
              "      <th>Confirmation_-_Weekday_(Mo_=_1)</th>\n",
              "      <th>Confirmation_-_Time</th>\n",
              "      <th>Arrival_at_Pickup_-_Day_of_Month</th>\n",
              "      <th>Arrival_at_Pickup_-_Weekday_(Mo_=_1)</th>\n",
              "      <th>Arrival_at_Pickup_-_Time</th>\n",
              "      <th>Pickup_-_Day_of_Month</th>\n",
              "      <th>Pickup_-_Weekday_(Mo_=_1)</th>\n",
              "      <th>Pickup_-_Time</th>\n",
              "      <th>Arrival_at_Destination_-_Day_of_Month</th>\n",
              "      <th>Arrival_at_Destination_-_Weekday_(Mo_=_1)</th>\n",
              "      <th>Arrival_at_Destination_-_Time</th>\n",
              "      <th>Distance_(KM)</th>\n",
              "      <th>Temperature</th>\n",
              "      <th>Precipitation_in_millimeters</th>\n",
              "      <th>Pickup_Lat</th>\n",
              "      <th>Pickup_Long</th>\n",
              "      <th>Destination_Lat</th>\n",
              "      <th>Destination_Long</th>\n",
              "      <th>Rider_Id</th>\n",
              "      <th>Time_from_Pickup_to_Arrival</th>\n",
              "    </tr>\n",
              "  </thead>\n",
              "  <tbody>\n",
              "    <tr>\n",
              "      <th>0</th>\n",
              "      <td>Order_No_4211</td>\n",
              "      <td>User_Id_633</td>\n",
              "      <td>Bike</td>\n",
              "      <td>3</td>\n",
              "      <td>Business</td>\n",
              "      <td>9</td>\n",
              "      <td>5</td>\n",
              "      <td>9:35:46 AM</td>\n",
              "      <td>9</td>\n",
              "      <td>5</td>\n",
              "      <td>9:40:10 AM</td>\n",
              "      <td>9</td>\n",
              "      <td>5</td>\n",
              "      <td>10:04:47 AM</td>\n",
              "      <td>9</td>\n",
              "      <td>5</td>\n",
              "      <td>10:27:30 AM</td>\n",
              "      <td>9</td>\n",
              "      <td>5</td>\n",
              "      <td>10:39:55 AM</td>\n",
              "      <td>4</td>\n",
              "      <td>20.4</td>\n",
              "      <td>NaN</td>\n",
              "      <td>-1.317755</td>\n",
              "      <td>36.830370</td>\n",
              "      <td>-1.300406</td>\n",
              "      <td>36.829741</td>\n",
              "      <td>Rider_Id_432</td>\n",
              "      <td>745</td>\n",
              "    </tr>\n",
              "    <tr>\n",
              "      <th>1</th>\n",
              "      <td>Order_No_25375</td>\n",
              "      <td>User_Id_2285</td>\n",
              "      <td>Bike</td>\n",
              "      <td>3</td>\n",
              "      <td>Personal</td>\n",
              "      <td>12</td>\n",
              "      <td>5</td>\n",
              "      <td>11:16:16 AM</td>\n",
              "      <td>12</td>\n",
              "      <td>5</td>\n",
              "      <td>11:23:21 AM</td>\n",
              "      <td>12</td>\n",
              "      <td>5</td>\n",
              "      <td>11:40:22 AM</td>\n",
              "      <td>12</td>\n",
              "      <td>5</td>\n",
              "      <td>11:44:09 AM</td>\n",
              "      <td>12</td>\n",
              "      <td>5</td>\n",
              "      <td>12:17:22 PM</td>\n",
              "      <td>16</td>\n",
              "      <td>26.4</td>\n",
              "      <td>NaN</td>\n",
              "      <td>-1.351453</td>\n",
              "      <td>36.899315</td>\n",
              "      <td>-1.295004</td>\n",
              "      <td>36.814358</td>\n",
              "      <td>Rider_Id_856</td>\n",
              "      <td>1993</td>\n",
              "    </tr>\n",
              "    <tr>\n",
              "      <th>2</th>\n",
              "      <td>Order_No_1899</td>\n",
              "      <td>User_Id_265</td>\n",
              "      <td>Bike</td>\n",
              "      <td>3</td>\n",
              "      <td>Business</td>\n",
              "      <td>30</td>\n",
              "      <td>2</td>\n",
              "      <td>12:39:25 PM</td>\n",
              "      <td>30</td>\n",
              "      <td>2</td>\n",
              "      <td>12:42:44 PM</td>\n",
              "      <td>30</td>\n",
              "      <td>2</td>\n",
              "      <td>12:49:34 PM</td>\n",
              "      <td>30</td>\n",
              "      <td>2</td>\n",
              "      <td>12:53:03 PM</td>\n",
              "      <td>30</td>\n",
              "      <td>2</td>\n",
              "      <td>1:00:38 PM</td>\n",
              "      <td>3</td>\n",
              "      <td>NaN</td>\n",
              "      <td>NaN</td>\n",
              "      <td>-1.308284</td>\n",
              "      <td>36.843419</td>\n",
              "      <td>-1.300921</td>\n",
              "      <td>36.828195</td>\n",
              "      <td>Rider_Id_155</td>\n",
              "      <td>455</td>\n",
              "    </tr>\n",
              "    <tr>\n",
              "      <th>3</th>\n",
              "      <td>Order_No_9336</td>\n",
              "      <td>User_Id_1402</td>\n",
              "      <td>Bike</td>\n",
              "      <td>3</td>\n",
              "      <td>Business</td>\n",
              "      <td>15</td>\n",
              "      <td>5</td>\n",
              "      <td>9:25:34 AM</td>\n",
              "      <td>15</td>\n",
              "      <td>5</td>\n",
              "      <td>9:26:05 AM</td>\n",
              "      <td>15</td>\n",
              "      <td>5</td>\n",
              "      <td>9:37:56 AM</td>\n",
              "      <td>15</td>\n",
              "      <td>5</td>\n",
              "      <td>9:43:06 AM</td>\n",
              "      <td>15</td>\n",
              "      <td>5</td>\n",
              "      <td>10:05:27 AM</td>\n",
              "      <td>9</td>\n",
              "      <td>19.2</td>\n",
              "      <td>NaN</td>\n",
              "      <td>-1.281301</td>\n",
              "      <td>36.832396</td>\n",
              "      <td>-1.257147</td>\n",
              "      <td>36.795063</td>\n",
              "      <td>Rider_Id_855</td>\n",
              "      <td>1341</td>\n",
              "    </tr>\n",
              "    <tr>\n",
              "      <th>4</th>\n",
              "      <td>Order_No_27883</td>\n",
              "      <td>User_Id_1737</td>\n",
              "      <td>Bike</td>\n",
              "      <td>1</td>\n",
              "      <td>Personal</td>\n",
              "      <td>13</td>\n",
              "      <td>1</td>\n",
              "      <td>9:55:18 AM</td>\n",
              "      <td>13</td>\n",
              "      <td>1</td>\n",
              "      <td>9:56:18 AM</td>\n",
              "      <td>13</td>\n",
              "      <td>1</td>\n",
              "      <td>10:03:53 AM</td>\n",
              "      <td>13</td>\n",
              "      <td>1</td>\n",
              "      <td>10:05:23 AM</td>\n",
              "      <td>13</td>\n",
              "      <td>1</td>\n",
              "      <td>10:25:37 AM</td>\n",
              "      <td>9</td>\n",
              "      <td>15.4</td>\n",
              "      <td>NaN</td>\n",
              "      <td>-1.266597</td>\n",
              "      <td>36.792118</td>\n",
              "      <td>-1.295041</td>\n",
              "      <td>36.809817</td>\n",
              "      <td>Rider_Id_770</td>\n",
              "      <td>1214</td>\n",
              "    </tr>\n",
              "  </tbody>\n",
              "</table>\n",
              "</div>"
            ],
            "text/plain": [
              "         Order_No       User_Id  ...      Rider_Id  Time_from_Pickup_to_Arrival\n",
              "0   Order_No_4211   User_Id_633  ...  Rider_Id_432                          745\n",
              "1  Order_No_25375  User_Id_2285  ...  Rider_Id_856                         1993\n",
              "2   Order_No_1899   User_Id_265  ...  Rider_Id_155                          455\n",
              "3   Order_No_9336  User_Id_1402  ...  Rider_Id_855                         1341\n",
              "4  Order_No_27883  User_Id_1737  ...  Rider_Id_770                         1214\n",
              "\n",
              "[5 rows x 29 columns]"
            ]
          },
          "metadata": {
            "tags": []
          },
          "execution_count": 3
        }
      ]
    },
    {
      "cell_type": "code",
      "metadata": {
        "hidden": true,
        "id": "Ei7O60y9Iexv",
        "colab_type": "code",
        "outputId": "b30363a1-df97-4a8c-94a5-afea66aa7019",
        "colab": {}
      },
      "source": [
        "train.info()\n",
        "train.shape"
      ],
      "execution_count": 0,
      "outputs": [
        {
          "output_type": "stream",
          "text": [
            "<class 'pandas.core.frame.DataFrame'>\n",
            "RangeIndex: 21201 entries, 0 to 21200\n",
            "Data columns (total 29 columns):\n",
            "Order_No                                     21201 non-null object\n",
            "User_Id                                      21201 non-null object\n",
            "Vehicle_Type                                 21201 non-null object\n",
            "Platform_Type                                21201 non-null int64\n",
            "Personal_or_Business                         21201 non-null object\n",
            "Placement_-_Day_of_Month                     21201 non-null int64\n",
            "Placement_-_Weekday_(Mo_=_1)                 21201 non-null int64\n",
            "Placement_-_Time                             21201 non-null object\n",
            "Confirmation_-_Day_of_Month                  21201 non-null int64\n",
            "Confirmation_-_Weekday_(Mo_=_1)              21201 non-null int64\n",
            "Confirmation_-_Time                          21201 non-null object\n",
            "Arrival_at_Pickup_-_Day_of_Month             21201 non-null int64\n",
            "Arrival_at_Pickup_-_Weekday_(Mo_=_1)         21201 non-null int64\n",
            "Arrival_at_Pickup_-_Time                     21201 non-null object\n",
            "Pickup_-_Day_of_Month                        21201 non-null int64\n",
            "Pickup_-_Weekday_(Mo_=_1)                    21201 non-null int64\n",
            "Pickup_-_Time                                21201 non-null object\n",
            "Arrival_at_Destination_-_Day_of_Month        21201 non-null int64\n",
            "Arrival_at_Destination_-_Weekday_(Mo_=_1)    21201 non-null int64\n",
            "Arrival_at_Destination_-_Time                21201 non-null object\n",
            "Distance_(KM)                                21201 non-null int64\n",
            "Temperature                                  16835 non-null float64\n",
            "Precipitation_in_millimeters                 552 non-null float64\n",
            "Pickup_Lat                                   21201 non-null float64\n",
            "Pickup_Long                                  21201 non-null float64\n",
            "Destination_Lat                              21201 non-null float64\n",
            "Destination_Long                             21201 non-null float64\n",
            "Rider_Id                                     21201 non-null object\n",
            "Time_from_Pickup_to_Arrival                  21201 non-null int64\n",
            "dtypes: float64(6), int64(13), object(10)\n",
            "memory usage: 4.7+ MB\n"
          ],
          "name": "stdout"
        },
        {
          "output_type": "execute_result",
          "data": {
            "text/plain": [
              "(21201, 29)"
            ]
          },
          "metadata": {
            "tags": []
          },
          "execution_count": 6
        }
      ]
    },
    {
      "cell_type": "code",
      "metadata": {
        "id": "9WPephmPIex9",
        "colab_type": "code",
        "outputId": "9c032af6-645b-403f-8508-fd4b6e4c6d6e",
        "colab": {}
      },
      "source": [
        "train_missing=train.isnull().sum() * 100 / len(train)\n",
        "train_missing=train_missing.drop(train_missing[train_missing==0].index).sort_values(ascending=False)\n",
        "missing_data=pd.DataFrame({'Missing Percentage':train_missing})\n",
        "missing_data"
      ],
      "execution_count": 0,
      "outputs": [
        {
          "output_type": "execute_result",
          "data": {
            "text/html": [
              "<div>\n",
              "<style>\n",
              "    .dataframe thead tr:only-child th {\n",
              "        text-align: right;\n",
              "    }\n",
              "\n",
              "    .dataframe thead th {\n",
              "        text-align: left;\n",
              "    }\n",
              "\n",
              "    .dataframe tbody tr th {\n",
              "        vertical-align: top;\n",
              "    }\n",
              "</style>\n",
              "<table border=\"1\" class=\"dataframe\">\n",
              "  <thead>\n",
              "    <tr style=\"text-align: right;\">\n",
              "      <th></th>\n",
              "      <th>Missing Percentage</th>\n",
              "    </tr>\n",
              "  </thead>\n",
              "  <tbody>\n",
              "    <tr>\n",
              "      <th>Precipitation_in_millimeters</th>\n",
              "      <td>97.396349</td>\n",
              "    </tr>\n",
              "    <tr>\n",
              "      <th>Temperature</th>\n",
              "      <td>20.593368</td>\n",
              "    </tr>\n",
              "  </tbody>\n",
              "</table>\n",
              "</div>"
            ],
            "text/plain": [
              "                              Missing Percentage\n",
              "Precipitation_in_millimeters           97.396349\n",
              "Temperature                            20.593368"
            ]
          },
          "metadata": {
            "tags": []
          },
          "execution_count": 7
        }
      ]
    },
    {
      "cell_type": "markdown",
      "metadata": {
        "hidden": true,
        "id": "HSnbB_TrIeyH",
        "colab_type": "text"
      },
      "source": [
        "> **Observations**\n",
        "\n",
        "\n",
        "- The training set dataframe has a total of 29 columns and over 21 000 rows. \n",
        "- Upon closer observation, the dataset has missing values from the Temperature and Precipitation in mm columns. \n",
        "    - The precipitation column has 20 649 values missing from the column which makes it over 97% of the column missing.\n",
        "    - The Temperature column has 4 366 values missing from the column which makes it over 20% of the column missing.\n",
        "- The dataset has 10 oject data types which means that they will have to be converted into an integer or float in order for a model to be built.\n",
        "    - When looking further into the data within the columns, 5 of the columns contain a time in the format below which would either have to be converted or have the column dropped all together.\n",
        "    Example: 9:35:46 AM or 12:39:25 PM\n",
        "    - 2 of the other columns contain categorical data which will have to be encoded in order to be of use to building a predictive model\n",
        "    \n",
        "    "
      ]
    },
    {
      "cell_type": "markdown",
      "metadata": {
        "hidden": true,
        "id": "fGxAJIP3IeyI",
        "colab_type": "text"
      },
      "source": [
        "##### **Testing set dataframe**\n",
        "The models built during this process will be tested on this dataframe. It will make a prediction for the time of arrival for motorbike deliveries based on the information in this dataset."
      ]
    },
    {
      "cell_type": "code",
      "metadata": {
        "hidden": true,
        "id": "SfnonKF3IeyK",
        "colab_type": "code",
        "outputId": "867261be-38f4-4184-d378-602335888555",
        "colab": {
          "base_uri": "https://localhost:8080/",
          "height": 326
        }
      },
      "source": [
        "test= pd.read_csv('https://raw.githubusercontent.com/thembeks/Regression-Sendy-Logistics-Challenge-Team-14/Predict/Test.csv')\n",
        "test.columns= [col.replace(' ', '_') for col in test.columns]\n",
        "test.head()"
      ],
      "execution_count": 4,
      "outputs": [
        {
          "output_type": "execute_result",
          "data": {
            "text/html": [
              "<div>\n",
              "<style scoped>\n",
              "    .dataframe tbody tr th:only-of-type {\n",
              "        vertical-align: middle;\n",
              "    }\n",
              "\n",
              "    .dataframe tbody tr th {\n",
              "        vertical-align: top;\n",
              "    }\n",
              "\n",
              "    .dataframe thead th {\n",
              "        text-align: right;\n",
              "    }\n",
              "</style>\n",
              "<table border=\"1\" class=\"dataframe\">\n",
              "  <thead>\n",
              "    <tr style=\"text-align: right;\">\n",
              "      <th></th>\n",
              "      <th>Order_No</th>\n",
              "      <th>User_Id</th>\n",
              "      <th>Vehicle_Type</th>\n",
              "      <th>Platform_Type</th>\n",
              "      <th>Personal_or_Business</th>\n",
              "      <th>Placement_-_Day_of_Month</th>\n",
              "      <th>Placement_-_Weekday_(Mo_=_1)</th>\n",
              "      <th>Placement_-_Time</th>\n",
              "      <th>Confirmation_-_Day_of_Month</th>\n",
              "      <th>Confirmation_-_Weekday_(Mo_=_1)</th>\n",
              "      <th>Confirmation_-_Time</th>\n",
              "      <th>Arrival_at_Pickup_-_Day_of_Month</th>\n",
              "      <th>Arrival_at_Pickup_-_Weekday_(Mo_=_1)</th>\n",
              "      <th>Arrival_at_Pickup_-_Time</th>\n",
              "      <th>Pickup_-_Day_of_Month</th>\n",
              "      <th>Pickup_-_Weekday_(Mo_=_1)</th>\n",
              "      <th>Pickup_-_Time</th>\n",
              "      <th>Distance_(KM)</th>\n",
              "      <th>Temperature</th>\n",
              "      <th>Precipitation_in_millimeters</th>\n",
              "      <th>Pickup_Lat</th>\n",
              "      <th>Pickup_Long</th>\n",
              "      <th>Destination_Lat</th>\n",
              "      <th>Destination_Long</th>\n",
              "      <th>Rider_Id</th>\n",
              "    </tr>\n",
              "  </thead>\n",
              "  <tbody>\n",
              "    <tr>\n",
              "      <th>0</th>\n",
              "      <td>Order_No_19248</td>\n",
              "      <td>User_Id_3355</td>\n",
              "      <td>Bike</td>\n",
              "      <td>3</td>\n",
              "      <td>Business</td>\n",
              "      <td>27</td>\n",
              "      <td>3</td>\n",
              "      <td>4:44:10 PM</td>\n",
              "      <td>27</td>\n",
              "      <td>3</td>\n",
              "      <td>4:44:29 PM</td>\n",
              "      <td>27</td>\n",
              "      <td>3</td>\n",
              "      <td>4:53:04 PM</td>\n",
              "      <td>27</td>\n",
              "      <td>3</td>\n",
              "      <td>5:06:47 PM</td>\n",
              "      <td>8</td>\n",
              "      <td>NaN</td>\n",
              "      <td>NaN</td>\n",
              "      <td>-1.333275</td>\n",
              "      <td>36.870815</td>\n",
              "      <td>-1.305249</td>\n",
              "      <td>36.822390</td>\n",
              "      <td>Rider_Id_192</td>\n",
              "    </tr>\n",
              "    <tr>\n",
              "      <th>1</th>\n",
              "      <td>Order_No_12736</td>\n",
              "      <td>User_Id_3647</td>\n",
              "      <td>Bike</td>\n",
              "      <td>3</td>\n",
              "      <td>Business</td>\n",
              "      <td>17</td>\n",
              "      <td>5</td>\n",
              "      <td>12:57:35 PM</td>\n",
              "      <td>17</td>\n",
              "      <td>5</td>\n",
              "      <td>12:59:17 PM</td>\n",
              "      <td>17</td>\n",
              "      <td>5</td>\n",
              "      <td>1:20:27 PM</td>\n",
              "      <td>17</td>\n",
              "      <td>5</td>\n",
              "      <td>1:25:37 PM</td>\n",
              "      <td>5</td>\n",
              "      <td>NaN</td>\n",
              "      <td>NaN</td>\n",
              "      <td>-1.272639</td>\n",
              "      <td>36.794723</td>\n",
              "      <td>-1.277007</td>\n",
              "      <td>36.823907</td>\n",
              "      <td>Rider_Id_868</td>\n",
              "    </tr>\n",
              "    <tr>\n",
              "      <th>2</th>\n",
              "      <td>Order_No_768</td>\n",
              "      <td>User_Id_2154</td>\n",
              "      <td>Bike</td>\n",
              "      <td>3</td>\n",
              "      <td>Business</td>\n",
              "      <td>27</td>\n",
              "      <td>4</td>\n",
              "      <td>11:08:14 AM</td>\n",
              "      <td>27</td>\n",
              "      <td>4</td>\n",
              "      <td>11:25:05 AM</td>\n",
              "      <td>27</td>\n",
              "      <td>4</td>\n",
              "      <td>11:33:20 AM</td>\n",
              "      <td>27</td>\n",
              "      <td>4</td>\n",
              "      <td>11:57:54 AM</td>\n",
              "      <td>5</td>\n",
              "      <td>22.8</td>\n",
              "      <td>NaN</td>\n",
              "      <td>-1.290894</td>\n",
              "      <td>36.822971</td>\n",
              "      <td>-1.276574</td>\n",
              "      <td>36.851365</td>\n",
              "      <td>Rider_Id_26</td>\n",
              "    </tr>\n",
              "    <tr>\n",
              "      <th>3</th>\n",
              "      <td>Order_No_15332</td>\n",
              "      <td>User_Id_2910</td>\n",
              "      <td>Bike</td>\n",
              "      <td>3</td>\n",
              "      <td>Business</td>\n",
              "      <td>17</td>\n",
              "      <td>1</td>\n",
              "      <td>1:51:35 PM</td>\n",
              "      <td>17</td>\n",
              "      <td>1</td>\n",
              "      <td>1:53:27 PM</td>\n",
              "      <td>17</td>\n",
              "      <td>1</td>\n",
              "      <td>2:02:41 PM</td>\n",
              "      <td>17</td>\n",
              "      <td>1</td>\n",
              "      <td>2:16:52 PM</td>\n",
              "      <td>5</td>\n",
              "      <td>24.5</td>\n",
              "      <td>NaN</td>\n",
              "      <td>-1.290503</td>\n",
              "      <td>36.809646</td>\n",
              "      <td>-1.303382</td>\n",
              "      <td>36.790658</td>\n",
              "      <td>Rider_Id_685</td>\n",
              "    </tr>\n",
              "    <tr>\n",
              "      <th>4</th>\n",
              "      <td>Order_No_21373</td>\n",
              "      <td>User_Id_1205</td>\n",
              "      <td>Bike</td>\n",
              "      <td>3</td>\n",
              "      <td>Business</td>\n",
              "      <td>11</td>\n",
              "      <td>2</td>\n",
              "      <td>11:30:28 AM</td>\n",
              "      <td>11</td>\n",
              "      <td>2</td>\n",
              "      <td>11:34:45 AM</td>\n",
              "      <td>11</td>\n",
              "      <td>2</td>\n",
              "      <td>11:47:19 AM</td>\n",
              "      <td>11</td>\n",
              "      <td>2</td>\n",
              "      <td>11:56:04 AM</td>\n",
              "      <td>6</td>\n",
              "      <td>24.4</td>\n",
              "      <td>NaN</td>\n",
              "      <td>-1.281081</td>\n",
              "      <td>36.814423</td>\n",
              "      <td>-1.266467</td>\n",
              "      <td>36.792161</td>\n",
              "      <td>Rider_Id_858</td>\n",
              "    </tr>\n",
              "  </tbody>\n",
              "</table>\n",
              "</div>"
            ],
            "text/plain": [
              "         Order_No       User_Id  ... Destination_Long      Rider_Id\n",
              "0  Order_No_19248  User_Id_3355  ...        36.822390  Rider_Id_192\n",
              "1  Order_No_12736  User_Id_3647  ...        36.823907  Rider_Id_868\n",
              "2    Order_No_768  User_Id_2154  ...        36.851365   Rider_Id_26\n",
              "3  Order_No_15332  User_Id_2910  ...        36.790658  Rider_Id_685\n",
              "4  Order_No_21373  User_Id_1205  ...        36.792161  Rider_Id_858\n",
              "\n",
              "[5 rows x 25 columns]"
            ]
          },
          "metadata": {
            "tags": []
          },
          "execution_count": 4
        }
      ]
    },
    {
      "cell_type": "code",
      "metadata": {
        "hidden": true,
        "id": "NT-4MRMDIeyY",
        "colab_type": "code",
        "outputId": "deff3440-3892-4515-e787-5ee6887ef886",
        "colab": {}
      },
      "source": [
        "test.info()\n",
        "test.shape"
      ],
      "execution_count": 0,
      "outputs": [
        {
          "output_type": "stream",
          "text": [
            "<class 'pandas.core.frame.DataFrame'>\n",
            "RangeIndex: 7068 entries, 0 to 7067\n",
            "Data columns (total 25 columns):\n",
            "Order_No                                7068 non-null object\n",
            "User_Id                                 7068 non-null object\n",
            "Vehicle_Type                            7068 non-null object\n",
            "Platform_Type                           7068 non-null int64\n",
            "Personal_or_Business                    7068 non-null object\n",
            "Placement_-_Day_of_Month                7068 non-null int64\n",
            "Placement_-_Weekday_(Mo_=_1)            7068 non-null int64\n",
            "Placement_-_Time                        7068 non-null object\n",
            "Confirmation_-_Day_of_Month             7068 non-null int64\n",
            "Confirmation_-_Weekday_(Mo_=_1)         7068 non-null int64\n",
            "Confirmation_-_Time                     7068 non-null object\n",
            "Arrival_at_Pickup_-_Day_of_Month        7068 non-null int64\n",
            "Arrival_at_Pickup_-_Weekday_(Mo_=_1)    7068 non-null int64\n",
            "Arrival_at_Pickup_-_Time                7068 non-null object\n",
            "Pickup_-_Day_of_Month                   7068 non-null int64\n",
            "Pickup_-_Weekday_(Mo_=_1)               7068 non-null int64\n",
            "Pickup_-_Time                           7068 non-null object\n",
            "Distance_(KM)                           7068 non-null int64\n",
            "Temperature                             5631 non-null float64\n",
            "Precipitation_in_millimeters            199 non-null float64\n",
            "Pickup_Lat                              7068 non-null float64\n",
            "Pickup_Long                             7068 non-null float64\n",
            "Destination_Lat                         7068 non-null float64\n",
            "Destination_Long                        7068 non-null float64\n",
            "Rider_Id                                7068 non-null object\n",
            "dtypes: float64(6), int64(10), object(9)\n",
            "memory usage: 1.3+ MB\n"
          ],
          "name": "stdout"
        },
        {
          "output_type": "execute_result",
          "data": {
            "text/plain": [
              "(7068, 25)"
            ]
          },
          "metadata": {
            "tags": []
          },
          "execution_count": 71
        }
      ]
    },
    {
      "cell_type": "markdown",
      "metadata": {
        "hidden": true,
        "id": "UU70TLfDIey5",
        "colab_type": "text"
      },
      "source": [
        "> **Observations**\n",
        "\n",
        "- The testing set dataframe contains 25 columns and 7068 rows.\n",
        "- Just like the Training set dataframe, the Precipitation in mm and Temperature is missing data. \n",
        "    - The missing data will be dealt in the same way as the Training set dataframe.\n",
        "- The difference between the Training set and Testing set dataframe would have to be:\n",
        "    - The dependent variable(DV) is not in the Testing set dataframe.\n",
        "    - The Training set dataframe has 3 extra columns, Arrival_at_Destination_-_Day_of_Month, Arrival_at_Destination_-_Weekday_(Mo_=_1) and Arrival_at_Destination_-_Time. The columns will most likely be dropped when further analysis is done.     "
      ]
    },
    {
      "cell_type": "markdown",
      "metadata": {
        "heading_collapsed": true,
        "hidden": true,
        "id": "1m54cDR4Iey_",
        "colab_type": "text"
      },
      "source": [
        "##### **Sample submissions dataframe**"
      ]
    },
    {
      "cell_type": "code",
      "metadata": {
        "hidden": true,
        "id": "R5UL1tF0IezD",
        "colab_type": "code",
        "outputId": "0b7a991b-82a8-4d0b-d9c5-3da3df43f4b9",
        "colab": {
          "base_uri": "https://localhost:8080/",
          "height": 204
        }
      },
      "source": [
        "sample_submission= pd.read_csv('https://raw.githubusercontent.com/thembeks/Regression-Sendy-Logistics-Challenge-Team-14/Predict/SampleSubmission.csv')\n",
        "sample_submission.columns= [col.replace(' ', '_') for col in sample_submission.columns]\n",
        "sample_submission.head()"
      ],
      "execution_count": 5,
      "outputs": [
        {
          "output_type": "execute_result",
          "data": {
            "text/html": [
              "<div>\n",
              "<style scoped>\n",
              "    .dataframe tbody tr th:only-of-type {\n",
              "        vertical-align: middle;\n",
              "    }\n",
              "\n",
              "    .dataframe tbody tr th {\n",
              "        vertical-align: top;\n",
              "    }\n",
              "\n",
              "    .dataframe thead th {\n",
              "        text-align: right;\n",
              "    }\n",
              "</style>\n",
              "<table border=\"1\" class=\"dataframe\">\n",
              "  <thead>\n",
              "    <tr style=\"text-align: right;\">\n",
              "      <th></th>\n",
              "      <th>Order_No</th>\n",
              "      <th>Time_from_Pickup_to_Arrival</th>\n",
              "    </tr>\n",
              "  </thead>\n",
              "  <tbody>\n",
              "    <tr>\n",
              "      <th>0</th>\n",
              "      <td>Order_No_19248</td>\n",
              "      <td>567.0</td>\n",
              "    </tr>\n",
              "    <tr>\n",
              "      <th>1</th>\n",
              "      <td>Order_No_12736</td>\n",
              "      <td>4903.0</td>\n",
              "    </tr>\n",
              "    <tr>\n",
              "      <th>2</th>\n",
              "      <td>Order_No_768</td>\n",
              "      <td>5649.0</td>\n",
              "    </tr>\n",
              "    <tr>\n",
              "      <th>3</th>\n",
              "      <td>Order_No_15332</td>\n",
              "      <td>NaN</td>\n",
              "    </tr>\n",
              "    <tr>\n",
              "      <th>4</th>\n",
              "      <td>Order_No_21373</td>\n",
              "      <td>NaN</td>\n",
              "    </tr>\n",
              "  </tbody>\n",
              "</table>\n",
              "</div>"
            ],
            "text/plain": [
              "         Order_No  Time_from_Pickup_to_Arrival\n",
              "0  Order_No_19248                        567.0\n",
              "1  Order_No_12736                       4903.0\n",
              "2    Order_No_768                       5649.0\n",
              "3  Order_No_15332                          NaN\n",
              "4  Order_No_21373                          NaN"
            ]
          },
          "metadata": {
            "tags": []
          },
          "execution_count": 5
        }
      ]
    },
    {
      "cell_type": "code",
      "metadata": {
        "hidden": true,
        "id": "0Bfs0N3tIezQ",
        "colab_type": "code",
        "outputId": "0b10f627-b028-4f14-da8f-1975f15f7eb1",
        "colab": {}
      },
      "source": [
        "sample_submission.info()\n",
        "sample_submission.shape"
      ],
      "execution_count": 0,
      "outputs": [
        {
          "output_type": "stream",
          "text": [
            "<class 'pandas.core.frame.DataFrame'>\n",
            "RangeIndex: 7068 entries, 0 to 7067\n",
            "Data columns (total 2 columns):\n",
            "Order_No                       7068 non-null object\n",
            "Time_from_Pickup_to_Arrival    3 non-null float64\n",
            "dtypes: float64(1), object(1)\n",
            "memory usage: 110.6+ KB\n"
          ],
          "name": "stdout"
        },
        {
          "output_type": "execute_result",
          "data": {
            "text/plain": [
              "(7068, 2)"
            ]
          },
          "metadata": {
            "tags": []
          },
          "execution_count": 73
        }
      ]
    },
    {
      "cell_type": "markdown",
      "metadata": {
        "heading_collapsed": true,
        "hidden": true,
        "id": "7qSoZ48qIezZ",
        "colab_type": "text"
      },
      "source": [
        "### Exploratory Data Analysis\n",
        "Exploratory Data Analysis(EDA) is an approach for data analysis that uses many tools(mainly graphicale to maximize insight into a data set, extract important variables, detect outliers and anomalies, amongst other things."
      ]
    },
    {
      "cell_type": "markdown",
      "metadata": {
        "heading_collapsed": true,
        "hidden": true,
        "id": "L5RmHhG0Iezb",
        "colab_type": "text"
      },
      "source": [
        "##### **Training set dataframe**"
      ]
    },
    {
      "cell_type": "code",
      "metadata": {
        "hidden": true,
        "id": "C1Tx1sPdIezd",
        "colab_type": "code",
        "outputId": "de66bebe-868f-42b0-dae9-f3282e683371",
        "colab": {
          "base_uri": "https://localhost:8080/",
          "height": 394
        }
      },
      "source": [
        "prof_train = ProfileReport(train, check_correlation = True)\n",
        "prof_train.to_file(outputfile='output.html')\n",
        "\n",
        "HtmlFile = open('output.html', 'r', encoding='utf-8')\n",
        "source_code = HtmlFile.read()\n",
        "\n",
        "IFrame(src='./output.html', width=900, height=800)"
      ],
      "execution_count": 0,
      "outputs": [
        {
          "output_type": "error",
          "ename": "TypeError",
          "evalue": "ignored",
          "traceback": [
            "\u001b[0;31m---------------------------------------------------------------------------\u001b[0m",
            "\u001b[0;31mTypeError\u001b[0m                                 Traceback (most recent call last)",
            "\u001b[0;32m<ipython-input-7-607b1918675f>\u001b[0m in \u001b[0;36m<module>\u001b[0;34m()\u001b[0m\n\u001b[0;32m----> 1\u001b[0;31m \u001b[0mprof_train\u001b[0m \u001b[0;34m=\u001b[0m \u001b[0mProfileReport\u001b[0m\u001b[0;34m(\u001b[0m\u001b[0mtrain\u001b[0m\u001b[0;34m,\u001b[0m \u001b[0mcheck_correlation\u001b[0m \u001b[0;34m=\u001b[0m \u001b[0;32mTrue\u001b[0m\u001b[0;34m)\u001b[0m\u001b[0;34m\u001b[0m\u001b[0;34m\u001b[0m\u001b[0m\n\u001b[0m\u001b[1;32m      2\u001b[0m \u001b[0mprof_train\u001b[0m\u001b[0;34m.\u001b[0m\u001b[0mto_file\u001b[0m\u001b[0;34m(\u001b[0m\u001b[0moutputfile\u001b[0m\u001b[0;34m=\u001b[0m\u001b[0;34m'output.html'\u001b[0m\u001b[0;34m)\u001b[0m\u001b[0;34m\u001b[0m\u001b[0;34m\u001b[0m\u001b[0m\n\u001b[1;32m      3\u001b[0m \u001b[0;34m\u001b[0m\u001b[0m\n\u001b[1;32m      4\u001b[0m \u001b[0mHtmlFile\u001b[0m \u001b[0;34m=\u001b[0m \u001b[0mopen\u001b[0m\u001b[0;34m(\u001b[0m\u001b[0;34m'output.html'\u001b[0m\u001b[0;34m,\u001b[0m \u001b[0;34m'r'\u001b[0m\u001b[0;34m,\u001b[0m \u001b[0mencoding\u001b[0m\u001b[0;34m=\u001b[0m\u001b[0;34m'utf-8'\u001b[0m\u001b[0;34m)\u001b[0m\u001b[0;34m\u001b[0m\u001b[0;34m\u001b[0m\u001b[0m\n\u001b[1;32m      5\u001b[0m \u001b[0msource_code\u001b[0m \u001b[0;34m=\u001b[0m \u001b[0mHtmlFile\u001b[0m\u001b[0;34m.\u001b[0m\u001b[0mread\u001b[0m\u001b[0;34m(\u001b[0m\u001b[0;34m)\u001b[0m\u001b[0;34m\u001b[0m\u001b[0;34m\u001b[0m\u001b[0m\n",
            "\u001b[0;32m/usr/local/lib/python3.6/dist-packages/pandas_profiling/__init__.py\u001b[0m in \u001b[0;36m__init__\u001b[0;34m(self, df, **kwargs)\u001b[0m\n\u001b[1;32m     64\u001b[0m         \u001b[0msample\u001b[0m \u001b[0;34m=\u001b[0m \u001b[0mkwargs\u001b[0m\u001b[0;34m.\u001b[0m\u001b[0mget\u001b[0m\u001b[0;34m(\u001b[0m\u001b[0;34m'sample'\u001b[0m\u001b[0;34m,\u001b[0m \u001b[0mdf\u001b[0m\u001b[0;34m.\u001b[0m\u001b[0mhead\u001b[0m\u001b[0;34m(\u001b[0m\u001b[0;34m)\u001b[0m\u001b[0;34m)\u001b[0m\u001b[0;34m\u001b[0m\u001b[0;34m\u001b[0m\u001b[0m\n\u001b[1;32m     65\u001b[0m \u001b[0;34m\u001b[0m\u001b[0m\n\u001b[0;32m---> 66\u001b[0;31m         \u001b[0mdescription_set\u001b[0m \u001b[0;34m=\u001b[0m \u001b[0mdescribe\u001b[0m\u001b[0;34m(\u001b[0m\u001b[0mdf\u001b[0m\u001b[0;34m,\u001b[0m \u001b[0;34m**\u001b[0m\u001b[0mkwargs\u001b[0m\u001b[0;34m)\u001b[0m\u001b[0;34m\u001b[0m\u001b[0;34m\u001b[0m\u001b[0m\n\u001b[0m\u001b[1;32m     67\u001b[0m \u001b[0;34m\u001b[0m\u001b[0m\n\u001b[1;32m     68\u001b[0m         self.html = to_html(sample,\n",
            "\u001b[0;32m/usr/local/lib/python3.6/dist-packages/pandas_profiling/describe.py\u001b[0m in \u001b[0;36mdescribe\u001b[0;34m(df, bins, check_correlation, correlation_threshold, correlation_overrides, check_recoded, pool_size, **kwargs)\u001b[0m\n\u001b[1;32m    390\u001b[0m             \u001b[0;32mif\u001b[0m \u001b[0mname\u001b[0m \u001b[0;32mnot\u001b[0m \u001b[0;32min\u001b[0m \u001b[0mnames\u001b[0m\u001b[0;34m:\u001b[0m\u001b[0;34m\u001b[0m\u001b[0;34m\u001b[0m\u001b[0m\n\u001b[1;32m    391\u001b[0m                 \u001b[0mnames\u001b[0m\u001b[0;34m.\u001b[0m\u001b[0mappend\u001b[0m\u001b[0;34m(\u001b[0m\u001b[0mname\u001b[0m\u001b[0;34m)\u001b[0m\u001b[0;34m\u001b[0m\u001b[0;34m\u001b[0m\u001b[0m\n\u001b[0;32m--> 392\u001b[0;31m     \u001b[0mvariable_stats\u001b[0m \u001b[0;34m=\u001b[0m \u001b[0mpd\u001b[0m\u001b[0;34m.\u001b[0m\u001b[0mconcat\u001b[0m\u001b[0;34m(\u001b[0m\u001b[0mldesc\u001b[0m\u001b[0;34m,\u001b[0m \u001b[0mjoin_axes\u001b[0m\u001b[0;34m=\u001b[0m\u001b[0mpd\u001b[0m\u001b[0;34m.\u001b[0m\u001b[0mIndex\u001b[0m\u001b[0;34m(\u001b[0m\u001b[0;34m[\u001b[0m\u001b[0mnames\u001b[0m\u001b[0;34m]\u001b[0m\u001b[0;34m)\u001b[0m\u001b[0;34m,\u001b[0m \u001b[0maxis\u001b[0m\u001b[0;34m=\u001b[0m\u001b[0;36m1\u001b[0m\u001b[0;34m)\u001b[0m\u001b[0;34m\u001b[0m\u001b[0;34m\u001b[0m\u001b[0m\n\u001b[0m\u001b[1;32m    393\u001b[0m     \u001b[0mvariable_stats\u001b[0m\u001b[0;34m.\u001b[0m\u001b[0mcolumns\u001b[0m\u001b[0;34m.\u001b[0m\u001b[0mnames\u001b[0m \u001b[0;34m=\u001b[0m \u001b[0mdf\u001b[0m\u001b[0;34m.\u001b[0m\u001b[0mcolumns\u001b[0m\u001b[0;34m.\u001b[0m\u001b[0mnames\u001b[0m\u001b[0;34m\u001b[0m\u001b[0;34m\u001b[0m\u001b[0m\n\u001b[1;32m    394\u001b[0m \u001b[0;34m\u001b[0m\u001b[0m\n",
            "\u001b[0;31mTypeError\u001b[0m: concat() got an unexpected keyword argument 'join_axes'"
          ]
        }
      ]
    },
    {
      "cell_type": "markdown",
      "metadata": {
        "hidden": true,
        "id": "PRVeqoudIezq",
        "colab_type": "text"
      },
      "source": [
        "> **Observations**\n",
        "\n",
        "Enter observations"
      ]
    },
    {
      "cell_type": "markdown",
      "metadata": {
        "heading_collapsed": true,
        "hidden": true,
        "id": "jNcYrprCIezs",
        "colab_type": "text"
      },
      "source": [
        "##### **Rider dataframe**"
      ]
    },
    {
      "cell_type": "code",
      "metadata": {
        "hidden": true,
        "id": "CmDyFqb8Iezt",
        "colab_type": "code",
        "outputId": "fc1f8131-4b97-422a-9a7f-ca5e1576cf9e",
        "colab": {
          "base_uri": "https://localhost:8080/",
          "height": 394
        }
      },
      "source": [
        "prof_rider = ProfileReport(rider, check_correlation = True)\n",
        "prof_rider.to_file(outputfile='output.html')\n",
        "\n",
        "HtmlFile = open('output.html', 'r', encoding='utf-8')\n",
        "source_code = HtmlFile.read()\n",
        "\n",
        "IFrame(src='./output.html', width=900, height=800)"
      ],
      "execution_count": 0,
      "outputs": [
        {
          "output_type": "error",
          "ename": "TypeError",
          "evalue": "ignored",
          "traceback": [
            "\u001b[0;31m---------------------------------------------------------------------------\u001b[0m",
            "\u001b[0;31mTypeError\u001b[0m                                 Traceback (most recent call last)",
            "\u001b[0;32m<ipython-input-8-904233ec2557>\u001b[0m in \u001b[0;36m<module>\u001b[0;34m()\u001b[0m\n\u001b[0;32m----> 1\u001b[0;31m \u001b[0mprof_rider\u001b[0m \u001b[0;34m=\u001b[0m \u001b[0mProfileReport\u001b[0m\u001b[0;34m(\u001b[0m\u001b[0mrider\u001b[0m\u001b[0;34m,\u001b[0m \u001b[0mcheck_correlation\u001b[0m \u001b[0;34m=\u001b[0m \u001b[0;32mTrue\u001b[0m\u001b[0;34m)\u001b[0m\u001b[0;34m\u001b[0m\u001b[0;34m\u001b[0m\u001b[0m\n\u001b[0m\u001b[1;32m      2\u001b[0m \u001b[0mprof_rider\u001b[0m\u001b[0;34m.\u001b[0m\u001b[0mto_file\u001b[0m\u001b[0;34m(\u001b[0m\u001b[0moutputfile\u001b[0m\u001b[0;34m=\u001b[0m\u001b[0;34m'output.html'\u001b[0m\u001b[0;34m)\u001b[0m\u001b[0;34m\u001b[0m\u001b[0;34m\u001b[0m\u001b[0m\n\u001b[1;32m      3\u001b[0m \u001b[0;34m\u001b[0m\u001b[0m\n\u001b[1;32m      4\u001b[0m \u001b[0mHtmlFile\u001b[0m \u001b[0;34m=\u001b[0m \u001b[0mopen\u001b[0m\u001b[0;34m(\u001b[0m\u001b[0;34m'output.html'\u001b[0m\u001b[0;34m,\u001b[0m \u001b[0;34m'r'\u001b[0m\u001b[0;34m,\u001b[0m \u001b[0mencoding\u001b[0m\u001b[0;34m=\u001b[0m\u001b[0;34m'utf-8'\u001b[0m\u001b[0;34m)\u001b[0m\u001b[0;34m\u001b[0m\u001b[0;34m\u001b[0m\u001b[0m\n\u001b[1;32m      5\u001b[0m \u001b[0msource_code\u001b[0m \u001b[0;34m=\u001b[0m \u001b[0mHtmlFile\u001b[0m\u001b[0;34m.\u001b[0m\u001b[0mread\u001b[0m\u001b[0;34m(\u001b[0m\u001b[0;34m)\u001b[0m\u001b[0;34m\u001b[0m\u001b[0;34m\u001b[0m\u001b[0m\n",
            "\u001b[0;32m/usr/local/lib/python3.6/dist-packages/pandas_profiling/__init__.py\u001b[0m in \u001b[0;36m__init__\u001b[0;34m(self, df, **kwargs)\u001b[0m\n\u001b[1;32m     64\u001b[0m         \u001b[0msample\u001b[0m \u001b[0;34m=\u001b[0m \u001b[0mkwargs\u001b[0m\u001b[0;34m.\u001b[0m\u001b[0mget\u001b[0m\u001b[0;34m(\u001b[0m\u001b[0;34m'sample'\u001b[0m\u001b[0;34m,\u001b[0m \u001b[0mdf\u001b[0m\u001b[0;34m.\u001b[0m\u001b[0mhead\u001b[0m\u001b[0;34m(\u001b[0m\u001b[0;34m)\u001b[0m\u001b[0;34m)\u001b[0m\u001b[0;34m\u001b[0m\u001b[0;34m\u001b[0m\u001b[0m\n\u001b[1;32m     65\u001b[0m \u001b[0;34m\u001b[0m\u001b[0m\n\u001b[0;32m---> 66\u001b[0;31m         \u001b[0mdescription_set\u001b[0m \u001b[0;34m=\u001b[0m \u001b[0mdescribe\u001b[0m\u001b[0;34m(\u001b[0m\u001b[0mdf\u001b[0m\u001b[0;34m,\u001b[0m \u001b[0;34m**\u001b[0m\u001b[0mkwargs\u001b[0m\u001b[0;34m)\u001b[0m\u001b[0;34m\u001b[0m\u001b[0;34m\u001b[0m\u001b[0m\n\u001b[0m\u001b[1;32m     67\u001b[0m \u001b[0;34m\u001b[0m\u001b[0m\n\u001b[1;32m     68\u001b[0m         self.html = to_html(sample,\n",
            "\u001b[0;32m/usr/local/lib/python3.6/dist-packages/pandas_profiling/describe.py\u001b[0m in \u001b[0;36mdescribe\u001b[0;34m(df, bins, check_correlation, correlation_threshold, correlation_overrides, check_recoded, pool_size, **kwargs)\u001b[0m\n\u001b[1;32m    390\u001b[0m             \u001b[0;32mif\u001b[0m \u001b[0mname\u001b[0m \u001b[0;32mnot\u001b[0m \u001b[0;32min\u001b[0m \u001b[0mnames\u001b[0m\u001b[0;34m:\u001b[0m\u001b[0;34m\u001b[0m\u001b[0;34m\u001b[0m\u001b[0m\n\u001b[1;32m    391\u001b[0m                 \u001b[0mnames\u001b[0m\u001b[0;34m.\u001b[0m\u001b[0mappend\u001b[0m\u001b[0;34m(\u001b[0m\u001b[0mname\u001b[0m\u001b[0;34m)\u001b[0m\u001b[0;34m\u001b[0m\u001b[0;34m\u001b[0m\u001b[0m\n\u001b[0;32m--> 392\u001b[0;31m     \u001b[0mvariable_stats\u001b[0m \u001b[0;34m=\u001b[0m \u001b[0mpd\u001b[0m\u001b[0;34m.\u001b[0m\u001b[0mconcat\u001b[0m\u001b[0;34m(\u001b[0m\u001b[0mldesc\u001b[0m\u001b[0;34m,\u001b[0m \u001b[0mjoin_axes\u001b[0m\u001b[0;34m=\u001b[0m\u001b[0mpd\u001b[0m\u001b[0;34m.\u001b[0m\u001b[0mIndex\u001b[0m\u001b[0;34m(\u001b[0m\u001b[0;34m[\u001b[0m\u001b[0mnames\u001b[0m\u001b[0;34m]\u001b[0m\u001b[0;34m)\u001b[0m\u001b[0;34m,\u001b[0m \u001b[0maxis\u001b[0m\u001b[0;34m=\u001b[0m\u001b[0;36m1\u001b[0m\u001b[0;34m)\u001b[0m\u001b[0;34m\u001b[0m\u001b[0;34m\u001b[0m\u001b[0m\n\u001b[0m\u001b[1;32m    393\u001b[0m     \u001b[0mvariable_stats\u001b[0m\u001b[0;34m.\u001b[0m\u001b[0mcolumns\u001b[0m\u001b[0;34m.\u001b[0m\u001b[0mnames\u001b[0m \u001b[0;34m=\u001b[0m \u001b[0mdf\u001b[0m\u001b[0;34m.\u001b[0m\u001b[0mcolumns\u001b[0m\u001b[0;34m.\u001b[0m\u001b[0mnames\u001b[0m\u001b[0;34m\u001b[0m\u001b[0;34m\u001b[0m\u001b[0m\n\u001b[1;32m    394\u001b[0m \u001b[0;34m\u001b[0m\u001b[0m\n",
            "\u001b[0;31mTypeError\u001b[0m: concat() got an unexpected keyword argument 'join_axes'"
          ]
        }
      ]
    },
    {
      "cell_type": "markdown",
      "metadata": {
        "hidden": true,
        "id": "lUBquAO3Iez9",
        "colab_type": "text"
      },
      "source": [
        ">**Observations**\n",
        "\n",
        "Enter observations"
      ]
    },
    {
      "cell_type": "markdown",
      "metadata": {
        "hidden": true,
        "id": "uEBrGv9TIez_",
        "colab_type": "text"
      },
      "source": [
        "##### **Visuals and Insights**"
      ]
    },
    {
      "cell_type": "markdown",
      "metadata": {
        "heading_collapsed": true,
        "hidden": true,
        "id": "UDHpD7g0Ie0D",
        "colab_type": "text"
      },
      "source": [
        "### Transformation and Processing of data"
      ]
    },
    {
      "cell_type": "markdown",
      "metadata": {
        "heading_collapsed": true,
        "hidden": true,
        "id": "5NxUcpPKIe0F",
        "colab_type": "text"
      },
      "source": [
        "##### **Spiltting the data**\n",
        "Separating the Training dataset into the Independent variable and Dependent variable."
      ]
    },
    {
      "cell_type": "code",
      "metadata": {
        "hidden": true,
        "id": "Bkf13bRmIe0L",
        "colab_type": "code",
        "colab": {}
      },
      "source": [
        "x= train.iloc[:, :-1]\n",
        "y= train.iloc[:, -1]"
      ],
      "execution_count": 0,
      "outputs": []
    },
    {
      "cell_type": "markdown",
      "metadata": {
        "heading_collapsed": true,
        "hidden": true,
        "id": "74BJYUmJIe0V",
        "colab_type": "text"
      },
      "source": [
        "##### **Alignment of datasets**\n",
        "Aligning the dataset of x to the Testing dataset by dropping extra columns."
      ]
    },
    {
      "cell_type": "code",
      "metadata": {
        "hidden": true,
        "id": "mEGk-W_EIe0h",
        "colab_type": "code",
        "colab": {}
      },
      "source": [
        "x= x.drop(['Arrival_at_Destination_-_Day_of_Month', 'Arrival_at_Destination_-_Weekday_(Mo_=_1)', \n",
        "           'Arrival_at_Destination_-_Time'], axis= 1)"
      ],
      "execution_count": 0,
      "outputs": []
    },
    {
      "cell_type": "markdown",
      "metadata": {
        "heading_collapsed": true,
        "hidden": true,
        "id": "VRM11wt_Ie00",
        "colab_type": "text"
      },
      "source": [
        "##### **Missing data**"
      ]
    },
    {
      "cell_type": "code",
      "metadata": {
        "hidden": true,
        "id": "uZaC2s5WIe02",
        "colab_type": "code",
        "outputId": "a6b8eed7-6217-46ea-8dad-52699f3ae91f",
        "colab": {
          "base_uri": "https://localhost:8080/",
          "height": 326
        }
      },
      "source": [
        "x= x.replace(np.nan, 0)\n",
        "x.head()"
      ],
      "execution_count": 10,
      "outputs": [
        {
          "output_type": "execute_result",
          "data": {
            "text/html": [
              "<div>\n",
              "<style scoped>\n",
              "    .dataframe tbody tr th:only-of-type {\n",
              "        vertical-align: middle;\n",
              "    }\n",
              "\n",
              "    .dataframe tbody tr th {\n",
              "        vertical-align: top;\n",
              "    }\n",
              "\n",
              "    .dataframe thead th {\n",
              "        text-align: right;\n",
              "    }\n",
              "</style>\n",
              "<table border=\"1\" class=\"dataframe\">\n",
              "  <thead>\n",
              "    <tr style=\"text-align: right;\">\n",
              "      <th></th>\n",
              "      <th>Order_No</th>\n",
              "      <th>User_Id</th>\n",
              "      <th>Vehicle_Type</th>\n",
              "      <th>Platform_Type</th>\n",
              "      <th>Personal_or_Business</th>\n",
              "      <th>Placement_-_Day_of_Month</th>\n",
              "      <th>Placement_-_Weekday_(Mo_=_1)</th>\n",
              "      <th>Placement_-_Time</th>\n",
              "      <th>Confirmation_-_Day_of_Month</th>\n",
              "      <th>Confirmation_-_Weekday_(Mo_=_1)</th>\n",
              "      <th>Confirmation_-_Time</th>\n",
              "      <th>Arrival_at_Pickup_-_Day_of_Month</th>\n",
              "      <th>Arrival_at_Pickup_-_Weekday_(Mo_=_1)</th>\n",
              "      <th>Arrival_at_Pickup_-_Time</th>\n",
              "      <th>Pickup_-_Day_of_Month</th>\n",
              "      <th>Pickup_-_Weekday_(Mo_=_1)</th>\n",
              "      <th>Pickup_-_Time</th>\n",
              "      <th>Distance_(KM)</th>\n",
              "      <th>Temperature</th>\n",
              "      <th>Precipitation_in_millimeters</th>\n",
              "      <th>Pickup_Lat</th>\n",
              "      <th>Pickup_Long</th>\n",
              "      <th>Destination_Lat</th>\n",
              "      <th>Destination_Long</th>\n",
              "      <th>Rider_Id</th>\n",
              "    </tr>\n",
              "  </thead>\n",
              "  <tbody>\n",
              "    <tr>\n",
              "      <th>0</th>\n",
              "      <td>Order_No_4211</td>\n",
              "      <td>User_Id_633</td>\n",
              "      <td>Bike</td>\n",
              "      <td>3</td>\n",
              "      <td>Business</td>\n",
              "      <td>9</td>\n",
              "      <td>5</td>\n",
              "      <td>9:35:46 AM</td>\n",
              "      <td>9</td>\n",
              "      <td>5</td>\n",
              "      <td>9:40:10 AM</td>\n",
              "      <td>9</td>\n",
              "      <td>5</td>\n",
              "      <td>10:04:47 AM</td>\n",
              "      <td>9</td>\n",
              "      <td>5</td>\n",
              "      <td>10:27:30 AM</td>\n",
              "      <td>4</td>\n",
              "      <td>20.4</td>\n",
              "      <td>0.0</td>\n",
              "      <td>-1.317755</td>\n",
              "      <td>36.830370</td>\n",
              "      <td>-1.300406</td>\n",
              "      <td>36.829741</td>\n",
              "      <td>Rider_Id_432</td>\n",
              "    </tr>\n",
              "    <tr>\n",
              "      <th>1</th>\n",
              "      <td>Order_No_25375</td>\n",
              "      <td>User_Id_2285</td>\n",
              "      <td>Bike</td>\n",
              "      <td>3</td>\n",
              "      <td>Personal</td>\n",
              "      <td>12</td>\n",
              "      <td>5</td>\n",
              "      <td>11:16:16 AM</td>\n",
              "      <td>12</td>\n",
              "      <td>5</td>\n",
              "      <td>11:23:21 AM</td>\n",
              "      <td>12</td>\n",
              "      <td>5</td>\n",
              "      <td>11:40:22 AM</td>\n",
              "      <td>12</td>\n",
              "      <td>5</td>\n",
              "      <td>11:44:09 AM</td>\n",
              "      <td>16</td>\n",
              "      <td>26.4</td>\n",
              "      <td>0.0</td>\n",
              "      <td>-1.351453</td>\n",
              "      <td>36.899315</td>\n",
              "      <td>-1.295004</td>\n",
              "      <td>36.814358</td>\n",
              "      <td>Rider_Id_856</td>\n",
              "    </tr>\n",
              "    <tr>\n",
              "      <th>2</th>\n",
              "      <td>Order_No_1899</td>\n",
              "      <td>User_Id_265</td>\n",
              "      <td>Bike</td>\n",
              "      <td>3</td>\n",
              "      <td>Business</td>\n",
              "      <td>30</td>\n",
              "      <td>2</td>\n",
              "      <td>12:39:25 PM</td>\n",
              "      <td>30</td>\n",
              "      <td>2</td>\n",
              "      <td>12:42:44 PM</td>\n",
              "      <td>30</td>\n",
              "      <td>2</td>\n",
              "      <td>12:49:34 PM</td>\n",
              "      <td>30</td>\n",
              "      <td>2</td>\n",
              "      <td>12:53:03 PM</td>\n",
              "      <td>3</td>\n",
              "      <td>0.0</td>\n",
              "      <td>0.0</td>\n",
              "      <td>-1.308284</td>\n",
              "      <td>36.843419</td>\n",
              "      <td>-1.300921</td>\n",
              "      <td>36.828195</td>\n",
              "      <td>Rider_Id_155</td>\n",
              "    </tr>\n",
              "    <tr>\n",
              "      <th>3</th>\n",
              "      <td>Order_No_9336</td>\n",
              "      <td>User_Id_1402</td>\n",
              "      <td>Bike</td>\n",
              "      <td>3</td>\n",
              "      <td>Business</td>\n",
              "      <td>15</td>\n",
              "      <td>5</td>\n",
              "      <td>9:25:34 AM</td>\n",
              "      <td>15</td>\n",
              "      <td>5</td>\n",
              "      <td>9:26:05 AM</td>\n",
              "      <td>15</td>\n",
              "      <td>5</td>\n",
              "      <td>9:37:56 AM</td>\n",
              "      <td>15</td>\n",
              "      <td>5</td>\n",
              "      <td>9:43:06 AM</td>\n",
              "      <td>9</td>\n",
              "      <td>19.2</td>\n",
              "      <td>0.0</td>\n",
              "      <td>-1.281301</td>\n",
              "      <td>36.832396</td>\n",
              "      <td>-1.257147</td>\n",
              "      <td>36.795063</td>\n",
              "      <td>Rider_Id_855</td>\n",
              "    </tr>\n",
              "    <tr>\n",
              "      <th>4</th>\n",
              "      <td>Order_No_27883</td>\n",
              "      <td>User_Id_1737</td>\n",
              "      <td>Bike</td>\n",
              "      <td>1</td>\n",
              "      <td>Personal</td>\n",
              "      <td>13</td>\n",
              "      <td>1</td>\n",
              "      <td>9:55:18 AM</td>\n",
              "      <td>13</td>\n",
              "      <td>1</td>\n",
              "      <td>9:56:18 AM</td>\n",
              "      <td>13</td>\n",
              "      <td>1</td>\n",
              "      <td>10:03:53 AM</td>\n",
              "      <td>13</td>\n",
              "      <td>1</td>\n",
              "      <td>10:05:23 AM</td>\n",
              "      <td>9</td>\n",
              "      <td>15.4</td>\n",
              "      <td>0.0</td>\n",
              "      <td>-1.266597</td>\n",
              "      <td>36.792118</td>\n",
              "      <td>-1.295041</td>\n",
              "      <td>36.809817</td>\n",
              "      <td>Rider_Id_770</td>\n",
              "    </tr>\n",
              "  </tbody>\n",
              "</table>\n",
              "</div>"
            ],
            "text/plain": [
              "         Order_No       User_Id  ... Destination_Long      Rider_Id\n",
              "0   Order_No_4211   User_Id_633  ...        36.829741  Rider_Id_432\n",
              "1  Order_No_25375  User_Id_2285  ...        36.814358  Rider_Id_856\n",
              "2   Order_No_1899   User_Id_265  ...        36.828195  Rider_Id_155\n",
              "3   Order_No_9336  User_Id_1402  ...        36.795063  Rider_Id_855\n",
              "4  Order_No_27883  User_Id_1737  ...        36.809817  Rider_Id_770\n",
              "\n",
              "[5 rows x 25 columns]"
            ]
          },
          "metadata": {
            "tags": []
          },
          "execution_count": 10
        }
      ]
    },
    {
      "cell_type": "code",
      "metadata": {
        "hidden": true,
        "id": "6xE7v1iIIe1G",
        "colab_type": "code",
        "outputId": "4188489a-b0f4-4cd4-f87f-62750ffcfec9",
        "colab": {
          "base_uri": "https://localhost:8080/",
          "height": 326
        }
      },
      "source": [
        "test= test.replace(np.nan, 0)\n",
        "test.head()"
      ],
      "execution_count": 11,
      "outputs": [
        {
          "output_type": "execute_result",
          "data": {
            "text/html": [
              "<div>\n",
              "<style scoped>\n",
              "    .dataframe tbody tr th:only-of-type {\n",
              "        vertical-align: middle;\n",
              "    }\n",
              "\n",
              "    .dataframe tbody tr th {\n",
              "        vertical-align: top;\n",
              "    }\n",
              "\n",
              "    .dataframe thead th {\n",
              "        text-align: right;\n",
              "    }\n",
              "</style>\n",
              "<table border=\"1\" class=\"dataframe\">\n",
              "  <thead>\n",
              "    <tr style=\"text-align: right;\">\n",
              "      <th></th>\n",
              "      <th>Order_No</th>\n",
              "      <th>User_Id</th>\n",
              "      <th>Vehicle_Type</th>\n",
              "      <th>Platform_Type</th>\n",
              "      <th>Personal_or_Business</th>\n",
              "      <th>Placement_-_Day_of_Month</th>\n",
              "      <th>Placement_-_Weekday_(Mo_=_1)</th>\n",
              "      <th>Placement_-_Time</th>\n",
              "      <th>Confirmation_-_Day_of_Month</th>\n",
              "      <th>Confirmation_-_Weekday_(Mo_=_1)</th>\n",
              "      <th>Confirmation_-_Time</th>\n",
              "      <th>Arrival_at_Pickup_-_Day_of_Month</th>\n",
              "      <th>Arrival_at_Pickup_-_Weekday_(Mo_=_1)</th>\n",
              "      <th>Arrival_at_Pickup_-_Time</th>\n",
              "      <th>Pickup_-_Day_of_Month</th>\n",
              "      <th>Pickup_-_Weekday_(Mo_=_1)</th>\n",
              "      <th>Pickup_-_Time</th>\n",
              "      <th>Distance_(KM)</th>\n",
              "      <th>Temperature</th>\n",
              "      <th>Precipitation_in_millimeters</th>\n",
              "      <th>Pickup_Lat</th>\n",
              "      <th>Pickup_Long</th>\n",
              "      <th>Destination_Lat</th>\n",
              "      <th>Destination_Long</th>\n",
              "      <th>Rider_Id</th>\n",
              "    </tr>\n",
              "  </thead>\n",
              "  <tbody>\n",
              "    <tr>\n",
              "      <th>0</th>\n",
              "      <td>Order_No_19248</td>\n",
              "      <td>User_Id_3355</td>\n",
              "      <td>Bike</td>\n",
              "      <td>3</td>\n",
              "      <td>Business</td>\n",
              "      <td>27</td>\n",
              "      <td>3</td>\n",
              "      <td>4:44:10 PM</td>\n",
              "      <td>27</td>\n",
              "      <td>3</td>\n",
              "      <td>4:44:29 PM</td>\n",
              "      <td>27</td>\n",
              "      <td>3</td>\n",
              "      <td>4:53:04 PM</td>\n",
              "      <td>27</td>\n",
              "      <td>3</td>\n",
              "      <td>5:06:47 PM</td>\n",
              "      <td>8</td>\n",
              "      <td>0.0</td>\n",
              "      <td>0.0</td>\n",
              "      <td>-1.333275</td>\n",
              "      <td>36.870815</td>\n",
              "      <td>-1.305249</td>\n",
              "      <td>36.822390</td>\n",
              "      <td>Rider_Id_192</td>\n",
              "    </tr>\n",
              "    <tr>\n",
              "      <th>1</th>\n",
              "      <td>Order_No_12736</td>\n",
              "      <td>User_Id_3647</td>\n",
              "      <td>Bike</td>\n",
              "      <td>3</td>\n",
              "      <td>Business</td>\n",
              "      <td>17</td>\n",
              "      <td>5</td>\n",
              "      <td>12:57:35 PM</td>\n",
              "      <td>17</td>\n",
              "      <td>5</td>\n",
              "      <td>12:59:17 PM</td>\n",
              "      <td>17</td>\n",
              "      <td>5</td>\n",
              "      <td>1:20:27 PM</td>\n",
              "      <td>17</td>\n",
              "      <td>5</td>\n",
              "      <td>1:25:37 PM</td>\n",
              "      <td>5</td>\n",
              "      <td>0.0</td>\n",
              "      <td>0.0</td>\n",
              "      <td>-1.272639</td>\n",
              "      <td>36.794723</td>\n",
              "      <td>-1.277007</td>\n",
              "      <td>36.823907</td>\n",
              "      <td>Rider_Id_868</td>\n",
              "    </tr>\n",
              "    <tr>\n",
              "      <th>2</th>\n",
              "      <td>Order_No_768</td>\n",
              "      <td>User_Id_2154</td>\n",
              "      <td>Bike</td>\n",
              "      <td>3</td>\n",
              "      <td>Business</td>\n",
              "      <td>27</td>\n",
              "      <td>4</td>\n",
              "      <td>11:08:14 AM</td>\n",
              "      <td>27</td>\n",
              "      <td>4</td>\n",
              "      <td>11:25:05 AM</td>\n",
              "      <td>27</td>\n",
              "      <td>4</td>\n",
              "      <td>11:33:20 AM</td>\n",
              "      <td>27</td>\n",
              "      <td>4</td>\n",
              "      <td>11:57:54 AM</td>\n",
              "      <td>5</td>\n",
              "      <td>22.8</td>\n",
              "      <td>0.0</td>\n",
              "      <td>-1.290894</td>\n",
              "      <td>36.822971</td>\n",
              "      <td>-1.276574</td>\n",
              "      <td>36.851365</td>\n",
              "      <td>Rider_Id_26</td>\n",
              "    </tr>\n",
              "    <tr>\n",
              "      <th>3</th>\n",
              "      <td>Order_No_15332</td>\n",
              "      <td>User_Id_2910</td>\n",
              "      <td>Bike</td>\n",
              "      <td>3</td>\n",
              "      <td>Business</td>\n",
              "      <td>17</td>\n",
              "      <td>1</td>\n",
              "      <td>1:51:35 PM</td>\n",
              "      <td>17</td>\n",
              "      <td>1</td>\n",
              "      <td>1:53:27 PM</td>\n",
              "      <td>17</td>\n",
              "      <td>1</td>\n",
              "      <td>2:02:41 PM</td>\n",
              "      <td>17</td>\n",
              "      <td>1</td>\n",
              "      <td>2:16:52 PM</td>\n",
              "      <td>5</td>\n",
              "      <td>24.5</td>\n",
              "      <td>0.0</td>\n",
              "      <td>-1.290503</td>\n",
              "      <td>36.809646</td>\n",
              "      <td>-1.303382</td>\n",
              "      <td>36.790658</td>\n",
              "      <td>Rider_Id_685</td>\n",
              "    </tr>\n",
              "    <tr>\n",
              "      <th>4</th>\n",
              "      <td>Order_No_21373</td>\n",
              "      <td>User_Id_1205</td>\n",
              "      <td>Bike</td>\n",
              "      <td>3</td>\n",
              "      <td>Business</td>\n",
              "      <td>11</td>\n",
              "      <td>2</td>\n",
              "      <td>11:30:28 AM</td>\n",
              "      <td>11</td>\n",
              "      <td>2</td>\n",
              "      <td>11:34:45 AM</td>\n",
              "      <td>11</td>\n",
              "      <td>2</td>\n",
              "      <td>11:47:19 AM</td>\n",
              "      <td>11</td>\n",
              "      <td>2</td>\n",
              "      <td>11:56:04 AM</td>\n",
              "      <td>6</td>\n",
              "      <td>24.4</td>\n",
              "      <td>0.0</td>\n",
              "      <td>-1.281081</td>\n",
              "      <td>36.814423</td>\n",
              "      <td>-1.266467</td>\n",
              "      <td>36.792161</td>\n",
              "      <td>Rider_Id_858</td>\n",
              "    </tr>\n",
              "  </tbody>\n",
              "</table>\n",
              "</div>"
            ],
            "text/plain": [
              "         Order_No       User_Id  ... Destination_Long      Rider_Id\n",
              "0  Order_No_19248  User_Id_3355  ...        36.822390  Rider_Id_192\n",
              "1  Order_No_12736  User_Id_3647  ...        36.823907  Rider_Id_868\n",
              "2    Order_No_768  User_Id_2154  ...        36.851365   Rider_Id_26\n",
              "3  Order_No_15332  User_Id_2910  ...        36.790658  Rider_Id_685\n",
              "4  Order_No_21373  User_Id_1205  ...        36.792161  Rider_Id_858\n",
              "\n",
              "[5 rows x 25 columns]"
            ]
          },
          "metadata": {
            "tags": []
          },
          "execution_count": 11
        }
      ]
    },
    {
      "cell_type": "markdown",
      "metadata": {
        "heading_collapsed": true,
        "hidden": true,
        "id": "XHWuJ3MrIe1P",
        "colab_type": "text"
      },
      "source": [
        "##### **Transformation of data**"
      ]
    },
    {
      "cell_type": "markdown",
      "metadata": {
        "hidden": true,
        "id": "5WS-7wLtIe1Q",
        "colab_type": "text"
      },
      "source": [
        "###### Converting time strings into seconds"
      ]
    },
    {
      "cell_type": "code",
      "metadata": {
        "hidden": true,
        "id": "w3NhWXuoIe1R",
        "colab_type": "code",
        "colab": {}
      },
      "source": [
        "#Converting time strings to seconds for the x dataframe\n",
        "\n",
        "x['Placement_-_Time']= pd.to_timedelta(x['Placement_-_Time']).dt.total_seconds()\n",
        "x['Confirmation_-_Time']= pd.to_timedelta(x['Confirmation_-_Time']).dt.total_seconds()\n",
        "x['Arrival_at_Pickup_-_Time']= pd.to_timedelta(x['Arrival_at_Pickup_-_Time']).dt.total_seconds()\n",
        "x['Pickup_-_Time']= pd.to_timedelta(x['Pickup_-_Time']).dt.total_seconds()"
      ],
      "execution_count": 0,
      "outputs": []
    },
    {
      "cell_type": "code",
      "metadata": {
        "hidden": true,
        "id": "ZYLooQS1Ie1e",
        "colab_type": "code",
        "colab": {}
      },
      "source": [
        "#Converting time strings to seconds for the test dataframe\n",
        "\n",
        "test['Placement_-_Time']= pd.to_timedelta(test['Placement_-_Time']).dt.total_seconds()\n",
        "test['Confirmation_-_Time']= pd.to_timedelta(test['Confirmation_-_Time']).dt.total_seconds()\n",
        "test['Arrival_at_Pickup_-_Time']= pd.to_timedelta(test['Arrival_at_Pickup_-_Time']).dt.total_seconds()\n",
        "test['Pickup_-_Time']= pd.to_timedelta(test['Pickup_-_Time']).dt.total_seconds()"
      ],
      "execution_count": 0,
      "outputs": []
    },
    {
      "cell_type": "markdown",
      "metadata": {
        "hidden": true,
        "id": "gIQJbiIUIe1q",
        "colab_type": "text"
      },
      "source": [
        "###### **Dropping columns** "
      ]
    },
    {
      "cell_type": "code",
      "metadata": {
        "hidden": true,
        "id": "afmKc_9KIe1s",
        "colab_type": "code",
        "colab": {}
      },
      "source": [
        "#Column drop for data not useful in the x dataframe\n",
        "\n",
        "x= x.drop(['Order_No', 'User_Id', 'Rider_Id' ], axis= 1)"
      ],
      "execution_count": 0,
      "outputs": []
    },
    {
      "cell_type": "code",
      "metadata": {
        "hidden": true,
        "id": "pH2uVoDZIe19",
        "colab_type": "code",
        "outputId": "7c0be7c2-d95c-4004-a661-125db175d1ec",
        "colab": {}
      },
      "source": [
        "x.info()"
      ],
      "execution_count": 0,
      "outputs": [
        {
          "output_type": "stream",
          "text": [
            "<class 'pandas.core.frame.DataFrame'>\n",
            "RangeIndex: 21201 entries, 0 to 21200\n",
            "Data columns (total 22 columns):\n",
            "Vehicle_Type                            21201 non-null object\n",
            "Platform_Type                           21201 non-null int64\n",
            "Personal_or_Business                    21201 non-null object\n",
            "Placement_-_Day_of_Month                21201 non-null int64\n",
            "Placement_-_Weekday_(Mo_=_1)            21201 non-null int64\n",
            "Placement_-_Time                        21201 non-null float64\n",
            "Confirmation_-_Day_of_Month             21201 non-null int64\n",
            "Confirmation_-_Weekday_(Mo_=_1)         21201 non-null int64\n",
            "Confirmation_-_Time                     21201 non-null float64\n",
            "Arrival_at_Pickup_-_Day_of_Month        21201 non-null int64\n",
            "Arrival_at_Pickup_-_Weekday_(Mo_=_1)    21201 non-null int64\n",
            "Arrival_at_Pickup_-_Time                21201 non-null float64\n",
            "Pickup_-_Day_of_Month                   21201 non-null int64\n",
            "Pickup_-_Weekday_(Mo_=_1)               21201 non-null int64\n",
            "Pickup_-_Time                           21201 non-null float64\n",
            "Distance_(KM)                           21201 non-null int64\n",
            "Temperature                             21201 non-null float64\n",
            "Precipitation_in_millimeters            21201 non-null float64\n",
            "Pickup_Lat                              21201 non-null float64\n",
            "Pickup_Long                             21201 non-null float64\n",
            "Destination_Lat                         21201 non-null float64\n",
            "Destination_Long                        21201 non-null float64\n",
            "dtypes: float64(10), int64(10), object(2)\n",
            "memory usage: 3.6+ MB\n"
          ],
          "name": "stdout"
        }
      ]
    },
    {
      "cell_type": "code",
      "metadata": {
        "hidden": true,
        "id": "dnq_K3ExIe2Z",
        "colab_type": "code",
        "colab": {}
      },
      "source": [
        "#Column drop for data not useful in the test dataframe\n",
        "\n",
        "test= test.drop(['Order_No', 'User_Id', 'Rider_Id' ], axis= 1)"
      ],
      "execution_count": 0,
      "outputs": []
    },
    {
      "cell_type": "code",
      "metadata": {
        "hidden": true,
        "id": "i856eZ_JIe2h",
        "colab_type": "code",
        "outputId": "742267fa-b866-44b3-b98d-1228c203afe5",
        "colab": {}
      },
      "source": [
        "test.info()"
      ],
      "execution_count": 0,
      "outputs": [
        {
          "output_type": "stream",
          "text": [
            "<class 'pandas.core.frame.DataFrame'>\n",
            "RangeIndex: 7068 entries, 0 to 7067\n",
            "Data columns (total 22 columns):\n",
            "Vehicle_Type                            7068 non-null object\n",
            "Platform_Type                           7068 non-null int64\n",
            "Personal_or_Business                    7068 non-null object\n",
            "Placement_-_Day_of_Month                7068 non-null int64\n",
            "Placement_-_Weekday_(Mo_=_1)            7068 non-null int64\n",
            "Placement_-_Time                        7068 non-null float64\n",
            "Confirmation_-_Day_of_Month             7068 non-null int64\n",
            "Confirmation_-_Weekday_(Mo_=_1)         7068 non-null int64\n",
            "Confirmation_-_Time                     7068 non-null float64\n",
            "Arrival_at_Pickup_-_Day_of_Month        7068 non-null int64\n",
            "Arrival_at_Pickup_-_Weekday_(Mo_=_1)    7068 non-null int64\n",
            "Arrival_at_Pickup_-_Time                7068 non-null float64\n",
            "Pickup_-_Day_of_Month                   7068 non-null int64\n",
            "Pickup_-_Weekday_(Mo_=_1)               7068 non-null int64\n",
            "Pickup_-_Time                           7068 non-null float64\n",
            "Distance_(KM)                           7068 non-null int64\n",
            "Temperature                             7068 non-null float64\n",
            "Precipitation_in_millimeters            7068 non-null float64\n",
            "Pickup_Lat                              7068 non-null float64\n",
            "Pickup_Long                             7068 non-null float64\n",
            "Destination_Lat                         7068 non-null float64\n",
            "Destination_Long                        7068 non-null float64\n",
            "dtypes: float64(10), int64(10), object(2)\n",
            "memory usage: 1.2+ MB\n"
          ],
          "name": "stdout"
        }
      ]
    },
    {
      "cell_type": "markdown",
      "metadata": {
        "heading_collapsed": true,
        "hidden": true,
        "id": "fz7lxP5NIe2q",
        "colab_type": "text"
      },
      "source": [
        "##### **Encoding categorical data**"
      ]
    },
    {
      "cell_type": "code",
      "metadata": {
        "hidden": true,
        "id": "nVYosGB8Ie2r",
        "colab_type": "code",
        "outputId": "961b6778-7ef2-4167-b6a3-c07ea4a7435a",
        "colab": {
          "base_uri": "https://localhost:8080/",
          "height": 241
        }
      },
      "source": [
        "#Encoding categorical data using pd.get_dummies for the x dataframe\n",
        "\n",
        "x=  pd.get_dummies(x, columns=['Vehicle_Type', 'Platform_Type', 'Personal_or_Business'], \n",
        "                   drop_first= True)\n",
        "x.head()"
      ],
      "execution_count": 16,
      "outputs": [
        {
          "output_type": "execute_result",
          "data": {
            "text/html": [
              "<div>\n",
              "<style scoped>\n",
              "    .dataframe tbody tr th:only-of-type {\n",
              "        vertical-align: middle;\n",
              "    }\n",
              "\n",
              "    .dataframe tbody tr th {\n",
              "        vertical-align: top;\n",
              "    }\n",
              "\n",
              "    .dataframe thead th {\n",
              "        text-align: right;\n",
              "    }\n",
              "</style>\n",
              "<table border=\"1\" class=\"dataframe\">\n",
              "  <thead>\n",
              "    <tr style=\"text-align: right;\">\n",
              "      <th></th>\n",
              "      <th>Placement_-_Day_of_Month</th>\n",
              "      <th>Placement_-_Weekday_(Mo_=_1)</th>\n",
              "      <th>Placement_-_Time</th>\n",
              "      <th>Confirmation_-_Day_of_Month</th>\n",
              "      <th>Confirmation_-_Weekday_(Mo_=_1)</th>\n",
              "      <th>Confirmation_-_Time</th>\n",
              "      <th>Arrival_at_Pickup_-_Day_of_Month</th>\n",
              "      <th>Arrival_at_Pickup_-_Weekday_(Mo_=_1)</th>\n",
              "      <th>Arrival_at_Pickup_-_Time</th>\n",
              "      <th>Pickup_-_Day_of_Month</th>\n",
              "      <th>Pickup_-_Weekday_(Mo_=_1)</th>\n",
              "      <th>Pickup_-_Time</th>\n",
              "      <th>Distance_(KM)</th>\n",
              "      <th>Temperature</th>\n",
              "      <th>Precipitation_in_millimeters</th>\n",
              "      <th>Pickup_Lat</th>\n",
              "      <th>Pickup_Long</th>\n",
              "      <th>Destination_Lat</th>\n",
              "      <th>Destination_Long</th>\n",
              "      <th>Platform_Type_2</th>\n",
              "      <th>Platform_Type_3</th>\n",
              "      <th>Platform_Type_4</th>\n",
              "      <th>Personal_or_Business_Personal</th>\n",
              "    </tr>\n",
              "  </thead>\n",
              "  <tbody>\n",
              "    <tr>\n",
              "      <th>0</th>\n",
              "      <td>9</td>\n",
              "      <td>5</td>\n",
              "      <td>34546.0</td>\n",
              "      <td>9</td>\n",
              "      <td>5</td>\n",
              "      <td>34810.0</td>\n",
              "      <td>9</td>\n",
              "      <td>5</td>\n",
              "      <td>36287.0</td>\n",
              "      <td>9</td>\n",
              "      <td>5</td>\n",
              "      <td>37650.0</td>\n",
              "      <td>4</td>\n",
              "      <td>20.4</td>\n",
              "      <td>0.0</td>\n",
              "      <td>-1.317755</td>\n",
              "      <td>36.830370</td>\n",
              "      <td>-1.300406</td>\n",
              "      <td>36.829741</td>\n",
              "      <td>0</td>\n",
              "      <td>1</td>\n",
              "      <td>0</td>\n",
              "      <td>0</td>\n",
              "    </tr>\n",
              "    <tr>\n",
              "      <th>1</th>\n",
              "      <td>12</td>\n",
              "      <td>5</td>\n",
              "      <td>40576.0</td>\n",
              "      <td>12</td>\n",
              "      <td>5</td>\n",
              "      <td>41001.0</td>\n",
              "      <td>12</td>\n",
              "      <td>5</td>\n",
              "      <td>42022.0</td>\n",
              "      <td>12</td>\n",
              "      <td>5</td>\n",
              "      <td>42249.0</td>\n",
              "      <td>16</td>\n",
              "      <td>26.4</td>\n",
              "      <td>0.0</td>\n",
              "      <td>-1.351453</td>\n",
              "      <td>36.899315</td>\n",
              "      <td>-1.295004</td>\n",
              "      <td>36.814358</td>\n",
              "      <td>0</td>\n",
              "      <td>1</td>\n",
              "      <td>0</td>\n",
              "      <td>1</td>\n",
              "    </tr>\n",
              "    <tr>\n",
              "      <th>2</th>\n",
              "      <td>30</td>\n",
              "      <td>2</td>\n",
              "      <td>45565.0</td>\n",
              "      <td>30</td>\n",
              "      <td>2</td>\n",
              "      <td>45764.0</td>\n",
              "      <td>30</td>\n",
              "      <td>2</td>\n",
              "      <td>46174.0</td>\n",
              "      <td>30</td>\n",
              "      <td>2</td>\n",
              "      <td>46383.0</td>\n",
              "      <td>3</td>\n",
              "      <td>0.0</td>\n",
              "      <td>0.0</td>\n",
              "      <td>-1.308284</td>\n",
              "      <td>36.843419</td>\n",
              "      <td>-1.300921</td>\n",
              "      <td>36.828195</td>\n",
              "      <td>0</td>\n",
              "      <td>1</td>\n",
              "      <td>0</td>\n",
              "      <td>0</td>\n",
              "    </tr>\n",
              "    <tr>\n",
              "      <th>3</th>\n",
              "      <td>15</td>\n",
              "      <td>5</td>\n",
              "      <td>33934.0</td>\n",
              "      <td>15</td>\n",
              "      <td>5</td>\n",
              "      <td>33965.0</td>\n",
              "      <td>15</td>\n",
              "      <td>5</td>\n",
              "      <td>34676.0</td>\n",
              "      <td>15</td>\n",
              "      <td>5</td>\n",
              "      <td>34986.0</td>\n",
              "      <td>9</td>\n",
              "      <td>19.2</td>\n",
              "      <td>0.0</td>\n",
              "      <td>-1.281301</td>\n",
              "      <td>36.832396</td>\n",
              "      <td>-1.257147</td>\n",
              "      <td>36.795063</td>\n",
              "      <td>0</td>\n",
              "      <td>1</td>\n",
              "      <td>0</td>\n",
              "      <td>0</td>\n",
              "    </tr>\n",
              "    <tr>\n",
              "      <th>4</th>\n",
              "      <td>13</td>\n",
              "      <td>1</td>\n",
              "      <td>35718.0</td>\n",
              "      <td>13</td>\n",
              "      <td>1</td>\n",
              "      <td>35778.0</td>\n",
              "      <td>13</td>\n",
              "      <td>1</td>\n",
              "      <td>36233.0</td>\n",
              "      <td>13</td>\n",
              "      <td>1</td>\n",
              "      <td>36323.0</td>\n",
              "      <td>9</td>\n",
              "      <td>15.4</td>\n",
              "      <td>0.0</td>\n",
              "      <td>-1.266597</td>\n",
              "      <td>36.792118</td>\n",
              "      <td>-1.295041</td>\n",
              "      <td>36.809817</td>\n",
              "      <td>0</td>\n",
              "      <td>0</td>\n",
              "      <td>0</td>\n",
              "      <td>1</td>\n",
              "    </tr>\n",
              "  </tbody>\n",
              "</table>\n",
              "</div>"
            ],
            "text/plain": [
              "   Placement_-_Day_of_Month  ...  Personal_or_Business_Personal\n",
              "0                         9  ...                              0\n",
              "1                        12  ...                              1\n",
              "2                        30  ...                              0\n",
              "3                        15  ...                              0\n",
              "4                        13  ...                              1\n",
              "\n",
              "[5 rows x 23 columns]"
            ]
          },
          "metadata": {
            "tags": []
          },
          "execution_count": 16
        }
      ]
    },
    {
      "cell_type": "code",
      "metadata": {
        "hidden": true,
        "id": "GfZhDVLOIe2z",
        "colab_type": "code",
        "outputId": "28cd7637-f40e-4414-ad66-463fffa76efb",
        "colab": {
          "base_uri": "https://localhost:8080/",
          "height": 241
        }
      },
      "source": [
        "#Encoding categorical data using pd.get_dummies for the test dataframe\n",
        "\n",
        "test=  pd.get_dummies(test, columns=['Vehicle_Type', 'Platform_Type', 'Personal_or_Business'], \n",
        "                      drop_first= True)\n",
        "test.head()"
      ],
      "execution_count": 17,
      "outputs": [
        {
          "output_type": "execute_result",
          "data": {
            "text/html": [
              "<div>\n",
              "<style scoped>\n",
              "    .dataframe tbody tr th:only-of-type {\n",
              "        vertical-align: middle;\n",
              "    }\n",
              "\n",
              "    .dataframe tbody tr th {\n",
              "        vertical-align: top;\n",
              "    }\n",
              "\n",
              "    .dataframe thead th {\n",
              "        text-align: right;\n",
              "    }\n",
              "</style>\n",
              "<table border=\"1\" class=\"dataframe\">\n",
              "  <thead>\n",
              "    <tr style=\"text-align: right;\">\n",
              "      <th></th>\n",
              "      <th>Placement_-_Day_of_Month</th>\n",
              "      <th>Placement_-_Weekday_(Mo_=_1)</th>\n",
              "      <th>Placement_-_Time</th>\n",
              "      <th>Confirmation_-_Day_of_Month</th>\n",
              "      <th>Confirmation_-_Weekday_(Mo_=_1)</th>\n",
              "      <th>Confirmation_-_Time</th>\n",
              "      <th>Arrival_at_Pickup_-_Day_of_Month</th>\n",
              "      <th>Arrival_at_Pickup_-_Weekday_(Mo_=_1)</th>\n",
              "      <th>Arrival_at_Pickup_-_Time</th>\n",
              "      <th>Pickup_-_Day_of_Month</th>\n",
              "      <th>Pickup_-_Weekday_(Mo_=_1)</th>\n",
              "      <th>Pickup_-_Time</th>\n",
              "      <th>Distance_(KM)</th>\n",
              "      <th>Temperature</th>\n",
              "      <th>Precipitation_in_millimeters</th>\n",
              "      <th>Pickup_Lat</th>\n",
              "      <th>Pickup_Long</th>\n",
              "      <th>Destination_Lat</th>\n",
              "      <th>Destination_Long</th>\n",
              "      <th>Platform_Type_2</th>\n",
              "      <th>Platform_Type_3</th>\n",
              "      <th>Platform_Type_4</th>\n",
              "      <th>Personal_or_Business_Personal</th>\n",
              "    </tr>\n",
              "  </thead>\n",
              "  <tbody>\n",
              "    <tr>\n",
              "      <th>0</th>\n",
              "      <td>27</td>\n",
              "      <td>3</td>\n",
              "      <td>17050.0</td>\n",
              "      <td>27</td>\n",
              "      <td>3</td>\n",
              "      <td>17069.0</td>\n",
              "      <td>27</td>\n",
              "      <td>3</td>\n",
              "      <td>17584.0</td>\n",
              "      <td>27</td>\n",
              "      <td>3</td>\n",
              "      <td>18407.0</td>\n",
              "      <td>8</td>\n",
              "      <td>0.0</td>\n",
              "      <td>0.0</td>\n",
              "      <td>-1.333275</td>\n",
              "      <td>36.870815</td>\n",
              "      <td>-1.305249</td>\n",
              "      <td>36.822390</td>\n",
              "      <td>0</td>\n",
              "      <td>1</td>\n",
              "      <td>0</td>\n",
              "      <td>0</td>\n",
              "    </tr>\n",
              "    <tr>\n",
              "      <th>1</th>\n",
              "      <td>17</td>\n",
              "      <td>5</td>\n",
              "      <td>46655.0</td>\n",
              "      <td>17</td>\n",
              "      <td>5</td>\n",
              "      <td>46757.0</td>\n",
              "      <td>17</td>\n",
              "      <td>5</td>\n",
              "      <td>4827.0</td>\n",
              "      <td>17</td>\n",
              "      <td>5</td>\n",
              "      <td>5137.0</td>\n",
              "      <td>5</td>\n",
              "      <td>0.0</td>\n",
              "      <td>0.0</td>\n",
              "      <td>-1.272639</td>\n",
              "      <td>36.794723</td>\n",
              "      <td>-1.277007</td>\n",
              "      <td>36.823907</td>\n",
              "      <td>0</td>\n",
              "      <td>1</td>\n",
              "      <td>0</td>\n",
              "      <td>0</td>\n",
              "    </tr>\n",
              "    <tr>\n",
              "      <th>2</th>\n",
              "      <td>27</td>\n",
              "      <td>4</td>\n",
              "      <td>40094.0</td>\n",
              "      <td>27</td>\n",
              "      <td>4</td>\n",
              "      <td>41105.0</td>\n",
              "      <td>27</td>\n",
              "      <td>4</td>\n",
              "      <td>41600.0</td>\n",
              "      <td>27</td>\n",
              "      <td>4</td>\n",
              "      <td>43074.0</td>\n",
              "      <td>5</td>\n",
              "      <td>22.8</td>\n",
              "      <td>0.0</td>\n",
              "      <td>-1.290894</td>\n",
              "      <td>36.822971</td>\n",
              "      <td>-1.276574</td>\n",
              "      <td>36.851365</td>\n",
              "      <td>0</td>\n",
              "      <td>1</td>\n",
              "      <td>0</td>\n",
              "      <td>0</td>\n",
              "    </tr>\n",
              "    <tr>\n",
              "      <th>3</th>\n",
              "      <td>17</td>\n",
              "      <td>1</td>\n",
              "      <td>6695.0</td>\n",
              "      <td>17</td>\n",
              "      <td>1</td>\n",
              "      <td>6807.0</td>\n",
              "      <td>17</td>\n",
              "      <td>1</td>\n",
              "      <td>7361.0</td>\n",
              "      <td>17</td>\n",
              "      <td>1</td>\n",
              "      <td>8212.0</td>\n",
              "      <td>5</td>\n",
              "      <td>24.5</td>\n",
              "      <td>0.0</td>\n",
              "      <td>-1.290503</td>\n",
              "      <td>36.809646</td>\n",
              "      <td>-1.303382</td>\n",
              "      <td>36.790658</td>\n",
              "      <td>0</td>\n",
              "      <td>1</td>\n",
              "      <td>0</td>\n",
              "      <td>0</td>\n",
              "    </tr>\n",
              "    <tr>\n",
              "      <th>4</th>\n",
              "      <td>11</td>\n",
              "      <td>2</td>\n",
              "      <td>41428.0</td>\n",
              "      <td>11</td>\n",
              "      <td>2</td>\n",
              "      <td>41685.0</td>\n",
              "      <td>11</td>\n",
              "      <td>2</td>\n",
              "      <td>42439.0</td>\n",
              "      <td>11</td>\n",
              "      <td>2</td>\n",
              "      <td>42964.0</td>\n",
              "      <td>6</td>\n",
              "      <td>24.4</td>\n",
              "      <td>0.0</td>\n",
              "      <td>-1.281081</td>\n",
              "      <td>36.814423</td>\n",
              "      <td>-1.266467</td>\n",
              "      <td>36.792161</td>\n",
              "      <td>0</td>\n",
              "      <td>1</td>\n",
              "      <td>0</td>\n",
              "      <td>0</td>\n",
              "    </tr>\n",
              "  </tbody>\n",
              "</table>\n",
              "</div>"
            ],
            "text/plain": [
              "   Placement_-_Day_of_Month  ...  Personal_or_Business_Personal\n",
              "0                        27  ...                              0\n",
              "1                        17  ...                              0\n",
              "2                        27  ...                              0\n",
              "3                        17  ...                              0\n",
              "4                        11  ...                              0\n",
              "\n",
              "[5 rows x 23 columns]"
            ]
          },
          "metadata": {
            "tags": []
          },
          "execution_count": 17
        }
      ]
    },
    {
      "cell_type": "markdown",
      "metadata": {
        "heading_collapsed": true,
        "hidden": true,
        "id": "21qH-q0ZIe3O",
        "colab_type": "text"
      },
      "source": [
        "##### **Splitting the dataset**"
      ]
    },
    {
      "cell_type": "code",
      "metadata": {
        "hidden": true,
        "id": "7qoFsxokIe3P",
        "colab_type": "code",
        "colab": {}
      },
      "source": [
        "# Using just the training dataset to test model accuracy \n",
        "\n",
        "x_train, x_test, y_train, y_test= train_test_split(x, y, test_size= 0.2, random_state= 1) "
      ],
      "execution_count": 0,
      "outputs": []
    },
    {
      "cell_type": "markdown",
      "metadata": {
        "heading_collapsed": true,
        "hidden": true,
        "id": "UPJCzDAwIe3X",
        "colab_type": "text"
      },
      "source": [
        "##### **Feature scaling**"
      ]
    },
    {
      "cell_type": "code",
      "metadata": {
        "hidden": true,
        "id": "eLFyeZJMIe3b",
        "colab_type": "code",
        "colab": {}
      },
      "source": [
        ""
      ],
      "execution_count": 0,
      "outputs": []
    },
    {
      "cell_type": "code",
      "metadata": {
        "hidden": true,
        "id": "5ps6yZkgIe3l",
        "colab_type": "code",
        "colab": {}
      },
      "source": [
        ""
      ],
      "execution_count": 0,
      "outputs": []
    },
    {
      "cell_type": "markdown",
      "metadata": {
        "heading_collapsed": true,
        "id": "d-NIuDkhIe3u",
        "colab_type": "text"
      },
      "source": [
        "# Multiple Linear Regression"
      ]
    },
    {
      "cell_type": "markdown",
      "metadata": {
        "heading_collapsed": true,
        "hidden": true,
        "id": "ApTpLyfWIe3w",
        "colab_type": "text"
      },
      "source": [
        "##### **Training the model**"
      ]
    },
    {
      "cell_type": "code",
      "metadata": {
        "hidden": true,
        "id": "5CFH5vV5Ie3x",
        "colab_type": "code",
        "colab": {}
      },
      "source": [
        "multi_reg= LinearRegression()"
      ],
      "execution_count": 0,
      "outputs": []
    },
    {
      "cell_type": "code",
      "metadata": {
        "hidden": true,
        "id": "zRZafNN9Ie4H",
        "colab_type": "code",
        "outputId": "5945c7ad-247c-4012-9c20-4b4504706a35",
        "colab": {
          "base_uri": "https://localhost:8080/",
          "height": 34
        }
      },
      "source": [
        "multi_reg.fit(x_train, y_train)"
      ],
      "execution_count": 19,
      "outputs": [
        {
          "output_type": "execute_result",
          "data": {
            "text/plain": [
              "LinearRegression(copy_X=True, fit_intercept=True, n_jobs=None, normalize=False)"
            ]
          },
          "metadata": {
            "tags": []
          },
          "execution_count": 19
        }
      ]
    },
    {
      "cell_type": "markdown",
      "metadata": {
        "hidden": true,
        "id": "1g9l9d5MIe4P",
        "colab_type": "text"
      },
      "source": [
        "##### **Predicting the test set results**"
      ]
    },
    {
      "cell_type": "code",
      "metadata": {
        "hidden": true,
        "id": "4EC08Nd0Ie4U",
        "colab_type": "code",
        "colab": {}
      },
      "source": [
        "y_predict= multi_reg.predict(x_test)"
      ],
      "execution_count": 0,
      "outputs": []
    },
    {
      "cell_type": "code",
      "metadata": {
        "hidden": true,
        "id": "K1mXg4dAIe4j",
        "colab_type": "code",
        "outputId": "5ee6827c-3605-4176-b9c5-22eb86235ed6",
        "colab": {
          "base_uri": "https://localhost:8080/",
          "height": 51
        }
      },
      "source": [
        "display(y_predict)"
      ],
      "execution_count": 21,
      "outputs": [
        {
          "output_type": "display_data",
          "data": {
            "text/plain": [
              "array([1312.15014999, 3272.450594  , 1356.84433039, ..., 1046.81838199,\n",
              "       1060.02741748, 1081.22697426])"
            ]
          },
          "metadata": {
            "tags": []
          }
        }
      ]
    },
    {
      "cell_type": "markdown",
      "metadata": {
        "hidden": true,
        "id": "_PhQlHkLIe4t",
        "colab_type": "text"
      },
      "source": [
        "##### **Test results accuracy**"
      ]
    },
    {
      "cell_type": "code",
      "metadata": {
        "hidden": true,
        "id": "ZTIRn2rjIe4v",
        "colab_type": "code",
        "colab": {}
      },
      "source": [
        "def rmse(y_test, y_predict):\n",
        "    return np.sqrt(mean_squared_error(y_test, y_predict))"
      ],
      "execution_count": 0,
      "outputs": []
    },
    {
      "cell_type": "code",
      "metadata": {
        "hidden": true,
        "id": "4O-sLVAhIe4_",
        "colab_type": "code",
        "outputId": "993a01b7-c532-47cf-c4d5-826bbc495da1",
        "colab": {
          "base_uri": "https://localhost:8080/",
          "height": 34
        }
      },
      "source": [
        "rmse(y_test, y_predict)"
      ],
      "execution_count": 23,
      "outputs": [
        {
          "output_type": "execute_result",
          "data": {
            "text/plain": [
              "791.7732524802933"
            ]
          },
          "metadata": {
            "tags": []
          },
          "execution_count": 23
        }
      ]
    },
    {
      "cell_type": "markdown",
      "metadata": {
        "heading_collapsed": true,
        "id": "rtAOVlA7Ie5Q",
        "colab_type": "text"
      },
      "source": [
        "# XGBoost Regression"
      ]
    },
    {
      "cell_type": "markdown",
      "metadata": {
        "heading_collapsed": true,
        "hidden": true,
        "id": "kUVgWhbvIe5R",
        "colab_type": "text"
      },
      "source": [
        "##### **Training the model**"
      ]
    },
    {
      "cell_type": "code",
      "metadata": {
        "hidden": true,
        "id": "KVZX5mVpIe5S",
        "colab_type": "code",
        "colab": {}
      },
      "source": [
        "xg_reg = xgb.XGBRegressor()"
      ],
      "execution_count": 0,
      "outputs": []
    },
    {
      "cell_type": "code",
      "metadata": {
        "hidden": true,
        "id": "1mBHXp86Ie59",
        "colab_type": "code",
        "outputId": "b1321cdb-5b16-485f-c2a7-ecca9ee3d472",
        "colab": {
          "base_uri": "https://localhost:8080/",
          "height": 153
        }
      },
      "source": [
        "xg_reg.fit(x_train,y_train)"
      ],
      "execution_count": 25,
      "outputs": [
        {
          "output_type": "stream",
          "text": [
            "[08:51:01] WARNING: /workspace/src/objective/regression_obj.cu:152: reg:linear is now deprecated in favor of reg:squarederror.\n"
          ],
          "name": "stdout"
        },
        {
          "output_type": "execute_result",
          "data": {
            "text/plain": [
              "XGBRegressor(base_score=0.5, booster='gbtree', colsample_bylevel=1,\n",
              "             colsample_bynode=1, colsample_bytree=1, gamma=0,\n",
              "             importance_type='gain', learning_rate=0.1, max_delta_step=0,\n",
              "             max_depth=3, min_child_weight=1, missing=None, n_estimators=100,\n",
              "             n_jobs=1, nthread=None, objective='reg:linear', random_state=0,\n",
              "             reg_alpha=0, reg_lambda=1, scale_pos_weight=1, seed=None,\n",
              "             silent=None, subsample=1, verbosity=1)"
            ]
          },
          "metadata": {
            "tags": []
          },
          "execution_count": 25
        }
      ]
    },
    {
      "cell_type": "markdown",
      "metadata": {
        "hidden": true,
        "id": "fAGFnPTAIe6F",
        "colab_type": "text"
      },
      "source": [
        "##### **Predicting the test result**"
      ]
    },
    {
      "cell_type": "code",
      "metadata": {
        "hidden": true,
        "id": "X-aUTVxnIe6H",
        "colab_type": "code",
        "colab": {}
      },
      "source": [
        "pred_xgb = xg_reg.predict(x_test)"
      ],
      "execution_count": 0,
      "outputs": []
    },
    {
      "cell_type": "code",
      "metadata": {
        "hidden": true,
        "id": "ofuJN0dUIe6W",
        "colab_type": "code",
        "outputId": "75f4c9fe-6b5e-43ee-fba1-9a3bec470dc9",
        "colab": {
          "base_uri": "https://localhost:8080/",
          "height": 51
        }
      },
      "source": [
        "display(pred_xgb)"
      ],
      "execution_count": 27,
      "outputs": [
        {
          "output_type": "display_data",
          "data": {
            "text/plain": [
              "array([1074.8295, 3033.379 , 1562.9337, ..., 1421.3206, 1118.4666,\n",
              "       1339.4319], dtype=float32)"
            ]
          },
          "metadata": {
            "tags": []
          }
        }
      ]
    },
    {
      "cell_type": "markdown",
      "metadata": {
        "hidden": true,
        "id": "96OBHidzIe6d",
        "colab_type": "text"
      },
      "source": [
        "##### **Test result accuracy**"
      ]
    },
    {
      "cell_type": "code",
      "metadata": {
        "hidden": true,
        "id": "DpoCAvKiIe6h",
        "colab_type": "code",
        "outputId": "a8c8658f-3584-48d5-a8ff-7df98708b4d2",
        "colab": {
          "base_uri": "https://localhost:8080/",
          "height": 34
        }
      },
      "source": [
        "rmse(y_test, pred_xgb)"
      ],
      "execution_count": 28,
      "outputs": [
        {
          "output_type": "execute_result",
          "data": {
            "text/plain": [
              "768.5642701414943"
            ]
          },
          "metadata": {
            "tags": []
          },
          "execution_count": 28
        }
      ]
    },
    {
      "cell_type": "code",
      "metadata": {
        "hidden": true,
        "id": "h0wTQec4Ie6u",
        "colab_type": "code",
        "colab": {}
      },
      "source": [
        ""
      ],
      "execution_count": 0,
      "outputs": []
    },
    {
      "cell_type": "code",
      "metadata": {
        "id": "A14X6QcJf_dZ",
        "colab_type": "code",
        "colab": {}
      },
      "source": [
        ""
      ],
      "execution_count": 0,
      "outputs": []
    },
    {
      "cell_type": "markdown",
      "metadata": {
        "id": "Zt1zV48qjxw5",
        "colab_type": "text"
      },
      "source": [
        "# **LASSO Regulization**"
      ]
    },
    {
      "cell_type": "code",
      "metadata": {
        "id": "LNaLgDN1kVZO",
        "colab_type": "code",
        "colab": {}
      },
      "source": [
        "from sklearn.preprocessing import StandardScaler"
      ],
      "execution_count": 0,
      "outputs": []
    },
    {
      "cell_type": "code",
      "metadata": {
        "id": "u4-FXES5kjQf",
        "colab_type": "code",
        "colab": {}
      },
      "source": [
        "# create standardization object\n",
        "scaler = StandardScaler()"
      ],
      "execution_count": 0,
      "outputs": []
    },
    {
      "cell_type": "code",
      "metadata": {
        "id": "LvVOcVIWlL6n",
        "colab_type": "code",
        "colab": {}
      },
      "source": [
        "# save standardized features into new variable\n",
        "X_scaled = scaler.fit_transform(x)"
      ],
      "execution_count": 0,
      "outputs": []
    },
    {
      "cell_type": "code",
      "metadata": {
        "id": "SoFmVF3-lUMu",
        "colab_type": "code",
        "colab": {}
      },
      "source": [
        "# save standardized features into new variable\n",
        "X_scaled = scaler.fit_transform(x)"
      ],
      "execution_count": 0,
      "outputs": []
    },
    {
      "cell_type": "code",
      "metadata": {
        "id": "wp9bVNfflVCF",
        "colab_type": "code",
        "colab": {}
      },
      "source": [
        "# split dataset into train and test sets\n",
        "X_train_lasso, X_test_lasso, y_train_lasso, y_test_lasso = train_test_split(X_scaled,\n",
        "                                                    y,\n",
        "                                                    test_size=0.20,\n",
        "                                                    random_state=1)"
      ],
      "execution_count": 0,
      "outputs": []
    },
    {
      "cell_type": "code",
      "metadata": {
        "id": "1eVrCbQnlUlL",
        "colab_type": "code",
        "colab": {}
      },
      "source": [
        "# import LASSO module\n",
        "from sklearn.linear_model import Lasso"
      ],
      "execution_count": 0,
      "outputs": []
    },
    {
      "cell_type": "code",
      "metadata": {
        "id": "zAQqzlGEmcab",
        "colab_type": "code",
        "colab": {}
      },
      "source": [
        "# create LASSO model object, setting alpha to 0.01\n",
        "lasso = Lasso(alpha=0.01)"
      ],
      "execution_count": 0,
      "outputs": []
    },
    {
      "cell_type": "code",
      "metadata": {
        "id": "qPaGj2rymidc",
        "colab_type": "code",
        "colab": {
          "base_uri": "https://localhost:8080/",
          "height": 122
        },
        "outputId": "45f604b1-eefb-43bf-977b-c6ca43b59824"
      },
      "source": [
        "# train the LASSO model\n",
        "lasso.fit(X_train_lasso, y_train_lasso)"
      ],
      "execution_count": 41,
      "outputs": [
        {
          "output_type": "stream",
          "text": [
            "/usr/local/lib/python3.6/dist-packages/sklearn/linear_model/_coordinate_descent.py:476: ConvergenceWarning: Objective did not converge. You might want to increase the number of iterations. Duality gap: 3363423921.3404126, tolerance: 1662117.506173962\n",
            "  positive)\n"
          ],
          "name": "stderr"
        },
        {
          "output_type": "execute_result",
          "data": {
            "text/plain": [
              "Lasso(alpha=0.01, copy_X=True, fit_intercept=True, max_iter=1000,\n",
              "      normalize=False, positive=False, precompute=False, random_state=None,\n",
              "      selection='cyclic', tol=0.0001, warm_start=False)"
            ]
          },
          "metadata": {
            "tags": []
          },
          "execution_count": 41
        }
      ]
    },
    {
      "cell_type": "code",
      "metadata": {
        "id": "N0zV-nDOmjBo",
        "colab_type": "code",
        "colab": {}
      },
      "source": [
        "test_lasso = lasso.predict(X_test_lasso)"
      ],
      "execution_count": 0,
      "outputs": []
    },
    {
      "cell_type": "code",
      "metadata": {
        "id": "qvsk386RoJxh",
        "colab_type": "code",
        "colab": {}
      },
      "source": [
        ""
      ],
      "execution_count": 0,
      "outputs": []
    },
    {
      "cell_type": "code",
      "metadata": {
        "hidden": true,
        "colab_type": "code",
        "outputId": "621ed56d-f83d-4520-ecc3-96272f435054",
        "id": "Alc82psDoYjO",
        "colab": {
          "base_uri": "https://localhost:8080/",
          "height": 51
        }
      },
      "source": [
        "display(test_lasso)"
      ],
      "execution_count": 43,
      "outputs": [
        {
          "output_type": "display_data",
          "data": {
            "text/plain": [
              "array([1312.2061617 , 3272.55174568, 1357.02889159, ..., 1046.85729795,\n",
              "       1060.27868202, 1081.25537458])"
            ]
          },
          "metadata": {
            "tags": []
          }
        }
      ]
    },
    {
      "cell_type": "code",
      "metadata": {
        "id": "dT1jQPUSogJ3",
        "colab_type": "code",
        "colab": {
          "base_uri": "https://localhost:8080/",
          "height": 34
        },
        "outputId": "2222803e-56bf-4aae-aebf-59828a34b9f6"
      },
      "source": [
        "rmse(y_test_lasso, test_lasso)"
      ],
      "execution_count": 44,
      "outputs": [
        {
          "output_type": "execute_result",
          "data": {
            "text/plain": [
              "791.7732811237472"
            ]
          },
          "metadata": {
            "tags": []
          },
          "execution_count": 44
        }
      ]
    }
  ]
}