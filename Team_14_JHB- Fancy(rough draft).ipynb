{
 "cells": [
  {
   "cell_type": "markdown",
   "metadata": {
    "heading_collapsed": true
   },
   "source": [
    "# Sendy Logistics\n",
    "The costs of logistics in Sub-Saharan Africa increase the costs of manufactured goods up to 320% whereas in Europe it is only 90% of the manufacturing cost. Economies are better when logistics are efficient and affordable.\n",
    "\n",
    "Sendy is a logistics company situated in Nairobi, Kenya. They help men and women behind every type of business to trade easily , deliver more competitively and build extraordinary business. \n",
    "\n",
    "\n",
    "***“We believe in them; we believe that logistics should be an enabler for them to achieve their goals, rather than a hindrance. We believe that everyone should be able to participate and thrive in the economy and that no small business should be left out because the cost of logistics is either too high or inaccessible.”***\n",
    "\n",
    "\n",
    "The purpose of this notebook is to predict the estimated time of delivery of orders from the time the order is picked up till it is delivered at its final destination.\n",
    "\n",
    "This will help Sendy improve their customer satisfaction as well ad the reliabilty of their service. It will also ensure Sendy's resources are being used efficiently through a decrease of cost in doing business, planning for order scheduling and improved resource management. "
   ]
  },
  {
   "cell_type": "markdown",
   "metadata": {
    "heading_collapsed": true
   },
   "source": [
    "# Baseline Model\n",
    "\n",
    "The models contained within the Baseline section are trained using very little data transformation. The data is cleaned minimally so that it could be used to build models to make predictions on it. The Baseline models will be then compared to the actual models where further data preprocessing would be done to the data."
   ]
  },
  {
   "cell_type": "markdown",
   "metadata": {
    "hidden": true
   },
   "source": [
    "***This notebook was designed with the following libraries. Should you not have them already installed, simply uncomment the cell below and run it to pip install.***"
   ]
  },
  {
   "cell_type": "code",
   "execution_count": 378,
   "metadata": {
    "hidden": true
   },
   "outputs": [],
   "source": [
    "# !pip install xgboost\n",
    "# !pip install ipython\n",
    "# !pip install geopy"
   ]
  },
  {
   "cell_type": "markdown",
   "metadata": {
    "heading_collapsed": true,
    "hidden": true
   },
   "source": [
    "### Importing the libraries"
   ]
  },
  {
   "cell_type": "code",
   "execution_count": 417,
   "metadata": {
    "hidden": true
   },
   "outputs": [],
   "source": [
    "#Import python libraries\n",
    "import numpy as np\n",
    "import matplotlib.pyplot as plt\n",
    "import pandas as pd\n",
    "import seaborn as sns\n",
    "\n",
    "#Packages used to display the Exploratory Data Analysis(EDA)\n",
    "from pandas_profiling import ProfileReport\n",
    "from IPython.display import IFrame\n",
    "\n",
    "#Train_test_split used to split the x dataframe into the training set and test set\n",
    "from sklearn.model_selection import train_test_split\n",
    "\n",
    "#Training the simple and multiple linear regression model on the split data\n",
    "from sklearn.linear_model import LinearRegression\n",
    "\n",
    "#Training the XGBoost regression model on the split data\n",
    "import xgboost as xgb\n",
    "#Accuracy packages\n",
    "from sklearn.metrics import mean_squared_error\n",
    "from sklearn.metrics import r2_score"
   ]
  },
  {
   "cell_type": "markdown",
   "metadata": {
    "heading_collapsed": true,
    "hidden": true
   },
   "source": [
    "### Importing the datasets"
   ]
  },
  {
   "cell_type": "markdown",
   "metadata": {
    "hidden": true
   },
   "source": [
    "> **Variable definitions**\n",
    "\n",
    "The Variable definitions dataframe lists the column names found in the Rider, Train, Test and Sample Submissions dataframes and gives a brief description of the data found within the column.\n",
    "\n",
    "*Aside note:* Column names listed in this datframe may not appear the Rider, Train, Test and Sample Submissions dataframes because during the process of modelling the data, the columns may not be useful and will be removed."
   ]
  },
  {
   "cell_type": "code",
   "execution_count": 380,
   "metadata": {
    "hidden": true
   },
   "outputs": [
    {
     "data": {
      "text/html": [
       "<style  type=\"text/css\" >\n",
       "    #T_cfa851e8_a18f_11ea_a0a2_f0d4e2f89142row0_col1 {\n",
       "            width:  600px;\n",
       "        }    #T_cfa851e8_a18f_11ea_a0a2_f0d4e2f89142row1_col1 {\n",
       "            width:  600px;\n",
       "        }    #T_cfa851e8_a18f_11ea_a0a2_f0d4e2f89142row2_col1 {\n",
       "            width:  600px;\n",
       "        }    #T_cfa851e8_a18f_11ea_a0a2_f0d4e2f89142row3_col1 {\n",
       "            width:  600px;\n",
       "        }    #T_cfa851e8_a18f_11ea_a0a2_f0d4e2f89142row4_col1 {\n",
       "            width:  600px;\n",
       "        }    #T_cfa851e8_a18f_11ea_a0a2_f0d4e2f89142row5_col1 {\n",
       "            width:  600px;\n",
       "        }    #T_cfa851e8_a18f_11ea_a0a2_f0d4e2f89142row6_col1 {\n",
       "            width:  600px;\n",
       "        }    #T_cfa851e8_a18f_11ea_a0a2_f0d4e2f89142row7_col1 {\n",
       "            width:  600px;\n",
       "        }    #T_cfa851e8_a18f_11ea_a0a2_f0d4e2f89142row8_col1 {\n",
       "            width:  600px;\n",
       "        }    #T_cfa851e8_a18f_11ea_a0a2_f0d4e2f89142row9_col1 {\n",
       "            width:  600px;\n",
       "        }    #T_cfa851e8_a18f_11ea_a0a2_f0d4e2f89142row10_col1 {\n",
       "            width:  600px;\n",
       "        }    #T_cfa851e8_a18f_11ea_a0a2_f0d4e2f89142row11_col1 {\n",
       "            width:  600px;\n",
       "        }    #T_cfa851e8_a18f_11ea_a0a2_f0d4e2f89142row12_col1 {\n",
       "            width:  600px;\n",
       "        }    #T_cfa851e8_a18f_11ea_a0a2_f0d4e2f89142row13_col1 {\n",
       "            width:  600px;\n",
       "        }    #T_cfa851e8_a18f_11ea_a0a2_f0d4e2f89142row14_col1 {\n",
       "            width:  600px;\n",
       "        }    #T_cfa851e8_a18f_11ea_a0a2_f0d4e2f89142row15_col1 {\n",
       "            width:  600px;\n",
       "        }    #T_cfa851e8_a18f_11ea_a0a2_f0d4e2f89142row16_col1 {\n",
       "            width:  600px;\n",
       "        }    #T_cfa851e8_a18f_11ea_a0a2_f0d4e2f89142row17_col1 {\n",
       "            width:  600px;\n",
       "        }    #T_cfa851e8_a18f_11ea_a0a2_f0d4e2f89142row18_col1 {\n",
       "            width:  600px;\n",
       "        }    #T_cfa851e8_a18f_11ea_a0a2_f0d4e2f89142row19_col1 {\n",
       "            width:  600px;\n",
       "        }    #T_cfa851e8_a18f_11ea_a0a2_f0d4e2f89142row20_col1 {\n",
       "            width:  600px;\n",
       "        }    #T_cfa851e8_a18f_11ea_a0a2_f0d4e2f89142row21_col1 {\n",
       "            width:  600px;\n",
       "        }    #T_cfa851e8_a18f_11ea_a0a2_f0d4e2f89142row22_col1 {\n",
       "            width:  600px;\n",
       "        }    #T_cfa851e8_a18f_11ea_a0a2_f0d4e2f89142row23_col1 {\n",
       "            width:  600px;\n",
       "        }    #T_cfa851e8_a18f_11ea_a0a2_f0d4e2f89142row24_col1 {\n",
       "            width:  600px;\n",
       "        }    #T_cfa851e8_a18f_11ea_a0a2_f0d4e2f89142row25_col1 {\n",
       "            width:  600px;\n",
       "        }    #T_cfa851e8_a18f_11ea_a0a2_f0d4e2f89142row26_col1 {\n",
       "            width:  600px;\n",
       "        }    #T_cfa851e8_a18f_11ea_a0a2_f0d4e2f89142row27_col1 {\n",
       "            width:  600px;\n",
       "        }    #T_cfa851e8_a18f_11ea_a0a2_f0d4e2f89142row28_col1 {\n",
       "            width:  600px;\n",
       "        }    #T_cfa851e8_a18f_11ea_a0a2_f0d4e2f89142row29_col1 {\n",
       "            width:  600px;\n",
       "        }    #T_cfa851e8_a18f_11ea_a0a2_f0d4e2f89142row30_col1 {\n",
       "            width:  600px;\n",
       "        }    #T_cfa851e8_a18f_11ea_a0a2_f0d4e2f89142row31_col1 {\n",
       "            width:  600px;\n",
       "        }    #T_cfa851e8_a18f_11ea_a0a2_f0d4e2f89142row32_col1 {\n",
       "            width:  600px;\n",
       "        }    #T_cfa851e8_a18f_11ea_a0a2_f0d4e2f89142row33_col1 {\n",
       "            width:  600px;\n",
       "        }    #T_cfa851e8_a18f_11ea_a0a2_f0d4e2f89142row34_col1 {\n",
       "            width:  600px;\n",
       "        }    #T_cfa851e8_a18f_11ea_a0a2_f0d4e2f89142row35_col1 {\n",
       "            width:  600px;\n",
       "        }</style><table id=\"T_cfa851e8_a18f_11ea_a0a2_f0d4e2f89142\" ><thead>    <tr>        <th class=\"blank level0\" ></th>        <th class=\"col_heading level0 col0\" >Column_Name</th>        <th class=\"col_heading level0 col1\" >Description</th>    </tr></thead><tbody>\n",
       "                <tr>\n",
       "                        <th id=\"T_cfa851e8_a18f_11ea_a0a2_f0d4e2f89142level0_row0\" class=\"row_heading level0 row0\" >0</th>\n",
       "                        <td id=\"T_cfa851e8_a18f_11ea_a0a2_f0d4e2f89142row0_col0\" class=\"data row0 col0\" >Order No</td>\n",
       "                        <td id=\"T_cfa851e8_a18f_11ea_a0a2_f0d4e2f89142row0_col1\" class=\"data row0 col1\" >Unique number identifying the order</td>\n",
       "            </tr>\n",
       "            <tr>\n",
       "                        <th id=\"T_cfa851e8_a18f_11ea_a0a2_f0d4e2f89142level0_row1\" class=\"row_heading level0 row1\" >1</th>\n",
       "                        <td id=\"T_cfa851e8_a18f_11ea_a0a2_f0d4e2f89142row1_col0\" class=\"data row1 col0\" >User Id</td>\n",
       "                        <td id=\"T_cfa851e8_a18f_11ea_a0a2_f0d4e2f89142row1_col1\" class=\"data row1 col1\" >Unique number identifying the customer on a platform</td>\n",
       "            </tr>\n",
       "            <tr>\n",
       "                        <th id=\"T_cfa851e8_a18f_11ea_a0a2_f0d4e2f89142level0_row2\" class=\"row_heading level0 row2\" >2</th>\n",
       "                        <td id=\"T_cfa851e8_a18f_11ea_a0a2_f0d4e2f89142row2_col0\" class=\"data row2 col0\" >Vehicle Type</td>\n",
       "                        <td id=\"T_cfa851e8_a18f_11ea_a0a2_f0d4e2f89142row2_col1\" class=\"data row2 col1\" >For this competition limited to bikes, however in practice Sendy service extends to trucks and vans</td>\n",
       "            </tr>\n",
       "            <tr>\n",
       "                        <th id=\"T_cfa851e8_a18f_11ea_a0a2_f0d4e2f89142level0_row3\" class=\"row_heading level0 row3\" >3</th>\n",
       "                        <td id=\"T_cfa851e8_a18f_11ea_a0a2_f0d4e2f89142row3_col0\" class=\"data row3 col0\" >Platform Type</td>\n",
       "                        <td id=\"T_cfa851e8_a18f_11ea_a0a2_f0d4e2f89142row3_col1\" class=\"data row3 col1\" >Platform used to place the order, there are 4 types</td>\n",
       "            </tr>\n",
       "            <tr>\n",
       "                        <th id=\"T_cfa851e8_a18f_11ea_a0a2_f0d4e2f89142level0_row4\" class=\"row_heading level0 row4\" >4</th>\n",
       "                        <td id=\"T_cfa851e8_a18f_11ea_a0a2_f0d4e2f89142row4_col0\" class=\"data row4 col0\" >Personal or Business</td>\n",
       "                        <td id=\"T_cfa851e8_a18f_11ea_a0a2_f0d4e2f89142row4_col1\" class=\"data row4 col1\" >Customer type</td>\n",
       "            </tr>\n",
       "            <tr>\n",
       "                        <th id=\"T_cfa851e8_a18f_11ea_a0a2_f0d4e2f89142level0_row5\" class=\"row_heading level0 row5\" >5</th>\n",
       "                        <td id=\"T_cfa851e8_a18f_11ea_a0a2_f0d4e2f89142row5_col0\" class=\"data row5 col0\" >Placement - Day of Month</td>\n",
       "                        <td id=\"T_cfa851e8_a18f_11ea_a0a2_f0d4e2f89142row5_col1\" class=\"data row5 col1\" >Placement - Day of Month i.e 1-31</td>\n",
       "            </tr>\n",
       "            <tr>\n",
       "                        <th id=\"T_cfa851e8_a18f_11ea_a0a2_f0d4e2f89142level0_row6\" class=\"row_heading level0 row6\" >6</th>\n",
       "                        <td id=\"T_cfa851e8_a18f_11ea_a0a2_f0d4e2f89142row6_col0\" class=\"data row6 col0\" >Placement - Weekday (Mo = 1)</td>\n",
       "                        <td id=\"T_cfa851e8_a18f_11ea_a0a2_f0d4e2f89142row6_col1\" class=\"data row6 col1\" >Placement - Weekday (Monday = 1)</td>\n",
       "            </tr>\n",
       "            <tr>\n",
       "                        <th id=\"T_cfa851e8_a18f_11ea_a0a2_f0d4e2f89142level0_row7\" class=\"row_heading level0 row7\" >7</th>\n",
       "                        <td id=\"T_cfa851e8_a18f_11ea_a0a2_f0d4e2f89142row7_col0\" class=\"data row7 col0\" >Placement - Time</td>\n",
       "                        <td id=\"T_cfa851e8_a18f_11ea_a0a2_f0d4e2f89142row7_col1\" class=\"data row7 col1\" >Placement - Time - Time of day the order was placed</td>\n",
       "            </tr>\n",
       "            <tr>\n",
       "                        <th id=\"T_cfa851e8_a18f_11ea_a0a2_f0d4e2f89142level0_row8\" class=\"row_heading level0 row8\" >8</th>\n",
       "                        <td id=\"T_cfa851e8_a18f_11ea_a0a2_f0d4e2f89142row8_col0\" class=\"data row8 col0\" >Confirmation - Day of Month</td>\n",
       "                        <td id=\"T_cfa851e8_a18f_11ea_a0a2_f0d4e2f89142row8_col1\" class=\"data row8 col1\" >Confirmation - Day of Month i.e 1-31</td>\n",
       "            </tr>\n",
       "            <tr>\n",
       "                        <th id=\"T_cfa851e8_a18f_11ea_a0a2_f0d4e2f89142level0_row9\" class=\"row_heading level0 row9\" >9</th>\n",
       "                        <td id=\"T_cfa851e8_a18f_11ea_a0a2_f0d4e2f89142row9_col0\" class=\"data row9 col0\" >Confirmation - Weekday (Mo = 1)</td>\n",
       "                        <td id=\"T_cfa851e8_a18f_11ea_a0a2_f0d4e2f89142row9_col1\" class=\"data row9 col1\" >Confirmation - Weekday (Monday = 1)</td>\n",
       "            </tr>\n",
       "            <tr>\n",
       "                        <th id=\"T_cfa851e8_a18f_11ea_a0a2_f0d4e2f89142level0_row10\" class=\"row_heading level0 row10\" >10</th>\n",
       "                        <td id=\"T_cfa851e8_a18f_11ea_a0a2_f0d4e2f89142row10_col0\" class=\"data row10 col0\" >Confirmation - Time</td>\n",
       "                        <td id=\"T_cfa851e8_a18f_11ea_a0a2_f0d4e2f89142row10_col1\" class=\"data row10 col1\" >Confirmation - Time - Time of day the order was confirmed by a rider</td>\n",
       "            </tr>\n",
       "            <tr>\n",
       "                        <th id=\"T_cfa851e8_a18f_11ea_a0a2_f0d4e2f89142level0_row11\" class=\"row_heading level0 row11\" >11</th>\n",
       "                        <td id=\"T_cfa851e8_a18f_11ea_a0a2_f0d4e2f89142row11_col0\" class=\"data row11 col0\" >Arrival at Pickup - Day of Month</td>\n",
       "                        <td id=\"T_cfa851e8_a18f_11ea_a0a2_f0d4e2f89142row11_col1\" class=\"data row11 col1\" >Arrival at Pickup - Day of Month i.e 1-31</td>\n",
       "            </tr>\n",
       "            <tr>\n",
       "                        <th id=\"T_cfa851e8_a18f_11ea_a0a2_f0d4e2f89142level0_row12\" class=\"row_heading level0 row12\" >12</th>\n",
       "                        <td id=\"T_cfa851e8_a18f_11ea_a0a2_f0d4e2f89142row12_col0\" class=\"data row12 col0\" >Arrival at Pickup - Weekday (Mo = 1)</td>\n",
       "                        <td id=\"T_cfa851e8_a18f_11ea_a0a2_f0d4e2f89142row12_col1\" class=\"data row12 col1\" >Arrival at Pickup - Weekday (Monday = 1)</td>\n",
       "            </tr>\n",
       "            <tr>\n",
       "                        <th id=\"T_cfa851e8_a18f_11ea_a0a2_f0d4e2f89142level0_row13\" class=\"row_heading level0 row13\" >13</th>\n",
       "                        <td id=\"T_cfa851e8_a18f_11ea_a0a2_f0d4e2f89142row13_col0\" class=\"data row13 col0\" >Arrival at Pickup - Time</td>\n",
       "                        <td id=\"T_cfa851e8_a18f_11ea_a0a2_f0d4e2f89142row13_col1\" class=\"data row13 col1\" >Time of day the the rider arrived at the location to pick up the order - as marked by the rider through the Sendy application</td>\n",
       "            </tr>\n",
       "            <tr>\n",
       "                        <th id=\"T_cfa851e8_a18f_11ea_a0a2_f0d4e2f89142level0_row14\" class=\"row_heading level0 row14\" >14</th>\n",
       "                        <td id=\"T_cfa851e8_a18f_11ea_a0a2_f0d4e2f89142row14_col0\" class=\"data row14 col0\" >Pickup - Day of Month</td>\n",
       "                        <td id=\"T_cfa851e8_a18f_11ea_a0a2_f0d4e2f89142row14_col1\" class=\"data row14 col1\" >Pickup - Day of Month i.e 1-31</td>\n",
       "            </tr>\n",
       "            <tr>\n",
       "                        <th id=\"T_cfa851e8_a18f_11ea_a0a2_f0d4e2f89142level0_row15\" class=\"row_heading level0 row15\" >15</th>\n",
       "                        <td id=\"T_cfa851e8_a18f_11ea_a0a2_f0d4e2f89142row15_col0\" class=\"data row15 col0\" >Pickup - Weekday (Mo = 1)</td>\n",
       "                        <td id=\"T_cfa851e8_a18f_11ea_a0a2_f0d4e2f89142row15_col1\" class=\"data row15 col1\" >Pickup - Weekday (Monday = 1)</td>\n",
       "            </tr>\n",
       "            <tr>\n",
       "                        <th id=\"T_cfa851e8_a18f_11ea_a0a2_f0d4e2f89142level0_row16\" class=\"row_heading level0 row16\" >16</th>\n",
       "                        <td id=\"T_cfa851e8_a18f_11ea_a0a2_f0d4e2f89142row16_col0\" class=\"data row16 col0\" >Pickup - Time</td>\n",
       "                        <td id=\"T_cfa851e8_a18f_11ea_a0a2_f0d4e2f89142row16_col1\" class=\"data row16 col1\" >Pickup - Time - Time of day the the rider picked up the order - as marked by the rider through the Sendy application</td>\n",
       "            </tr>\n",
       "            <tr>\n",
       "                        <th id=\"T_cfa851e8_a18f_11ea_a0a2_f0d4e2f89142level0_row17\" class=\"row_heading level0 row17\" >17</th>\n",
       "                        <td id=\"T_cfa851e8_a18f_11ea_a0a2_f0d4e2f89142row17_col0\" class=\"data row17 col0\" >Arrival at Destination - Day of Month</td>\n",
       "                        <td id=\"T_cfa851e8_a18f_11ea_a0a2_f0d4e2f89142row17_col1\" class=\"data row17 col1\" >Arrival at Delivery - Day of Month i.e 1-31</td>\n",
       "            </tr>\n",
       "            <tr>\n",
       "                        <th id=\"T_cfa851e8_a18f_11ea_a0a2_f0d4e2f89142level0_row18\" class=\"row_heading level0 row18\" >18</th>\n",
       "                        <td id=\"T_cfa851e8_a18f_11ea_a0a2_f0d4e2f89142row18_col0\" class=\"data row18 col0\" >Arrival at Destination - Weekday (Mo = 1)</td>\n",
       "                        <td id=\"T_cfa851e8_a18f_11ea_a0a2_f0d4e2f89142row18_col1\" class=\"data row18 col1\" >Arrival at Delivery - Weekday (Monday = 1)</td>\n",
       "            </tr>\n",
       "            <tr>\n",
       "                        <th id=\"T_cfa851e8_a18f_11ea_a0a2_f0d4e2f89142level0_row19\" class=\"row_heading level0 row19\" >19</th>\n",
       "                        <td id=\"T_cfa851e8_a18f_11ea_a0a2_f0d4e2f89142row19_col0\" class=\"data row19 col0\" >Arrival at Destination - Time</td>\n",
       "                        <td id=\"T_cfa851e8_a18f_11ea_a0a2_f0d4e2f89142row19_col1\" class=\"data row19 col1\" >Arrival at Delivery Time - Time of day the rider arrived at the destination to deliver the order - as marked by the rider through the Sendy application</td>\n",
       "            </tr>\n",
       "            <tr>\n",
       "                        <th id=\"T_cfa851e8_a18f_11ea_a0a2_f0d4e2f89142level0_row20\" class=\"row_heading level0 row20\" >20</th>\n",
       "                        <td id=\"T_cfa851e8_a18f_11ea_a0a2_f0d4e2f89142row20_col0\" class=\"data row20 col0\" >Distance (KM)</td>\n",
       "                        <td id=\"T_cfa851e8_a18f_11ea_a0a2_f0d4e2f89142row20_col1\" class=\"data row20 col1\" >The distance from Pickup to Destination</td>\n",
       "            </tr>\n",
       "            <tr>\n",
       "                        <th id=\"T_cfa851e8_a18f_11ea_a0a2_f0d4e2f89142level0_row21\" class=\"row_heading level0 row21\" >21</th>\n",
       "                        <td id=\"T_cfa851e8_a18f_11ea_a0a2_f0d4e2f89142row21_col0\" class=\"data row21 col0\" >Temperature</td>\n",
       "                        <td id=\"T_cfa851e8_a18f_11ea_a0a2_f0d4e2f89142row21_col1\" class=\"data row21 col1\" >Temperature at the time of order placement in Degrees Celsius (measured every three hours)</td>\n",
       "            </tr>\n",
       "            <tr>\n",
       "                        <th id=\"T_cfa851e8_a18f_11ea_a0a2_f0d4e2f89142level0_row22\" class=\"row_heading level0 row22\" >22</th>\n",
       "                        <td id=\"T_cfa851e8_a18f_11ea_a0a2_f0d4e2f89142row22_col0\" class=\"data row22 col0\" >Precipitation in millimeters</td>\n",
       "                        <td id=\"T_cfa851e8_a18f_11ea_a0a2_f0d4e2f89142row22_col1\" class=\"data row22 col1\" > Precipitation at the time of order placement (measured every three hours)</td>\n",
       "            </tr>\n",
       "            <tr>\n",
       "                        <th id=\"T_cfa851e8_a18f_11ea_a0a2_f0d4e2f89142level0_row23\" class=\"row_heading level0 row23\" >23</th>\n",
       "                        <td id=\"T_cfa851e8_a18f_11ea_a0a2_f0d4e2f89142row23_col0\" class=\"data row23 col0\" >Pickup Lat</td>\n",
       "                        <td id=\"T_cfa851e8_a18f_11ea_a0a2_f0d4e2f89142row23_col1\" class=\"data row23 col1\" >Latitude of pick up location</td>\n",
       "            </tr>\n",
       "            <tr>\n",
       "                        <th id=\"T_cfa851e8_a18f_11ea_a0a2_f0d4e2f89142level0_row24\" class=\"row_heading level0 row24\" >24</th>\n",
       "                        <td id=\"T_cfa851e8_a18f_11ea_a0a2_f0d4e2f89142row24_col0\" class=\"data row24 col0\" >Pickup Long</td>\n",
       "                        <td id=\"T_cfa851e8_a18f_11ea_a0a2_f0d4e2f89142row24_col1\" class=\"data row24 col1\" >Longitude of pick up location</td>\n",
       "            </tr>\n",
       "            <tr>\n",
       "                        <th id=\"T_cfa851e8_a18f_11ea_a0a2_f0d4e2f89142level0_row25\" class=\"row_heading level0 row25\" >25</th>\n",
       "                        <td id=\"T_cfa851e8_a18f_11ea_a0a2_f0d4e2f89142row25_col0\" class=\"data row25 col0\" >Destination Lat</td>\n",
       "                        <td id=\"T_cfa851e8_a18f_11ea_a0a2_f0d4e2f89142row25_col1\" class=\"data row25 col1\" >Latitude of delivery location</td>\n",
       "            </tr>\n",
       "            <tr>\n",
       "                        <th id=\"T_cfa851e8_a18f_11ea_a0a2_f0d4e2f89142level0_row26\" class=\"row_heading level0 row26\" >26</th>\n",
       "                        <td id=\"T_cfa851e8_a18f_11ea_a0a2_f0d4e2f89142row26_col0\" class=\"data row26 col0\" >Destination Long</td>\n",
       "                        <td id=\"T_cfa851e8_a18f_11ea_a0a2_f0d4e2f89142row26_col1\" class=\"data row26 col1\" >Longitude of delivery location</td>\n",
       "            </tr>\n",
       "            <tr>\n",
       "                        <th id=\"T_cfa851e8_a18f_11ea_a0a2_f0d4e2f89142level0_row27\" class=\"row_heading level0 row27\" >27</th>\n",
       "                        <td id=\"T_cfa851e8_a18f_11ea_a0a2_f0d4e2f89142row27_col0\" class=\"data row27 col0\" >Rider Id</td>\n",
       "                        <td id=\"T_cfa851e8_a18f_11ea_a0a2_f0d4e2f89142row27_col1\" class=\"data row27 col1\" > ID of the Rider who accepted the order</td>\n",
       "            </tr>\n",
       "            <tr>\n",
       "                        <th id=\"T_cfa851e8_a18f_11ea_a0a2_f0d4e2f89142level0_row28\" class=\"row_heading level0 row28\" >28</th>\n",
       "                        <td id=\"T_cfa851e8_a18f_11ea_a0a2_f0d4e2f89142row28_col0\" class=\"data row28 col0\" >Time from Pickup to Arrival</td>\n",
       "                        <td id=\"T_cfa851e8_a18f_11ea_a0a2_f0d4e2f89142row28_col1\" class=\"data row28 col1\" >Time in seconds between 'Pickup' and 'Arrival at Destination' - calculated from the columns for the purpose of facilitating the task</td>\n",
       "            </tr>\n",
       "            <tr>\n",
       "                        <th id=\"T_cfa851e8_a18f_11ea_a0a2_f0d4e2f89142level0_row29\" class=\"row_heading level0 row29\" >29</th>\n",
       "                        <td id=\"T_cfa851e8_a18f_11ea_a0a2_f0d4e2f89142row29_col0\" class=\"data row29 col0\" >nan</td>\n",
       "                        <td id=\"T_cfa851e8_a18f_11ea_a0a2_f0d4e2f89142row29_col1\" class=\"data row29 col1\" >nan</td>\n",
       "            </tr>\n",
       "            <tr>\n",
       "                        <th id=\"T_cfa851e8_a18f_11ea_a0a2_f0d4e2f89142level0_row30\" class=\"row_heading level0 row30\" >30</th>\n",
       "                        <td id=\"T_cfa851e8_a18f_11ea_a0a2_f0d4e2f89142row30_col0\" class=\"data row30 col0\" >Rider Metrics</td>\n",
       "                        <td id=\"T_cfa851e8_a18f_11ea_a0a2_f0d4e2f89142row30_col1\" class=\"data row30 col1\" >nan</td>\n",
       "            </tr>\n",
       "            <tr>\n",
       "                        <th id=\"T_cfa851e8_a18f_11ea_a0a2_f0d4e2f89142level0_row31\" class=\"row_heading level0 row31\" >31</th>\n",
       "                        <td id=\"T_cfa851e8_a18f_11ea_a0a2_f0d4e2f89142row31_col0\" class=\"data row31 col0\" >Rider Id</td>\n",
       "                        <td id=\"T_cfa851e8_a18f_11ea_a0a2_f0d4e2f89142row31_col1\" class=\"data row31 col1\" >Unique number identifying the rider (same as in order details)</td>\n",
       "            </tr>\n",
       "            <tr>\n",
       "                        <th id=\"T_cfa851e8_a18f_11ea_a0a2_f0d4e2f89142level0_row32\" class=\"row_heading level0 row32\" >32</th>\n",
       "                        <td id=\"T_cfa851e8_a18f_11ea_a0a2_f0d4e2f89142row32_col0\" class=\"data row32 col0\" >No_Of_Orders</td>\n",
       "                        <td id=\"T_cfa851e8_a18f_11ea_a0a2_f0d4e2f89142row32_col1\" class=\"data row32 col1\" > Number of Orders the rider has delivered</td>\n",
       "            </tr>\n",
       "            <tr>\n",
       "                        <th id=\"T_cfa851e8_a18f_11ea_a0a2_f0d4e2f89142level0_row33\" class=\"row_heading level0 row33\" >33</th>\n",
       "                        <td id=\"T_cfa851e8_a18f_11ea_a0a2_f0d4e2f89142row33_col0\" class=\"data row33 col0\" >Age</td>\n",
       "                        <td id=\"T_cfa851e8_a18f_11ea_a0a2_f0d4e2f89142row33_col1\" class=\"data row33 col1\" >Number of days since the rider delivered the first order</td>\n",
       "            </tr>\n",
       "            <tr>\n",
       "                        <th id=\"T_cfa851e8_a18f_11ea_a0a2_f0d4e2f89142level0_row34\" class=\"row_heading level0 row34\" >34</th>\n",
       "                        <td id=\"T_cfa851e8_a18f_11ea_a0a2_f0d4e2f89142row34_col0\" class=\"data row34 col0\" >Average_Rating</td>\n",
       "                        <td id=\"T_cfa851e8_a18f_11ea_a0a2_f0d4e2f89142row34_col1\" class=\"data row34 col1\" >Average rating of the rider</td>\n",
       "            </tr>\n",
       "            <tr>\n",
       "                        <th id=\"T_cfa851e8_a18f_11ea_a0a2_f0d4e2f89142level0_row35\" class=\"row_heading level0 row35\" >35</th>\n",
       "                        <td id=\"T_cfa851e8_a18f_11ea_a0a2_f0d4e2f89142row35_col0\" class=\"data row35 col0\" >No_of_Ratings</td>\n",
       "                        <td id=\"T_cfa851e8_a18f_11ea_a0a2_f0d4e2f89142row35_col1\" class=\"data row35 col1\" > Number of ratings the rider has received. Rating an order is optional for the customer.</td>\n",
       "            </tr>\n",
       "    </tbody></table>"
      ],
      "text/plain": [
       "<pandas.io.formats.style.Styler at 0x2d5ddef11c8>"
      ]
     },
     "execution_count": 380,
     "metadata": {},
     "output_type": "execute_result"
    }
   ],
   "source": [
    "# Importing the VariableDefinitions.csv file from github as a Pandas DataFrame.\n",
    "# Creating new column names for the Pandas DataFrame.\n",
    "baseline_vardefinitions = pd.read_csv(\n",
    "    \"https://raw.githubusercontent.com/thembeks/Regression-Sendy-Logistics-Challenge-Team-14/Predict/VariableDefinitions.csv\", \n",
    "    names=['Column_Name', 'Description'])\n",
    "\n",
    "# Set the Pandas DataFrame style to display all the contents within the columns.\n",
    "baseline_vardefinitions.style.set_properties(\n",
    "    subset=['Description'], **{'width': '600px'})"
   ]
  },
  {
   "cell_type": "markdown",
   "metadata": {
    "hidden": true
   },
   "source": [
    "> **Rider DataFrame**\n",
    "\n",
    "The Rider Dataframe lists all the riders that have delivered orders for Sendy and any information pertaining to that particular rider."
   ]
  },
  {
   "cell_type": "code",
   "execution_count": 381,
   "metadata": {
    "hidden": true
   },
   "outputs": [
    {
     "data": {
      "text/html": [
       "<div>\n",
       "<style scoped>\n",
       "    .dataframe tbody tr th:only-of-type {\n",
       "        vertical-align: middle;\n",
       "    }\n",
       "\n",
       "    .dataframe tbody tr th {\n",
       "        vertical-align: top;\n",
       "    }\n",
       "\n",
       "    .dataframe thead th {\n",
       "        text-align: right;\n",
       "    }\n",
       "</style>\n",
       "<table border=\"1\" class=\"dataframe\">\n",
       "  <thead>\n",
       "    <tr style=\"text-align: right;\">\n",
       "      <th></th>\n",
       "      <th>No_Of_Orders</th>\n",
       "      <th>Age</th>\n",
       "      <th>Average_Rating</th>\n",
       "      <th>No_of_Ratings</th>\n",
       "    </tr>\n",
       "    <tr>\n",
       "      <th>Rider Id</th>\n",
       "      <th></th>\n",
       "      <th></th>\n",
       "      <th></th>\n",
       "      <th></th>\n",
       "    </tr>\n",
       "  </thead>\n",
       "  <tbody>\n",
       "    <tr>\n",
       "      <td>Rider_Id_396</td>\n",
       "      <td>2946</td>\n",
       "      <td>2298</td>\n",
       "      <td>14.0</td>\n",
       "      <td>1159</td>\n",
       "    </tr>\n",
       "    <tr>\n",
       "      <td>Rider_Id_479</td>\n",
       "      <td>360</td>\n",
       "      <td>951</td>\n",
       "      <td>13.5</td>\n",
       "      <td>176</td>\n",
       "    </tr>\n",
       "    <tr>\n",
       "      <td>Rider_Id_648</td>\n",
       "      <td>1746</td>\n",
       "      <td>821</td>\n",
       "      <td>14.3</td>\n",
       "      <td>466</td>\n",
       "    </tr>\n",
       "    <tr>\n",
       "      <td>Rider_Id_753</td>\n",
       "      <td>314</td>\n",
       "      <td>980</td>\n",
       "      <td>12.5</td>\n",
       "      <td>75</td>\n",
       "    </tr>\n",
       "    <tr>\n",
       "      <td>Rider_Id_335</td>\n",
       "      <td>536</td>\n",
       "      <td>1113</td>\n",
       "      <td>13.7</td>\n",
       "      <td>156</td>\n",
       "    </tr>\n",
       "    <tr>\n",
       "      <td>Rider_Id_720</td>\n",
       "      <td>2608</td>\n",
       "      <td>1798</td>\n",
       "      <td>13.2</td>\n",
       "      <td>504</td>\n",
       "    </tr>\n",
       "    <tr>\n",
       "      <td>Rider_Id_95</td>\n",
       "      <td>3464</td>\n",
       "      <td>1304</td>\n",
       "      <td>13.4</td>\n",
       "      <td>950</td>\n",
       "    </tr>\n",
       "    <tr>\n",
       "      <td>Rider_Id_122</td>\n",
       "      <td>4831</td>\n",
       "      <td>2124</td>\n",
       "      <td>14.1</td>\n",
       "      <td>1469</td>\n",
       "    </tr>\n",
       "    <tr>\n",
       "      <td>Rider_Id_900</td>\n",
       "      <td>1936</td>\n",
       "      <td>1436</td>\n",
       "      <td>14.2</td>\n",
       "      <td>610</td>\n",
       "    </tr>\n",
       "    <tr>\n",
       "      <td>Rider_Id_196</td>\n",
       "      <td>550</td>\n",
       "      <td>2379</td>\n",
       "      <td>13.4</td>\n",
       "      <td>224</td>\n",
       "    </tr>\n",
       "  </tbody>\n",
       "</table>\n",
       "</div>"
      ],
      "text/plain": [
       "              No_Of_Orders   Age  Average_Rating  No_of_Ratings\n",
       "Rider Id                                                       \n",
       "Rider_Id_396          2946  2298            14.0           1159\n",
       "Rider_Id_479           360   951            13.5            176\n",
       "Rider_Id_648          1746   821            14.3            466\n",
       "Rider_Id_753           314   980            12.5             75\n",
       "Rider_Id_335           536  1113            13.7            156\n",
       "Rider_Id_720          2608  1798            13.2            504\n",
       "Rider_Id_95           3464  1304            13.4            950\n",
       "Rider_Id_122          4831  2124            14.1           1469\n",
       "Rider_Id_900          1936  1436            14.2            610\n",
       "Rider_Id_196           550  2379            13.4            224"
      ]
     },
     "execution_count": 381,
     "metadata": {},
     "output_type": "execute_result"
    }
   ],
   "source": [
    "# Importing the Riders.csv file from github as a Pandas DataFrame and setting the RiderId as the index.\n",
    "baseline_rider = pd.read_csv(\n",
    "    'https://raw.githubusercontent.com/thembeks/Regression-Sendy-Logistics-Challenge-Team-14/Predict/Riders.csv', \n",
    "    index_col= 0)\n",
    "\n",
    "# Replacing all the blank spaces between words in the column names with an underscore.\n",
    "baseline_rider.columns = [col.replace(' ', '_')\n",
    "                          for col in baseline_rider.columns]\n",
    "\n",
    "# Displays the first 10 rows of the rider DataFrame to show the layout of the DataFrame.\n",
    "baseline_rider.head(10)\n"
   ]
  },
  {
   "cell_type": "code",
   "execution_count": 382,
   "metadata": {
    "hidden": true
   },
   "outputs": [
    {
     "name": "stdout",
     "output_type": "stream",
     "text": [
      "<class 'pandas.core.frame.DataFrame'>\n",
      "Index: 960 entries, Rider_Id_396 to Rider_Id_904\n",
      "Data columns (total 4 columns):\n",
      "No_Of_Orders      960 non-null int64\n",
      "Age               960 non-null int64\n",
      "Average_Rating    960 non-null float64\n",
      "No_of_Ratings     960 non-null int64\n",
      "dtypes: float64(1), int64(3)\n",
      "memory usage: 37.5+ KB\n"
     ]
    },
    {
     "data": {
      "text/plain": [
       "(960, 4)"
      ]
     },
     "execution_count": 382,
     "metadata": {},
     "output_type": "execute_result"
    }
   ],
   "source": [
    "# A Pandas method that prints the information about a DataFrame.\n",
    "# The information printed: the index dtype,column dtypes, non-null values and memory usage.\n",
    "baseline_rider.info()\n",
    "\n",
    "# Returns a tuple representing the dimensionality of the DataFrame.\n",
    "baseline_rider.shape\n"
   ]
  },
  {
   "cell_type": "markdown",
   "metadata": {
    "hidden": true
   },
   "source": [
    "> **Training set DataFrame**\n",
    "\n",
    "Most of the modelling will be done with this dataframe to get a prediction of the arrival time for motorbike deliveries in Nairobi."
   ]
  },
  {
   "cell_type": "code",
   "execution_count": 383,
   "metadata": {
    "hidden": true
   },
   "outputs": [
    {
     "data": {
      "text/html": [
       "<div>\n",
       "<style scoped>\n",
       "    .dataframe tbody tr th:only-of-type {\n",
       "        vertical-align: middle;\n",
       "    }\n",
       "\n",
       "    .dataframe tbody tr th {\n",
       "        vertical-align: top;\n",
       "    }\n",
       "\n",
       "    .dataframe thead th {\n",
       "        text-align: right;\n",
       "    }\n",
       "</style>\n",
       "<table border=\"1\" class=\"dataframe\">\n",
       "  <thead>\n",
       "    <tr style=\"text-align: right;\">\n",
       "      <th></th>\n",
       "      <th>User_Id</th>\n",
       "      <th>Vehicle_Type</th>\n",
       "      <th>Platform_Type</th>\n",
       "      <th>Personal_or_Business</th>\n",
       "      <th>Placement_-_Day_of_Month</th>\n",
       "      <th>Placement_-_Weekday_(Mo_=_1)</th>\n",
       "      <th>Placement_-_Time</th>\n",
       "      <th>Confirmation_-_Day_of_Month</th>\n",
       "      <th>Confirmation_-_Weekday_(Mo_=_1)</th>\n",
       "      <th>Confirmation_-_Time</th>\n",
       "      <th>...</th>\n",
       "      <th>Arrival_at_Destination_-_Time</th>\n",
       "      <th>Distance_(KM)</th>\n",
       "      <th>Temperature</th>\n",
       "      <th>Precipitation_in_millimeters</th>\n",
       "      <th>Pickup_Lat</th>\n",
       "      <th>Pickup_Long</th>\n",
       "      <th>Destination_Lat</th>\n",
       "      <th>Destination_Long</th>\n",
       "      <th>Rider_Id</th>\n",
       "      <th>Time_from_Pickup_to_Arrival</th>\n",
       "    </tr>\n",
       "    <tr>\n",
       "      <th>Order No</th>\n",
       "      <th></th>\n",
       "      <th></th>\n",
       "      <th></th>\n",
       "      <th></th>\n",
       "      <th></th>\n",
       "      <th></th>\n",
       "      <th></th>\n",
       "      <th></th>\n",
       "      <th></th>\n",
       "      <th></th>\n",
       "      <th></th>\n",
       "      <th></th>\n",
       "      <th></th>\n",
       "      <th></th>\n",
       "      <th></th>\n",
       "      <th></th>\n",
       "      <th></th>\n",
       "      <th></th>\n",
       "      <th></th>\n",
       "      <th></th>\n",
       "      <th></th>\n",
       "    </tr>\n",
       "  </thead>\n",
       "  <tbody>\n",
       "    <tr>\n",
       "      <td>Order_No_4211</td>\n",
       "      <td>User_Id_633</td>\n",
       "      <td>Bike</td>\n",
       "      <td>3</td>\n",
       "      <td>Business</td>\n",
       "      <td>9</td>\n",
       "      <td>5</td>\n",
       "      <td>9:35:46 AM</td>\n",
       "      <td>9</td>\n",
       "      <td>5</td>\n",
       "      <td>9:40:10 AM</td>\n",
       "      <td>...</td>\n",
       "      <td>10:39:55 AM</td>\n",
       "      <td>4</td>\n",
       "      <td>20.4</td>\n",
       "      <td>NaN</td>\n",
       "      <td>-1.317755</td>\n",
       "      <td>36.830370</td>\n",
       "      <td>-1.300406</td>\n",
       "      <td>36.829741</td>\n",
       "      <td>Rider_Id_432</td>\n",
       "      <td>745</td>\n",
       "    </tr>\n",
       "    <tr>\n",
       "      <td>Order_No_25375</td>\n",
       "      <td>User_Id_2285</td>\n",
       "      <td>Bike</td>\n",
       "      <td>3</td>\n",
       "      <td>Personal</td>\n",
       "      <td>12</td>\n",
       "      <td>5</td>\n",
       "      <td>11:16:16 AM</td>\n",
       "      <td>12</td>\n",
       "      <td>5</td>\n",
       "      <td>11:23:21 AM</td>\n",
       "      <td>...</td>\n",
       "      <td>12:17:22 PM</td>\n",
       "      <td>16</td>\n",
       "      <td>26.4</td>\n",
       "      <td>NaN</td>\n",
       "      <td>-1.351453</td>\n",
       "      <td>36.899315</td>\n",
       "      <td>-1.295004</td>\n",
       "      <td>36.814358</td>\n",
       "      <td>Rider_Id_856</td>\n",
       "      <td>1993</td>\n",
       "    </tr>\n",
       "    <tr>\n",
       "      <td>Order_No_1899</td>\n",
       "      <td>User_Id_265</td>\n",
       "      <td>Bike</td>\n",
       "      <td>3</td>\n",
       "      <td>Business</td>\n",
       "      <td>30</td>\n",
       "      <td>2</td>\n",
       "      <td>12:39:25 PM</td>\n",
       "      <td>30</td>\n",
       "      <td>2</td>\n",
       "      <td>12:42:44 PM</td>\n",
       "      <td>...</td>\n",
       "      <td>1:00:38 PM</td>\n",
       "      <td>3</td>\n",
       "      <td>NaN</td>\n",
       "      <td>NaN</td>\n",
       "      <td>-1.308284</td>\n",
       "      <td>36.843419</td>\n",
       "      <td>-1.300921</td>\n",
       "      <td>36.828195</td>\n",
       "      <td>Rider_Id_155</td>\n",
       "      <td>455</td>\n",
       "    </tr>\n",
       "    <tr>\n",
       "      <td>Order_No_9336</td>\n",
       "      <td>User_Id_1402</td>\n",
       "      <td>Bike</td>\n",
       "      <td>3</td>\n",
       "      <td>Business</td>\n",
       "      <td>15</td>\n",
       "      <td>5</td>\n",
       "      <td>9:25:34 AM</td>\n",
       "      <td>15</td>\n",
       "      <td>5</td>\n",
       "      <td>9:26:05 AM</td>\n",
       "      <td>...</td>\n",
       "      <td>10:05:27 AM</td>\n",
       "      <td>9</td>\n",
       "      <td>19.2</td>\n",
       "      <td>NaN</td>\n",
       "      <td>-1.281301</td>\n",
       "      <td>36.832396</td>\n",
       "      <td>-1.257147</td>\n",
       "      <td>36.795063</td>\n",
       "      <td>Rider_Id_855</td>\n",
       "      <td>1341</td>\n",
       "    </tr>\n",
       "    <tr>\n",
       "      <td>Order_No_27883</td>\n",
       "      <td>User_Id_1737</td>\n",
       "      <td>Bike</td>\n",
       "      <td>1</td>\n",
       "      <td>Personal</td>\n",
       "      <td>13</td>\n",
       "      <td>1</td>\n",
       "      <td>9:55:18 AM</td>\n",
       "      <td>13</td>\n",
       "      <td>1</td>\n",
       "      <td>9:56:18 AM</td>\n",
       "      <td>...</td>\n",
       "      <td>10:25:37 AM</td>\n",
       "      <td>9</td>\n",
       "      <td>15.4</td>\n",
       "      <td>NaN</td>\n",
       "      <td>-1.266597</td>\n",
       "      <td>36.792118</td>\n",
       "      <td>-1.295041</td>\n",
       "      <td>36.809817</td>\n",
       "      <td>Rider_Id_770</td>\n",
       "      <td>1214</td>\n",
       "    </tr>\n",
       "    <tr>\n",
       "      <td>Order_No_7408</td>\n",
       "      <td>User_Id_1342</td>\n",
       "      <td>Bike</td>\n",
       "      <td>3</td>\n",
       "      <td>Business</td>\n",
       "      <td>14</td>\n",
       "      <td>5</td>\n",
       "      <td>3:07:35 PM</td>\n",
       "      <td>14</td>\n",
       "      <td>5</td>\n",
       "      <td>3:08:57 PM</td>\n",
       "      <td>...</td>\n",
       "      <td>4:23:41 PM</td>\n",
       "      <td>9</td>\n",
       "      <td>27.2</td>\n",
       "      <td>NaN</td>\n",
       "      <td>-1.302583</td>\n",
       "      <td>36.767081</td>\n",
       "      <td>-1.257309</td>\n",
       "      <td>36.806008</td>\n",
       "      <td>Rider_Id_124</td>\n",
       "      <td>3191</td>\n",
       "    </tr>\n",
       "    <tr>\n",
       "      <td>Order_No_22680</td>\n",
       "      <td>User_Id_2803</td>\n",
       "      <td>Bike</td>\n",
       "      <td>3</td>\n",
       "      <td>Business</td>\n",
       "      <td>9</td>\n",
       "      <td>5</td>\n",
       "      <td>9:33:45 AM</td>\n",
       "      <td>9</td>\n",
       "      <td>5</td>\n",
       "      <td>9:49:47 AM</td>\n",
       "      <td>...</td>\n",
       "      <td>10:19:45 AM</td>\n",
       "      <td>5</td>\n",
       "      <td>20.3</td>\n",
       "      <td>NaN</td>\n",
       "      <td>-1.279395</td>\n",
       "      <td>36.825364</td>\n",
       "      <td>-1.276574</td>\n",
       "      <td>36.851365</td>\n",
       "      <td>Rider_Id_114</td>\n",
       "      <td>1380</td>\n",
       "    </tr>\n",
       "    <tr>\n",
       "      <td>Order_No_21578</td>\n",
       "      <td>User_Id_1075</td>\n",
       "      <td>Bike</td>\n",
       "      <td>3</td>\n",
       "      <td>Business</td>\n",
       "      <td>11</td>\n",
       "      <td>1</td>\n",
       "      <td>2:13:01 PM</td>\n",
       "      <td>11</td>\n",
       "      <td>1</td>\n",
       "      <td>2:14:13 PM</td>\n",
       "      <td>...</td>\n",
       "      <td>2:33:26 PM</td>\n",
       "      <td>3</td>\n",
       "      <td>28.7</td>\n",
       "      <td>NaN</td>\n",
       "      <td>-1.252796</td>\n",
       "      <td>36.800313</td>\n",
       "      <td>-1.255189</td>\n",
       "      <td>36.782203</td>\n",
       "      <td>Rider_Id_913</td>\n",
       "      <td>646</td>\n",
       "    </tr>\n",
       "    <tr>\n",
       "      <td>Order_No_5234</td>\n",
       "      <td>User_Id_733</td>\n",
       "      <td>Bike</td>\n",
       "      <td>3</td>\n",
       "      <td>Business</td>\n",
       "      <td>30</td>\n",
       "      <td>2</td>\n",
       "      <td>11:10:44 AM</td>\n",
       "      <td>30</td>\n",
       "      <td>2</td>\n",
       "      <td>11:15:49 AM</td>\n",
       "      <td>...</td>\n",
       "      <td>1:19:35 PM</td>\n",
       "      <td>9</td>\n",
       "      <td>NaN</td>\n",
       "      <td>NaN</td>\n",
       "      <td>-1.255189</td>\n",
       "      <td>36.782203</td>\n",
       "      <td>-1.300255</td>\n",
       "      <td>36.825657</td>\n",
       "      <td>Rider_Id_394</td>\n",
       "      <td>3398</td>\n",
       "    </tr>\n",
       "    <tr>\n",
       "      <td>Order_No_1768</td>\n",
       "      <td>User_Id_2112</td>\n",
       "      <td>Bike</td>\n",
       "      <td>3</td>\n",
       "      <td>Business</td>\n",
       "      <td>23</td>\n",
       "      <td>5</td>\n",
       "      <td>4:48:54 PM</td>\n",
       "      <td>23</td>\n",
       "      <td>5</td>\n",
       "      <td>5:17:56 PM</td>\n",
       "      <td>...</td>\n",
       "      <td>6:31:57 PM</td>\n",
       "      <td>14</td>\n",
       "      <td>24.6</td>\n",
       "      <td>NaN</td>\n",
       "      <td>-1.225322</td>\n",
       "      <td>36.808550</td>\n",
       "      <td>-1.215601</td>\n",
       "      <td>36.891686</td>\n",
       "      <td>Rider_Id_660</td>\n",
       "      <td>3439</td>\n",
       "    </tr>\n",
       "  </tbody>\n",
       "</table>\n",
       "<p>10 rows × 28 columns</p>\n",
       "</div>"
      ],
      "text/plain": [
       "                     User_Id Vehicle_Type  Platform_Type Personal_or_Business  \\\n",
       "Order No                                                                        \n",
       "Order_No_4211    User_Id_633         Bike              3             Business   \n",
       "Order_No_25375  User_Id_2285         Bike              3             Personal   \n",
       "Order_No_1899    User_Id_265         Bike              3             Business   \n",
       "Order_No_9336   User_Id_1402         Bike              3             Business   \n",
       "Order_No_27883  User_Id_1737         Bike              1             Personal   \n",
       "Order_No_7408   User_Id_1342         Bike              3             Business   \n",
       "Order_No_22680  User_Id_2803         Bike              3             Business   \n",
       "Order_No_21578  User_Id_1075         Bike              3             Business   \n",
       "Order_No_5234    User_Id_733         Bike              3             Business   \n",
       "Order_No_1768   User_Id_2112         Bike              3             Business   \n",
       "\n",
       "                Placement_-_Day_of_Month  Placement_-_Weekday_(Mo_=_1)  \\\n",
       "Order No                                                                 \n",
       "Order_No_4211                          9                             5   \n",
       "Order_No_25375                        12                             5   \n",
       "Order_No_1899                         30                             2   \n",
       "Order_No_9336                         15                             5   \n",
       "Order_No_27883                        13                             1   \n",
       "Order_No_7408                         14                             5   \n",
       "Order_No_22680                         9                             5   \n",
       "Order_No_21578                        11                             1   \n",
       "Order_No_5234                         30                             2   \n",
       "Order_No_1768                         23                             5   \n",
       "\n",
       "               Placement_-_Time  Confirmation_-_Day_of_Month  \\\n",
       "Order No                                                       \n",
       "Order_No_4211        9:35:46 AM                            9   \n",
       "Order_No_25375      11:16:16 AM                           12   \n",
       "Order_No_1899       12:39:25 PM                           30   \n",
       "Order_No_9336        9:25:34 AM                           15   \n",
       "Order_No_27883       9:55:18 AM                           13   \n",
       "Order_No_7408        3:07:35 PM                           14   \n",
       "Order_No_22680       9:33:45 AM                            9   \n",
       "Order_No_21578       2:13:01 PM                           11   \n",
       "Order_No_5234       11:10:44 AM                           30   \n",
       "Order_No_1768        4:48:54 PM                           23   \n",
       "\n",
       "                Confirmation_-_Weekday_(Mo_=_1) Confirmation_-_Time  ...  \\\n",
       "Order No                                                             ...   \n",
       "Order_No_4211                                 5          9:40:10 AM  ...   \n",
       "Order_No_25375                                5         11:23:21 AM  ...   \n",
       "Order_No_1899                                 2         12:42:44 PM  ...   \n",
       "Order_No_9336                                 5          9:26:05 AM  ...   \n",
       "Order_No_27883                                1          9:56:18 AM  ...   \n",
       "Order_No_7408                                 5          3:08:57 PM  ...   \n",
       "Order_No_22680                                5          9:49:47 AM  ...   \n",
       "Order_No_21578                                1          2:14:13 PM  ...   \n",
       "Order_No_5234                                 2         11:15:49 AM  ...   \n",
       "Order_No_1768                                 5          5:17:56 PM  ...   \n",
       "\n",
       "                Arrival_at_Destination_-_Time  Distance_(KM) Temperature  \\\n",
       "Order No                                                                   \n",
       "Order_No_4211                     10:39:55 AM              4        20.4   \n",
       "Order_No_25375                    12:17:22 PM             16        26.4   \n",
       "Order_No_1899                      1:00:38 PM              3         NaN   \n",
       "Order_No_9336                     10:05:27 AM              9        19.2   \n",
       "Order_No_27883                    10:25:37 AM              9        15.4   \n",
       "Order_No_7408                      4:23:41 PM              9        27.2   \n",
       "Order_No_22680                    10:19:45 AM              5        20.3   \n",
       "Order_No_21578                     2:33:26 PM              3        28.7   \n",
       "Order_No_5234                      1:19:35 PM              9         NaN   \n",
       "Order_No_1768                      6:31:57 PM             14        24.6   \n",
       "\n",
       "                Precipitation_in_millimeters  Pickup_Lat Pickup_Long  \\\n",
       "Order No                                                               \n",
       "Order_No_4211                            NaN   -1.317755   36.830370   \n",
       "Order_No_25375                           NaN   -1.351453   36.899315   \n",
       "Order_No_1899                            NaN   -1.308284   36.843419   \n",
       "Order_No_9336                            NaN   -1.281301   36.832396   \n",
       "Order_No_27883                           NaN   -1.266597   36.792118   \n",
       "Order_No_7408                            NaN   -1.302583   36.767081   \n",
       "Order_No_22680                           NaN   -1.279395   36.825364   \n",
       "Order_No_21578                           NaN   -1.252796   36.800313   \n",
       "Order_No_5234                            NaN   -1.255189   36.782203   \n",
       "Order_No_1768                            NaN   -1.225322   36.808550   \n",
       "\n",
       "                Destination_Lat  Destination_Long      Rider_Id  \\\n",
       "Order No                                                          \n",
       "Order_No_4211         -1.300406         36.829741  Rider_Id_432   \n",
       "Order_No_25375        -1.295004         36.814358  Rider_Id_856   \n",
       "Order_No_1899         -1.300921         36.828195  Rider_Id_155   \n",
       "Order_No_9336         -1.257147         36.795063  Rider_Id_855   \n",
       "Order_No_27883        -1.295041         36.809817  Rider_Id_770   \n",
       "Order_No_7408         -1.257309         36.806008  Rider_Id_124   \n",
       "Order_No_22680        -1.276574         36.851365  Rider_Id_114   \n",
       "Order_No_21578        -1.255189         36.782203  Rider_Id_913   \n",
       "Order_No_5234         -1.300255         36.825657  Rider_Id_394   \n",
       "Order_No_1768         -1.215601         36.891686  Rider_Id_660   \n",
       "\n",
       "                Time_from_Pickup_to_Arrival  \n",
       "Order No                                     \n",
       "Order_No_4211                           745  \n",
       "Order_No_25375                         1993  \n",
       "Order_No_1899                           455  \n",
       "Order_No_9336                          1341  \n",
       "Order_No_27883                         1214  \n",
       "Order_No_7408                          3191  \n",
       "Order_No_22680                         1380  \n",
       "Order_No_21578                          646  \n",
       "Order_No_5234                          3398  \n",
       "Order_No_1768                          3439  \n",
       "\n",
       "[10 rows x 28 columns]"
      ]
     },
     "execution_count": 383,
     "metadata": {},
     "output_type": "execute_result"
    }
   ],
   "source": [
    "# Importing the Train.csv file from github as a Pandas DataFrame and setting the OrderNo as the index.\n",
    "baseline_train = pd.read_csv(\n",
    "    'https://raw.githubusercontent.com/thembeks/Regression-Sendy-Logistics-Challenge-Team-14/Predict/Train.csv',\n",
    "    index_col= 0)\n",
    "\n",
    "# Replacing all the blank spaces between words in the column names with an underscore.\n",
    "baseline_train.columns = [col.replace(' ', '_')\n",
    "                          for col in baseline_train.columns]\n",
    "\n",
    "# Displays the first 10 rows of the rider DataFrame to show the layout of the DataFrame.\n",
    "baseline_train.head(10)\n"
   ]
  },
  {
   "cell_type": "code",
   "execution_count": 384,
   "metadata": {
    "hidden": true
   },
   "outputs": [
    {
     "name": "stdout",
     "output_type": "stream",
     "text": [
      "<class 'pandas.core.frame.DataFrame'>\n",
      "Index: 21201 entries, Order_No_4211 to Order_No_9836\n",
      "Data columns (total 28 columns):\n",
      "User_Id                                      21201 non-null object\n",
      "Vehicle_Type                                 21201 non-null object\n",
      "Platform_Type                                21201 non-null int64\n",
      "Personal_or_Business                         21201 non-null object\n",
      "Placement_-_Day_of_Month                     21201 non-null int64\n",
      "Placement_-_Weekday_(Mo_=_1)                 21201 non-null int64\n",
      "Placement_-_Time                             21201 non-null object\n",
      "Confirmation_-_Day_of_Month                  21201 non-null int64\n",
      "Confirmation_-_Weekday_(Mo_=_1)              21201 non-null int64\n",
      "Confirmation_-_Time                          21201 non-null object\n",
      "Arrival_at_Pickup_-_Day_of_Month             21201 non-null int64\n",
      "Arrival_at_Pickup_-_Weekday_(Mo_=_1)         21201 non-null int64\n",
      "Arrival_at_Pickup_-_Time                     21201 non-null object\n",
      "Pickup_-_Day_of_Month                        21201 non-null int64\n",
      "Pickup_-_Weekday_(Mo_=_1)                    21201 non-null int64\n",
      "Pickup_-_Time                                21201 non-null object\n",
      "Arrival_at_Destination_-_Day_of_Month        21201 non-null int64\n",
      "Arrival_at_Destination_-_Weekday_(Mo_=_1)    21201 non-null int64\n",
      "Arrival_at_Destination_-_Time                21201 non-null object\n",
      "Distance_(KM)                                21201 non-null int64\n",
      "Temperature                                  16835 non-null float64\n",
      "Precipitation_in_millimeters                 552 non-null float64\n",
      "Pickup_Lat                                   21201 non-null float64\n",
      "Pickup_Long                                  21201 non-null float64\n",
      "Destination_Lat                              21201 non-null float64\n",
      "Destination_Long                             21201 non-null float64\n",
      "Rider_Id                                     21201 non-null object\n",
      "Time_from_Pickup_to_Arrival                  21201 non-null int64\n",
      "dtypes: float64(6), int64(13), object(9)\n",
      "memory usage: 4.7+ MB\n"
     ]
    },
    {
     "data": {
      "text/plain": [
       "(21201, 28)"
      ]
     },
     "execution_count": 384,
     "metadata": {},
     "output_type": "execute_result"
    }
   ],
   "source": [
    "# A Pandas method that prints the information about a DataFrame.\n",
    "# The information printed: the index dtype,column dtypes, non-null values and memory usage.\n",
    "baseline_train.info()\n",
    "\n",
    "# Returns a tuple representing the dimensionality of the DataFrame.\n",
    "baseline_train.shape\n"
   ]
  },
  {
   "cell_type": "markdown",
   "metadata": {
    "hidden": true
   },
   "source": [
    "> **Testing set DataFrame**"
   ]
  },
  {
   "cell_type": "code",
   "execution_count": 385,
   "metadata": {
    "hidden": true
   },
   "outputs": [
    {
     "data": {
      "text/html": [
       "<div>\n",
       "<style scoped>\n",
       "    .dataframe tbody tr th:only-of-type {\n",
       "        vertical-align: middle;\n",
       "    }\n",
       "\n",
       "    .dataframe tbody tr th {\n",
       "        vertical-align: top;\n",
       "    }\n",
       "\n",
       "    .dataframe thead th {\n",
       "        text-align: right;\n",
       "    }\n",
       "</style>\n",
       "<table border=\"1\" class=\"dataframe\">\n",
       "  <thead>\n",
       "    <tr style=\"text-align: right;\">\n",
       "      <th></th>\n",
       "      <th>User_Id</th>\n",
       "      <th>Vehicle_Type</th>\n",
       "      <th>Platform_Type</th>\n",
       "      <th>Personal_or_Business</th>\n",
       "      <th>Placement_-_Day_of_Month</th>\n",
       "      <th>Placement_-_Weekday_(Mo_=_1)</th>\n",
       "      <th>Placement_-_Time</th>\n",
       "      <th>Confirmation_-_Day_of_Month</th>\n",
       "      <th>Confirmation_-_Weekday_(Mo_=_1)</th>\n",
       "      <th>Confirmation_-_Time</th>\n",
       "      <th>...</th>\n",
       "      <th>Pickup_-_Weekday_(Mo_=_1)</th>\n",
       "      <th>Pickup_-_Time</th>\n",
       "      <th>Distance_(KM)</th>\n",
       "      <th>Temperature</th>\n",
       "      <th>Precipitation_in_millimeters</th>\n",
       "      <th>Pickup_Lat</th>\n",
       "      <th>Pickup_Long</th>\n",
       "      <th>Destination_Lat</th>\n",
       "      <th>Destination_Long</th>\n",
       "      <th>Rider_Id</th>\n",
       "    </tr>\n",
       "    <tr>\n",
       "      <th>Order No</th>\n",
       "      <th></th>\n",
       "      <th></th>\n",
       "      <th></th>\n",
       "      <th></th>\n",
       "      <th></th>\n",
       "      <th></th>\n",
       "      <th></th>\n",
       "      <th></th>\n",
       "      <th></th>\n",
       "      <th></th>\n",
       "      <th></th>\n",
       "      <th></th>\n",
       "      <th></th>\n",
       "      <th></th>\n",
       "      <th></th>\n",
       "      <th></th>\n",
       "      <th></th>\n",
       "      <th></th>\n",
       "      <th></th>\n",
       "      <th></th>\n",
       "      <th></th>\n",
       "    </tr>\n",
       "  </thead>\n",
       "  <tbody>\n",
       "    <tr>\n",
       "      <td>Order_No_19248</td>\n",
       "      <td>User_Id_3355</td>\n",
       "      <td>Bike</td>\n",
       "      <td>3</td>\n",
       "      <td>Business</td>\n",
       "      <td>27</td>\n",
       "      <td>3</td>\n",
       "      <td>4:44:10 PM</td>\n",
       "      <td>27</td>\n",
       "      <td>3</td>\n",
       "      <td>4:44:29 PM</td>\n",
       "      <td>...</td>\n",
       "      <td>3</td>\n",
       "      <td>5:06:47 PM</td>\n",
       "      <td>8</td>\n",
       "      <td>NaN</td>\n",
       "      <td>NaN</td>\n",
       "      <td>-1.333275</td>\n",
       "      <td>36.870815</td>\n",
       "      <td>-1.305249</td>\n",
       "      <td>36.822390</td>\n",
       "      <td>Rider_Id_192</td>\n",
       "    </tr>\n",
       "    <tr>\n",
       "      <td>Order_No_12736</td>\n",
       "      <td>User_Id_3647</td>\n",
       "      <td>Bike</td>\n",
       "      <td>3</td>\n",
       "      <td>Business</td>\n",
       "      <td>17</td>\n",
       "      <td>5</td>\n",
       "      <td>12:57:35 PM</td>\n",
       "      <td>17</td>\n",
       "      <td>5</td>\n",
       "      <td>12:59:17 PM</td>\n",
       "      <td>...</td>\n",
       "      <td>5</td>\n",
       "      <td>1:25:37 PM</td>\n",
       "      <td>5</td>\n",
       "      <td>NaN</td>\n",
       "      <td>NaN</td>\n",
       "      <td>-1.272639</td>\n",
       "      <td>36.794723</td>\n",
       "      <td>-1.277007</td>\n",
       "      <td>36.823907</td>\n",
       "      <td>Rider_Id_868</td>\n",
       "    </tr>\n",
       "    <tr>\n",
       "      <td>Order_No_768</td>\n",
       "      <td>User_Id_2154</td>\n",
       "      <td>Bike</td>\n",
       "      <td>3</td>\n",
       "      <td>Business</td>\n",
       "      <td>27</td>\n",
       "      <td>4</td>\n",
       "      <td>11:08:14 AM</td>\n",
       "      <td>27</td>\n",
       "      <td>4</td>\n",
       "      <td>11:25:05 AM</td>\n",
       "      <td>...</td>\n",
       "      <td>4</td>\n",
       "      <td>11:57:54 AM</td>\n",
       "      <td>5</td>\n",
       "      <td>22.8</td>\n",
       "      <td>NaN</td>\n",
       "      <td>-1.290894</td>\n",
       "      <td>36.822971</td>\n",
       "      <td>-1.276574</td>\n",
       "      <td>36.851365</td>\n",
       "      <td>Rider_Id_26</td>\n",
       "    </tr>\n",
       "    <tr>\n",
       "      <td>Order_No_15332</td>\n",
       "      <td>User_Id_2910</td>\n",
       "      <td>Bike</td>\n",
       "      <td>3</td>\n",
       "      <td>Business</td>\n",
       "      <td>17</td>\n",
       "      <td>1</td>\n",
       "      <td>1:51:35 PM</td>\n",
       "      <td>17</td>\n",
       "      <td>1</td>\n",
       "      <td>1:53:27 PM</td>\n",
       "      <td>...</td>\n",
       "      <td>1</td>\n",
       "      <td>2:16:52 PM</td>\n",
       "      <td>5</td>\n",
       "      <td>24.5</td>\n",
       "      <td>NaN</td>\n",
       "      <td>-1.290503</td>\n",
       "      <td>36.809646</td>\n",
       "      <td>-1.303382</td>\n",
       "      <td>36.790658</td>\n",
       "      <td>Rider_Id_685</td>\n",
       "    </tr>\n",
       "    <tr>\n",
       "      <td>Order_No_21373</td>\n",
       "      <td>User_Id_1205</td>\n",
       "      <td>Bike</td>\n",
       "      <td>3</td>\n",
       "      <td>Business</td>\n",
       "      <td>11</td>\n",
       "      <td>2</td>\n",
       "      <td>11:30:28 AM</td>\n",
       "      <td>11</td>\n",
       "      <td>2</td>\n",
       "      <td>11:34:45 AM</td>\n",
       "      <td>...</td>\n",
       "      <td>2</td>\n",
       "      <td>11:56:04 AM</td>\n",
       "      <td>6</td>\n",
       "      <td>24.4</td>\n",
       "      <td>NaN</td>\n",
       "      <td>-1.281081</td>\n",
       "      <td>36.814423</td>\n",
       "      <td>-1.266467</td>\n",
       "      <td>36.792161</td>\n",
       "      <td>Rider_Id_858</td>\n",
       "    </tr>\n",
       "    <tr>\n",
       "      <td>Order_No_14573</td>\n",
       "      <td>User_Id_2338</td>\n",
       "      <td>Bike</td>\n",
       "      <td>1</td>\n",
       "      <td>Personal</td>\n",
       "      <td>13</td>\n",
       "      <td>1</td>\n",
       "      <td>6:29:29 PM</td>\n",
       "      <td>13</td>\n",
       "      <td>1</td>\n",
       "      <td>6:29:33 PM</td>\n",
       "      <td>...</td>\n",
       "      <td>1</td>\n",
       "      <td>6:39:02 PM</td>\n",
       "      <td>16</td>\n",
       "      <td>19.3</td>\n",
       "      <td>NaN</td>\n",
       "      <td>-1.256606</td>\n",
       "      <td>36.795974</td>\n",
       "      <td>-1.223983</td>\n",
       "      <td>36.898452</td>\n",
       "      <td>Rider_Id_452</td>\n",
       "    </tr>\n",
       "    <tr>\n",
       "      <td>Order_No_6731</td>\n",
       "      <td>User_Id_488</td>\n",
       "      <td>Bike</td>\n",
       "      <td>2</td>\n",
       "      <td>Personal</td>\n",
       "      <td>17</td>\n",
       "      <td>3</td>\n",
       "      <td>9:53:29 AM</td>\n",
       "      <td>17</td>\n",
       "      <td>3</td>\n",
       "      <td>9:53:50 AM</td>\n",
       "      <td>...</td>\n",
       "      <td>3</td>\n",
       "      <td>10:08:00 AM</td>\n",
       "      <td>18</td>\n",
       "      <td>20.9</td>\n",
       "      <td>NaN</td>\n",
       "      <td>-1.225272</td>\n",
       "      <td>36.875672</td>\n",
       "      <td>-1.304713</td>\n",
       "      <td>36.808955</td>\n",
       "      <td>Rider_Id_704</td>\n",
       "    </tr>\n",
       "    <tr>\n",
       "      <td>Order_No_18436</td>\n",
       "      <td>User_Id_3764</td>\n",
       "      <td>Bike</td>\n",
       "      <td>3</td>\n",
       "      <td>Business</td>\n",
       "      <td>28</td>\n",
       "      <td>4</td>\n",
       "      <td>8:51:13 AM</td>\n",
       "      <td>28</td>\n",
       "      <td>4</td>\n",
       "      <td>8:52:46 AM</td>\n",
       "      <td>...</td>\n",
       "      <td>4</td>\n",
       "      <td>8:58:53 AM</td>\n",
       "      <td>8</td>\n",
       "      <td>22.7</td>\n",
       "      <td>NaN</td>\n",
       "      <td>-1.273539</td>\n",
       "      <td>36.833775</td>\n",
       "      <td>-1.297299</td>\n",
       "      <td>36.789446</td>\n",
       "      <td>Rider_Id_62</td>\n",
       "    </tr>\n",
       "    <tr>\n",
       "      <td>Order_No_2288</td>\n",
       "      <td>User_Id_2866</td>\n",
       "      <td>Bike</td>\n",
       "      <td>3</td>\n",
       "      <td>Business</td>\n",
       "      <td>28</td>\n",
       "      <td>4</td>\n",
       "      <td>8:58:21 AM</td>\n",
       "      <td>28</td>\n",
       "      <td>4</td>\n",
       "      <td>8:58:40 AM</td>\n",
       "      <td>...</td>\n",
       "      <td>4</td>\n",
       "      <td>9:30:35 AM</td>\n",
       "      <td>8</td>\n",
       "      <td>19.4</td>\n",
       "      <td>NaN</td>\n",
       "      <td>-1.255189</td>\n",
       "      <td>36.782203</td>\n",
       "      <td>-1.285770</td>\n",
       "      <td>36.759172</td>\n",
       "      <td>Rider_Id_177</td>\n",
       "    </tr>\n",
       "    <tr>\n",
       "      <td>Order_No_9063</td>\n",
       "      <td>User_Id_1329</td>\n",
       "      <td>Bike</td>\n",
       "      <td>3</td>\n",
       "      <td>Business</td>\n",
       "      <td>4</td>\n",
       "      <td>5</td>\n",
       "      <td>4:28:28 PM</td>\n",
       "      <td>4</td>\n",
       "      <td>5</td>\n",
       "      <td>4:29:22 PM</td>\n",
       "      <td>...</td>\n",
       "      <td>5</td>\n",
       "      <td>4:44:01 PM</td>\n",
       "      <td>15</td>\n",
       "      <td>21.7</td>\n",
       "      <td>NaN</td>\n",
       "      <td>-1.273056</td>\n",
       "      <td>36.811298</td>\n",
       "      <td>-1.330552</td>\n",
       "      <td>36.714289</td>\n",
       "      <td>Rider_Id_674</td>\n",
       "    </tr>\n",
       "  </tbody>\n",
       "</table>\n",
       "<p>10 rows × 24 columns</p>\n",
       "</div>"
      ],
      "text/plain": [
       "                     User_Id Vehicle_Type  Platform_Type Personal_or_Business  \\\n",
       "Order No                                                                        \n",
       "Order_No_19248  User_Id_3355         Bike              3             Business   \n",
       "Order_No_12736  User_Id_3647         Bike              3             Business   \n",
       "Order_No_768    User_Id_2154         Bike              3             Business   \n",
       "Order_No_15332  User_Id_2910         Bike              3             Business   \n",
       "Order_No_21373  User_Id_1205         Bike              3             Business   \n",
       "Order_No_14573  User_Id_2338         Bike              1             Personal   \n",
       "Order_No_6731    User_Id_488         Bike              2             Personal   \n",
       "Order_No_18436  User_Id_3764         Bike              3             Business   \n",
       "Order_No_2288   User_Id_2866         Bike              3             Business   \n",
       "Order_No_9063   User_Id_1329         Bike              3             Business   \n",
       "\n",
       "                Placement_-_Day_of_Month  Placement_-_Weekday_(Mo_=_1)  \\\n",
       "Order No                                                                 \n",
       "Order_No_19248                        27                             3   \n",
       "Order_No_12736                        17                             5   \n",
       "Order_No_768                          27                             4   \n",
       "Order_No_15332                        17                             1   \n",
       "Order_No_21373                        11                             2   \n",
       "Order_No_14573                        13                             1   \n",
       "Order_No_6731                         17                             3   \n",
       "Order_No_18436                        28                             4   \n",
       "Order_No_2288                         28                             4   \n",
       "Order_No_9063                          4                             5   \n",
       "\n",
       "               Placement_-_Time  Confirmation_-_Day_of_Month  \\\n",
       "Order No                                                       \n",
       "Order_No_19248       4:44:10 PM                           27   \n",
       "Order_No_12736      12:57:35 PM                           17   \n",
       "Order_No_768        11:08:14 AM                           27   \n",
       "Order_No_15332       1:51:35 PM                           17   \n",
       "Order_No_21373      11:30:28 AM                           11   \n",
       "Order_No_14573       6:29:29 PM                           13   \n",
       "Order_No_6731        9:53:29 AM                           17   \n",
       "Order_No_18436       8:51:13 AM                           28   \n",
       "Order_No_2288        8:58:21 AM                           28   \n",
       "Order_No_9063        4:28:28 PM                            4   \n",
       "\n",
       "                Confirmation_-_Weekday_(Mo_=_1) Confirmation_-_Time  ...  \\\n",
       "Order No                                                             ...   \n",
       "Order_No_19248                                3          4:44:29 PM  ...   \n",
       "Order_No_12736                                5         12:59:17 PM  ...   \n",
       "Order_No_768                                  4         11:25:05 AM  ...   \n",
       "Order_No_15332                                1          1:53:27 PM  ...   \n",
       "Order_No_21373                                2         11:34:45 AM  ...   \n",
       "Order_No_14573                                1          6:29:33 PM  ...   \n",
       "Order_No_6731                                 3          9:53:50 AM  ...   \n",
       "Order_No_18436                                4          8:52:46 AM  ...   \n",
       "Order_No_2288                                 4          8:58:40 AM  ...   \n",
       "Order_No_9063                                 5          4:29:22 PM  ...   \n",
       "\n",
       "                Pickup_-_Weekday_(Mo_=_1)  Pickup_-_Time Distance_(KM)  \\\n",
       "Order No                                                                 \n",
       "Order_No_19248                          3     5:06:47 PM             8   \n",
       "Order_No_12736                          5     1:25:37 PM             5   \n",
       "Order_No_768                            4    11:57:54 AM             5   \n",
       "Order_No_15332                          1     2:16:52 PM             5   \n",
       "Order_No_21373                          2    11:56:04 AM             6   \n",
       "Order_No_14573                          1     6:39:02 PM            16   \n",
       "Order_No_6731                           3    10:08:00 AM            18   \n",
       "Order_No_18436                          4     8:58:53 AM             8   \n",
       "Order_No_2288                           4     9:30:35 AM             8   \n",
       "Order_No_9063                           5     4:44:01 PM            15   \n",
       "\n",
       "                Temperature  Precipitation_in_millimeters Pickup_Lat  \\\n",
       "Order No                                                               \n",
       "Order_No_19248          NaN                           NaN  -1.333275   \n",
       "Order_No_12736          NaN                           NaN  -1.272639   \n",
       "Order_No_768           22.8                           NaN  -1.290894   \n",
       "Order_No_15332         24.5                           NaN  -1.290503   \n",
       "Order_No_21373         24.4                           NaN  -1.281081   \n",
       "Order_No_14573         19.3                           NaN  -1.256606   \n",
       "Order_No_6731          20.9                           NaN  -1.225272   \n",
       "Order_No_18436         22.7                           NaN  -1.273539   \n",
       "Order_No_2288          19.4                           NaN  -1.255189   \n",
       "Order_No_9063          21.7                           NaN  -1.273056   \n",
       "\n",
       "                Pickup_Long  Destination_Lat  Destination_Long      Rider_Id  \n",
       "Order No                                                                      \n",
       "Order_No_19248    36.870815        -1.305249         36.822390  Rider_Id_192  \n",
       "Order_No_12736    36.794723        -1.277007         36.823907  Rider_Id_868  \n",
       "Order_No_768      36.822971        -1.276574         36.851365   Rider_Id_26  \n",
       "Order_No_15332    36.809646        -1.303382         36.790658  Rider_Id_685  \n",
       "Order_No_21373    36.814423        -1.266467         36.792161  Rider_Id_858  \n",
       "Order_No_14573    36.795974        -1.223983         36.898452  Rider_Id_452  \n",
       "Order_No_6731     36.875672        -1.304713         36.808955  Rider_Id_704  \n",
       "Order_No_18436    36.833775        -1.297299         36.789446   Rider_Id_62  \n",
       "Order_No_2288     36.782203        -1.285770         36.759172  Rider_Id_177  \n",
       "Order_No_9063     36.811298        -1.330552         36.714289  Rider_Id_674  \n",
       "\n",
       "[10 rows x 24 columns]"
      ]
     },
     "execution_count": 385,
     "metadata": {},
     "output_type": "execute_result"
    }
   ],
   "source": [
    "# Importing the Test.csv file from github as a Pandas DataFrame and setting the OrderNo as the index.\n",
    "baseline_test = pd.read_csv(\n",
    "    'https://raw.githubusercontent.com/thembeks/Regression-Sendy-Logistics-Challenge-Team-14/Predict/Test.csv', \n",
    "    index_col= 0)\n",
    "\n",
    "# Replacing all the blank spaces between words in the column names with an underscore.\n",
    "baseline_test.columns = [col.replace(' ', '_')\n",
    "                         for col in baseline_test.columns]\n",
    "\n",
    "# Displays the first 10 rows of the rider DataFrame to show the layout of the DataFrame.\n",
    "baseline_test.head(10)\n"
   ]
  },
  {
   "cell_type": "code",
   "execution_count": 386,
   "metadata": {
    "hidden": true
   },
   "outputs": [
    {
     "name": "stdout",
     "output_type": "stream",
     "text": [
      "<class 'pandas.core.frame.DataFrame'>\n",
      "Index: 7068 entries, Order_No_19248 to Order_No_1603\n",
      "Data columns (total 24 columns):\n",
      "User_Id                                 7068 non-null object\n",
      "Vehicle_Type                            7068 non-null object\n",
      "Platform_Type                           7068 non-null int64\n",
      "Personal_or_Business                    7068 non-null object\n",
      "Placement_-_Day_of_Month                7068 non-null int64\n",
      "Placement_-_Weekday_(Mo_=_1)            7068 non-null int64\n",
      "Placement_-_Time                        7068 non-null object\n",
      "Confirmation_-_Day_of_Month             7068 non-null int64\n",
      "Confirmation_-_Weekday_(Mo_=_1)         7068 non-null int64\n",
      "Confirmation_-_Time                     7068 non-null object\n",
      "Arrival_at_Pickup_-_Day_of_Month        7068 non-null int64\n",
      "Arrival_at_Pickup_-_Weekday_(Mo_=_1)    7068 non-null int64\n",
      "Arrival_at_Pickup_-_Time                7068 non-null object\n",
      "Pickup_-_Day_of_Month                   7068 non-null int64\n",
      "Pickup_-_Weekday_(Mo_=_1)               7068 non-null int64\n",
      "Pickup_-_Time                           7068 non-null object\n",
      "Distance_(KM)                           7068 non-null int64\n",
      "Temperature                             5631 non-null float64\n",
      "Precipitation_in_millimeters            199 non-null float64\n",
      "Pickup_Lat                              7068 non-null float64\n",
      "Pickup_Long                             7068 non-null float64\n",
      "Destination_Lat                         7068 non-null float64\n",
      "Destination_Long                        7068 non-null float64\n",
      "Rider_Id                                7068 non-null object\n",
      "dtypes: float64(6), int64(10), object(8)\n",
      "memory usage: 1.3+ MB\n"
     ]
    },
    {
     "data": {
      "text/plain": [
       "(7068, 24)"
      ]
     },
     "execution_count": 386,
     "metadata": {},
     "output_type": "execute_result"
    }
   ],
   "source": [
    "# A Pandas method that prints the information about a DataFrame.\n",
    "#The information printed: the index dtype,column dtypes, non-null values and memory usage.\n",
    "baseline_test.info()\n",
    "\n",
    "#Returns a tuple representing the dimensionality of the DataFrame.\n",
    "baseline_test.shape\n"
   ]
  },
  {
   "cell_type": "markdown",
   "metadata": {
    "hidden": true
   },
   "source": [
    "> **Sample submission DataFrame**\n",
    "\n",
    "This database is the format in which we will submit our predicted test values to Zindi."
   ]
  },
  {
   "cell_type": "code",
   "execution_count": 387,
   "metadata": {
    "hidden": true
   },
   "outputs": [
    {
     "data": {
      "text/html": [
       "<div>\n",
       "<style scoped>\n",
       "    .dataframe tbody tr th:only-of-type {\n",
       "        vertical-align: middle;\n",
       "    }\n",
       "\n",
       "    .dataframe tbody tr th {\n",
       "        vertical-align: top;\n",
       "    }\n",
       "\n",
       "    .dataframe thead th {\n",
       "        text-align: right;\n",
       "    }\n",
       "</style>\n",
       "<table border=\"1\" class=\"dataframe\">\n",
       "  <thead>\n",
       "    <tr style=\"text-align: right;\">\n",
       "      <th></th>\n",
       "      <th>Time_from_Pickup_to_Arrival</th>\n",
       "    </tr>\n",
       "    <tr>\n",
       "      <th>Order_No</th>\n",
       "      <th></th>\n",
       "    </tr>\n",
       "  </thead>\n",
       "  <tbody>\n",
       "    <tr>\n",
       "      <td>Order_No_19248</td>\n",
       "      <td>567.0</td>\n",
       "    </tr>\n",
       "    <tr>\n",
       "      <td>Order_No_12736</td>\n",
       "      <td>4903.0</td>\n",
       "    </tr>\n",
       "    <tr>\n",
       "      <td>Order_No_768</td>\n",
       "      <td>5649.0</td>\n",
       "    </tr>\n",
       "    <tr>\n",
       "      <td>Order_No_15332</td>\n",
       "      <td>NaN</td>\n",
       "    </tr>\n",
       "    <tr>\n",
       "      <td>Order_No_21373</td>\n",
       "      <td>NaN</td>\n",
       "    </tr>\n",
       "  </tbody>\n",
       "</table>\n",
       "</div>"
      ],
      "text/plain": [
       "                Time_from_Pickup_to_Arrival\n",
       "Order_No                                   \n",
       "Order_No_19248                        567.0\n",
       "Order_No_12736                       4903.0\n",
       "Order_No_768                         5649.0\n",
       "Order_No_15332                          NaN\n",
       "Order_No_21373                          NaN"
      ]
     },
     "execution_count": 387,
     "metadata": {},
     "output_type": "execute_result"
    }
   ],
   "source": [
    "# Importing the SampleSumbmission.csv file from github as a Pandas DataFrameand setting the OrderNo as the index..\n",
    "baseline_samplesubmission= pd.read_csv('https://raw.githubusercontent.com/thembeks/Regression-Sendy-Logistics-Challenge-Team-14/Predict/SampleSubmission.csv', \n",
    "                                       index_col= 0)\n",
    "\n",
    "# Replacing all the blank spaces between words in the column names with an underscore.\n",
    "baseline_samplesubmission.columns= [col.replace(' ', '_') \n",
    "                                    for col in baseline_samplesubmission.columns]\n",
    "\n",
    "# Displays the first 10 rows of the rider DataFrame to show the layout of the DataFrame.\n",
    "baseline_samplesubmission.head()\n"
   ]
  },
  {
   "cell_type": "code",
   "execution_count": 388,
   "metadata": {
    "hidden": true
   },
   "outputs": [
    {
     "name": "stdout",
     "output_type": "stream",
     "text": [
      "<class 'pandas.core.frame.DataFrame'>\n",
      "Index: 7068 entries, Order_No_19248 to Order_No_1603\n",
      "Data columns (total 1 columns):\n",
      "Time_from_Pickup_to_Arrival    3 non-null float64\n",
      "dtypes: float64(1)\n",
      "memory usage: 110.4+ KB\n"
     ]
    },
    {
     "data": {
      "text/plain": [
       "(7068, 1)"
      ]
     },
     "execution_count": 388,
     "metadata": {},
     "output_type": "execute_result"
    }
   ],
   "source": [
    "# A Pandas method that prints the information about a DataFrame.\n",
    "#The information printed: the index dtype,column dtypes, non-null values and memory usage.\n",
    "baseline_samplesubmission.info()\n",
    "\n",
    "#Returns a tuple representing the dimensionality of the DataFrame.\n",
    "baseline_samplesubmission.shape\n"
   ]
  },
  {
   "cell_type": "markdown",
   "metadata": {
    "heading_collapsed": true,
    "hidden": true
   },
   "source": [
    "### Transformation and Processing of data"
   ]
  },
  {
   "cell_type": "markdown",
   "metadata": {
    "hidden": true
   },
   "source": [
    "> **Splitting the data**\n",
    "\n",
    "Separating the Training dataset into the Independent variable and Dependent variable."
   ]
  },
  {
   "cell_type": "code",
   "execution_count": 389,
   "metadata": {
    "hidden": true
   },
   "outputs": [],
   "source": [
    "# Splitting the baseline_train DataFrame into the X and Y variable using the Pandas .iloc[] method.\n",
    "\n",
    "baseline_X = baseline_train.iloc[:, :-1]\n",
    "baseline_Y = baseline_train.iloc[:, -1]"
   ]
  },
  {
   "cell_type": "markdown",
   "metadata": {
    "hidden": true
   },
   "source": [
    "> **Alignment of datasets**\n",
    "\n",
    "Aligning the dataset of baseline_X to the baseline_test dataset by dropping extra columns in baseline_X."
   ]
  },
  {
   "cell_type": "code",
   "execution_count": 390,
   "metadata": {
    "hidden": true
   },
   "outputs": [],
   "source": [
    "# Using the Pandas .drop() method.\n",
    "# Remove columns by specifying the column names and corresponding axis.\n",
    "\n",
    "baseline_X = baseline_X.drop(['Arrival_at_Destination_-_Day_of_Month', 'Arrival_at_Destination_-_Weekday_(Mo_=_1)',\n",
    "                              'Arrival_at_Destination_-_Time'], axis=1)"
   ]
  },
  {
   "cell_type": "markdown",
   "metadata": {
    "hidden": true
   },
   "source": [
    "> **Missing data**\n",
    "\n",
    "For the purpose of the Baseline section any missing data will be replaced with a zero."
   ]
  },
  {
   "cell_type": "code",
   "execution_count": 391,
   "metadata": {
    "hidden": true
   },
   "outputs": [],
   "source": [
    "# Using the Pandas .replace() method, replace all NaN values with 0.\n",
    "\n",
    "baseline_X = baseline_X.replace(np.nan, 0)"
   ]
  },
  {
   "cell_type": "code",
   "execution_count": 392,
   "metadata": {
    "hidden": true
   },
   "outputs": [],
   "source": [
    "# Using the Pandas .replace() method, replace all NaN values with 0.\n",
    "\n",
    "baseline_test= baseline_test.replace(np.nan, 0)"
   ]
  },
  {
   "cell_type": "markdown",
   "metadata": {
    "hidden": true
   },
   "source": [
    "> **Transformation of data**"
   ]
  },
  {
   "cell_type": "markdown",
   "metadata": {
    "hidden": true
   },
   "source": [
    "**Converting time strings into seconds**"
   ]
  },
  {
   "cell_type": "code",
   "execution_count": 393,
   "metadata": {
    "hidden": true
   },
   "outputs": [],
   "source": [
    "# Converting time strings to seconds using the Pandas .to_timedelta() method.\n",
    "# Using the .dt accessor object for datetimelike properties of the Series values to convert to seconds.\n",
    "\n",
    "baseline_X['Placement_-_Time'] = pd.to_timedelta(\n",
    "    baseline_X['Placement_-_Time']).dt.total_seconds()\n",
    "\n",
    "baseline_X['Confirmation_-_Time'] = pd.to_timedelta(\n",
    "    baseline_X['Confirmation_-_Time']).dt.total_seconds()\n",
    "\n",
    "baseline_X['Arrival_at_Pickup_-_Time'] = pd.to_timedelta(\n",
    "    baseline_X['Arrival_at_Pickup_-_Time']).dt.total_seconds()\n",
    "\n",
    "baseline_X['Pickup_-_Time'] = pd.to_timedelta(\n",
    "    baseline_X['Pickup_-_Time']).dt.total_seconds()"
   ]
  },
  {
   "cell_type": "code",
   "execution_count": 394,
   "metadata": {
    "hidden": true
   },
   "outputs": [],
   "source": [
    "# Converting time strings to seconds using the Pandas .to_timedelta() method.\n",
    "# Using the .dt accessor object for datetimelike properties of the Series values to convert to seconds.\n",
    "\n",
    "baseline_test['Placement_-_Time'] = pd.to_timedelta(\n",
    "    baseline_test['Placement_-_Time']).dt.total_seconds()\n",
    "\n",
    "baseline_test['Confirmation_-_Time'] = pd.to_timedelta(\n",
    "    baseline_test['Confirmation_-_Time']).dt.total_seconds()\n",
    "\n",
    "baseline_test['Arrival_at_Pickup_-_Time'] = pd.to_timedelta(\n",
    "    baseline_test['Arrival_at_Pickup_-_Time']).dt.total_seconds()\n",
    "\n",
    "baseline_test['Pickup_-_Time'] = pd.to_timedelta(\n",
    "    baseline_test['Pickup_-_Time']).dt.total_seconds()"
   ]
  },
  {
   "cell_type": "markdown",
   "metadata": {
    "hidden": true
   },
   "source": [
    "**Dropping columns**"
   ]
  },
  {
   "cell_type": "code",
   "execution_count": 395,
   "metadata": {
    "hidden": true
   },
   "outputs": [],
   "source": [
    "# Using the Pandas .drop() method.\n",
    "# Remove columns that are not useful by specifying the column names and corresponding axis.\n",
    "\n",
    "baseline_X = baseline_X.drop(['User_Id', 'Rider_Id'], axis=1)"
   ]
  },
  {
   "cell_type": "code",
   "execution_count": 396,
   "metadata": {
    "hidden": true
   },
   "outputs": [],
   "source": [
    "# Using the Pandas .drop() method.\n",
    "# Remove columns that are not useful by specifying the column names and corresponding axis.\n",
    "\n",
    "baseline_test = baseline_test.drop(['User_Id', 'Rider_Id'], axis=1)"
   ]
  },
  {
   "cell_type": "markdown",
   "metadata": {
    "hidden": true
   },
   "source": [
    "> **Encoding categorical data**"
   ]
  },
  {
   "cell_type": "code",
   "execution_count": 397,
   "metadata": {
    "hidden": true
   },
   "outputs": [],
   "source": [
    "# Encoding categorical data using Pandas .get_dummies() method.\n",
    "\n",
    "baseline_X = pd.get_dummies(baseline_X, columns=[\n",
    "                            'Vehicle_Type', 'Platform_Type', 'Personal_or_Business'], \n",
    "                            drop_first=True)"
   ]
  },
  {
   "cell_type": "code",
   "execution_count": 398,
   "metadata": {
    "hidden": true
   },
   "outputs": [],
   "source": [
    "# Encoding categorical data using Pandas .get_dummies() method.\n",
    "\n",
    "baseline_test = pd.get_dummies(baseline_test, columns=[\n",
    "                            'Vehicle_Type', 'Platform_Type', 'Personal_or_Business'], \n",
    "                            drop_first=True)"
   ]
  },
  {
   "cell_type": "markdown",
   "metadata": {
    "hidden": true
   },
   "source": [
    "> **Rename of columns**"
   ]
  },
  {
   "cell_type": "code",
   "execution_count": 399,
   "metadata": {
    "hidden": true
   },
   "outputs": [],
   "source": [
    "baseline_X.columns= ['Placement(Day)', 'Placement(Weekday)', 'Placement(Time)', 'Confirmation(Day)',\n",
    "                     'Confirmation(Weekday)', 'Confirmation(Time)', 'Arrival(Day)', 'Arrival(Weekday)',\n",
    "                     'Arrival(Time)', 'Pickup(Day)', 'Pickup(Weekday)', 'Pickup(Time)', 'Distance(KM)',\n",
    "                     'Temperature', 'Precipitation(mm)', 'Pickup(Lat)', 'Pickup(Long)', \n",
    "                     'Destination(Lat)', 'Destination(Long)', 'Platform(Type2)', 'Platform(Type3)', \n",
    "                     'Platform(Type4)',\t'Personal/Business']"
   ]
  },
  {
   "cell_type": "code",
   "execution_count": 400,
   "metadata": {
    "hidden": true
   },
   "outputs": [],
   "source": [
    "baseline_test.columns= ['Placement(Day)', 'Placement(Weekday)', 'Placement(Time)', 'Confirmation(Day)',\n",
    "                        'Confirmation(Weekday)', 'Confirmation(Time)', 'Arrival(Day)', 'Arrival(Weekday)',\n",
    "                        'Arrival(Time)', 'Pickup(Day)', 'Pickup(Weekday)', 'Pickup(Time)', 'Distance(KM)',\n",
    "                        'Temperature', 'Precipitation(mm)', 'Pickup(Lat)', 'Pickup(Long)', \n",
    "                        'Destination(Lat)', 'Destination(Long)', 'Platform(Type2)', 'Platform(Type3)', \n",
    "                        'Platform(Type4)',\t'Personal/Business']"
   ]
  },
  {
   "cell_type": "markdown",
   "metadata": {
    "hidden": true
   },
   "source": [
    "> **How the DataFrame looks after the data transformation process**"
   ]
  },
  {
   "cell_type": "code",
   "execution_count": 401,
   "metadata": {
    "hidden": true
   },
   "outputs": [
    {
     "data": {
      "text/html": [
       "<div>\n",
       "<style scoped>\n",
       "    .dataframe tbody tr th:only-of-type {\n",
       "        vertical-align: middle;\n",
       "    }\n",
       "\n",
       "    .dataframe tbody tr th {\n",
       "        vertical-align: top;\n",
       "    }\n",
       "\n",
       "    .dataframe thead th {\n",
       "        text-align: right;\n",
       "    }\n",
       "</style>\n",
       "<table border=\"1\" class=\"dataframe\">\n",
       "  <thead>\n",
       "    <tr style=\"text-align: right;\">\n",
       "      <th></th>\n",
       "      <th>Placement(Day)</th>\n",
       "      <th>Placement(Weekday)</th>\n",
       "      <th>Placement(Time)</th>\n",
       "      <th>Confirmation(Day)</th>\n",
       "      <th>Confirmation(Weekday)</th>\n",
       "      <th>Confirmation(Time)</th>\n",
       "      <th>Arrival(Day)</th>\n",
       "      <th>Arrival(Weekday)</th>\n",
       "      <th>Arrival(Time)</th>\n",
       "      <th>Pickup(Day)</th>\n",
       "      <th>...</th>\n",
       "      <th>Temperature</th>\n",
       "      <th>Precipitation(mm)</th>\n",
       "      <th>Pickup(Lat)</th>\n",
       "      <th>Pickup(Long)</th>\n",
       "      <th>Destination(Lat)</th>\n",
       "      <th>Destination(Long)</th>\n",
       "      <th>Platform(Type2)</th>\n",
       "      <th>Platform(Type3)</th>\n",
       "      <th>Platform(Type4)</th>\n",
       "      <th>Personal/Business</th>\n",
       "    </tr>\n",
       "    <tr>\n",
       "      <th>Order No</th>\n",
       "      <th></th>\n",
       "      <th></th>\n",
       "      <th></th>\n",
       "      <th></th>\n",
       "      <th></th>\n",
       "      <th></th>\n",
       "      <th></th>\n",
       "      <th></th>\n",
       "      <th></th>\n",
       "      <th></th>\n",
       "      <th></th>\n",
       "      <th></th>\n",
       "      <th></th>\n",
       "      <th></th>\n",
       "      <th></th>\n",
       "      <th></th>\n",
       "      <th></th>\n",
       "      <th></th>\n",
       "      <th></th>\n",
       "      <th></th>\n",
       "      <th></th>\n",
       "    </tr>\n",
       "  </thead>\n",
       "  <tbody>\n",
       "    <tr>\n",
       "      <td>Order_No_4211</td>\n",
       "      <td>9</td>\n",
       "      <td>5</td>\n",
       "      <td>34546.0</td>\n",
       "      <td>9</td>\n",
       "      <td>5</td>\n",
       "      <td>34810.0</td>\n",
       "      <td>9</td>\n",
       "      <td>5</td>\n",
       "      <td>36287.0</td>\n",
       "      <td>9</td>\n",
       "      <td>...</td>\n",
       "      <td>20.4</td>\n",
       "      <td>0.0</td>\n",
       "      <td>-1.317755</td>\n",
       "      <td>36.830370</td>\n",
       "      <td>-1.300406</td>\n",
       "      <td>36.829741</td>\n",
       "      <td>0</td>\n",
       "      <td>1</td>\n",
       "      <td>0</td>\n",
       "      <td>0</td>\n",
       "    </tr>\n",
       "    <tr>\n",
       "      <td>Order_No_25375</td>\n",
       "      <td>12</td>\n",
       "      <td>5</td>\n",
       "      <td>40576.0</td>\n",
       "      <td>12</td>\n",
       "      <td>5</td>\n",
       "      <td>41001.0</td>\n",
       "      <td>12</td>\n",
       "      <td>5</td>\n",
       "      <td>42022.0</td>\n",
       "      <td>12</td>\n",
       "      <td>...</td>\n",
       "      <td>26.4</td>\n",
       "      <td>0.0</td>\n",
       "      <td>-1.351453</td>\n",
       "      <td>36.899315</td>\n",
       "      <td>-1.295004</td>\n",
       "      <td>36.814358</td>\n",
       "      <td>0</td>\n",
       "      <td>1</td>\n",
       "      <td>0</td>\n",
       "      <td>1</td>\n",
       "    </tr>\n",
       "    <tr>\n",
       "      <td>Order_No_1899</td>\n",
       "      <td>30</td>\n",
       "      <td>2</td>\n",
       "      <td>45565.0</td>\n",
       "      <td>30</td>\n",
       "      <td>2</td>\n",
       "      <td>45764.0</td>\n",
       "      <td>30</td>\n",
       "      <td>2</td>\n",
       "      <td>46174.0</td>\n",
       "      <td>30</td>\n",
       "      <td>...</td>\n",
       "      <td>0.0</td>\n",
       "      <td>0.0</td>\n",
       "      <td>-1.308284</td>\n",
       "      <td>36.843419</td>\n",
       "      <td>-1.300921</td>\n",
       "      <td>36.828195</td>\n",
       "      <td>0</td>\n",
       "      <td>1</td>\n",
       "      <td>0</td>\n",
       "      <td>0</td>\n",
       "    </tr>\n",
       "    <tr>\n",
       "      <td>Order_No_9336</td>\n",
       "      <td>15</td>\n",
       "      <td>5</td>\n",
       "      <td>33934.0</td>\n",
       "      <td>15</td>\n",
       "      <td>5</td>\n",
       "      <td>33965.0</td>\n",
       "      <td>15</td>\n",
       "      <td>5</td>\n",
       "      <td>34676.0</td>\n",
       "      <td>15</td>\n",
       "      <td>...</td>\n",
       "      <td>19.2</td>\n",
       "      <td>0.0</td>\n",
       "      <td>-1.281301</td>\n",
       "      <td>36.832396</td>\n",
       "      <td>-1.257147</td>\n",
       "      <td>36.795063</td>\n",
       "      <td>0</td>\n",
       "      <td>1</td>\n",
       "      <td>0</td>\n",
       "      <td>0</td>\n",
       "    </tr>\n",
       "    <tr>\n",
       "      <td>Order_No_27883</td>\n",
       "      <td>13</td>\n",
       "      <td>1</td>\n",
       "      <td>35718.0</td>\n",
       "      <td>13</td>\n",
       "      <td>1</td>\n",
       "      <td>35778.0</td>\n",
       "      <td>13</td>\n",
       "      <td>1</td>\n",
       "      <td>36233.0</td>\n",
       "      <td>13</td>\n",
       "      <td>...</td>\n",
       "      <td>15.4</td>\n",
       "      <td>0.0</td>\n",
       "      <td>-1.266597</td>\n",
       "      <td>36.792118</td>\n",
       "      <td>-1.295041</td>\n",
       "      <td>36.809817</td>\n",
       "      <td>0</td>\n",
       "      <td>0</td>\n",
       "      <td>0</td>\n",
       "      <td>1</td>\n",
       "    </tr>\n",
       "    <tr>\n",
       "      <td>Order_No_7408</td>\n",
       "      <td>14</td>\n",
       "      <td>5</td>\n",
       "      <td>11255.0</td>\n",
       "      <td>14</td>\n",
       "      <td>5</td>\n",
       "      <td>11337.0</td>\n",
       "      <td>14</td>\n",
       "      <td>5</td>\n",
       "      <td>12096.0</td>\n",
       "      <td>14</td>\n",
       "      <td>...</td>\n",
       "      <td>27.2</td>\n",
       "      <td>0.0</td>\n",
       "      <td>-1.302583</td>\n",
       "      <td>36.767081</td>\n",
       "      <td>-1.257309</td>\n",
       "      <td>36.806008</td>\n",
       "      <td>0</td>\n",
       "      <td>1</td>\n",
       "      <td>0</td>\n",
       "      <td>0</td>\n",
       "    </tr>\n",
       "    <tr>\n",
       "      <td>Order_No_22680</td>\n",
       "      <td>9</td>\n",
       "      <td>5</td>\n",
       "      <td>34425.0</td>\n",
       "      <td>9</td>\n",
       "      <td>5</td>\n",
       "      <td>35387.0</td>\n",
       "      <td>9</td>\n",
       "      <td>5</td>\n",
       "      <td>35592.0</td>\n",
       "      <td>9</td>\n",
       "      <td>...</td>\n",
       "      <td>20.3</td>\n",
       "      <td>0.0</td>\n",
       "      <td>-1.279395</td>\n",
       "      <td>36.825364</td>\n",
       "      <td>-1.276574</td>\n",
       "      <td>36.851365</td>\n",
       "      <td>0</td>\n",
       "      <td>1</td>\n",
       "      <td>0</td>\n",
       "      <td>0</td>\n",
       "    </tr>\n",
       "    <tr>\n",
       "      <td>Order_No_21578</td>\n",
       "      <td>11</td>\n",
       "      <td>1</td>\n",
       "      <td>7981.0</td>\n",
       "      <td>11</td>\n",
       "      <td>1</td>\n",
       "      <td>8053.0</td>\n",
       "      <td>11</td>\n",
       "      <td>1</td>\n",
       "      <td>8493.0</td>\n",
       "      <td>11</td>\n",
       "      <td>...</td>\n",
       "      <td>28.7</td>\n",
       "      <td>0.0</td>\n",
       "      <td>-1.252796</td>\n",
       "      <td>36.800313</td>\n",
       "      <td>-1.255189</td>\n",
       "      <td>36.782203</td>\n",
       "      <td>0</td>\n",
       "      <td>1</td>\n",
       "      <td>0</td>\n",
       "      <td>0</td>\n",
       "    </tr>\n",
       "    <tr>\n",
       "      <td>Order_No_5234</td>\n",
       "      <td>30</td>\n",
       "      <td>2</td>\n",
       "      <td>40244.0</td>\n",
       "      <td>30</td>\n",
       "      <td>2</td>\n",
       "      <td>40549.0</td>\n",
       "      <td>30</td>\n",
       "      <td>2</td>\n",
       "      <td>43998.0</td>\n",
       "      <td>30</td>\n",
       "      <td>...</td>\n",
       "      <td>0.0</td>\n",
       "      <td>0.0</td>\n",
       "      <td>-1.255189</td>\n",
       "      <td>36.782203</td>\n",
       "      <td>-1.300255</td>\n",
       "      <td>36.825657</td>\n",
       "      <td>0</td>\n",
       "      <td>1</td>\n",
       "      <td>0</td>\n",
       "      <td>0</td>\n",
       "    </tr>\n",
       "    <tr>\n",
       "      <td>Order_No_1768</td>\n",
       "      <td>23</td>\n",
       "      <td>5</td>\n",
       "      <td>17334.0</td>\n",
       "      <td>23</td>\n",
       "      <td>5</td>\n",
       "      <td>19076.0</td>\n",
       "      <td>23</td>\n",
       "      <td>5</td>\n",
       "      <td>19961.0</td>\n",
       "      <td>23</td>\n",
       "      <td>...</td>\n",
       "      <td>24.6</td>\n",
       "      <td>0.0</td>\n",
       "      <td>-1.225322</td>\n",
       "      <td>36.808550</td>\n",
       "      <td>-1.215601</td>\n",
       "      <td>36.891686</td>\n",
       "      <td>0</td>\n",
       "      <td>1</td>\n",
       "      <td>0</td>\n",
       "      <td>0</td>\n",
       "    </tr>\n",
       "  </tbody>\n",
       "</table>\n",
       "<p>10 rows × 23 columns</p>\n",
       "</div>"
      ],
      "text/plain": [
       "                Placement(Day)  Placement(Weekday)  Placement(Time)  \\\n",
       "Order No                                                              \n",
       "Order_No_4211                9                   5          34546.0   \n",
       "Order_No_25375              12                   5          40576.0   \n",
       "Order_No_1899               30                   2          45565.0   \n",
       "Order_No_9336               15                   5          33934.0   \n",
       "Order_No_27883              13                   1          35718.0   \n",
       "Order_No_7408               14                   5          11255.0   \n",
       "Order_No_22680               9                   5          34425.0   \n",
       "Order_No_21578              11                   1           7981.0   \n",
       "Order_No_5234               30                   2          40244.0   \n",
       "Order_No_1768               23                   5          17334.0   \n",
       "\n",
       "                Confirmation(Day)  Confirmation(Weekday)  Confirmation(Time)  \\\n",
       "Order No                                                                       \n",
       "Order_No_4211                   9                      5             34810.0   \n",
       "Order_No_25375                 12                      5             41001.0   \n",
       "Order_No_1899                  30                      2             45764.0   \n",
       "Order_No_9336                  15                      5             33965.0   \n",
       "Order_No_27883                 13                      1             35778.0   \n",
       "Order_No_7408                  14                      5             11337.0   \n",
       "Order_No_22680                  9                      5             35387.0   \n",
       "Order_No_21578                 11                      1              8053.0   \n",
       "Order_No_5234                  30                      2             40549.0   \n",
       "Order_No_1768                  23                      5             19076.0   \n",
       "\n",
       "                Arrival(Day)  Arrival(Weekday)  Arrival(Time)  Pickup(Day)  \\\n",
       "Order No                                                                     \n",
       "Order_No_4211              9                 5        36287.0            9   \n",
       "Order_No_25375            12                 5        42022.0           12   \n",
       "Order_No_1899             30                 2        46174.0           30   \n",
       "Order_No_9336             15                 5        34676.0           15   \n",
       "Order_No_27883            13                 1        36233.0           13   \n",
       "Order_No_7408             14                 5        12096.0           14   \n",
       "Order_No_22680             9                 5        35592.0            9   \n",
       "Order_No_21578            11                 1         8493.0           11   \n",
       "Order_No_5234             30                 2        43998.0           30   \n",
       "Order_No_1768             23                 5        19961.0           23   \n",
       "\n",
       "                ...  Temperature  Precipitation(mm)  Pickup(Lat)  \\\n",
       "Order No        ...                                                \n",
       "Order_No_4211   ...         20.4                0.0    -1.317755   \n",
       "Order_No_25375  ...         26.4                0.0    -1.351453   \n",
       "Order_No_1899   ...          0.0                0.0    -1.308284   \n",
       "Order_No_9336   ...         19.2                0.0    -1.281301   \n",
       "Order_No_27883  ...         15.4                0.0    -1.266597   \n",
       "Order_No_7408   ...         27.2                0.0    -1.302583   \n",
       "Order_No_22680  ...         20.3                0.0    -1.279395   \n",
       "Order_No_21578  ...         28.7                0.0    -1.252796   \n",
       "Order_No_5234   ...          0.0                0.0    -1.255189   \n",
       "Order_No_1768   ...         24.6                0.0    -1.225322   \n",
       "\n",
       "                Pickup(Long)  Destination(Lat)  Destination(Long)  \\\n",
       "Order No                                                            \n",
       "Order_No_4211      36.830370         -1.300406          36.829741   \n",
       "Order_No_25375     36.899315         -1.295004          36.814358   \n",
       "Order_No_1899      36.843419         -1.300921          36.828195   \n",
       "Order_No_9336      36.832396         -1.257147          36.795063   \n",
       "Order_No_27883     36.792118         -1.295041          36.809817   \n",
       "Order_No_7408      36.767081         -1.257309          36.806008   \n",
       "Order_No_22680     36.825364         -1.276574          36.851365   \n",
       "Order_No_21578     36.800313         -1.255189          36.782203   \n",
       "Order_No_5234      36.782203         -1.300255          36.825657   \n",
       "Order_No_1768      36.808550         -1.215601          36.891686   \n",
       "\n",
       "                Platform(Type2)  Platform(Type3)  Platform(Type4)  \\\n",
       "Order No                                                            \n",
       "Order_No_4211                 0                1                0   \n",
       "Order_No_25375                0                1                0   \n",
       "Order_No_1899                 0                1                0   \n",
       "Order_No_9336                 0                1                0   \n",
       "Order_No_27883                0                0                0   \n",
       "Order_No_7408                 0                1                0   \n",
       "Order_No_22680                0                1                0   \n",
       "Order_No_21578                0                1                0   \n",
       "Order_No_5234                 0                1                0   \n",
       "Order_No_1768                 0                1                0   \n",
       "\n",
       "                Personal/Business  \n",
       "Order No                           \n",
       "Order_No_4211                   0  \n",
       "Order_No_25375                  1  \n",
       "Order_No_1899                   0  \n",
       "Order_No_9336                   0  \n",
       "Order_No_27883                  1  \n",
       "Order_No_7408                   0  \n",
       "Order_No_22680                  0  \n",
       "Order_No_21578                  0  \n",
       "Order_No_5234                   0  \n",
       "Order_No_1768                   0  \n",
       "\n",
       "[10 rows x 23 columns]"
      ]
     },
     "execution_count": 401,
     "metadata": {},
     "output_type": "execute_result"
    }
   ],
   "source": [
    "# Displays the first 10 rows of the rider DataFrame to show the layout of the DataFrame.\n",
    "\n",
    "baseline_X.head(10)"
   ]
  },
  {
   "cell_type": "code",
   "execution_count": 402,
   "metadata": {
    "hidden": true
   },
   "outputs": [
    {
     "name": "stdout",
     "output_type": "stream",
     "text": [
      "<class 'pandas.core.frame.DataFrame'>\n",
      "Index: 21201 entries, Order_No_4211 to Order_No_9836\n",
      "Data columns (total 23 columns):\n",
      "Placement(Day)           21201 non-null int64\n",
      "Placement(Weekday)       21201 non-null int64\n",
      "Placement(Time)          21201 non-null float64\n",
      "Confirmation(Day)        21201 non-null int64\n",
      "Confirmation(Weekday)    21201 non-null int64\n",
      "Confirmation(Time)       21201 non-null float64\n",
      "Arrival(Day)             21201 non-null int64\n",
      "Arrival(Weekday)         21201 non-null int64\n",
      "Arrival(Time)            21201 non-null float64\n",
      "Pickup(Day)              21201 non-null int64\n",
      "Pickup(Weekday)          21201 non-null int64\n",
      "Pickup(Time)             21201 non-null float64\n",
      "Distance(KM)             21201 non-null int64\n",
      "Temperature              21201 non-null float64\n",
      "Precipitation(mm)        21201 non-null float64\n",
      "Pickup(Lat)              21201 non-null float64\n",
      "Pickup(Long)             21201 non-null float64\n",
      "Destination(Lat)         21201 non-null float64\n",
      "Destination(Long)        21201 non-null float64\n",
      "Platform(Type2)          21201 non-null uint8\n",
      "Platform(Type3)          21201 non-null uint8\n",
      "Platform(Type4)          21201 non-null uint8\n",
      "Personal/Business        21201 non-null uint8\n",
      "dtypes: float64(10), int64(9), uint8(4)\n",
      "memory usage: 3.3+ MB\n"
     ]
    }
   ],
   "source": [
    "baseline_X.info()"
   ]
  },
  {
   "cell_type": "code",
   "execution_count": 403,
   "metadata": {
    "hidden": true
   },
   "outputs": [
    {
     "data": {
      "text/html": [
       "<div>\n",
       "<style scoped>\n",
       "    .dataframe tbody tr th:only-of-type {\n",
       "        vertical-align: middle;\n",
       "    }\n",
       "\n",
       "    .dataframe tbody tr th {\n",
       "        vertical-align: top;\n",
       "    }\n",
       "\n",
       "    .dataframe thead th {\n",
       "        text-align: right;\n",
       "    }\n",
       "</style>\n",
       "<table border=\"1\" class=\"dataframe\">\n",
       "  <thead>\n",
       "    <tr style=\"text-align: right;\">\n",
       "      <th></th>\n",
       "      <th>Placement(Day)</th>\n",
       "      <th>Placement(Weekday)</th>\n",
       "      <th>Placement(Time)</th>\n",
       "      <th>Confirmation(Day)</th>\n",
       "      <th>Confirmation(Weekday)</th>\n",
       "      <th>Confirmation(Time)</th>\n",
       "      <th>Arrival(Day)</th>\n",
       "      <th>Arrival(Weekday)</th>\n",
       "      <th>Arrival(Time)</th>\n",
       "      <th>Pickup(Day)</th>\n",
       "      <th>...</th>\n",
       "      <th>Temperature</th>\n",
       "      <th>Precipitation(mm)</th>\n",
       "      <th>Pickup(Lat)</th>\n",
       "      <th>Pickup(Long)</th>\n",
       "      <th>Destination(Lat)</th>\n",
       "      <th>Destination(Long)</th>\n",
       "      <th>Platform(Type2)</th>\n",
       "      <th>Platform(Type3)</th>\n",
       "      <th>Platform(Type4)</th>\n",
       "      <th>Personal/Business</th>\n",
       "    </tr>\n",
       "    <tr>\n",
       "      <th>Order No</th>\n",
       "      <th></th>\n",
       "      <th></th>\n",
       "      <th></th>\n",
       "      <th></th>\n",
       "      <th></th>\n",
       "      <th></th>\n",
       "      <th></th>\n",
       "      <th></th>\n",
       "      <th></th>\n",
       "      <th></th>\n",
       "      <th></th>\n",
       "      <th></th>\n",
       "      <th></th>\n",
       "      <th></th>\n",
       "      <th></th>\n",
       "      <th></th>\n",
       "      <th></th>\n",
       "      <th></th>\n",
       "      <th></th>\n",
       "      <th></th>\n",
       "      <th></th>\n",
       "    </tr>\n",
       "  </thead>\n",
       "  <tbody>\n",
       "    <tr>\n",
       "      <td>Order_No_19248</td>\n",
       "      <td>27</td>\n",
       "      <td>3</td>\n",
       "      <td>17050.0</td>\n",
       "      <td>27</td>\n",
       "      <td>3</td>\n",
       "      <td>17069.0</td>\n",
       "      <td>27</td>\n",
       "      <td>3</td>\n",
       "      <td>17584.0</td>\n",
       "      <td>27</td>\n",
       "      <td>...</td>\n",
       "      <td>0.0</td>\n",
       "      <td>0.0</td>\n",
       "      <td>-1.333275</td>\n",
       "      <td>36.870815</td>\n",
       "      <td>-1.305249</td>\n",
       "      <td>36.822390</td>\n",
       "      <td>0</td>\n",
       "      <td>1</td>\n",
       "      <td>0</td>\n",
       "      <td>0</td>\n",
       "    </tr>\n",
       "    <tr>\n",
       "      <td>Order_No_12736</td>\n",
       "      <td>17</td>\n",
       "      <td>5</td>\n",
       "      <td>46655.0</td>\n",
       "      <td>17</td>\n",
       "      <td>5</td>\n",
       "      <td>46757.0</td>\n",
       "      <td>17</td>\n",
       "      <td>5</td>\n",
       "      <td>4827.0</td>\n",
       "      <td>17</td>\n",
       "      <td>...</td>\n",
       "      <td>0.0</td>\n",
       "      <td>0.0</td>\n",
       "      <td>-1.272639</td>\n",
       "      <td>36.794723</td>\n",
       "      <td>-1.277007</td>\n",
       "      <td>36.823907</td>\n",
       "      <td>0</td>\n",
       "      <td>1</td>\n",
       "      <td>0</td>\n",
       "      <td>0</td>\n",
       "    </tr>\n",
       "    <tr>\n",
       "      <td>Order_No_768</td>\n",
       "      <td>27</td>\n",
       "      <td>4</td>\n",
       "      <td>40094.0</td>\n",
       "      <td>27</td>\n",
       "      <td>4</td>\n",
       "      <td>41105.0</td>\n",
       "      <td>27</td>\n",
       "      <td>4</td>\n",
       "      <td>41600.0</td>\n",
       "      <td>27</td>\n",
       "      <td>...</td>\n",
       "      <td>22.8</td>\n",
       "      <td>0.0</td>\n",
       "      <td>-1.290894</td>\n",
       "      <td>36.822971</td>\n",
       "      <td>-1.276574</td>\n",
       "      <td>36.851365</td>\n",
       "      <td>0</td>\n",
       "      <td>1</td>\n",
       "      <td>0</td>\n",
       "      <td>0</td>\n",
       "    </tr>\n",
       "    <tr>\n",
       "      <td>Order_No_15332</td>\n",
       "      <td>17</td>\n",
       "      <td>1</td>\n",
       "      <td>6695.0</td>\n",
       "      <td>17</td>\n",
       "      <td>1</td>\n",
       "      <td>6807.0</td>\n",
       "      <td>17</td>\n",
       "      <td>1</td>\n",
       "      <td>7361.0</td>\n",
       "      <td>17</td>\n",
       "      <td>...</td>\n",
       "      <td>24.5</td>\n",
       "      <td>0.0</td>\n",
       "      <td>-1.290503</td>\n",
       "      <td>36.809646</td>\n",
       "      <td>-1.303382</td>\n",
       "      <td>36.790658</td>\n",
       "      <td>0</td>\n",
       "      <td>1</td>\n",
       "      <td>0</td>\n",
       "      <td>0</td>\n",
       "    </tr>\n",
       "    <tr>\n",
       "      <td>Order_No_21373</td>\n",
       "      <td>11</td>\n",
       "      <td>2</td>\n",
       "      <td>41428.0</td>\n",
       "      <td>11</td>\n",
       "      <td>2</td>\n",
       "      <td>41685.0</td>\n",
       "      <td>11</td>\n",
       "      <td>2</td>\n",
       "      <td>42439.0</td>\n",
       "      <td>11</td>\n",
       "      <td>...</td>\n",
       "      <td>24.4</td>\n",
       "      <td>0.0</td>\n",
       "      <td>-1.281081</td>\n",
       "      <td>36.814423</td>\n",
       "      <td>-1.266467</td>\n",
       "      <td>36.792161</td>\n",
       "      <td>0</td>\n",
       "      <td>1</td>\n",
       "      <td>0</td>\n",
       "      <td>0</td>\n",
       "    </tr>\n",
       "    <tr>\n",
       "      <td>Order_No_14573</td>\n",
       "      <td>13</td>\n",
       "      <td>1</td>\n",
       "      <td>23369.0</td>\n",
       "      <td>13</td>\n",
       "      <td>1</td>\n",
       "      <td>23373.0</td>\n",
       "      <td>13</td>\n",
       "      <td>1</td>\n",
       "      <td>23806.0</td>\n",
       "      <td>13</td>\n",
       "      <td>...</td>\n",
       "      <td>19.3</td>\n",
       "      <td>0.0</td>\n",
       "      <td>-1.256606</td>\n",
       "      <td>36.795974</td>\n",
       "      <td>-1.223983</td>\n",
       "      <td>36.898452</td>\n",
       "      <td>0</td>\n",
       "      <td>0</td>\n",
       "      <td>0</td>\n",
       "      <td>1</td>\n",
       "    </tr>\n",
       "    <tr>\n",
       "      <td>Order_No_6731</td>\n",
       "      <td>17</td>\n",
       "      <td>3</td>\n",
       "      <td>35609.0</td>\n",
       "      <td>17</td>\n",
       "      <td>3</td>\n",
       "      <td>35630.0</td>\n",
       "      <td>17</td>\n",
       "      <td>3</td>\n",
       "      <td>35791.0</td>\n",
       "      <td>17</td>\n",
       "      <td>...</td>\n",
       "      <td>20.9</td>\n",
       "      <td>0.0</td>\n",
       "      <td>-1.225272</td>\n",
       "      <td>36.875672</td>\n",
       "      <td>-1.304713</td>\n",
       "      <td>36.808955</td>\n",
       "      <td>1</td>\n",
       "      <td>0</td>\n",
       "      <td>0</td>\n",
       "      <td>1</td>\n",
       "    </tr>\n",
       "    <tr>\n",
       "      <td>Order_No_18436</td>\n",
       "      <td>28</td>\n",
       "      <td>4</td>\n",
       "      <td>31873.0</td>\n",
       "      <td>28</td>\n",
       "      <td>4</td>\n",
       "      <td>31966.0</td>\n",
       "      <td>28</td>\n",
       "      <td>4</td>\n",
       "      <td>32265.0</td>\n",
       "      <td>28</td>\n",
       "      <td>...</td>\n",
       "      <td>22.7</td>\n",
       "      <td>0.0</td>\n",
       "      <td>-1.273539</td>\n",
       "      <td>36.833775</td>\n",
       "      <td>-1.297299</td>\n",
       "      <td>36.789446</td>\n",
       "      <td>0</td>\n",
       "      <td>1</td>\n",
       "      <td>0</td>\n",
       "      <td>0</td>\n",
       "    </tr>\n",
       "    <tr>\n",
       "      <td>Order_No_2288</td>\n",
       "      <td>28</td>\n",
       "      <td>4</td>\n",
       "      <td>32301.0</td>\n",
       "      <td>28</td>\n",
       "      <td>4</td>\n",
       "      <td>32320.0</td>\n",
       "      <td>28</td>\n",
       "      <td>4</td>\n",
       "      <td>34037.0</td>\n",
       "      <td>28</td>\n",
       "      <td>...</td>\n",
       "      <td>19.4</td>\n",
       "      <td>0.0</td>\n",
       "      <td>-1.255189</td>\n",
       "      <td>36.782203</td>\n",
       "      <td>-1.285770</td>\n",
       "      <td>36.759172</td>\n",
       "      <td>0</td>\n",
       "      <td>1</td>\n",
       "      <td>0</td>\n",
       "      <td>0</td>\n",
       "    </tr>\n",
       "    <tr>\n",
       "      <td>Order_No_9063</td>\n",
       "      <td>4</td>\n",
       "      <td>5</td>\n",
       "      <td>16108.0</td>\n",
       "      <td>4</td>\n",
       "      <td>5</td>\n",
       "      <td>16162.0</td>\n",
       "      <td>4</td>\n",
       "      <td>5</td>\n",
       "      <td>16953.0</td>\n",
       "      <td>4</td>\n",
       "      <td>...</td>\n",
       "      <td>21.7</td>\n",
       "      <td>0.0</td>\n",
       "      <td>-1.273056</td>\n",
       "      <td>36.811298</td>\n",
       "      <td>-1.330552</td>\n",
       "      <td>36.714289</td>\n",
       "      <td>0</td>\n",
       "      <td>1</td>\n",
       "      <td>0</td>\n",
       "      <td>0</td>\n",
       "    </tr>\n",
       "  </tbody>\n",
       "</table>\n",
       "<p>10 rows × 23 columns</p>\n",
       "</div>"
      ],
      "text/plain": [
       "                Placement(Day)  Placement(Weekday)  Placement(Time)  \\\n",
       "Order No                                                              \n",
       "Order_No_19248              27                   3          17050.0   \n",
       "Order_No_12736              17                   5          46655.0   \n",
       "Order_No_768                27                   4          40094.0   \n",
       "Order_No_15332              17                   1           6695.0   \n",
       "Order_No_21373              11                   2          41428.0   \n",
       "Order_No_14573              13                   1          23369.0   \n",
       "Order_No_6731               17                   3          35609.0   \n",
       "Order_No_18436              28                   4          31873.0   \n",
       "Order_No_2288               28                   4          32301.0   \n",
       "Order_No_9063                4                   5          16108.0   \n",
       "\n",
       "                Confirmation(Day)  Confirmation(Weekday)  Confirmation(Time)  \\\n",
       "Order No                                                                       \n",
       "Order_No_19248                 27                      3             17069.0   \n",
       "Order_No_12736                 17                      5             46757.0   \n",
       "Order_No_768                   27                      4             41105.0   \n",
       "Order_No_15332                 17                      1              6807.0   \n",
       "Order_No_21373                 11                      2             41685.0   \n",
       "Order_No_14573                 13                      1             23373.0   \n",
       "Order_No_6731                  17                      3             35630.0   \n",
       "Order_No_18436                 28                      4             31966.0   \n",
       "Order_No_2288                  28                      4             32320.0   \n",
       "Order_No_9063                   4                      5             16162.0   \n",
       "\n",
       "                Arrival(Day)  Arrival(Weekday)  Arrival(Time)  Pickup(Day)  \\\n",
       "Order No                                                                     \n",
       "Order_No_19248            27                 3        17584.0           27   \n",
       "Order_No_12736            17                 5         4827.0           17   \n",
       "Order_No_768              27                 4        41600.0           27   \n",
       "Order_No_15332            17                 1         7361.0           17   \n",
       "Order_No_21373            11                 2        42439.0           11   \n",
       "Order_No_14573            13                 1        23806.0           13   \n",
       "Order_No_6731             17                 3        35791.0           17   \n",
       "Order_No_18436            28                 4        32265.0           28   \n",
       "Order_No_2288             28                 4        34037.0           28   \n",
       "Order_No_9063              4                 5        16953.0            4   \n",
       "\n",
       "                ...  Temperature  Precipitation(mm)  Pickup(Lat)  \\\n",
       "Order No        ...                                                \n",
       "Order_No_19248  ...          0.0                0.0    -1.333275   \n",
       "Order_No_12736  ...          0.0                0.0    -1.272639   \n",
       "Order_No_768    ...         22.8                0.0    -1.290894   \n",
       "Order_No_15332  ...         24.5                0.0    -1.290503   \n",
       "Order_No_21373  ...         24.4                0.0    -1.281081   \n",
       "Order_No_14573  ...         19.3                0.0    -1.256606   \n",
       "Order_No_6731   ...         20.9                0.0    -1.225272   \n",
       "Order_No_18436  ...         22.7                0.0    -1.273539   \n",
       "Order_No_2288   ...         19.4                0.0    -1.255189   \n",
       "Order_No_9063   ...         21.7                0.0    -1.273056   \n",
       "\n",
       "                Pickup(Long)  Destination(Lat)  Destination(Long)  \\\n",
       "Order No                                                            \n",
       "Order_No_19248     36.870815         -1.305249          36.822390   \n",
       "Order_No_12736     36.794723         -1.277007          36.823907   \n",
       "Order_No_768       36.822971         -1.276574          36.851365   \n",
       "Order_No_15332     36.809646         -1.303382          36.790658   \n",
       "Order_No_21373     36.814423         -1.266467          36.792161   \n",
       "Order_No_14573     36.795974         -1.223983          36.898452   \n",
       "Order_No_6731      36.875672         -1.304713          36.808955   \n",
       "Order_No_18436     36.833775         -1.297299          36.789446   \n",
       "Order_No_2288      36.782203         -1.285770          36.759172   \n",
       "Order_No_9063      36.811298         -1.330552          36.714289   \n",
       "\n",
       "                Platform(Type2)  Platform(Type3)  Platform(Type4)  \\\n",
       "Order No                                                            \n",
       "Order_No_19248                0                1                0   \n",
       "Order_No_12736                0                1                0   \n",
       "Order_No_768                  0                1                0   \n",
       "Order_No_15332                0                1                0   \n",
       "Order_No_21373                0                1                0   \n",
       "Order_No_14573                0                0                0   \n",
       "Order_No_6731                 1                0                0   \n",
       "Order_No_18436                0                1                0   \n",
       "Order_No_2288                 0                1                0   \n",
       "Order_No_9063                 0                1                0   \n",
       "\n",
       "                Personal/Business  \n",
       "Order No                           \n",
       "Order_No_19248                  0  \n",
       "Order_No_12736                  0  \n",
       "Order_No_768                    0  \n",
       "Order_No_15332                  0  \n",
       "Order_No_21373                  0  \n",
       "Order_No_14573                  1  \n",
       "Order_No_6731                   1  \n",
       "Order_No_18436                  0  \n",
       "Order_No_2288                   0  \n",
       "Order_No_9063                   0  \n",
       "\n",
       "[10 rows x 23 columns]"
      ]
     },
     "execution_count": 403,
     "metadata": {},
     "output_type": "execute_result"
    }
   ],
   "source": [
    "# Displays the first 10 rows of the rider DataFrame to show the layout of the DataFrame.\n",
    "\n",
    "baseline_test.head(10)"
   ]
  },
  {
   "cell_type": "markdown",
   "metadata": {
    "hidden": true
   },
   "source": [
    "> **Splitting the dataset into the training and test set**"
   ]
  },
  {
   "cell_type": "code",
   "execution_count": 404,
   "metadata": {
    "hidden": true
   },
   "outputs": [],
   "source": [
    "# Using sklearn.model_selection, train_test_split() method to split the baseline_X and baseline_Y.\n",
    "# Test size will be 0.2 (20% of the data will the test case).\n",
    "\n",
    "baseline_Xtrain, baseline_Xtest, baseline_Ytrain, baseline_Ytest = train_test_split(\n",
    "    baseline_X, baseline_Y, \n",
    "    test_size=0.2, \n",
    "    random_state=1)"
   ]
  },
  {
   "cell_type": "markdown",
   "metadata": {
    "heading_collapsed": true,
    "hidden": true
   },
   "source": [
    "### Simple Linear Regression "
   ]
  },
  {
   "cell_type": "markdown",
   "metadata": {
    "hidden": true
   },
   "source": [
    "> **Training the model**"
   ]
  },
  {
   "cell_type": "code",
   "execution_count": 405,
   "metadata": {
    "hidden": true
   },
   "outputs": [
    {
     "data": {
      "text/plain": [
       "LinearRegression(copy_X=True, fit_intercept=True, n_jobs=None, normalize=False)"
      ]
     },
     "execution_count": 405,
     "metadata": {},
     "output_type": "execute_result"
    }
   ],
   "source": [
    "# Using the LinearRegression() method from sklearn.linear_model.\n",
    "# Train a model on the distance column.\n",
    "\n",
    "baseline_simpregression = LinearRegression()\n",
    "baseline_simpregression.fit(\n",
    "    (baseline_Xtrain.iloc[:, -11][:, np.newaxis]), baseline_Ytrain)"
   ]
  },
  {
   "cell_type": "markdown",
   "metadata": {
    "hidden": true
   },
   "source": [
    "> **Predictions**"
   ]
  },
  {
   "cell_type": "code",
   "execution_count": 406,
   "metadata": {
    "hidden": true
   },
   "outputs": [
    {
     "data": {
      "text/plain": [
       "array([[1303.53247603],\n",
       "       [3222.21384152],\n",
       "       [1404.51570579],\n",
       "       ...,\n",
       "       [1101.5660165 ],\n",
       "       [1101.5660165 ],\n",
       "       [1101.5660165 ]])"
      ]
     },
     "execution_count": 406,
     "metadata": {},
     "output_type": "execute_result"
    }
   ],
   "source": [
    "# Trained model from above to predict the outcomes for the baseline_Xtest.\n",
    "\n",
    "baseline_simppredict = baseline_simpregression.predict(\n",
    "    baseline_Xtest.iloc[:, -11][:, np.newaxis])\n",
    "baseline_simppredict[:, None]"
   ]
  },
  {
   "cell_type": "markdown",
   "metadata": {
    "hidden": true
   },
   "source": [
    "> **Assessing model accuracy**"
   ]
  },
  {
   "cell_type": "markdown",
   "metadata": {
    "hidden": true
   },
   "source": [
    "**Mean Squared Error**"
   ]
  },
  {
   "cell_type": "code",
   "execution_count": 427,
   "metadata": {
    "hidden": true
   },
   "outputs": [],
   "source": [
    "# Calculating the mean squared error between the predicted values and test set values.\n",
    "\n",
    "def mse(baseline_Ytest, baseline_simppredict):\n",
    "\n",
    "    MSE = mean_squared_error(baseline_Ytest, baseline_simppredict)\n",
    "    return MSE"
   ]
  },
  {
   "cell_type": "code",
   "execution_count": 428,
   "metadata": {
    "hidden": true
   },
   "outputs": [
    {
     "data": {
      "text/plain": [
       "630189.2670758963"
      ]
     },
     "execution_count": 428,
     "metadata": {},
     "output_type": "execute_result"
    }
   ],
   "source": [
    "mse(baseline_Ytest, baseline_simppredict)"
   ]
  },
  {
   "cell_type": "markdown",
   "metadata": {
    "hidden": true
   },
   "source": [
    "**Residual Sum of Squares**"
   ]
  },
  {
   "cell_type": "code",
   "execution_count": 429,
   "metadata": {
    "hidden": true
   },
   "outputs": [],
   "source": [
    "# Calculating the residual sum of squares between the predicted values and test set values.\n",
    "\n",
    "def rss(baseline_Ytest, baseline_simppredict):\n",
    "\n",
    "    RSS = mean_squared_error(\n",
    "        baseline_Ytest, baseline_simppredict)*len(baseline_X)\n",
    "    return RSS"
   ]
  },
  {
   "cell_type": "code",
   "execution_count": 430,
   "metadata": {
    "hidden": true
   },
   "outputs": [
    {
     "data": {
      "text/plain": [
       "13360642651.276077"
      ]
     },
     "execution_count": 430,
     "metadata": {},
     "output_type": "execute_result"
    }
   ],
   "source": [
    "rss(baseline_Ytest, baseline_simppredict)"
   ]
  },
  {
   "cell_type": "markdown",
   "metadata": {
    "hidden": true
   },
   "source": [
    "**R squared**"
   ]
  },
  {
   "cell_type": "code",
   "execution_count": 431,
   "metadata": {
    "hidden": true
   },
   "outputs": [],
   "source": [
    "# Calculating the R squared between the predicted values and test set values.\n",
    "\n",
    "def r2(baseline_Ytest, baseline_simppredict):\n",
    "\n",
    "    R2 = r2_score(baseline_Ytest, baseline_simppredict)\n",
    "    return R2"
   ]
  },
  {
   "cell_type": "code",
   "execution_count": 432,
   "metadata": {
    "hidden": true
   },
   "outputs": [
    {
     "data": {
      "text/plain": [
       "0.33885619187981375"
      ]
     },
     "execution_count": 432,
     "metadata": {},
     "output_type": "execute_result"
    }
   ],
   "source": [
    "r2(baseline_Ytest, baseline_simppredict)"
   ]
  },
  {
   "cell_type": "markdown",
   "metadata": {
    "hidden": true
   },
   "source": [
    "**Root Mean Squared Error**"
   ]
  },
  {
   "cell_type": "code",
   "execution_count": 433,
   "metadata": {
    "hidden": true
   },
   "outputs": [],
   "source": [
    "# Calculating the root mean squared error between the predicted values and test set values.\n",
    "\n",
    "def rmse(baseline_Ytest, baseline_simppredict):\n",
    "    RMSE = np.sqrt(mean_squared_error(baseline_Ytest, baseline_simppredict))\n",
    "\n",
    "    return RMSE"
   ]
  },
  {
   "cell_type": "code",
   "execution_count": 434,
   "metadata": {
    "hidden": true
   },
   "outputs": [
    {
     "data": {
      "text/plain": [
       "793.8446114170557"
      ]
     },
     "execution_count": 434,
     "metadata": {},
     "output_type": "execute_result"
    }
   ],
   "source": [
    "rmse(baseline_Ytest, baseline_simppredict)"
   ]
  },
  {
   "cell_type": "markdown",
   "metadata": {
    "heading_collapsed": true,
    "hidden": true
   },
   "source": [
    "### Multiple Linear Regression"
   ]
  },
  {
   "cell_type": "markdown",
   "metadata": {
    "hidden": true
   },
   "source": [
    "> **Training the model**"
   ]
  },
  {
   "cell_type": "code",
   "execution_count": 327,
   "metadata": {
    "hidden": true
   },
   "outputs": [
    {
     "data": {
      "text/plain": [
       "LinearRegression(copy_X=True, fit_intercept=True, n_jobs=None, normalize=False)"
      ]
     },
     "execution_count": 327,
     "metadata": {},
     "output_type": "execute_result"
    }
   ],
   "source": [
    "# Create a model using the LinearRegression() method from sklearn.linear_model.\n",
    "\n",
    "baseline_multiregression = LinearRegression()\n",
    "baseline_multiregression.fit(baseline_Xtrain, baseline_Ytrain)"
   ]
  },
  {
   "cell_type": "code",
   "execution_count": 328,
   "metadata": {
    "hidden": true
   },
   "outputs": [
    {
     "name": "stdout",
     "output_type": "stream",
     "text": [
      "Intercept: 46606.70020303298\n"
     ]
    }
   ],
   "source": [
    "# extract model intercept\n",
    "\n",
    "beta_bimultiregression = float(baseline_multiregression.intercept_)\n",
    "print(\"Intercept:\", beta_bimultiregression)"
   ]
  },
  {
   "cell_type": "code",
   "execution_count": 329,
   "metadata": {
    "hidden": true
   },
   "outputs": [
    {
     "data": {
      "text/html": [
       "<div>\n",
       "<style scoped>\n",
       "    .dataframe tbody tr th:only-of-type {\n",
       "        vertical-align: middle;\n",
       "    }\n",
       "\n",
       "    .dataframe tbody tr th {\n",
       "        vertical-align: top;\n",
       "    }\n",
       "\n",
       "    .dataframe thead th {\n",
       "        text-align: right;\n",
       "    }\n",
       "</style>\n",
       "<table border=\"1\" class=\"dataframe\">\n",
       "  <thead>\n",
       "    <tr style=\"text-align: right;\">\n",
       "      <th></th>\n",
       "      <th>Coefficient</th>\n",
       "    </tr>\n",
       "  </thead>\n",
       "  <tbody>\n",
       "    <tr>\n",
       "      <td>Placement(Day)</td>\n",
       "      <td>-161.273015</td>\n",
       "    </tr>\n",
       "    <tr>\n",
       "      <td>Placement(Weekday)</td>\n",
       "      <td>-159.274513</td>\n",
       "    </tr>\n",
       "    <tr>\n",
       "      <td>Placement(Time)</td>\n",
       "      <td>0.002279</td>\n",
       "    </tr>\n",
       "    <tr>\n",
       "      <td>Confirmation(Day)</td>\n",
       "      <td>53.443611</td>\n",
       "    </tr>\n",
       "    <tr>\n",
       "      <td>Confirmation(Weekday)</td>\n",
       "      <td>55.442113</td>\n",
       "    </tr>\n",
       "    <tr>\n",
       "      <td>Confirmation(Time)</td>\n",
       "      <td>-0.001688</td>\n",
       "    </tr>\n",
       "    <tr>\n",
       "      <td>Arrival(Day)</td>\n",
       "      <td>53.443611</td>\n",
       "    </tr>\n",
       "    <tr>\n",
       "      <td>Arrival(Weekday)</td>\n",
       "      <td>55.442113</td>\n",
       "    </tr>\n",
       "    <tr>\n",
       "      <td>Arrival(Time)</td>\n",
       "      <td>-0.002015</td>\n",
       "    </tr>\n",
       "    <tr>\n",
       "      <td>Pickup(Day)</td>\n",
       "      <td>53.443611</td>\n",
       "    </tr>\n",
       "    <tr>\n",
       "      <td>Pickup(Weekday)</td>\n",
       "      <td>55.442113</td>\n",
       "    </tr>\n",
       "    <tr>\n",
       "      <td>Pickup(Time)</td>\n",
       "      <td>0.000115</td>\n",
       "    </tr>\n",
       "    <tr>\n",
       "      <td>Distance(KM)</td>\n",
       "      <td>102.667789</td>\n",
       "    </tr>\n",
       "    <tr>\n",
       "      <td>Temperature</td>\n",
       "      <td>1.246668</td>\n",
       "    </tr>\n",
       "    <tr>\n",
       "      <td>Precipitation(mm)</td>\n",
       "      <td>2.512543</td>\n",
       "    </tr>\n",
       "    <tr>\n",
       "      <td>Pickup(Lat)</td>\n",
       "      <td>564.112183</td>\n",
       "    </tr>\n",
       "    <tr>\n",
       "      <td>Pickup(Long)</td>\n",
       "      <td>-1097.451501</td>\n",
       "    </tr>\n",
       "    <tr>\n",
       "      <td>Destination(Lat)</td>\n",
       "      <td>-488.081996</td>\n",
       "    </tr>\n",
       "    <tr>\n",
       "      <td>Destination(Long)</td>\n",
       "      <td>-151.667247</td>\n",
       "    </tr>\n",
       "    <tr>\n",
       "      <td>Platform(Type2)</td>\n",
       "      <td>0.457001</td>\n",
       "    </tr>\n",
       "    <tr>\n",
       "      <td>Platform(Type3)</td>\n",
       "      <td>48.803341</td>\n",
       "    </tr>\n",
       "    <tr>\n",
       "      <td>Platform(Type4)</td>\n",
       "      <td>-232.326291</td>\n",
       "    </tr>\n",
       "    <tr>\n",
       "      <td>Personal/Business</td>\n",
       "      <td>67.172831</td>\n",
       "    </tr>\n",
       "  </tbody>\n",
       "</table>\n",
       "</div>"
      ],
      "text/plain": [
       "                       Coefficient\n",
       "Placement(Day)         -161.273015\n",
       "Placement(Weekday)     -159.274513\n",
       "Placement(Time)           0.002279\n",
       "Confirmation(Day)        53.443611\n",
       "Confirmation(Weekday)    55.442113\n",
       "Confirmation(Time)       -0.001688\n",
       "Arrival(Day)             53.443611\n",
       "Arrival(Weekday)         55.442113\n",
       "Arrival(Time)            -0.002015\n",
       "Pickup(Day)              53.443611\n",
       "Pickup(Weekday)          55.442113\n",
       "Pickup(Time)              0.000115\n",
       "Distance(KM)            102.667789\n",
       "Temperature               1.246668\n",
       "Precipitation(mm)         2.512543\n",
       "Pickup(Lat)             564.112183\n",
       "Pickup(Long)          -1097.451501\n",
       "Destination(Lat)       -488.081996\n",
       "Destination(Long)      -151.667247\n",
       "Platform(Type2)           0.457001\n",
       "Platform(Type3)          48.803341\n",
       "Platform(Type4)        -232.326291\n",
       "Personal/Business        67.172831"
      ]
     },
     "metadata": {},
     "output_type": "display_data"
    }
   ],
   "source": [
    "# extract model coefficients\n",
    "\n",
    "beta_bcmultiregression = pd.DataFrame(\n",
    "    baseline_multiregression.coef_, \n",
    "    baseline_X.columns, \n",
    "    columns=['Coefficient'])\n",
    "display(beta_bcmultiregression)"
   ]
  },
  {
   "cell_type": "markdown",
   "metadata": {
    "hidden": true
   },
   "source": [
    "> **Predictions**"
   ]
  },
  {
   "cell_type": "code",
   "execution_count": 331,
   "metadata": {
    "hidden": true
   },
   "outputs": [
    {
     "data": {
      "text/plain": [
       "array([[1312.15014999],\n",
       "       [3272.450594  ],\n",
       "       [1356.8443304 ],\n",
       "       ...,\n",
       "       [1046.81838199],\n",
       "       [1060.02741748],\n",
       "       [1081.22697426]])"
      ]
     },
     "execution_count": 331,
     "metadata": {},
     "output_type": "execute_result"
    }
   ],
   "source": [
    "# Using the trained model from above to predict the outcomes for the baseline_Xtest.\n",
    "\n",
    "baseline_multipredict= baseline_multiregression.predict(baseline_Xtest)\n",
    "baseline_multipredict[:, None]"
   ]
  },
  {
   "cell_type": "markdown",
   "metadata": {
    "hidden": true
   },
   "source": [
    "> **Assessing model accuracy**"
   ]
  },
  {
   "cell_type": "markdown",
   "metadata": {
    "hidden": true
   },
   "source": [
    "**Mean Squared Error**"
   ]
  },
  {
   "cell_type": "code",
   "execution_count": 435,
   "metadata": {
    "hidden": true
   },
   "outputs": [],
   "source": [
    "# Calculating the mean squared error between the predicted values and test set values.\n",
    "\n",
    "def mse(baseline_Ytest, baseline_multipredict):\n",
    "\n",
    "    MSE = mean_squared_error(baseline_Ytest, baseline_multipredict)\n",
    "    return MSE"
   ]
  },
  {
   "cell_type": "code",
   "execution_count": 436,
   "metadata": {
    "hidden": true
   },
   "outputs": [
    {
     "data": {
      "text/plain": [
       "626904.8833432547"
      ]
     },
     "execution_count": 436,
     "metadata": {},
     "output_type": "execute_result"
    }
   ],
   "source": [
    "mse(baseline_Ytest, baseline_multipredict)"
   ]
  },
  {
   "cell_type": "markdown",
   "metadata": {
    "hidden": true
   },
   "source": [
    "**Residual Sum of Squares**"
   ]
  },
  {
   "cell_type": "code",
   "execution_count": 440,
   "metadata": {
    "hidden": true
   },
   "outputs": [],
   "source": [
    "# Calculating the residual sum of squares between the predicted values and test set values.\n",
    "\n",
    "def rss(baseline_Ytest, baseline_multipredict):\n",
    "    \n",
    "    RSS = mean_squared_error(\n",
    "        baseline_Ytest, baseline_multipredict)*len(baseline_X)\n",
    "    return RSS"
   ]
  },
  {
   "cell_type": "code",
   "execution_count": 441,
   "metadata": {
    "hidden": true
   },
   "outputs": [
    {
     "data": {
      "text/plain": [
       "13291010431.760342"
      ]
     },
     "execution_count": 441,
     "metadata": {},
     "output_type": "execute_result"
    }
   ],
   "source": [
    "rss(baseline_Ytest, baseline_multipredict)"
   ]
  },
  {
   "cell_type": "markdown",
   "metadata": {
    "hidden": true
   },
   "source": [
    "**R squared**"
   ]
  },
  {
   "cell_type": "code",
   "execution_count": 442,
   "metadata": {
    "hidden": true
   },
   "outputs": [],
   "source": [
    "# Calculating the R squared between the predicted values and test set values.\n",
    "\n",
    "def r2(baseline_Ytest, baseline_multipredict):\n",
    "    \n",
    "    R2 = r2_score(baseline_Ytest, baseline_multipredict)\n",
    "    return R2"
   ]
  },
  {
   "cell_type": "code",
   "execution_count": 443,
   "metadata": {
    "hidden": true
   },
   "outputs": [
    {
     "data": {
      "text/plain": [
       "0.3423019026873022"
      ]
     },
     "execution_count": 443,
     "metadata": {},
     "output_type": "execute_result"
    }
   ],
   "source": [
    "r2(baseline_Ytest, baseline_multipredict)"
   ]
  },
  {
   "cell_type": "markdown",
   "metadata": {
    "hidden": true
   },
   "source": [
    "**Root Mean Squared Error**"
   ]
  },
  {
   "cell_type": "code",
   "execution_count": 444,
   "metadata": {
    "hidden": true
   },
   "outputs": [],
   "source": [
    "# Calculating the root mean squared error between the predicted values and test set values.\n",
    "\n",
    "def rmse(baseline_Ytest, baseline_multipredict):\n",
    "    RMSE = np.sqrt(mean_squared_error(baseline_Ytest, baseline_multipredict))\n",
    "\n",
    "    return RMSE"
   ]
  },
  {
   "cell_type": "code",
   "execution_count": 445,
   "metadata": {
    "hidden": true
   },
   "outputs": [
    {
     "data": {
      "text/plain": [
       "791.7732524803138"
      ]
     },
     "execution_count": 445,
     "metadata": {},
     "output_type": "execute_result"
    }
   ],
   "source": [
    "rmse(baseline_Ytest, baseline_multipredict)"
   ]
  },
  {
   "cell_type": "markdown",
   "metadata": {
    "heading_collapsed": true
   },
   "source": [
    "# Data Preprocessing"
   ]
  },
  {
   "cell_type": "markdown",
   "metadata": {
    "heading_collapsed": true,
    "hidden": true
   },
   "source": [
    "### Importing the libraries"
   ]
  },
  {
   "cell_type": "code",
   "execution_count": 332,
   "metadata": {
    "hidden": true
   },
   "outputs": [],
   "source": [
    "# Import python libraries\n",
    "import numpy as np\n",
    "import matplotlib.pyplot as plt\n",
    "import pandas as pd\n",
    "import seaborn as sns\n",
    "\n",
    "# Packages used to display the Exploratory Data Analysis(EDA)\n",
    "from pandas_profiling import ProfileReport\n",
    "from IPython.display import IFrame\n",
    "\n",
    "# Using the distance package from geopy to calculate the distance between coordinates\n",
    "from geopy.distance import distance\n",
    "\n",
    "# Train_test_split used to split the x dataframe into the training set and test set\n",
    "from sklearn.model_selection import train_test_split\n",
    "\n",
    "# Training the multiple linear regression model on the split data\n",
    "from sklearn.linear_model import LinearRegression\n",
    "\n",
    "# Training the XGBoost regression model on the split data\n",
    "import xgboost as xgb\n",
    "# Accuracy packages\n",
    "from sklearn.metrics import mean_squared_error"
   ]
  },
  {
   "cell_type": "markdown",
   "metadata": {
    "heading_collapsed": true,
    "hidden": true
   },
   "source": [
    "### Importing the dataset"
   ]
  },
  {
   "cell_type": "markdown",
   "metadata": {
    "heading_collapsed": true,
    "hidden": true
   },
   "source": [
    "##### Variable definitions"
   ]
  },
  {
   "cell_type": "code",
   "execution_count": 333,
   "metadata": {
    "hidden": true
   },
   "outputs": [
    {
     "data": {
      "text/html": [
       "<style  type=\"text/css\" >\n",
       "    #T_de3e4fc6_a18e_11ea_906e_f0d4e2f89142row0_col1 {\n",
       "            width:  600px;\n",
       "        }    #T_de3e4fc6_a18e_11ea_906e_f0d4e2f89142row1_col1 {\n",
       "            width:  600px;\n",
       "        }    #T_de3e4fc6_a18e_11ea_906e_f0d4e2f89142row2_col1 {\n",
       "            width:  600px;\n",
       "        }    #T_de3e4fc6_a18e_11ea_906e_f0d4e2f89142row3_col1 {\n",
       "            width:  600px;\n",
       "        }    #T_de3e4fc6_a18e_11ea_906e_f0d4e2f89142row4_col1 {\n",
       "            width:  600px;\n",
       "        }    #T_de3e4fc6_a18e_11ea_906e_f0d4e2f89142row5_col1 {\n",
       "            width:  600px;\n",
       "        }    #T_de3e4fc6_a18e_11ea_906e_f0d4e2f89142row6_col1 {\n",
       "            width:  600px;\n",
       "        }    #T_de3e4fc6_a18e_11ea_906e_f0d4e2f89142row7_col1 {\n",
       "            width:  600px;\n",
       "        }    #T_de3e4fc6_a18e_11ea_906e_f0d4e2f89142row8_col1 {\n",
       "            width:  600px;\n",
       "        }    #T_de3e4fc6_a18e_11ea_906e_f0d4e2f89142row9_col1 {\n",
       "            width:  600px;\n",
       "        }    #T_de3e4fc6_a18e_11ea_906e_f0d4e2f89142row10_col1 {\n",
       "            width:  600px;\n",
       "        }    #T_de3e4fc6_a18e_11ea_906e_f0d4e2f89142row11_col1 {\n",
       "            width:  600px;\n",
       "        }    #T_de3e4fc6_a18e_11ea_906e_f0d4e2f89142row12_col1 {\n",
       "            width:  600px;\n",
       "        }    #T_de3e4fc6_a18e_11ea_906e_f0d4e2f89142row13_col1 {\n",
       "            width:  600px;\n",
       "        }    #T_de3e4fc6_a18e_11ea_906e_f0d4e2f89142row14_col1 {\n",
       "            width:  600px;\n",
       "        }    #T_de3e4fc6_a18e_11ea_906e_f0d4e2f89142row15_col1 {\n",
       "            width:  600px;\n",
       "        }    #T_de3e4fc6_a18e_11ea_906e_f0d4e2f89142row16_col1 {\n",
       "            width:  600px;\n",
       "        }    #T_de3e4fc6_a18e_11ea_906e_f0d4e2f89142row17_col1 {\n",
       "            width:  600px;\n",
       "        }    #T_de3e4fc6_a18e_11ea_906e_f0d4e2f89142row18_col1 {\n",
       "            width:  600px;\n",
       "        }    #T_de3e4fc6_a18e_11ea_906e_f0d4e2f89142row19_col1 {\n",
       "            width:  600px;\n",
       "        }    #T_de3e4fc6_a18e_11ea_906e_f0d4e2f89142row20_col1 {\n",
       "            width:  600px;\n",
       "        }    #T_de3e4fc6_a18e_11ea_906e_f0d4e2f89142row21_col1 {\n",
       "            width:  600px;\n",
       "        }    #T_de3e4fc6_a18e_11ea_906e_f0d4e2f89142row22_col1 {\n",
       "            width:  600px;\n",
       "        }    #T_de3e4fc6_a18e_11ea_906e_f0d4e2f89142row23_col1 {\n",
       "            width:  600px;\n",
       "        }    #T_de3e4fc6_a18e_11ea_906e_f0d4e2f89142row24_col1 {\n",
       "            width:  600px;\n",
       "        }    #T_de3e4fc6_a18e_11ea_906e_f0d4e2f89142row25_col1 {\n",
       "            width:  600px;\n",
       "        }    #T_de3e4fc6_a18e_11ea_906e_f0d4e2f89142row26_col1 {\n",
       "            width:  600px;\n",
       "        }    #T_de3e4fc6_a18e_11ea_906e_f0d4e2f89142row27_col1 {\n",
       "            width:  600px;\n",
       "        }    #T_de3e4fc6_a18e_11ea_906e_f0d4e2f89142row28_col1 {\n",
       "            width:  600px;\n",
       "        }    #T_de3e4fc6_a18e_11ea_906e_f0d4e2f89142row29_col1 {\n",
       "            width:  600px;\n",
       "        }    #T_de3e4fc6_a18e_11ea_906e_f0d4e2f89142row30_col1 {\n",
       "            width:  600px;\n",
       "        }    #T_de3e4fc6_a18e_11ea_906e_f0d4e2f89142row31_col1 {\n",
       "            width:  600px;\n",
       "        }    #T_de3e4fc6_a18e_11ea_906e_f0d4e2f89142row32_col1 {\n",
       "            width:  600px;\n",
       "        }    #T_de3e4fc6_a18e_11ea_906e_f0d4e2f89142row33_col1 {\n",
       "            width:  600px;\n",
       "        }    #T_de3e4fc6_a18e_11ea_906e_f0d4e2f89142row34_col1 {\n",
       "            width:  600px;\n",
       "        }    #T_de3e4fc6_a18e_11ea_906e_f0d4e2f89142row35_col1 {\n",
       "            width:  600px;\n",
       "        }</style><table id=\"T_de3e4fc6_a18e_11ea_906e_f0d4e2f89142\" ><thead>    <tr>        <th class=\"blank level0\" ></th>        <th class=\"col_heading level0 col0\" >Column_Name</th>        <th class=\"col_heading level0 col1\" >Description</th>    </tr></thead><tbody>\n",
       "                <tr>\n",
       "                        <th id=\"T_de3e4fc6_a18e_11ea_906e_f0d4e2f89142level0_row0\" class=\"row_heading level0 row0\" >0</th>\n",
       "                        <td id=\"T_de3e4fc6_a18e_11ea_906e_f0d4e2f89142row0_col0\" class=\"data row0 col0\" >Order No</td>\n",
       "                        <td id=\"T_de3e4fc6_a18e_11ea_906e_f0d4e2f89142row0_col1\" class=\"data row0 col1\" >Unique number identifying the order</td>\n",
       "            </tr>\n",
       "            <tr>\n",
       "                        <th id=\"T_de3e4fc6_a18e_11ea_906e_f0d4e2f89142level0_row1\" class=\"row_heading level0 row1\" >1</th>\n",
       "                        <td id=\"T_de3e4fc6_a18e_11ea_906e_f0d4e2f89142row1_col0\" class=\"data row1 col0\" >User Id</td>\n",
       "                        <td id=\"T_de3e4fc6_a18e_11ea_906e_f0d4e2f89142row1_col1\" class=\"data row1 col1\" >Unique number identifying the customer on a platform</td>\n",
       "            </tr>\n",
       "            <tr>\n",
       "                        <th id=\"T_de3e4fc6_a18e_11ea_906e_f0d4e2f89142level0_row2\" class=\"row_heading level0 row2\" >2</th>\n",
       "                        <td id=\"T_de3e4fc6_a18e_11ea_906e_f0d4e2f89142row2_col0\" class=\"data row2 col0\" >Vehicle Type</td>\n",
       "                        <td id=\"T_de3e4fc6_a18e_11ea_906e_f0d4e2f89142row2_col1\" class=\"data row2 col1\" >For this competition limited to bikes, however in practice Sendy service extends to trucks and vans</td>\n",
       "            </tr>\n",
       "            <tr>\n",
       "                        <th id=\"T_de3e4fc6_a18e_11ea_906e_f0d4e2f89142level0_row3\" class=\"row_heading level0 row3\" >3</th>\n",
       "                        <td id=\"T_de3e4fc6_a18e_11ea_906e_f0d4e2f89142row3_col0\" class=\"data row3 col0\" >Platform Type</td>\n",
       "                        <td id=\"T_de3e4fc6_a18e_11ea_906e_f0d4e2f89142row3_col1\" class=\"data row3 col1\" >Platform used to place the order, there are 4 types</td>\n",
       "            </tr>\n",
       "            <tr>\n",
       "                        <th id=\"T_de3e4fc6_a18e_11ea_906e_f0d4e2f89142level0_row4\" class=\"row_heading level0 row4\" >4</th>\n",
       "                        <td id=\"T_de3e4fc6_a18e_11ea_906e_f0d4e2f89142row4_col0\" class=\"data row4 col0\" >Personal or Business</td>\n",
       "                        <td id=\"T_de3e4fc6_a18e_11ea_906e_f0d4e2f89142row4_col1\" class=\"data row4 col1\" >Customer type</td>\n",
       "            </tr>\n",
       "            <tr>\n",
       "                        <th id=\"T_de3e4fc6_a18e_11ea_906e_f0d4e2f89142level0_row5\" class=\"row_heading level0 row5\" >5</th>\n",
       "                        <td id=\"T_de3e4fc6_a18e_11ea_906e_f0d4e2f89142row5_col0\" class=\"data row5 col0\" >Placement - Day of Month</td>\n",
       "                        <td id=\"T_de3e4fc6_a18e_11ea_906e_f0d4e2f89142row5_col1\" class=\"data row5 col1\" >Placement - Day of Month i.e 1-31</td>\n",
       "            </tr>\n",
       "            <tr>\n",
       "                        <th id=\"T_de3e4fc6_a18e_11ea_906e_f0d4e2f89142level0_row6\" class=\"row_heading level0 row6\" >6</th>\n",
       "                        <td id=\"T_de3e4fc6_a18e_11ea_906e_f0d4e2f89142row6_col0\" class=\"data row6 col0\" >Placement - Weekday (Mo = 1)</td>\n",
       "                        <td id=\"T_de3e4fc6_a18e_11ea_906e_f0d4e2f89142row6_col1\" class=\"data row6 col1\" >Placement - Weekday (Monday = 1)</td>\n",
       "            </tr>\n",
       "            <tr>\n",
       "                        <th id=\"T_de3e4fc6_a18e_11ea_906e_f0d4e2f89142level0_row7\" class=\"row_heading level0 row7\" >7</th>\n",
       "                        <td id=\"T_de3e4fc6_a18e_11ea_906e_f0d4e2f89142row7_col0\" class=\"data row7 col0\" >Placement - Time</td>\n",
       "                        <td id=\"T_de3e4fc6_a18e_11ea_906e_f0d4e2f89142row7_col1\" class=\"data row7 col1\" >Placement - Time - Time of day the order was placed</td>\n",
       "            </tr>\n",
       "            <tr>\n",
       "                        <th id=\"T_de3e4fc6_a18e_11ea_906e_f0d4e2f89142level0_row8\" class=\"row_heading level0 row8\" >8</th>\n",
       "                        <td id=\"T_de3e4fc6_a18e_11ea_906e_f0d4e2f89142row8_col0\" class=\"data row8 col0\" >Confirmation - Day of Month</td>\n",
       "                        <td id=\"T_de3e4fc6_a18e_11ea_906e_f0d4e2f89142row8_col1\" class=\"data row8 col1\" >Confirmation - Day of Month i.e 1-31</td>\n",
       "            </tr>\n",
       "            <tr>\n",
       "                        <th id=\"T_de3e4fc6_a18e_11ea_906e_f0d4e2f89142level0_row9\" class=\"row_heading level0 row9\" >9</th>\n",
       "                        <td id=\"T_de3e4fc6_a18e_11ea_906e_f0d4e2f89142row9_col0\" class=\"data row9 col0\" >Confirmation - Weekday (Mo = 1)</td>\n",
       "                        <td id=\"T_de3e4fc6_a18e_11ea_906e_f0d4e2f89142row9_col1\" class=\"data row9 col1\" >Confirmation - Weekday (Monday = 1)</td>\n",
       "            </tr>\n",
       "            <tr>\n",
       "                        <th id=\"T_de3e4fc6_a18e_11ea_906e_f0d4e2f89142level0_row10\" class=\"row_heading level0 row10\" >10</th>\n",
       "                        <td id=\"T_de3e4fc6_a18e_11ea_906e_f0d4e2f89142row10_col0\" class=\"data row10 col0\" >Confirmation - Time</td>\n",
       "                        <td id=\"T_de3e4fc6_a18e_11ea_906e_f0d4e2f89142row10_col1\" class=\"data row10 col1\" >Confirmation - Time - Time of day the order was confirmed by a rider</td>\n",
       "            </tr>\n",
       "            <tr>\n",
       "                        <th id=\"T_de3e4fc6_a18e_11ea_906e_f0d4e2f89142level0_row11\" class=\"row_heading level0 row11\" >11</th>\n",
       "                        <td id=\"T_de3e4fc6_a18e_11ea_906e_f0d4e2f89142row11_col0\" class=\"data row11 col0\" >Arrival at Pickup - Day of Month</td>\n",
       "                        <td id=\"T_de3e4fc6_a18e_11ea_906e_f0d4e2f89142row11_col1\" class=\"data row11 col1\" >Arrival at Pickup - Day of Month i.e 1-31</td>\n",
       "            </tr>\n",
       "            <tr>\n",
       "                        <th id=\"T_de3e4fc6_a18e_11ea_906e_f0d4e2f89142level0_row12\" class=\"row_heading level0 row12\" >12</th>\n",
       "                        <td id=\"T_de3e4fc6_a18e_11ea_906e_f0d4e2f89142row12_col0\" class=\"data row12 col0\" >Arrival at Pickup - Weekday (Mo = 1)</td>\n",
       "                        <td id=\"T_de3e4fc6_a18e_11ea_906e_f0d4e2f89142row12_col1\" class=\"data row12 col1\" >Arrival at Pickup - Weekday (Monday = 1)</td>\n",
       "            </tr>\n",
       "            <tr>\n",
       "                        <th id=\"T_de3e4fc6_a18e_11ea_906e_f0d4e2f89142level0_row13\" class=\"row_heading level0 row13\" >13</th>\n",
       "                        <td id=\"T_de3e4fc6_a18e_11ea_906e_f0d4e2f89142row13_col0\" class=\"data row13 col0\" >Arrival at Pickup - Time</td>\n",
       "                        <td id=\"T_de3e4fc6_a18e_11ea_906e_f0d4e2f89142row13_col1\" class=\"data row13 col1\" >Time of day the the rider arrived at the location to pick up the order - as marked by the rider through the Sendy application</td>\n",
       "            </tr>\n",
       "            <tr>\n",
       "                        <th id=\"T_de3e4fc6_a18e_11ea_906e_f0d4e2f89142level0_row14\" class=\"row_heading level0 row14\" >14</th>\n",
       "                        <td id=\"T_de3e4fc6_a18e_11ea_906e_f0d4e2f89142row14_col0\" class=\"data row14 col0\" >Pickup - Day of Month</td>\n",
       "                        <td id=\"T_de3e4fc6_a18e_11ea_906e_f0d4e2f89142row14_col1\" class=\"data row14 col1\" >Pickup - Day of Month i.e 1-31</td>\n",
       "            </tr>\n",
       "            <tr>\n",
       "                        <th id=\"T_de3e4fc6_a18e_11ea_906e_f0d4e2f89142level0_row15\" class=\"row_heading level0 row15\" >15</th>\n",
       "                        <td id=\"T_de3e4fc6_a18e_11ea_906e_f0d4e2f89142row15_col0\" class=\"data row15 col0\" >Pickup - Weekday (Mo = 1)</td>\n",
       "                        <td id=\"T_de3e4fc6_a18e_11ea_906e_f0d4e2f89142row15_col1\" class=\"data row15 col1\" >Pickup - Weekday (Monday = 1)</td>\n",
       "            </tr>\n",
       "            <tr>\n",
       "                        <th id=\"T_de3e4fc6_a18e_11ea_906e_f0d4e2f89142level0_row16\" class=\"row_heading level0 row16\" >16</th>\n",
       "                        <td id=\"T_de3e4fc6_a18e_11ea_906e_f0d4e2f89142row16_col0\" class=\"data row16 col0\" >Pickup - Time</td>\n",
       "                        <td id=\"T_de3e4fc6_a18e_11ea_906e_f0d4e2f89142row16_col1\" class=\"data row16 col1\" >Pickup - Time - Time of day the the rider picked up the order - as marked by the rider through the Sendy application</td>\n",
       "            </tr>\n",
       "            <tr>\n",
       "                        <th id=\"T_de3e4fc6_a18e_11ea_906e_f0d4e2f89142level0_row17\" class=\"row_heading level0 row17\" >17</th>\n",
       "                        <td id=\"T_de3e4fc6_a18e_11ea_906e_f0d4e2f89142row17_col0\" class=\"data row17 col0\" >Arrival at Destination - Day of Month</td>\n",
       "                        <td id=\"T_de3e4fc6_a18e_11ea_906e_f0d4e2f89142row17_col1\" class=\"data row17 col1\" >Arrival at Delivery - Day of Month i.e 1-31</td>\n",
       "            </tr>\n",
       "            <tr>\n",
       "                        <th id=\"T_de3e4fc6_a18e_11ea_906e_f0d4e2f89142level0_row18\" class=\"row_heading level0 row18\" >18</th>\n",
       "                        <td id=\"T_de3e4fc6_a18e_11ea_906e_f0d4e2f89142row18_col0\" class=\"data row18 col0\" >Arrival at Destination - Weekday (Mo = 1)</td>\n",
       "                        <td id=\"T_de3e4fc6_a18e_11ea_906e_f0d4e2f89142row18_col1\" class=\"data row18 col1\" >Arrival at Delivery - Weekday (Monday = 1)</td>\n",
       "            </tr>\n",
       "            <tr>\n",
       "                        <th id=\"T_de3e4fc6_a18e_11ea_906e_f0d4e2f89142level0_row19\" class=\"row_heading level0 row19\" >19</th>\n",
       "                        <td id=\"T_de3e4fc6_a18e_11ea_906e_f0d4e2f89142row19_col0\" class=\"data row19 col0\" >Arrival at Destination - Time</td>\n",
       "                        <td id=\"T_de3e4fc6_a18e_11ea_906e_f0d4e2f89142row19_col1\" class=\"data row19 col1\" >Arrival at Delivery Time - Time of day the rider arrived at the destination to deliver the order - as marked by the rider through the Sendy application</td>\n",
       "            </tr>\n",
       "            <tr>\n",
       "                        <th id=\"T_de3e4fc6_a18e_11ea_906e_f0d4e2f89142level0_row20\" class=\"row_heading level0 row20\" >20</th>\n",
       "                        <td id=\"T_de3e4fc6_a18e_11ea_906e_f0d4e2f89142row20_col0\" class=\"data row20 col0\" >Distance (KM)</td>\n",
       "                        <td id=\"T_de3e4fc6_a18e_11ea_906e_f0d4e2f89142row20_col1\" class=\"data row20 col1\" >The distance from Pickup to Destination</td>\n",
       "            </tr>\n",
       "            <tr>\n",
       "                        <th id=\"T_de3e4fc6_a18e_11ea_906e_f0d4e2f89142level0_row21\" class=\"row_heading level0 row21\" >21</th>\n",
       "                        <td id=\"T_de3e4fc6_a18e_11ea_906e_f0d4e2f89142row21_col0\" class=\"data row21 col0\" >Temperature</td>\n",
       "                        <td id=\"T_de3e4fc6_a18e_11ea_906e_f0d4e2f89142row21_col1\" class=\"data row21 col1\" >Temperature at the time of order placement in Degrees Celsius (measured every three hours)</td>\n",
       "            </tr>\n",
       "            <tr>\n",
       "                        <th id=\"T_de3e4fc6_a18e_11ea_906e_f0d4e2f89142level0_row22\" class=\"row_heading level0 row22\" >22</th>\n",
       "                        <td id=\"T_de3e4fc6_a18e_11ea_906e_f0d4e2f89142row22_col0\" class=\"data row22 col0\" >Precipitation in millimeters</td>\n",
       "                        <td id=\"T_de3e4fc6_a18e_11ea_906e_f0d4e2f89142row22_col1\" class=\"data row22 col1\" > Precipitation at the time of order placement (measured every three hours)</td>\n",
       "            </tr>\n",
       "            <tr>\n",
       "                        <th id=\"T_de3e4fc6_a18e_11ea_906e_f0d4e2f89142level0_row23\" class=\"row_heading level0 row23\" >23</th>\n",
       "                        <td id=\"T_de3e4fc6_a18e_11ea_906e_f0d4e2f89142row23_col0\" class=\"data row23 col0\" >Pickup Lat</td>\n",
       "                        <td id=\"T_de3e4fc6_a18e_11ea_906e_f0d4e2f89142row23_col1\" class=\"data row23 col1\" >Latitude of pick up location</td>\n",
       "            </tr>\n",
       "            <tr>\n",
       "                        <th id=\"T_de3e4fc6_a18e_11ea_906e_f0d4e2f89142level0_row24\" class=\"row_heading level0 row24\" >24</th>\n",
       "                        <td id=\"T_de3e4fc6_a18e_11ea_906e_f0d4e2f89142row24_col0\" class=\"data row24 col0\" >Pickup Long</td>\n",
       "                        <td id=\"T_de3e4fc6_a18e_11ea_906e_f0d4e2f89142row24_col1\" class=\"data row24 col1\" >Longitude of pick up location</td>\n",
       "            </tr>\n",
       "            <tr>\n",
       "                        <th id=\"T_de3e4fc6_a18e_11ea_906e_f0d4e2f89142level0_row25\" class=\"row_heading level0 row25\" >25</th>\n",
       "                        <td id=\"T_de3e4fc6_a18e_11ea_906e_f0d4e2f89142row25_col0\" class=\"data row25 col0\" >Destination Lat</td>\n",
       "                        <td id=\"T_de3e4fc6_a18e_11ea_906e_f0d4e2f89142row25_col1\" class=\"data row25 col1\" >Latitude of delivery location</td>\n",
       "            </tr>\n",
       "            <tr>\n",
       "                        <th id=\"T_de3e4fc6_a18e_11ea_906e_f0d4e2f89142level0_row26\" class=\"row_heading level0 row26\" >26</th>\n",
       "                        <td id=\"T_de3e4fc6_a18e_11ea_906e_f0d4e2f89142row26_col0\" class=\"data row26 col0\" >Destination Long</td>\n",
       "                        <td id=\"T_de3e4fc6_a18e_11ea_906e_f0d4e2f89142row26_col1\" class=\"data row26 col1\" >Longitude of delivery location</td>\n",
       "            </tr>\n",
       "            <tr>\n",
       "                        <th id=\"T_de3e4fc6_a18e_11ea_906e_f0d4e2f89142level0_row27\" class=\"row_heading level0 row27\" >27</th>\n",
       "                        <td id=\"T_de3e4fc6_a18e_11ea_906e_f0d4e2f89142row27_col0\" class=\"data row27 col0\" >Rider Id</td>\n",
       "                        <td id=\"T_de3e4fc6_a18e_11ea_906e_f0d4e2f89142row27_col1\" class=\"data row27 col1\" > ID of the Rider who accepted the order</td>\n",
       "            </tr>\n",
       "            <tr>\n",
       "                        <th id=\"T_de3e4fc6_a18e_11ea_906e_f0d4e2f89142level0_row28\" class=\"row_heading level0 row28\" >28</th>\n",
       "                        <td id=\"T_de3e4fc6_a18e_11ea_906e_f0d4e2f89142row28_col0\" class=\"data row28 col0\" >Time from Pickup to Arrival</td>\n",
       "                        <td id=\"T_de3e4fc6_a18e_11ea_906e_f0d4e2f89142row28_col1\" class=\"data row28 col1\" >Time in seconds between 'Pickup' and 'Arrival at Destination' - calculated from the columns for the purpose of facilitating the task</td>\n",
       "            </tr>\n",
       "            <tr>\n",
       "                        <th id=\"T_de3e4fc6_a18e_11ea_906e_f0d4e2f89142level0_row29\" class=\"row_heading level0 row29\" >29</th>\n",
       "                        <td id=\"T_de3e4fc6_a18e_11ea_906e_f0d4e2f89142row29_col0\" class=\"data row29 col0\" >nan</td>\n",
       "                        <td id=\"T_de3e4fc6_a18e_11ea_906e_f0d4e2f89142row29_col1\" class=\"data row29 col1\" >nan</td>\n",
       "            </tr>\n",
       "            <tr>\n",
       "                        <th id=\"T_de3e4fc6_a18e_11ea_906e_f0d4e2f89142level0_row30\" class=\"row_heading level0 row30\" >30</th>\n",
       "                        <td id=\"T_de3e4fc6_a18e_11ea_906e_f0d4e2f89142row30_col0\" class=\"data row30 col0\" >Rider Metrics</td>\n",
       "                        <td id=\"T_de3e4fc6_a18e_11ea_906e_f0d4e2f89142row30_col1\" class=\"data row30 col1\" >nan</td>\n",
       "            </tr>\n",
       "            <tr>\n",
       "                        <th id=\"T_de3e4fc6_a18e_11ea_906e_f0d4e2f89142level0_row31\" class=\"row_heading level0 row31\" >31</th>\n",
       "                        <td id=\"T_de3e4fc6_a18e_11ea_906e_f0d4e2f89142row31_col0\" class=\"data row31 col0\" >Rider Id</td>\n",
       "                        <td id=\"T_de3e4fc6_a18e_11ea_906e_f0d4e2f89142row31_col1\" class=\"data row31 col1\" >Unique number identifying the rider (same as in order details)</td>\n",
       "            </tr>\n",
       "            <tr>\n",
       "                        <th id=\"T_de3e4fc6_a18e_11ea_906e_f0d4e2f89142level0_row32\" class=\"row_heading level0 row32\" >32</th>\n",
       "                        <td id=\"T_de3e4fc6_a18e_11ea_906e_f0d4e2f89142row32_col0\" class=\"data row32 col0\" >No_Of_Orders</td>\n",
       "                        <td id=\"T_de3e4fc6_a18e_11ea_906e_f0d4e2f89142row32_col1\" class=\"data row32 col1\" > Number of Orders the rider has delivered</td>\n",
       "            </tr>\n",
       "            <tr>\n",
       "                        <th id=\"T_de3e4fc6_a18e_11ea_906e_f0d4e2f89142level0_row33\" class=\"row_heading level0 row33\" >33</th>\n",
       "                        <td id=\"T_de3e4fc6_a18e_11ea_906e_f0d4e2f89142row33_col0\" class=\"data row33 col0\" >Age</td>\n",
       "                        <td id=\"T_de3e4fc6_a18e_11ea_906e_f0d4e2f89142row33_col1\" class=\"data row33 col1\" >Number of days since the rider delivered the first order</td>\n",
       "            </tr>\n",
       "            <tr>\n",
       "                        <th id=\"T_de3e4fc6_a18e_11ea_906e_f0d4e2f89142level0_row34\" class=\"row_heading level0 row34\" >34</th>\n",
       "                        <td id=\"T_de3e4fc6_a18e_11ea_906e_f0d4e2f89142row34_col0\" class=\"data row34 col0\" >Average_Rating</td>\n",
       "                        <td id=\"T_de3e4fc6_a18e_11ea_906e_f0d4e2f89142row34_col1\" class=\"data row34 col1\" >Average rating of the rider</td>\n",
       "            </tr>\n",
       "            <tr>\n",
       "                        <th id=\"T_de3e4fc6_a18e_11ea_906e_f0d4e2f89142level0_row35\" class=\"row_heading level0 row35\" >35</th>\n",
       "                        <td id=\"T_de3e4fc6_a18e_11ea_906e_f0d4e2f89142row35_col0\" class=\"data row35 col0\" >No_of_Ratings</td>\n",
       "                        <td id=\"T_de3e4fc6_a18e_11ea_906e_f0d4e2f89142row35_col1\" class=\"data row35 col1\" > Number of ratings the rider has received. Rating an order is optional for the customer.</td>\n",
       "            </tr>\n",
       "    </tbody></table>"
      ],
      "text/plain": [
       "<pandas.io.formats.style.Styler at 0x2d59fed2048>"
      ]
     },
     "execution_count": 333,
     "metadata": {},
     "output_type": "execute_result"
    }
   ],
   "source": [
    "# Importing the VariableDefinitions.csv file from github as a Pandas DataFrame.\n",
    "# Creating new column names for the Pandas DataFrame.\n",
    "vardefinitions = pd.read_csv(\n",
    "    \"https://raw.githubusercontent.com/thembeks/Regression-Sendy-Logistics-Challenge-Team-14/Predict/VariableDefinitions.csv\", \n",
    "    names=['Column_Name', 'Description'])\n",
    "\n",
    "# Set the Pandas DataFrame style to display all the contents within the columns.\n",
    "vardefinitions.style.set_properties(\n",
    "    subset=['Description'], **{'width': '600px'})"
   ]
  },
  {
   "cell_type": "markdown",
   "metadata": {
    "heading_collapsed": true,
    "hidden": true
   },
   "source": [
    "##### Rider DataFrame"
   ]
  },
  {
   "cell_type": "code",
   "execution_count": 334,
   "metadata": {
    "hidden": true
   },
   "outputs": [
    {
     "data": {
      "text/html": [
       "<div>\n",
       "<style scoped>\n",
       "    .dataframe tbody tr th:only-of-type {\n",
       "        vertical-align: middle;\n",
       "    }\n",
       "\n",
       "    .dataframe tbody tr th {\n",
       "        vertical-align: top;\n",
       "    }\n",
       "\n",
       "    .dataframe thead th {\n",
       "        text-align: right;\n",
       "    }\n",
       "</style>\n",
       "<table border=\"1\" class=\"dataframe\">\n",
       "  <thead>\n",
       "    <tr style=\"text-align: right;\">\n",
       "      <th></th>\n",
       "      <th>No_Of_Orders</th>\n",
       "      <th>Age</th>\n",
       "      <th>Average_Rating</th>\n",
       "      <th>No_of_Ratings</th>\n",
       "    </tr>\n",
       "    <tr>\n",
       "      <th>Rider Id</th>\n",
       "      <th></th>\n",
       "      <th></th>\n",
       "      <th></th>\n",
       "      <th></th>\n",
       "    </tr>\n",
       "  </thead>\n",
       "  <tbody>\n",
       "    <tr>\n",
       "      <td>Rider_Id_396</td>\n",
       "      <td>2946</td>\n",
       "      <td>2298</td>\n",
       "      <td>14.0</td>\n",
       "      <td>1159</td>\n",
       "    </tr>\n",
       "    <tr>\n",
       "      <td>Rider_Id_479</td>\n",
       "      <td>360</td>\n",
       "      <td>951</td>\n",
       "      <td>13.5</td>\n",
       "      <td>176</td>\n",
       "    </tr>\n",
       "    <tr>\n",
       "      <td>Rider_Id_648</td>\n",
       "      <td>1746</td>\n",
       "      <td>821</td>\n",
       "      <td>14.3</td>\n",
       "      <td>466</td>\n",
       "    </tr>\n",
       "    <tr>\n",
       "      <td>Rider_Id_753</td>\n",
       "      <td>314</td>\n",
       "      <td>980</td>\n",
       "      <td>12.5</td>\n",
       "      <td>75</td>\n",
       "    </tr>\n",
       "    <tr>\n",
       "      <td>Rider_Id_335</td>\n",
       "      <td>536</td>\n",
       "      <td>1113</td>\n",
       "      <td>13.7</td>\n",
       "      <td>156</td>\n",
       "    </tr>\n",
       "    <tr>\n",
       "      <td>Rider_Id_720</td>\n",
       "      <td>2608</td>\n",
       "      <td>1798</td>\n",
       "      <td>13.2</td>\n",
       "      <td>504</td>\n",
       "    </tr>\n",
       "    <tr>\n",
       "      <td>Rider_Id_95</td>\n",
       "      <td>3464</td>\n",
       "      <td>1304</td>\n",
       "      <td>13.4</td>\n",
       "      <td>950</td>\n",
       "    </tr>\n",
       "    <tr>\n",
       "      <td>Rider_Id_122</td>\n",
       "      <td>4831</td>\n",
       "      <td>2124</td>\n",
       "      <td>14.1</td>\n",
       "      <td>1469</td>\n",
       "    </tr>\n",
       "    <tr>\n",
       "      <td>Rider_Id_900</td>\n",
       "      <td>1936</td>\n",
       "      <td>1436</td>\n",
       "      <td>14.2</td>\n",
       "      <td>610</td>\n",
       "    </tr>\n",
       "    <tr>\n",
       "      <td>Rider_Id_196</td>\n",
       "      <td>550</td>\n",
       "      <td>2379</td>\n",
       "      <td>13.4</td>\n",
       "      <td>224</td>\n",
       "    </tr>\n",
       "  </tbody>\n",
       "</table>\n",
       "</div>"
      ],
      "text/plain": [
       "              No_Of_Orders   Age  Average_Rating  No_of_Ratings\n",
       "Rider Id                                                       \n",
       "Rider_Id_396          2946  2298            14.0           1159\n",
       "Rider_Id_479           360   951            13.5            176\n",
       "Rider_Id_648          1746   821            14.3            466\n",
       "Rider_Id_753           314   980            12.5             75\n",
       "Rider_Id_335           536  1113            13.7            156\n",
       "Rider_Id_720          2608  1798            13.2            504\n",
       "Rider_Id_95           3464  1304            13.4            950\n",
       "Rider_Id_122          4831  2124            14.1           1469\n",
       "Rider_Id_900          1936  1436            14.2            610\n",
       "Rider_Id_196           550  2379            13.4            224"
      ]
     },
     "execution_count": 334,
     "metadata": {},
     "output_type": "execute_result"
    }
   ],
   "source": [
    "# Importing the Riders.csv file from github as a Pandas DataFrame and setting the RiderId as the index.\n",
    "rider = pd.read_csv(\n",
    "    'https://raw.githubusercontent.com/thembeks/Regression-Sendy-Logistics-Challenge-Team-14/Predict/Riders.csv', \n",
    "    index_col=0)\n",
    "\n",
    "# Replacing all the blank spaces between words in the column names with an underscore.\n",
    "rider.columns = [col.replace(' ', '_') \n",
    "                 for col in rider.columns]\n",
    "\n",
    "# Displays the first 10 rows of the rider DataFrame to show the layout of the DataFrame.\n",
    "rider.head(10)"
   ]
  },
  {
   "cell_type": "code",
   "execution_count": 335,
   "metadata": {
    "hidden": true
   },
   "outputs": [
    {
     "name": "stdout",
     "output_type": "stream",
     "text": [
      "<class 'pandas.core.frame.DataFrame'>\n",
      "Index: 960 entries, Rider_Id_396 to Rider_Id_904\n",
      "Data columns (total 4 columns):\n",
      "No_Of_Orders      960 non-null int64\n",
      "Age               960 non-null int64\n",
      "Average_Rating    960 non-null float64\n",
      "No_of_Ratings     960 non-null int64\n",
      "dtypes: float64(1), int64(3)\n",
      "memory usage: 37.5+ KB\n"
     ]
    },
    {
     "data": {
      "text/plain": [
       "(960, 4)"
      ]
     },
     "execution_count": 335,
     "metadata": {},
     "output_type": "execute_result"
    }
   ],
   "source": [
    "# A Pandas method that prints the information about a DataFrame.\n",
    "# The information printed: the index dtype,column dtypes, non-null values and memory usage.\n",
    "rider.info()\n",
    "\n",
    "# Returns a tuple representing the dimensionality of the DataFrame.\n",
    "rider.shape"
   ]
  },
  {
   "cell_type": "markdown",
   "metadata": {
    "heading_collapsed": true,
    "hidden": true
   },
   "source": [
    "##### Training set DataFrame"
   ]
  },
  {
   "cell_type": "code",
   "execution_count": 336,
   "metadata": {
    "hidden": true
   },
   "outputs": [
    {
     "data": {
      "text/html": [
       "<div>\n",
       "<style scoped>\n",
       "    .dataframe tbody tr th:only-of-type {\n",
       "        vertical-align: middle;\n",
       "    }\n",
       "\n",
       "    .dataframe tbody tr th {\n",
       "        vertical-align: top;\n",
       "    }\n",
       "\n",
       "    .dataframe thead th {\n",
       "        text-align: right;\n",
       "    }\n",
       "</style>\n",
       "<table border=\"1\" class=\"dataframe\">\n",
       "  <thead>\n",
       "    <tr style=\"text-align: right;\">\n",
       "      <th></th>\n",
       "      <th>User_Id</th>\n",
       "      <th>Vehicle_Type</th>\n",
       "      <th>Platform_Type</th>\n",
       "      <th>Personal_or_Business</th>\n",
       "      <th>Placement_-_Day_of_Month</th>\n",
       "      <th>Placement_-_Weekday_(Mo_=_1)</th>\n",
       "      <th>Placement_-_Time</th>\n",
       "      <th>Confirmation_-_Day_of_Month</th>\n",
       "      <th>Confirmation_-_Weekday_(Mo_=_1)</th>\n",
       "      <th>Confirmation_-_Time</th>\n",
       "      <th>...</th>\n",
       "      <th>Arrival_at_Destination_-_Time</th>\n",
       "      <th>Distance_(KM)</th>\n",
       "      <th>Temperature</th>\n",
       "      <th>Precipitation_in_millimeters</th>\n",
       "      <th>Pickup_Lat</th>\n",
       "      <th>Pickup_Long</th>\n",
       "      <th>Destination_Lat</th>\n",
       "      <th>Destination_Long</th>\n",
       "      <th>Rider_Id</th>\n",
       "      <th>Time_from_Pickup_to_Arrival</th>\n",
       "    </tr>\n",
       "    <tr>\n",
       "      <th>Order No</th>\n",
       "      <th></th>\n",
       "      <th></th>\n",
       "      <th></th>\n",
       "      <th></th>\n",
       "      <th></th>\n",
       "      <th></th>\n",
       "      <th></th>\n",
       "      <th></th>\n",
       "      <th></th>\n",
       "      <th></th>\n",
       "      <th></th>\n",
       "      <th></th>\n",
       "      <th></th>\n",
       "      <th></th>\n",
       "      <th></th>\n",
       "      <th></th>\n",
       "      <th></th>\n",
       "      <th></th>\n",
       "      <th></th>\n",
       "      <th></th>\n",
       "      <th></th>\n",
       "    </tr>\n",
       "  </thead>\n",
       "  <tbody>\n",
       "    <tr>\n",
       "      <td>Order_No_4211</td>\n",
       "      <td>User_Id_633</td>\n",
       "      <td>Bike</td>\n",
       "      <td>3</td>\n",
       "      <td>Business</td>\n",
       "      <td>9</td>\n",
       "      <td>5</td>\n",
       "      <td>9:35:46 AM</td>\n",
       "      <td>9</td>\n",
       "      <td>5</td>\n",
       "      <td>9:40:10 AM</td>\n",
       "      <td>...</td>\n",
       "      <td>10:39:55 AM</td>\n",
       "      <td>4</td>\n",
       "      <td>20.4</td>\n",
       "      <td>NaN</td>\n",
       "      <td>-1.317755</td>\n",
       "      <td>36.830370</td>\n",
       "      <td>-1.300406</td>\n",
       "      <td>36.829741</td>\n",
       "      <td>Rider_Id_432</td>\n",
       "      <td>745</td>\n",
       "    </tr>\n",
       "    <tr>\n",
       "      <td>Order_No_25375</td>\n",
       "      <td>User_Id_2285</td>\n",
       "      <td>Bike</td>\n",
       "      <td>3</td>\n",
       "      <td>Personal</td>\n",
       "      <td>12</td>\n",
       "      <td>5</td>\n",
       "      <td>11:16:16 AM</td>\n",
       "      <td>12</td>\n",
       "      <td>5</td>\n",
       "      <td>11:23:21 AM</td>\n",
       "      <td>...</td>\n",
       "      <td>12:17:22 PM</td>\n",
       "      <td>16</td>\n",
       "      <td>26.4</td>\n",
       "      <td>NaN</td>\n",
       "      <td>-1.351453</td>\n",
       "      <td>36.899315</td>\n",
       "      <td>-1.295004</td>\n",
       "      <td>36.814358</td>\n",
       "      <td>Rider_Id_856</td>\n",
       "      <td>1993</td>\n",
       "    </tr>\n",
       "    <tr>\n",
       "      <td>Order_No_1899</td>\n",
       "      <td>User_Id_265</td>\n",
       "      <td>Bike</td>\n",
       "      <td>3</td>\n",
       "      <td>Business</td>\n",
       "      <td>30</td>\n",
       "      <td>2</td>\n",
       "      <td>12:39:25 PM</td>\n",
       "      <td>30</td>\n",
       "      <td>2</td>\n",
       "      <td>12:42:44 PM</td>\n",
       "      <td>...</td>\n",
       "      <td>1:00:38 PM</td>\n",
       "      <td>3</td>\n",
       "      <td>NaN</td>\n",
       "      <td>NaN</td>\n",
       "      <td>-1.308284</td>\n",
       "      <td>36.843419</td>\n",
       "      <td>-1.300921</td>\n",
       "      <td>36.828195</td>\n",
       "      <td>Rider_Id_155</td>\n",
       "      <td>455</td>\n",
       "    </tr>\n",
       "    <tr>\n",
       "      <td>Order_No_9336</td>\n",
       "      <td>User_Id_1402</td>\n",
       "      <td>Bike</td>\n",
       "      <td>3</td>\n",
       "      <td>Business</td>\n",
       "      <td>15</td>\n",
       "      <td>5</td>\n",
       "      <td>9:25:34 AM</td>\n",
       "      <td>15</td>\n",
       "      <td>5</td>\n",
       "      <td>9:26:05 AM</td>\n",
       "      <td>...</td>\n",
       "      <td>10:05:27 AM</td>\n",
       "      <td>9</td>\n",
       "      <td>19.2</td>\n",
       "      <td>NaN</td>\n",
       "      <td>-1.281301</td>\n",
       "      <td>36.832396</td>\n",
       "      <td>-1.257147</td>\n",
       "      <td>36.795063</td>\n",
       "      <td>Rider_Id_855</td>\n",
       "      <td>1341</td>\n",
       "    </tr>\n",
       "    <tr>\n",
       "      <td>Order_No_27883</td>\n",
       "      <td>User_Id_1737</td>\n",
       "      <td>Bike</td>\n",
       "      <td>1</td>\n",
       "      <td>Personal</td>\n",
       "      <td>13</td>\n",
       "      <td>1</td>\n",
       "      <td>9:55:18 AM</td>\n",
       "      <td>13</td>\n",
       "      <td>1</td>\n",
       "      <td>9:56:18 AM</td>\n",
       "      <td>...</td>\n",
       "      <td>10:25:37 AM</td>\n",
       "      <td>9</td>\n",
       "      <td>15.4</td>\n",
       "      <td>NaN</td>\n",
       "      <td>-1.266597</td>\n",
       "      <td>36.792118</td>\n",
       "      <td>-1.295041</td>\n",
       "      <td>36.809817</td>\n",
       "      <td>Rider_Id_770</td>\n",
       "      <td>1214</td>\n",
       "    </tr>\n",
       "    <tr>\n",
       "      <td>Order_No_7408</td>\n",
       "      <td>User_Id_1342</td>\n",
       "      <td>Bike</td>\n",
       "      <td>3</td>\n",
       "      <td>Business</td>\n",
       "      <td>14</td>\n",
       "      <td>5</td>\n",
       "      <td>3:07:35 PM</td>\n",
       "      <td>14</td>\n",
       "      <td>5</td>\n",
       "      <td>3:08:57 PM</td>\n",
       "      <td>...</td>\n",
       "      <td>4:23:41 PM</td>\n",
       "      <td>9</td>\n",
       "      <td>27.2</td>\n",
       "      <td>NaN</td>\n",
       "      <td>-1.302583</td>\n",
       "      <td>36.767081</td>\n",
       "      <td>-1.257309</td>\n",
       "      <td>36.806008</td>\n",
       "      <td>Rider_Id_124</td>\n",
       "      <td>3191</td>\n",
       "    </tr>\n",
       "    <tr>\n",
       "      <td>Order_No_22680</td>\n",
       "      <td>User_Id_2803</td>\n",
       "      <td>Bike</td>\n",
       "      <td>3</td>\n",
       "      <td>Business</td>\n",
       "      <td>9</td>\n",
       "      <td>5</td>\n",
       "      <td>9:33:45 AM</td>\n",
       "      <td>9</td>\n",
       "      <td>5</td>\n",
       "      <td>9:49:47 AM</td>\n",
       "      <td>...</td>\n",
       "      <td>10:19:45 AM</td>\n",
       "      <td>5</td>\n",
       "      <td>20.3</td>\n",
       "      <td>NaN</td>\n",
       "      <td>-1.279395</td>\n",
       "      <td>36.825364</td>\n",
       "      <td>-1.276574</td>\n",
       "      <td>36.851365</td>\n",
       "      <td>Rider_Id_114</td>\n",
       "      <td>1380</td>\n",
       "    </tr>\n",
       "    <tr>\n",
       "      <td>Order_No_21578</td>\n",
       "      <td>User_Id_1075</td>\n",
       "      <td>Bike</td>\n",
       "      <td>3</td>\n",
       "      <td>Business</td>\n",
       "      <td>11</td>\n",
       "      <td>1</td>\n",
       "      <td>2:13:01 PM</td>\n",
       "      <td>11</td>\n",
       "      <td>1</td>\n",
       "      <td>2:14:13 PM</td>\n",
       "      <td>...</td>\n",
       "      <td>2:33:26 PM</td>\n",
       "      <td>3</td>\n",
       "      <td>28.7</td>\n",
       "      <td>NaN</td>\n",
       "      <td>-1.252796</td>\n",
       "      <td>36.800313</td>\n",
       "      <td>-1.255189</td>\n",
       "      <td>36.782203</td>\n",
       "      <td>Rider_Id_913</td>\n",
       "      <td>646</td>\n",
       "    </tr>\n",
       "    <tr>\n",
       "      <td>Order_No_5234</td>\n",
       "      <td>User_Id_733</td>\n",
       "      <td>Bike</td>\n",
       "      <td>3</td>\n",
       "      <td>Business</td>\n",
       "      <td>30</td>\n",
       "      <td>2</td>\n",
       "      <td>11:10:44 AM</td>\n",
       "      <td>30</td>\n",
       "      <td>2</td>\n",
       "      <td>11:15:49 AM</td>\n",
       "      <td>...</td>\n",
       "      <td>1:19:35 PM</td>\n",
       "      <td>9</td>\n",
       "      <td>NaN</td>\n",
       "      <td>NaN</td>\n",
       "      <td>-1.255189</td>\n",
       "      <td>36.782203</td>\n",
       "      <td>-1.300255</td>\n",
       "      <td>36.825657</td>\n",
       "      <td>Rider_Id_394</td>\n",
       "      <td>3398</td>\n",
       "    </tr>\n",
       "    <tr>\n",
       "      <td>Order_No_1768</td>\n",
       "      <td>User_Id_2112</td>\n",
       "      <td>Bike</td>\n",
       "      <td>3</td>\n",
       "      <td>Business</td>\n",
       "      <td>23</td>\n",
       "      <td>5</td>\n",
       "      <td>4:48:54 PM</td>\n",
       "      <td>23</td>\n",
       "      <td>5</td>\n",
       "      <td>5:17:56 PM</td>\n",
       "      <td>...</td>\n",
       "      <td>6:31:57 PM</td>\n",
       "      <td>14</td>\n",
       "      <td>24.6</td>\n",
       "      <td>NaN</td>\n",
       "      <td>-1.225322</td>\n",
       "      <td>36.808550</td>\n",
       "      <td>-1.215601</td>\n",
       "      <td>36.891686</td>\n",
       "      <td>Rider_Id_660</td>\n",
       "      <td>3439</td>\n",
       "    </tr>\n",
       "  </tbody>\n",
       "</table>\n",
       "<p>10 rows × 28 columns</p>\n",
       "</div>"
      ],
      "text/plain": [
       "                     User_Id Vehicle_Type  Platform_Type Personal_or_Business  \\\n",
       "Order No                                                                        \n",
       "Order_No_4211    User_Id_633         Bike              3             Business   \n",
       "Order_No_25375  User_Id_2285         Bike              3             Personal   \n",
       "Order_No_1899    User_Id_265         Bike              3             Business   \n",
       "Order_No_9336   User_Id_1402         Bike              3             Business   \n",
       "Order_No_27883  User_Id_1737         Bike              1             Personal   \n",
       "Order_No_7408   User_Id_1342         Bike              3             Business   \n",
       "Order_No_22680  User_Id_2803         Bike              3             Business   \n",
       "Order_No_21578  User_Id_1075         Bike              3             Business   \n",
       "Order_No_5234    User_Id_733         Bike              3             Business   \n",
       "Order_No_1768   User_Id_2112         Bike              3             Business   \n",
       "\n",
       "                Placement_-_Day_of_Month  Placement_-_Weekday_(Mo_=_1)  \\\n",
       "Order No                                                                 \n",
       "Order_No_4211                          9                             5   \n",
       "Order_No_25375                        12                             5   \n",
       "Order_No_1899                         30                             2   \n",
       "Order_No_9336                         15                             5   \n",
       "Order_No_27883                        13                             1   \n",
       "Order_No_7408                         14                             5   \n",
       "Order_No_22680                         9                             5   \n",
       "Order_No_21578                        11                             1   \n",
       "Order_No_5234                         30                             2   \n",
       "Order_No_1768                         23                             5   \n",
       "\n",
       "               Placement_-_Time  Confirmation_-_Day_of_Month  \\\n",
       "Order No                                                       \n",
       "Order_No_4211        9:35:46 AM                            9   \n",
       "Order_No_25375      11:16:16 AM                           12   \n",
       "Order_No_1899       12:39:25 PM                           30   \n",
       "Order_No_9336        9:25:34 AM                           15   \n",
       "Order_No_27883       9:55:18 AM                           13   \n",
       "Order_No_7408        3:07:35 PM                           14   \n",
       "Order_No_22680       9:33:45 AM                            9   \n",
       "Order_No_21578       2:13:01 PM                           11   \n",
       "Order_No_5234       11:10:44 AM                           30   \n",
       "Order_No_1768        4:48:54 PM                           23   \n",
       "\n",
       "                Confirmation_-_Weekday_(Mo_=_1) Confirmation_-_Time  ...  \\\n",
       "Order No                                                             ...   \n",
       "Order_No_4211                                 5          9:40:10 AM  ...   \n",
       "Order_No_25375                                5         11:23:21 AM  ...   \n",
       "Order_No_1899                                 2         12:42:44 PM  ...   \n",
       "Order_No_9336                                 5          9:26:05 AM  ...   \n",
       "Order_No_27883                                1          9:56:18 AM  ...   \n",
       "Order_No_7408                                 5          3:08:57 PM  ...   \n",
       "Order_No_22680                                5          9:49:47 AM  ...   \n",
       "Order_No_21578                                1          2:14:13 PM  ...   \n",
       "Order_No_5234                                 2         11:15:49 AM  ...   \n",
       "Order_No_1768                                 5          5:17:56 PM  ...   \n",
       "\n",
       "                Arrival_at_Destination_-_Time  Distance_(KM) Temperature  \\\n",
       "Order No                                                                   \n",
       "Order_No_4211                     10:39:55 AM              4        20.4   \n",
       "Order_No_25375                    12:17:22 PM             16        26.4   \n",
       "Order_No_1899                      1:00:38 PM              3         NaN   \n",
       "Order_No_9336                     10:05:27 AM              9        19.2   \n",
       "Order_No_27883                    10:25:37 AM              9        15.4   \n",
       "Order_No_7408                      4:23:41 PM              9        27.2   \n",
       "Order_No_22680                    10:19:45 AM              5        20.3   \n",
       "Order_No_21578                     2:33:26 PM              3        28.7   \n",
       "Order_No_5234                      1:19:35 PM              9         NaN   \n",
       "Order_No_1768                      6:31:57 PM             14        24.6   \n",
       "\n",
       "                Precipitation_in_millimeters  Pickup_Lat Pickup_Long  \\\n",
       "Order No                                                               \n",
       "Order_No_4211                            NaN   -1.317755   36.830370   \n",
       "Order_No_25375                           NaN   -1.351453   36.899315   \n",
       "Order_No_1899                            NaN   -1.308284   36.843419   \n",
       "Order_No_9336                            NaN   -1.281301   36.832396   \n",
       "Order_No_27883                           NaN   -1.266597   36.792118   \n",
       "Order_No_7408                            NaN   -1.302583   36.767081   \n",
       "Order_No_22680                           NaN   -1.279395   36.825364   \n",
       "Order_No_21578                           NaN   -1.252796   36.800313   \n",
       "Order_No_5234                            NaN   -1.255189   36.782203   \n",
       "Order_No_1768                            NaN   -1.225322   36.808550   \n",
       "\n",
       "                Destination_Lat  Destination_Long      Rider_Id  \\\n",
       "Order No                                                          \n",
       "Order_No_4211         -1.300406         36.829741  Rider_Id_432   \n",
       "Order_No_25375        -1.295004         36.814358  Rider_Id_856   \n",
       "Order_No_1899         -1.300921         36.828195  Rider_Id_155   \n",
       "Order_No_9336         -1.257147         36.795063  Rider_Id_855   \n",
       "Order_No_27883        -1.295041         36.809817  Rider_Id_770   \n",
       "Order_No_7408         -1.257309         36.806008  Rider_Id_124   \n",
       "Order_No_22680        -1.276574         36.851365  Rider_Id_114   \n",
       "Order_No_21578        -1.255189         36.782203  Rider_Id_913   \n",
       "Order_No_5234         -1.300255         36.825657  Rider_Id_394   \n",
       "Order_No_1768         -1.215601         36.891686  Rider_Id_660   \n",
       "\n",
       "                Time_from_Pickup_to_Arrival  \n",
       "Order No                                     \n",
       "Order_No_4211                           745  \n",
       "Order_No_25375                         1993  \n",
       "Order_No_1899                           455  \n",
       "Order_No_9336                          1341  \n",
       "Order_No_27883                         1214  \n",
       "Order_No_7408                          3191  \n",
       "Order_No_22680                         1380  \n",
       "Order_No_21578                          646  \n",
       "Order_No_5234                          3398  \n",
       "Order_No_1768                          3439  \n",
       "\n",
       "[10 rows x 28 columns]"
      ]
     },
     "execution_count": 336,
     "metadata": {},
     "output_type": "execute_result"
    }
   ],
   "source": [
    "# Importing the Train.csv file from github as a Pandas DataFrame and setting the OrderNo as the index.\n",
    "train = pd.read_csv(\n",
    "    'https://raw.githubusercontent.com/thembeks/Regression-Sendy-Logistics-Challenge-Team-14/Predict/Train.csv', \n",
    "    index_col=0)\n",
    "\n",
    "# Replacing all the blank spaces between words in the column names with an underscore.\n",
    "train.columns = [col.replace(' ', '_') \n",
    "                 for col in train.columns]\n",
    "\n",
    "# Displays the first 10 rows of the rider DataFrame to show the layout of the DataFrame.\n",
    "train.head(10)"
   ]
  },
  {
   "cell_type": "code",
   "execution_count": 337,
   "metadata": {
    "hidden": true
   },
   "outputs": [
    {
     "name": "stdout",
     "output_type": "stream",
     "text": [
      "<class 'pandas.core.frame.DataFrame'>\n",
      "Index: 21201 entries, Order_No_4211 to Order_No_9836\n",
      "Data columns (total 28 columns):\n",
      "User_Id                                      21201 non-null object\n",
      "Vehicle_Type                                 21201 non-null object\n",
      "Platform_Type                                21201 non-null int64\n",
      "Personal_or_Business                         21201 non-null object\n",
      "Placement_-_Day_of_Month                     21201 non-null int64\n",
      "Placement_-_Weekday_(Mo_=_1)                 21201 non-null int64\n",
      "Placement_-_Time                             21201 non-null object\n",
      "Confirmation_-_Day_of_Month                  21201 non-null int64\n",
      "Confirmation_-_Weekday_(Mo_=_1)              21201 non-null int64\n",
      "Confirmation_-_Time                          21201 non-null object\n",
      "Arrival_at_Pickup_-_Day_of_Month             21201 non-null int64\n",
      "Arrival_at_Pickup_-_Weekday_(Mo_=_1)         21201 non-null int64\n",
      "Arrival_at_Pickup_-_Time                     21201 non-null object\n",
      "Pickup_-_Day_of_Month                        21201 non-null int64\n",
      "Pickup_-_Weekday_(Mo_=_1)                    21201 non-null int64\n",
      "Pickup_-_Time                                21201 non-null object\n",
      "Arrival_at_Destination_-_Day_of_Month        21201 non-null int64\n",
      "Arrival_at_Destination_-_Weekday_(Mo_=_1)    21201 non-null int64\n",
      "Arrival_at_Destination_-_Time                21201 non-null object\n",
      "Distance_(KM)                                21201 non-null int64\n",
      "Temperature                                  16835 non-null float64\n",
      "Precipitation_in_millimeters                 552 non-null float64\n",
      "Pickup_Lat                                   21201 non-null float64\n",
      "Pickup_Long                                  21201 non-null float64\n",
      "Destination_Lat                              21201 non-null float64\n",
      "Destination_Long                             21201 non-null float64\n",
      "Rider_Id                                     21201 non-null object\n",
      "Time_from_Pickup_to_Arrival                  21201 non-null int64\n",
      "dtypes: float64(6), int64(13), object(9)\n",
      "memory usage: 4.7+ MB\n"
     ]
    },
    {
     "data": {
      "text/plain": [
       "(21201, 28)"
      ]
     },
     "execution_count": 337,
     "metadata": {},
     "output_type": "execute_result"
    }
   ],
   "source": [
    "# A Pandas method that prints the information about a DataFrame.\n",
    "# The information printed: the index dtype,column dtypes, non-null values and memory usage.\n",
    "train.info()\n",
    "\n",
    "# Returns a tuple representing the dimensionality of the DataFrame.\n",
    "train.shape\n"
   ]
  },
  {
   "cell_type": "markdown",
   "metadata": {
    "hidden": true
   },
   "source": [
    "> **Observations**\n",
    "\n",
    "\n",
    "- The training set DataFrame has a total of 29 columns and over 21 000 rows. \n",
    "- Upon closer observation, the dataset has missing values from the Temperature and Precipitation_in_mm columns. \n",
    "    - The precipitation column has 20 649 values missing from the column which makes it over 97% of the column missing.\n",
    "    - The Temperature column has 4 366 values missing from the column which makes it over 20% of the column missing.\n",
    "- The dataset has 10 oject data types which means that they will have to be converted into an integer or float in order for it to be used in building a predictive model.\n",
    "    - When looking further into the data within the columns, 5 of the columns contain a time in the format below which would either have to be converted into an integer or a float or will have to be dropped.\n",
    "    Example: 9:35:46 AM or 12:39:25 PM\n",
    "    - 2 of the other columns contain categorical data which will have to be encoded in order to be of use to building a predictive model"
   ]
  },
  {
   "cell_type": "markdown",
   "metadata": {
    "heading_collapsed": true,
    "hidden": true
   },
   "source": [
    "##### Testing set DataFrame"
   ]
  },
  {
   "cell_type": "code",
   "execution_count": 338,
   "metadata": {
    "hidden": true
   },
   "outputs": [
    {
     "data": {
      "text/html": [
       "<div>\n",
       "<style scoped>\n",
       "    .dataframe tbody tr th:only-of-type {\n",
       "        vertical-align: middle;\n",
       "    }\n",
       "\n",
       "    .dataframe tbody tr th {\n",
       "        vertical-align: top;\n",
       "    }\n",
       "\n",
       "    .dataframe thead th {\n",
       "        text-align: right;\n",
       "    }\n",
       "</style>\n",
       "<table border=\"1\" class=\"dataframe\">\n",
       "  <thead>\n",
       "    <tr style=\"text-align: right;\">\n",
       "      <th></th>\n",
       "      <th>User_Id</th>\n",
       "      <th>Vehicle_Type</th>\n",
       "      <th>Platform_Type</th>\n",
       "      <th>Personal_or_Business</th>\n",
       "      <th>Placement_-_Day_of_Month</th>\n",
       "      <th>Placement_-_Weekday_(Mo_=_1)</th>\n",
       "      <th>Placement_-_Time</th>\n",
       "      <th>Confirmation_-_Day_of_Month</th>\n",
       "      <th>Confirmation_-_Weekday_(Mo_=_1)</th>\n",
       "      <th>Confirmation_-_Time</th>\n",
       "      <th>...</th>\n",
       "      <th>Pickup_-_Weekday_(Mo_=_1)</th>\n",
       "      <th>Pickup_-_Time</th>\n",
       "      <th>Distance_(KM)</th>\n",
       "      <th>Temperature</th>\n",
       "      <th>Precipitation_in_millimeters</th>\n",
       "      <th>Pickup_Lat</th>\n",
       "      <th>Pickup_Long</th>\n",
       "      <th>Destination_Lat</th>\n",
       "      <th>Destination_Long</th>\n",
       "      <th>Rider_Id</th>\n",
       "    </tr>\n",
       "    <tr>\n",
       "      <th>Order No</th>\n",
       "      <th></th>\n",
       "      <th></th>\n",
       "      <th></th>\n",
       "      <th></th>\n",
       "      <th></th>\n",
       "      <th></th>\n",
       "      <th></th>\n",
       "      <th></th>\n",
       "      <th></th>\n",
       "      <th></th>\n",
       "      <th></th>\n",
       "      <th></th>\n",
       "      <th></th>\n",
       "      <th></th>\n",
       "      <th></th>\n",
       "      <th></th>\n",
       "      <th></th>\n",
       "      <th></th>\n",
       "      <th></th>\n",
       "      <th></th>\n",
       "      <th></th>\n",
       "    </tr>\n",
       "  </thead>\n",
       "  <tbody>\n",
       "    <tr>\n",
       "      <td>Order_No_19248</td>\n",
       "      <td>User_Id_3355</td>\n",
       "      <td>Bike</td>\n",
       "      <td>3</td>\n",
       "      <td>Business</td>\n",
       "      <td>27</td>\n",
       "      <td>3</td>\n",
       "      <td>4:44:10 PM</td>\n",
       "      <td>27</td>\n",
       "      <td>3</td>\n",
       "      <td>4:44:29 PM</td>\n",
       "      <td>...</td>\n",
       "      <td>3</td>\n",
       "      <td>5:06:47 PM</td>\n",
       "      <td>8</td>\n",
       "      <td>NaN</td>\n",
       "      <td>NaN</td>\n",
       "      <td>-1.333275</td>\n",
       "      <td>36.870815</td>\n",
       "      <td>-1.305249</td>\n",
       "      <td>36.822390</td>\n",
       "      <td>Rider_Id_192</td>\n",
       "    </tr>\n",
       "    <tr>\n",
       "      <td>Order_No_12736</td>\n",
       "      <td>User_Id_3647</td>\n",
       "      <td>Bike</td>\n",
       "      <td>3</td>\n",
       "      <td>Business</td>\n",
       "      <td>17</td>\n",
       "      <td>5</td>\n",
       "      <td>12:57:35 PM</td>\n",
       "      <td>17</td>\n",
       "      <td>5</td>\n",
       "      <td>12:59:17 PM</td>\n",
       "      <td>...</td>\n",
       "      <td>5</td>\n",
       "      <td>1:25:37 PM</td>\n",
       "      <td>5</td>\n",
       "      <td>NaN</td>\n",
       "      <td>NaN</td>\n",
       "      <td>-1.272639</td>\n",
       "      <td>36.794723</td>\n",
       "      <td>-1.277007</td>\n",
       "      <td>36.823907</td>\n",
       "      <td>Rider_Id_868</td>\n",
       "    </tr>\n",
       "    <tr>\n",
       "      <td>Order_No_768</td>\n",
       "      <td>User_Id_2154</td>\n",
       "      <td>Bike</td>\n",
       "      <td>3</td>\n",
       "      <td>Business</td>\n",
       "      <td>27</td>\n",
       "      <td>4</td>\n",
       "      <td>11:08:14 AM</td>\n",
       "      <td>27</td>\n",
       "      <td>4</td>\n",
       "      <td>11:25:05 AM</td>\n",
       "      <td>...</td>\n",
       "      <td>4</td>\n",
       "      <td>11:57:54 AM</td>\n",
       "      <td>5</td>\n",
       "      <td>22.8</td>\n",
       "      <td>NaN</td>\n",
       "      <td>-1.290894</td>\n",
       "      <td>36.822971</td>\n",
       "      <td>-1.276574</td>\n",
       "      <td>36.851365</td>\n",
       "      <td>Rider_Id_26</td>\n",
       "    </tr>\n",
       "    <tr>\n",
       "      <td>Order_No_15332</td>\n",
       "      <td>User_Id_2910</td>\n",
       "      <td>Bike</td>\n",
       "      <td>3</td>\n",
       "      <td>Business</td>\n",
       "      <td>17</td>\n",
       "      <td>1</td>\n",
       "      <td>1:51:35 PM</td>\n",
       "      <td>17</td>\n",
       "      <td>1</td>\n",
       "      <td>1:53:27 PM</td>\n",
       "      <td>...</td>\n",
       "      <td>1</td>\n",
       "      <td>2:16:52 PM</td>\n",
       "      <td>5</td>\n",
       "      <td>24.5</td>\n",
       "      <td>NaN</td>\n",
       "      <td>-1.290503</td>\n",
       "      <td>36.809646</td>\n",
       "      <td>-1.303382</td>\n",
       "      <td>36.790658</td>\n",
       "      <td>Rider_Id_685</td>\n",
       "    </tr>\n",
       "    <tr>\n",
       "      <td>Order_No_21373</td>\n",
       "      <td>User_Id_1205</td>\n",
       "      <td>Bike</td>\n",
       "      <td>3</td>\n",
       "      <td>Business</td>\n",
       "      <td>11</td>\n",
       "      <td>2</td>\n",
       "      <td>11:30:28 AM</td>\n",
       "      <td>11</td>\n",
       "      <td>2</td>\n",
       "      <td>11:34:45 AM</td>\n",
       "      <td>...</td>\n",
       "      <td>2</td>\n",
       "      <td>11:56:04 AM</td>\n",
       "      <td>6</td>\n",
       "      <td>24.4</td>\n",
       "      <td>NaN</td>\n",
       "      <td>-1.281081</td>\n",
       "      <td>36.814423</td>\n",
       "      <td>-1.266467</td>\n",
       "      <td>36.792161</td>\n",
       "      <td>Rider_Id_858</td>\n",
       "    </tr>\n",
       "    <tr>\n",
       "      <td>Order_No_14573</td>\n",
       "      <td>User_Id_2338</td>\n",
       "      <td>Bike</td>\n",
       "      <td>1</td>\n",
       "      <td>Personal</td>\n",
       "      <td>13</td>\n",
       "      <td>1</td>\n",
       "      <td>6:29:29 PM</td>\n",
       "      <td>13</td>\n",
       "      <td>1</td>\n",
       "      <td>6:29:33 PM</td>\n",
       "      <td>...</td>\n",
       "      <td>1</td>\n",
       "      <td>6:39:02 PM</td>\n",
       "      <td>16</td>\n",
       "      <td>19.3</td>\n",
       "      <td>NaN</td>\n",
       "      <td>-1.256606</td>\n",
       "      <td>36.795974</td>\n",
       "      <td>-1.223983</td>\n",
       "      <td>36.898452</td>\n",
       "      <td>Rider_Id_452</td>\n",
       "    </tr>\n",
       "    <tr>\n",
       "      <td>Order_No_6731</td>\n",
       "      <td>User_Id_488</td>\n",
       "      <td>Bike</td>\n",
       "      <td>2</td>\n",
       "      <td>Personal</td>\n",
       "      <td>17</td>\n",
       "      <td>3</td>\n",
       "      <td>9:53:29 AM</td>\n",
       "      <td>17</td>\n",
       "      <td>3</td>\n",
       "      <td>9:53:50 AM</td>\n",
       "      <td>...</td>\n",
       "      <td>3</td>\n",
       "      <td>10:08:00 AM</td>\n",
       "      <td>18</td>\n",
       "      <td>20.9</td>\n",
       "      <td>NaN</td>\n",
       "      <td>-1.225272</td>\n",
       "      <td>36.875672</td>\n",
       "      <td>-1.304713</td>\n",
       "      <td>36.808955</td>\n",
       "      <td>Rider_Id_704</td>\n",
       "    </tr>\n",
       "    <tr>\n",
       "      <td>Order_No_18436</td>\n",
       "      <td>User_Id_3764</td>\n",
       "      <td>Bike</td>\n",
       "      <td>3</td>\n",
       "      <td>Business</td>\n",
       "      <td>28</td>\n",
       "      <td>4</td>\n",
       "      <td>8:51:13 AM</td>\n",
       "      <td>28</td>\n",
       "      <td>4</td>\n",
       "      <td>8:52:46 AM</td>\n",
       "      <td>...</td>\n",
       "      <td>4</td>\n",
       "      <td>8:58:53 AM</td>\n",
       "      <td>8</td>\n",
       "      <td>22.7</td>\n",
       "      <td>NaN</td>\n",
       "      <td>-1.273539</td>\n",
       "      <td>36.833775</td>\n",
       "      <td>-1.297299</td>\n",
       "      <td>36.789446</td>\n",
       "      <td>Rider_Id_62</td>\n",
       "    </tr>\n",
       "    <tr>\n",
       "      <td>Order_No_2288</td>\n",
       "      <td>User_Id_2866</td>\n",
       "      <td>Bike</td>\n",
       "      <td>3</td>\n",
       "      <td>Business</td>\n",
       "      <td>28</td>\n",
       "      <td>4</td>\n",
       "      <td>8:58:21 AM</td>\n",
       "      <td>28</td>\n",
       "      <td>4</td>\n",
       "      <td>8:58:40 AM</td>\n",
       "      <td>...</td>\n",
       "      <td>4</td>\n",
       "      <td>9:30:35 AM</td>\n",
       "      <td>8</td>\n",
       "      <td>19.4</td>\n",
       "      <td>NaN</td>\n",
       "      <td>-1.255189</td>\n",
       "      <td>36.782203</td>\n",
       "      <td>-1.285770</td>\n",
       "      <td>36.759172</td>\n",
       "      <td>Rider_Id_177</td>\n",
       "    </tr>\n",
       "    <tr>\n",
       "      <td>Order_No_9063</td>\n",
       "      <td>User_Id_1329</td>\n",
       "      <td>Bike</td>\n",
       "      <td>3</td>\n",
       "      <td>Business</td>\n",
       "      <td>4</td>\n",
       "      <td>5</td>\n",
       "      <td>4:28:28 PM</td>\n",
       "      <td>4</td>\n",
       "      <td>5</td>\n",
       "      <td>4:29:22 PM</td>\n",
       "      <td>...</td>\n",
       "      <td>5</td>\n",
       "      <td>4:44:01 PM</td>\n",
       "      <td>15</td>\n",
       "      <td>21.7</td>\n",
       "      <td>NaN</td>\n",
       "      <td>-1.273056</td>\n",
       "      <td>36.811298</td>\n",
       "      <td>-1.330552</td>\n",
       "      <td>36.714289</td>\n",
       "      <td>Rider_Id_674</td>\n",
       "    </tr>\n",
       "  </tbody>\n",
       "</table>\n",
       "<p>10 rows × 24 columns</p>\n",
       "</div>"
      ],
      "text/plain": [
       "                     User_Id Vehicle_Type  Platform_Type Personal_or_Business  \\\n",
       "Order No                                                                        \n",
       "Order_No_19248  User_Id_3355         Bike              3             Business   \n",
       "Order_No_12736  User_Id_3647         Bike              3             Business   \n",
       "Order_No_768    User_Id_2154         Bike              3             Business   \n",
       "Order_No_15332  User_Id_2910         Bike              3             Business   \n",
       "Order_No_21373  User_Id_1205         Bike              3             Business   \n",
       "Order_No_14573  User_Id_2338         Bike              1             Personal   \n",
       "Order_No_6731    User_Id_488         Bike              2             Personal   \n",
       "Order_No_18436  User_Id_3764         Bike              3             Business   \n",
       "Order_No_2288   User_Id_2866         Bike              3             Business   \n",
       "Order_No_9063   User_Id_1329         Bike              3             Business   \n",
       "\n",
       "                Placement_-_Day_of_Month  Placement_-_Weekday_(Mo_=_1)  \\\n",
       "Order No                                                                 \n",
       "Order_No_19248                        27                             3   \n",
       "Order_No_12736                        17                             5   \n",
       "Order_No_768                          27                             4   \n",
       "Order_No_15332                        17                             1   \n",
       "Order_No_21373                        11                             2   \n",
       "Order_No_14573                        13                             1   \n",
       "Order_No_6731                         17                             3   \n",
       "Order_No_18436                        28                             4   \n",
       "Order_No_2288                         28                             4   \n",
       "Order_No_9063                          4                             5   \n",
       "\n",
       "               Placement_-_Time  Confirmation_-_Day_of_Month  \\\n",
       "Order No                                                       \n",
       "Order_No_19248       4:44:10 PM                           27   \n",
       "Order_No_12736      12:57:35 PM                           17   \n",
       "Order_No_768        11:08:14 AM                           27   \n",
       "Order_No_15332       1:51:35 PM                           17   \n",
       "Order_No_21373      11:30:28 AM                           11   \n",
       "Order_No_14573       6:29:29 PM                           13   \n",
       "Order_No_6731        9:53:29 AM                           17   \n",
       "Order_No_18436       8:51:13 AM                           28   \n",
       "Order_No_2288        8:58:21 AM                           28   \n",
       "Order_No_9063        4:28:28 PM                            4   \n",
       "\n",
       "                Confirmation_-_Weekday_(Mo_=_1) Confirmation_-_Time  ...  \\\n",
       "Order No                                                             ...   \n",
       "Order_No_19248                                3          4:44:29 PM  ...   \n",
       "Order_No_12736                                5         12:59:17 PM  ...   \n",
       "Order_No_768                                  4         11:25:05 AM  ...   \n",
       "Order_No_15332                                1          1:53:27 PM  ...   \n",
       "Order_No_21373                                2         11:34:45 AM  ...   \n",
       "Order_No_14573                                1          6:29:33 PM  ...   \n",
       "Order_No_6731                                 3          9:53:50 AM  ...   \n",
       "Order_No_18436                                4          8:52:46 AM  ...   \n",
       "Order_No_2288                                 4          8:58:40 AM  ...   \n",
       "Order_No_9063                                 5          4:29:22 PM  ...   \n",
       "\n",
       "                Pickup_-_Weekday_(Mo_=_1)  Pickup_-_Time Distance_(KM)  \\\n",
       "Order No                                                                 \n",
       "Order_No_19248                          3     5:06:47 PM             8   \n",
       "Order_No_12736                          5     1:25:37 PM             5   \n",
       "Order_No_768                            4    11:57:54 AM             5   \n",
       "Order_No_15332                          1     2:16:52 PM             5   \n",
       "Order_No_21373                          2    11:56:04 AM             6   \n",
       "Order_No_14573                          1     6:39:02 PM            16   \n",
       "Order_No_6731                           3    10:08:00 AM            18   \n",
       "Order_No_18436                          4     8:58:53 AM             8   \n",
       "Order_No_2288                           4     9:30:35 AM             8   \n",
       "Order_No_9063                           5     4:44:01 PM            15   \n",
       "\n",
       "                Temperature  Precipitation_in_millimeters Pickup_Lat  \\\n",
       "Order No                                                               \n",
       "Order_No_19248          NaN                           NaN  -1.333275   \n",
       "Order_No_12736          NaN                           NaN  -1.272639   \n",
       "Order_No_768           22.8                           NaN  -1.290894   \n",
       "Order_No_15332         24.5                           NaN  -1.290503   \n",
       "Order_No_21373         24.4                           NaN  -1.281081   \n",
       "Order_No_14573         19.3                           NaN  -1.256606   \n",
       "Order_No_6731          20.9                           NaN  -1.225272   \n",
       "Order_No_18436         22.7                           NaN  -1.273539   \n",
       "Order_No_2288          19.4                           NaN  -1.255189   \n",
       "Order_No_9063          21.7                           NaN  -1.273056   \n",
       "\n",
       "                Pickup_Long  Destination_Lat  Destination_Long      Rider_Id  \n",
       "Order No                                                                      \n",
       "Order_No_19248    36.870815        -1.305249         36.822390  Rider_Id_192  \n",
       "Order_No_12736    36.794723        -1.277007         36.823907  Rider_Id_868  \n",
       "Order_No_768      36.822971        -1.276574         36.851365   Rider_Id_26  \n",
       "Order_No_15332    36.809646        -1.303382         36.790658  Rider_Id_685  \n",
       "Order_No_21373    36.814423        -1.266467         36.792161  Rider_Id_858  \n",
       "Order_No_14573    36.795974        -1.223983         36.898452  Rider_Id_452  \n",
       "Order_No_6731     36.875672        -1.304713         36.808955  Rider_Id_704  \n",
       "Order_No_18436    36.833775        -1.297299         36.789446   Rider_Id_62  \n",
       "Order_No_2288     36.782203        -1.285770         36.759172  Rider_Id_177  \n",
       "Order_No_9063     36.811298        -1.330552         36.714289  Rider_Id_674  \n",
       "\n",
       "[10 rows x 24 columns]"
      ]
     },
     "execution_count": 338,
     "metadata": {},
     "output_type": "execute_result"
    }
   ],
   "source": [
    "# Importing the Test.csv file from github as a Pandas DataFrame and setting the OrderNo as the index.\n",
    "test = pd.read_csv(\n",
    "    'https://raw.githubusercontent.com/thembeks/Regression-Sendy-Logistics-Challenge-Team-14/Predict/Test.csv', \n",
    "    index_col=0)\n",
    "\n",
    "# Replacing all the blank spaces between words in the column names with an underscore.\n",
    "test.columns = [col.replace(' ', '_') for col in test.columns]\n",
    "\n",
    "# Displays the first 10 rows of the rider DataFrame to show the layout of the DataFrame.\n",
    "test.head(10)"
   ]
  },
  {
   "cell_type": "code",
   "execution_count": 339,
   "metadata": {
    "hidden": true
   },
   "outputs": [
    {
     "name": "stdout",
     "output_type": "stream",
     "text": [
      "<class 'pandas.core.frame.DataFrame'>\n",
      "Index: 7068 entries, Order_No_19248 to Order_No_1603\n",
      "Data columns (total 24 columns):\n",
      "User_Id                                 7068 non-null object\n",
      "Vehicle_Type                            7068 non-null object\n",
      "Platform_Type                           7068 non-null int64\n",
      "Personal_or_Business                    7068 non-null object\n",
      "Placement_-_Day_of_Month                7068 non-null int64\n",
      "Placement_-_Weekday_(Mo_=_1)            7068 non-null int64\n",
      "Placement_-_Time                        7068 non-null object\n",
      "Confirmation_-_Day_of_Month             7068 non-null int64\n",
      "Confirmation_-_Weekday_(Mo_=_1)         7068 non-null int64\n",
      "Confirmation_-_Time                     7068 non-null object\n",
      "Arrival_at_Pickup_-_Day_of_Month        7068 non-null int64\n",
      "Arrival_at_Pickup_-_Weekday_(Mo_=_1)    7068 non-null int64\n",
      "Arrival_at_Pickup_-_Time                7068 non-null object\n",
      "Pickup_-_Day_of_Month                   7068 non-null int64\n",
      "Pickup_-_Weekday_(Mo_=_1)               7068 non-null int64\n",
      "Pickup_-_Time                           7068 non-null object\n",
      "Distance_(KM)                           7068 non-null int64\n",
      "Temperature                             5631 non-null float64\n",
      "Precipitation_in_millimeters            199 non-null float64\n",
      "Pickup_Lat                              7068 non-null float64\n",
      "Pickup_Long                             7068 non-null float64\n",
      "Destination_Lat                         7068 non-null float64\n",
      "Destination_Long                        7068 non-null float64\n",
      "Rider_Id                                7068 non-null object\n",
      "dtypes: float64(6), int64(10), object(8)\n",
      "memory usage: 1.3+ MB\n"
     ]
    },
    {
     "data": {
      "text/plain": [
       "(7068, 24)"
      ]
     },
     "execution_count": 339,
     "metadata": {},
     "output_type": "execute_result"
    }
   ],
   "source": [
    "# A Pandas method that prints the information about a DataFrame.\n",
    "#The information printed: the index dtype,column dtypes, non-null values and memory usage.\n",
    "test.info()\n",
    "\n",
    "#Returns a tuple representing the dimensionality of the DataFrame.\n",
    "test.shape"
   ]
  },
  {
   "cell_type": "markdown",
   "metadata": {
    "hidden": true
   },
   "source": [
    "> **Observations**\n",
    "\n",
    "- The testing set DataFrame contains 25 columns and 7068 rows.\n",
    "- Just like the Training set DataFrame, the Precipitation_in_mm and Temperature columns are missing data. \n",
    "    - The missing data will be dealt in the same way as the Training set DataFrame.\n",
    "- The differences between the Training set and Testing set dataframe would have to be:\n",
    "    - The dependent variable(DV) is not in the Testing set DataFrame.\n",
    "    - The Training set DataFrame has 3 extra columns (Arrival_at_Destination_-_Day_of_Month, Arrival_at_Destination_-_Weekday_(Mo_=_1) and Arrival_at_Destination_-_Time), the columns will most likely be dropped when further analysis is done in order to make the Training set DataFrame congruent with the Testing set DataFrame.    "
   ]
  },
  {
   "cell_type": "markdown",
   "metadata": {
    "heading_collapsed": true,
    "hidden": true
   },
   "source": [
    "### Exploratory Data Analysis\n",
    "Exploratory Data Analysis(EDA) is an approach for data analysis that uses many tools(mainly graphicale to maximize insight into a data set, extract important variables, detect outliers and anomalies, amongst other details that is missed when looking at DataFrame."
   ]
  },
  {
   "cell_type": "markdown",
   "metadata": {
    "heading_collapsed": true,
    "hidden": true
   },
   "source": [
    "##### Training set DataFrame"
   ]
  },
  {
   "cell_type": "code",
   "execution_count": 340,
   "metadata": {
    "hidden": true
   },
   "outputs": [
    {
     "name": "stderr",
     "output_type": "stream",
     "text": [
      "C:\\Users\\Suzzy\\Anaconda3\\lib\\site-packages\\pandas_profiling\\describe.py:392: FutureWarning: The join_axes-keyword is deprecated. Use .reindex or .reindex_like on the result to achieve the same functionality.\n",
      "  variable_stats = pd.concat(ldesc, join_axes=pd.Index([names]), axis=1)\n"
     ]
    },
    {
     "data": {
      "text/html": [
       "\n",
       "        <iframe\n",
       "            width=\"900\"\n",
       "            height=\"800\"\n",
       "            src=\"./output.html\"\n",
       "            frameborder=\"0\"\n",
       "            allowfullscreen\n",
       "        ></iframe>\n",
       "        "
      ],
      "text/plain": [
       "<IPython.lib.display.IFrame at 0x2d5de13f9c8>"
      ]
     },
     "execution_count": 340,
     "metadata": {},
     "output_type": "execute_result"
    }
   ],
   "source": [
    "# Pandas Profile Report on the train DataFrame and converting the report to an html file.\n",
    "profile_train = ProfileReport(train, check_correlation = True)\n",
    "profile_train.to_file(outputfile='output.html')\n",
    "HtmlFile = open('output.html', 'r', encoding='utf-8')\n",
    "source_code = HtmlFile.read()\n",
    "\n",
    "IFrame(src='./output.html', width=900, height=800)\n"
   ]
  },
  {
   "cell_type": "markdown",
   "metadata": {
    "hidden": true
   },
   "source": [
    "add more plots and visual"
   ]
  },
  {
   "cell_type": "code",
   "execution_count": null,
   "metadata": {
    "hidden": true
   },
   "outputs": [],
   "source": []
  },
  {
   "cell_type": "code",
   "execution_count": null,
   "metadata": {
    "hidden": true
   },
   "outputs": [],
   "source": []
  },
  {
   "cell_type": "code",
   "execution_count": null,
   "metadata": {
    "hidden": true
   },
   "outputs": [],
   "source": []
  },
  {
   "cell_type": "markdown",
   "metadata": {
    "hidden": true
   },
   "source": [
    ">**Observations**\n",
    "\n",
    "**Aside**: The Profile report is interactive snd contains the statistics and graphs associated to the DataFrame(just click Toggle details).\n",
    "\n",
    "**Information about the dataset:**\n",
    "- The train DataFrame contains 29 columns and 21 201 observations with 4.1% of the data is missing.\n",
    "- There are 11 numeric variables, 8 categorical variables, 1 uniques text and 9 rejected variables\n",
    "- The User_Id, Placement_-_Time, Confirmation_-_Time, Arrival_at_Pickup_-Time, Pickup_-_Time, Arrival_at_Desination_-Time and Rider_Id has a high cardinality. \n",
    "    - This means that there are a number of unique values contained in a particular column. The cardinality or distinct values are 3186, 15 686, 15 742, 15 767, 15 690, 15 725 and 924 respectively.\n",
    "- The Vehicle_type has a only one value within the column which is Bike and should be ignored for analysis.\n",
    "- There is a high correlation between (Confirmation_-_Day_of_Month and Placement_-_Day_of_Month), (Arrival_at_Pickup_-_Day_of_Month and Confirmation_-_Day_of_Month), (Arrival_at_Pickup_-_Weekday_(Mo_=_1) and Confirmation_-_Weekday_(Mo_=_1)), (Pickup_-_Day_of_Month and Arrival_at_Pickup_-_Day_of_Month), (Pickup_-_Weekday_(Mo_=_1) and Arrival_at_Pickup_-_Weekday_(Mo_=_1)), (Arrival_at_Destination_-_Day_of_Month and Pickup_-_Day_of_Month), (Arrival_at_Destination_-_Weekday_(Mo_=_1) and Pickup_-_Weekday_(Mo_=_1)) where the p-value = 1. \n",
    "    - This means that there is a direct relation between variables and inessence they are the same. when one variable moves either up or down, the other variable moves in the same direction as it is a near perfect positive correlation. \n",
    "- The Temperature and Precipitation_in_mm column is missing 20.6% and 97.4% of their data respectively. \n",
    "\n",
    "\n",
    "**Order_no:**\n",
    "- The values are categorical and unique where no values repeat itself.\n",
    "\n",
    "**User_Id:**\n",
    "- The values are categorical  and there are no missing values.\n",
    "- 15% (3 186) of the values are unique.\n",
    "    - This means that 3 186 people use Sendy as their logistics company for the transportation of goods. \n",
    "    - There are many people who have repeated used Sendy's services. The highest being User_ID_393 who used Sendy 645 times which counts to 3% of the values within the column. \n",
    "    \n",
    " **Platform_Type:**\n",
    "- The values are numeric and the values are between 1 to 4.\n",
    "     - 1, 2, 3 and 4 each represent a method on how an order is placed to Sendy. \n",
    "- There are no missing values and since each value represents a method, the mean is irrelevant as it is averaging the method number.\n",
    "- From the data, we have gathered that the most used platform is 3 accounting for 85.2% of the values and the least used would be 4 (0.1%).\n",
    "    - Platform 3 is Quartile 1, median and Quartile 3 of the dataset which means most of the dataset falls within those ranges.\n",
    "    \n",
    "**Personal_or_Business:**\n",
    "- The values are categorical and there is no missing or unique values.\n",
    "- There are 2 distinct values:\n",
    "    - Business accounts for 82% of the values and Personal for 18%.\n",
    "    \n",
    "**Placement_-_Day_of_Month:**\n",
    "- The values are numeric, no missing values and there is 31 distinct values which accounts to each day of the month.\n",
    "- Confirmation_-_Day_of_Month is highly correlated and be ignored \n",
    "- Confirmation_-_Day_of_Month and  Arrival-_Day_of_Month is highly correlated and be ignored \n",
    "- Pickup_-_Day_of_Month \n",
    "- Arrival_at_Destination_-_Day_of_Month\n",
    "\n",
    "**Placement_-_Weekday_(MO_=_1):**\n",
    "- The values are numeric, no missing values and there is 7 distinct values which accounts to each day of the week.\n",
    "- Confirmation_-_Weekday_(MO_=_1) is highly correlated and be ignored\n",
    "- Confirmation_-_Weekday_(MO_=_1) and  Arrival-_Weekday_(MO_=_1) is highly correlated and be ignored  multicollinearity\n",
    "- Pickup_-_Weekday_(Mo_=_1)\n",
    "- Arrival_at_Destination_-_Weekday_(Mo_=_1)\n",
    "\n",
    "**Placement_-_Time:**\n",
    "- The values are categorical, no missing values and 74% of the values are distinct.\n",
    "- Since it measures the placement time down to the second, it will be very hard to get repeated values.\n",
    "    - The maximum number of orders placed at exact time is 6 which also occurred 6 other times.\n",
    "\n",
    "**Confirmation_-_Time:**\n",
    "- The values are categorical, no missing values and 74.3% of the values are distinct.\n",
    "- Since it measures the placement time down to the second, it will be very hard to get repeated values.\n",
    "    - The maximum number of orders placed at exact time is 6.\n",
    "\n",
    "**Arrival_at_Pickup_-_Time:**\n",
    "- The values are categorical, no missing values and 74.4% of the values are distinct.\n",
    "- Since it measures the placement time down to the second, it will be very hard to get repeated values.\n",
    "    - The maximum number of orders placed at exact time is 6 which also occurred 5 other times.\n",
    "\n",
    "**Pickup_-_Time:**\n",
    "- The values are categorical, no missing values and 74% of the values are distinct.\n",
    "- Since it measures the placement time down to the second, it will be very hard to get repeated values.\n",
    "    - The maximum number of orders placed at exact time is 6 which also occurred 4 other times.\n",
    "\n",
    "**Arrival_at_Destination_-_Time:**\n",
    "- The values are categorical, no missing values and 74.2% of the values are distinct.\n",
    "- Since it measures the placement time down to the second, it will be very hard to get repeated values.\n",
    "    - The maximum number of orders placed at exact time is 7.\n",
    "\n",
    "**Distance_(KM):**\n",
    "- The values are numerical, there are no missing values and 0.2% are unique.\n",
    "- The minimum distanced Sendy logistics bike had to deliver was 1km, the furthest was 49km and the most common distance travelled is 8km.\n",
    "- The average distance travelled was 9.5km with a standard deviation of 5.669.\n",
    "\n",
    "**Temperature:**\n",
    "- The values are numerical, 20.6% of the data is missing and the 0.9% are unique.\n",
    "- The average temperature from the dataset is 23.259 with the minimum being 11.2 and maximum 32.1.\n",
    "\n",
    "**Precipitation_in_millimeters:**\n",
    "- The values are numerical, 97.4% of the data is missing and the 0.3% are unique.\n",
    "- The average precipitation from the dataset is 7.9mm with the minimum being 0.1mm and maximum 99.1mm.\n",
    "- It's got a standard deviation of 17.09 and coefficeint of variation of 2.16.\n",
    "\n",
    "**Pickup_Lat:**\n",
    "- The values are numerical, no missing vales and there are 17.3% unique values.\n",
    "- Since the values within the data set are co-ordinates, extracting the mean and all the other things would not be benefical as it won't be according to the data.\n",
    "- From the co-ordinates, you can see where the deliveries are made the most at that destination.\n",
    "\n",
    "**Pickup_Long:**\n",
    "- The values are numerical, no missing vales and there are 17.2% unique values.\n",
    "- Since the values within the data set are co-ordinates, extracting the mean and all the other things would not be benefical as it won't be according to the data.\n",
    "- From the co-ordinates, you can see where the deliveries are made the most at that destination.\n",
    "\n",
    "**Destination_Lat:**\n",
    "- The values are numerical, no missing vales and there are 25% unique values.\n",
    "- Since the values within the data set are co-ordinates, extracting the mean and all the other things would not be benefical as it won't be according to the data.\n",
    "- From the co-ordinates, you can see where the deliveries are made the most at that destination.\n",
    "\n",
    "**Destination_Long:**\n",
    "- The values are numerical, no missing vales and there are 24.8% unique values.\n",
    "- Since the values within the data set are co-ordinates, extracting the mean and all the other things would not be benefical as it won't be according to the data.\n",
    "- From the co-ordinates, you can see where the deliveries are made the most at that destination.\n",
    "\n",
    "**Rider_Id:**\n",
    "- The values are categorical, no missing values and there are 4.4% unique values.\n",
    "- There is a rider that has done 247 deliveries for Sendy.\n",
    "\n",
    "**Time_from_Pickup_to_Arrival:**\n",
    "- The values are numerical, no missing vales and there are 19.2% unique values.\n",
    "- The average time taken is 1556.9 minutes with the minimum being 1 and maximum 7883\n",
    "\n",
    "\n",
    "\n",
    "\n",
    "\n"
   ]
  },
  {
   "cell_type": "markdown",
   "metadata": {
    "heading_collapsed": true,
    "hidden": true
   },
   "source": [
    "##### Rider DataFrame"
   ]
  },
  {
   "cell_type": "code",
   "execution_count": 341,
   "metadata": {
    "hidden": true
   },
   "outputs": [
    {
     "name": "stderr",
     "output_type": "stream",
     "text": [
      "C:\\Users\\Suzzy\\Anaconda3\\lib\\site-packages\\pandas_profiling\\describe.py:392: FutureWarning: The join_axes-keyword is deprecated. Use .reindex or .reindex_like on the result to achieve the same functionality.\n",
      "  variable_stats = pd.concat(ldesc, join_axes=pd.Index([names]), axis=1)\n"
     ]
    },
    {
     "data": {
      "text/html": [
       "\n",
       "        <iframe\n",
       "            width=\"900\"\n",
       "            height=\"800\"\n",
       "            src=\"./output.html\"\n",
       "            frameborder=\"0\"\n",
       "            allowfullscreen\n",
       "        ></iframe>\n",
       "        "
      ],
      "text/plain": [
       "<IPython.lib.display.IFrame at 0x2d5ddef1b08>"
      ]
     },
     "execution_count": 341,
     "metadata": {},
     "output_type": "execute_result"
    }
   ],
   "source": [
    "# Pandas Profile Report on the train DataFrame and converting the report to an html file.\n",
    "profile_rider = ProfileReport(rider, check_correlation = True)\n",
    "profile_rider.to_file(outputfile='output.html')\n",
    "\n",
    "HtmlFile = open('output.html', 'r', encoding='utf-8')\n",
    "source_code = HtmlFile.read()\n",
    "\n",
    "IFrame(src='./output.html', width=900, height=800)"
   ]
  },
  {
   "cell_type": "markdown",
   "metadata": {
    "hidden": true
   },
   "source": [
    "> **Observations**"
   ]
  },
  {
   "cell_type": "markdown",
   "metadata": {
    "heading_collapsed": true,
    "hidden": true
   },
   "source": [
    "### Transformation and Processing of data"
   ]
  },
  {
   "cell_type": "markdown",
   "metadata": {
    "hidden": true
   },
   "source": [
    "> **Splitting the data**"
   ]
  },
  {
   "cell_type": "code",
   "execution_count": 342,
   "metadata": {
    "hidden": true
   },
   "outputs": [],
   "source": [
    "# Splitting the baseline_train DataFrame into the X and Y variable using the Pandas .iloc[] method.\n",
    "\n",
    "X = train.iloc[:, :-1]\n",
    "Y = train.iloc[:, -1]"
   ]
  },
  {
   "cell_type": "markdown",
   "metadata": {
    "hidden": true
   },
   "source": [
    "> **Alignment of the datasets**\n"
   ]
  },
  {
   "cell_type": "code",
   "execution_count": 343,
   "metadata": {
    "hidden": true
   },
   "outputs": [],
   "source": [
    "# Using the Pandas .drop() method.\n",
    "# Remove columns by specifying the column names and corresponding axis.\n",
    "\n",
    "X = X.drop(['Arrival_at_Destination_-_Day_of_Month',\n",
    "            'Arrival_at_Destination_-_Weekday_(Mo_=_1)', 'Arrival_at_Destination_-_Time'], axis=1)"
   ]
  },
  {
   "cell_type": "markdown",
   "metadata": {
    "hidden": true
   },
   "source": [
    "> **Missing data**"
   ]
  },
  {
   "cell_type": "markdown",
   "metadata": {
    "hidden": true
   },
   "source": [
    "**Precipitation_in_mm**\n",
    "\n",
    "Through research, Nairobi receives an average during July (driest weather) of 19 mm  and April (wettest weather) of 206 mm of rainfall. From the Exploratory Data Analysis, we gathered the average rainfall would be 7.9mm or median would be 2.9mm which is far below the researched averages. Therefore, the Precipitaion_in_mm column would be dropped because if we were to replace the missing values with the mean or median, it may change the learning quality of the data models"
   ]
  },
  {
   "cell_type": "code",
   "execution_count": 344,
   "metadata": {
    "hidden": true
   },
   "outputs": [],
   "source": [
    "# Using the Pandas .drop() method.\n",
    "# Remove columns that are not useful by specifying the column names and corresponding axis.\n",
    "\n",
    "X = X.drop(['Precipitation_in_millimeters'], axis=1)"
   ]
  },
  {
   "cell_type": "code",
   "execution_count": 345,
   "metadata": {
    "hidden": true
   },
   "outputs": [],
   "source": [
    "# Using the Pandas .drop() method.\n",
    "# Remove columns that are not useful by specifying the column names and corresponding axis.\n",
    "\n",
    "test = test.drop(['Precipitation_in_millimeters'], axis=1)"
   ]
  },
  {
   "cell_type": "markdown",
   "metadata": {
    "hidden": true
   },
   "source": [
    "**Temperature**\n",
    "\n",
    "Through research, Nairobi receives an average of between 10 degress celcius during the winter months and 29 degrees celcius during the summer months. From the Exploratory Data Analysis, the average temperature is 23.2 degrees celcius with the minimum and maximum being 11.2 and 32.1 degrees celcius respectively. This is close to the researched values. The median and modal temperature is 23.5 24.7 degrees celcuis respectively which is also close to the average temperature of the dataset. \n",
    "\n",
    "Since only 20.6% of the values are missing, we will fill the missing data using the mean temperature (23.2 degrees celcius) of the dataset."
   ]
  },
  {
   "cell_type": "code",
   "execution_count": 346,
   "metadata": {
    "hidden": true
   },
   "outputs": [],
   "source": [
    "# Replacing NaN values using the Pandas .fillna() method with the mean of the column.\n",
    "\n",
    "X['Temperature']= X['Temperature'].fillna(X['Temperature'].mean())"
   ]
  },
  {
   "cell_type": "code",
   "execution_count": 347,
   "metadata": {
    "hidden": true
   },
   "outputs": [],
   "source": [
    "# Replacing NaN values using the Pandas .fillna() method with the mean of the column.\n",
    "\n",
    "test['Temperature']= test['Temperature'].fillna(test['Temperature'].mean())"
   ]
  },
  {
   "cell_type": "markdown",
   "metadata": {
    "hidden": true
   },
   "source": [
    "> **Transformation of data**"
   ]
  },
  {
   "cell_type": "markdown",
   "metadata": {
    "hidden": true
   },
   "source": [
    "**Dropping columns**\n",
    "\n",
    "From Exploratory Data Analysis, There is a high correlation between (Confirmation_-_Day_of_Month and Placement_-_Day_of_Month), (Arrival_at_Pickup_-_Day_of_Month and Confirmation_-_Day_of_Month), (Arrival_at_Pickup_-_Weekday_(Mo_=_1) and Confirmation_-_Weekday_(Mo_=_1)), (Pickup_-_Day_of_Month and Arrival_at_Pickup_-_Day_of_Month), (Pickup_-_Weekday_(Mo_=_1) and Arrival_at_Pickup_-_Weekday_(Mo_=_1)), (Arrival_at_Destination_-_Day_of_Month and Pickup_-_Day_of_Month), (Arrival_at_Destination_-_Weekday_(Mo_=_1) and Pickup_-_Weekday_(Mo_=_1)).\n",
    "\n",
    "\n",
    "There is a direct relationship between the variables and inessence they are the same. Therefore, we will only keep the Placement_-_Day_of_Month and Placement_-_Weekday_(Mo_=_1) and drop the rest of the columns."
   ]
  },
  {
   "cell_type": "code",
   "execution_count": 348,
   "metadata": {
    "hidden": true
   },
   "outputs": [],
   "source": [
    "# Using the Pandas .drop() method.\n",
    "# Remove columns that are not useful by specifying the column names and corresponding axis.\n",
    "\n",
    "X = X.drop(['Confirmation_-_Day_of_Month', 'Confirmation_-_Weekday_(Mo_=_1)',\n",
    "            'Arrival_at_Pickup_-_Day_of_Month', 'Arrival_at_Pickup_-_Weekday_(Mo_=_1)',\n",
    "            'Pickup_-_Day_of_Month', 'Pickup_-_Weekday_(Mo_=_1)'], axis=1)"
   ]
  },
  {
   "cell_type": "code",
   "execution_count": 349,
   "metadata": {
    "hidden": true
   },
   "outputs": [],
   "source": [
    "# Using the Pandas .drop() method.\n",
    "# Remove columns that are not useful by specifying the column names and corresponding axis.\n",
    "\n",
    "test = test.drop(['Confirmation_-_Day_of_Month', 'Confirmation_-_Weekday_(Mo_=_1)',\n",
    "                  'Arrival_at_Pickup_-_Day_of_Month', 'Arrival_at_Pickup_-_Weekday_(Mo_=_1)',\n",
    "                  'Pickup_-_Day_of_Month', 'Pickup_-_Weekday_(Mo_=_1)'], axis=1)"
   ]
  },
  {
   "cell_type": "code",
   "execution_count": 350,
   "metadata": {
    "hidden": true
   },
   "outputs": [],
   "source": [
    "# Using the Pandas .drop() method.\n",
    "# Remove columns that are not useful by specifying the column names and corresponding axis.\n",
    "\n",
    "X = X.drop(['Vehicle_Type', 'User_Id', 'Rider_Id'], axis=1)"
   ]
  },
  {
   "cell_type": "code",
   "execution_count": 351,
   "metadata": {
    "hidden": true
   },
   "outputs": [],
   "source": [
    "# Using the Pandas .drop() method.\n",
    "# Remove columns that are not useful by specifying the column names and corresponding axis.\n",
    "\n",
    "test = test.drop(['Vehicle_Type', 'User_Id', 'Rider_Id'], axis=1)"
   ]
  },
  {
   "cell_type": "markdown",
   "metadata": {
    "hidden": true
   },
   "source": [
    "**Converting time strings into seconds**\n",
    "\n",
    "The type object for the time columns are strings, in order to build a predictive model it needs to be either an integer or float. Therefore, we need to convert the string into floats in order to use the data in our model."
   ]
  },
  {
   "cell_type": "code",
   "execution_count": 352,
   "metadata": {
    "hidden": true
   },
   "outputs": [],
   "source": [
    "# Converting time strings to seconds using the Pandas .to_timedelta() method.\n",
    "# Using the .dt accessor object for datetimelike properties of the Series values to convert to seconds.\n",
    "\n",
    "X['Placement_-_Time'] = pd.to_timedelta(\n",
    "    X['Placement_-_Time']).dt.total_seconds()\n",
    "\n",
    "X['Confirmation_-_Time'] = pd.to_timedelta(\n",
    "    X['Confirmation_-_Time']).dt.total_seconds()\n",
    "\n",
    "X['Arrival_at_Pickup_-_Time'] = pd.to_timedelta(\n",
    "    X['Arrival_at_Pickup_-_Time']).dt.total_seconds()\n",
    "\n",
    "X['Pickup_-_Time'] = pd.to_timedelta(\n",
    "    X['Pickup_-_Time']).dt.total_seconds()"
   ]
  },
  {
   "cell_type": "code",
   "execution_count": 353,
   "metadata": {
    "hidden": true
   },
   "outputs": [],
   "source": [
    "# Converting time strings to seconds using the Pandas .to_timedelta() method.\n",
    "# Using the .dt accessor object for datetimelike properties of the Series values to convert to seconds.\n",
    "\n",
    "test['Placement_-_Time'] = pd.to_timedelta(\n",
    "    test['Placement_-_Time']).dt.total_seconds()\n",
    "\n",
    "test['Confirmation_-_Time'] = pd.to_timedelta(\n",
    "    test['Confirmation_-_Time']).dt.total_seconds()\n",
    "\n",
    "test['Arrival_at_Pickup_-_Time'] = pd.to_timedelta(\n",
    "    test['Arrival_at_Pickup_-_Time']).dt.total_seconds()\n",
    "\n",
    "test['Pickup_-_Time'] = pd.to_timedelta(\n",
    "    test['Pickup_-_Time']).dt.total_seconds()"
   ]
  },
  {
   "cell_type": "markdown",
   "metadata": {
    "hidden": true
   },
   "source": [
    "**Calculating the distance between the order Pick and order Destination**"
   ]
  },
  {
   "cell_type": "code",
   "execution_count": 354,
   "metadata": {
    "hidden": true
   },
   "outputs": [],
   "source": [
    "# Using the geopy.distance to calculate the distance between the two latitude and longitude points\n",
    "\n",
    "def distance_calc(X):\n",
    "    '''calculate distance (m) between two lat&long points using the Vincenty formula '''\n",
    "\n",
    "    dist_calc = distance((X.Pickup_Lat, X.Pickup_Long),\n",
    "                         (X.Destination_Lat, X.Destination_Long)).km\n",
    "    return dist_calc"
   ]
  },
  {
   "cell_type": "code",
   "execution_count": 355,
   "metadata": {
    "hidden": true
   },
   "outputs": [],
   "source": [
    "# Using the lambda function to iterate distance_calc(X) over the X DataFrame and create a new colmun.\n",
    "\n",
    "X['Distance_(lat/long)_(KM)'] = X.apply(lambda r: distance_calc(r), axis=1)"
   ]
  },
  {
   "cell_type": "code",
   "execution_count": 356,
   "metadata": {
    "hidden": true
   },
   "outputs": [],
   "source": [
    "# Using the geopy.distance to calculate the distance between the two latitude and longitude points\n",
    "\n",
    "def distance_calc(test):\n",
    "\n",
    "    dist_calc = distance((test.Pickup_Lat, test.Pickup_Long),\n",
    "                         (test.Destination_Lat, test.Destination_Long)).km\n",
    "    return dist_calc"
   ]
  },
  {
   "cell_type": "code",
   "execution_count": 357,
   "metadata": {
    "hidden": true
   },
   "outputs": [],
   "source": [
    "# Using the lambda function to iterate distance_calc(X) over the X DataFrame and create a new colmun.\n",
    "\n",
    "test['Distance_(lat/long)_(KM)'] = test.apply(lambda r: distance_calc(r), axis=1)"
   ]
  },
  {
   "cell_type": "markdown",
   "metadata": {
    "hidden": true
   },
   "source": [
    "> **Encoding categorical data**"
   ]
  },
  {
   "cell_type": "code",
   "execution_count": 358,
   "metadata": {
    "hidden": true
   },
   "outputs": [],
   "source": [
    "# Encoding categorical data using pd.get_dummies for the x dataframe\n",
    "\n",
    "X = pd.get_dummies(X, columns=['Platform_Type', 'Personal_or_Business'], drop_first=True)"
   ]
  },
  {
   "cell_type": "code",
   "execution_count": 359,
   "metadata": {
    "hidden": true
   },
   "outputs": [],
   "source": [
    "# Encoding categorical data using pd.get_dummies for the test dataframe\n",
    "\n",
    "test = pd.get_dummies(test, columns=['Platform_Type', 'Personal_or_Business'], drop_first=True)"
   ]
  },
  {
   "cell_type": "markdown",
   "metadata": {
    "hidden": true
   },
   "source": [
    "> **Rename columns**"
   ]
  },
  {
   "cell_type": "code",
   "execution_count": 360,
   "metadata": {
    "hidden": true
   },
   "outputs": [],
   "source": [
    "X.columns= ['Placement(Day)', 'Placement(Weekday)', 'Placement(Time)', 'Confirmation(Time)', \n",
    "            'Arrival(Time)', 'Pickup(Time)', 'Distance(KM)','Temperature', 'Pickup(Lat)', \n",
    "            'Pickup(Long)', 'Destination(Lat)', 'Destination(Long)', 'Distance(lat/long_KM)',\n",
    "            'Platform(Type2)', 'Platform(Type3)', 'Platform(Type4)', 'Personal/Business']"
   ]
  },
  {
   "cell_type": "code",
   "execution_count": 361,
   "metadata": {
    "hidden": true
   },
   "outputs": [],
   "source": [
    "test.columns= ['Placement(Day)', 'Placement(Weekday)', 'Placement(Time)', 'Confirmation(Time)', \n",
    "               'Arrival(Time)', 'Pickup(Time)', 'Distance(KM)','Temperature', 'Pickup(Lat)', \n",
    "               'Pickup(Long)', 'Destination(Lat)', 'Destination(Long)', 'Distance(lat/long_KM)',\n",
    "               'Platform(Type2)', 'Platform(Type3)', 'Platform(Type4)', 'Personal/Business']"
   ]
  },
  {
   "cell_type": "markdown",
   "metadata": {
    "hidden": true
   },
   "source": [
    "> **How the transformed data look**"
   ]
  },
  {
   "cell_type": "code",
   "execution_count": 362,
   "metadata": {
    "hidden": true
   },
   "outputs": [
    {
     "data": {
      "text/html": [
       "<div>\n",
       "<style scoped>\n",
       "    .dataframe tbody tr th:only-of-type {\n",
       "        vertical-align: middle;\n",
       "    }\n",
       "\n",
       "    .dataframe tbody tr th {\n",
       "        vertical-align: top;\n",
       "    }\n",
       "\n",
       "    .dataframe thead th {\n",
       "        text-align: right;\n",
       "    }\n",
       "</style>\n",
       "<table border=\"1\" class=\"dataframe\">\n",
       "  <thead>\n",
       "    <tr style=\"text-align: right;\">\n",
       "      <th></th>\n",
       "      <th>Placement(Day)</th>\n",
       "      <th>Placement(Weekday)</th>\n",
       "      <th>Placement(Time)</th>\n",
       "      <th>Confirmation(Time)</th>\n",
       "      <th>Arrival(Time)</th>\n",
       "      <th>Pickup(Time)</th>\n",
       "      <th>Distance(KM)</th>\n",
       "      <th>Temperature</th>\n",
       "      <th>Pickup(Lat)</th>\n",
       "      <th>Pickup(Long)</th>\n",
       "      <th>Destination(Lat)</th>\n",
       "      <th>Destination(Long)</th>\n",
       "      <th>Distance(lat/long_KM)</th>\n",
       "      <th>Platform(Type2)</th>\n",
       "      <th>Platform(Type3)</th>\n",
       "      <th>Platform(Type4)</th>\n",
       "      <th>Personal/Business</th>\n",
       "    </tr>\n",
       "    <tr>\n",
       "      <th>Order No</th>\n",
       "      <th></th>\n",
       "      <th></th>\n",
       "      <th></th>\n",
       "      <th></th>\n",
       "      <th></th>\n",
       "      <th></th>\n",
       "      <th></th>\n",
       "      <th></th>\n",
       "      <th></th>\n",
       "      <th></th>\n",
       "      <th></th>\n",
       "      <th></th>\n",
       "      <th></th>\n",
       "      <th></th>\n",
       "      <th></th>\n",
       "      <th></th>\n",
       "      <th></th>\n",
       "    </tr>\n",
       "  </thead>\n",
       "  <tbody>\n",
       "    <tr>\n",
       "      <td>Order_No_4211</td>\n",
       "      <td>9</td>\n",
       "      <td>5</td>\n",
       "      <td>34546.0</td>\n",
       "      <td>34810.0</td>\n",
       "      <td>36287.0</td>\n",
       "      <td>37650.0</td>\n",
       "      <td>4</td>\n",
       "      <td>20.400000</td>\n",
       "      <td>-1.317755</td>\n",
       "      <td>36.830370</td>\n",
       "      <td>-1.300406</td>\n",
       "      <td>36.829741</td>\n",
       "      <td>1.919586</td>\n",
       "      <td>0</td>\n",
       "      <td>1</td>\n",
       "      <td>0</td>\n",
       "      <td>0</td>\n",
       "    </tr>\n",
       "    <tr>\n",
       "      <td>Order_No_25375</td>\n",
       "      <td>12</td>\n",
       "      <td>5</td>\n",
       "      <td>40576.0</td>\n",
       "      <td>41001.0</td>\n",
       "      <td>42022.0</td>\n",
       "      <td>42249.0</td>\n",
       "      <td>16</td>\n",
       "      <td>26.400000</td>\n",
       "      <td>-1.351453</td>\n",
       "      <td>36.899315</td>\n",
       "      <td>-1.295004</td>\n",
       "      <td>36.814358</td>\n",
       "      <td>11.329354</td>\n",
       "      <td>0</td>\n",
       "      <td>1</td>\n",
       "      <td>0</td>\n",
       "      <td>1</td>\n",
       "    </tr>\n",
       "    <tr>\n",
       "      <td>Order_No_1899</td>\n",
       "      <td>30</td>\n",
       "      <td>2</td>\n",
       "      <td>45565.0</td>\n",
       "      <td>45764.0</td>\n",
       "      <td>46174.0</td>\n",
       "      <td>46383.0</td>\n",
       "      <td>3</td>\n",
       "      <td>23.258889</td>\n",
       "      <td>-1.308284</td>\n",
       "      <td>36.843419</td>\n",
       "      <td>-1.300921</td>\n",
       "      <td>36.828195</td>\n",
       "      <td>1.879806</td>\n",
       "      <td>0</td>\n",
       "      <td>1</td>\n",
       "      <td>0</td>\n",
       "      <td>0</td>\n",
       "    </tr>\n",
       "    <tr>\n",
       "      <td>Order_No_9336</td>\n",
       "      <td>15</td>\n",
       "      <td>5</td>\n",
       "      <td>33934.0</td>\n",
       "      <td>33965.0</td>\n",
       "      <td>34676.0</td>\n",
       "      <td>34986.0</td>\n",
       "      <td>9</td>\n",
       "      <td>19.200000</td>\n",
       "      <td>-1.281301</td>\n",
       "      <td>36.832396</td>\n",
       "      <td>-1.257147</td>\n",
       "      <td>36.795063</td>\n",
       "      <td>4.939253</td>\n",
       "      <td>0</td>\n",
       "      <td>1</td>\n",
       "      <td>0</td>\n",
       "      <td>0</td>\n",
       "    </tr>\n",
       "    <tr>\n",
       "      <td>Order_No_27883</td>\n",
       "      <td>13</td>\n",
       "      <td>1</td>\n",
       "      <td>35718.0</td>\n",
       "      <td>35778.0</td>\n",
       "      <td>36233.0</td>\n",
       "      <td>36323.0</td>\n",
       "      <td>9</td>\n",
       "      <td>15.400000</td>\n",
       "      <td>-1.266597</td>\n",
       "      <td>36.792118</td>\n",
       "      <td>-1.295041</td>\n",
       "      <td>36.809817</td>\n",
       "      <td>3.711035</td>\n",
       "      <td>0</td>\n",
       "      <td>0</td>\n",
       "      <td>0</td>\n",
       "      <td>1</td>\n",
       "    </tr>\n",
       "  </tbody>\n",
       "</table>\n",
       "</div>"
      ],
      "text/plain": [
       "                Placement(Day)  Placement(Weekday)  Placement(Time)  \\\n",
       "Order No                                                              \n",
       "Order_No_4211                9                   5          34546.0   \n",
       "Order_No_25375              12                   5          40576.0   \n",
       "Order_No_1899               30                   2          45565.0   \n",
       "Order_No_9336               15                   5          33934.0   \n",
       "Order_No_27883              13                   1          35718.0   \n",
       "\n",
       "                Confirmation(Time)  Arrival(Time)  Pickup(Time)  Distance(KM)  \\\n",
       "Order No                                                                        \n",
       "Order_No_4211              34810.0        36287.0       37650.0             4   \n",
       "Order_No_25375             41001.0        42022.0       42249.0            16   \n",
       "Order_No_1899              45764.0        46174.0       46383.0             3   \n",
       "Order_No_9336              33965.0        34676.0       34986.0             9   \n",
       "Order_No_27883             35778.0        36233.0       36323.0             9   \n",
       "\n",
       "                Temperature  Pickup(Lat)  Pickup(Long)  Destination(Lat)  \\\n",
       "Order No                                                                   \n",
       "Order_No_4211     20.400000    -1.317755     36.830370         -1.300406   \n",
       "Order_No_25375    26.400000    -1.351453     36.899315         -1.295004   \n",
       "Order_No_1899     23.258889    -1.308284     36.843419         -1.300921   \n",
       "Order_No_9336     19.200000    -1.281301     36.832396         -1.257147   \n",
       "Order_No_27883    15.400000    -1.266597     36.792118         -1.295041   \n",
       "\n",
       "                Destination(Long)  Distance(lat/long_KM)  Platform(Type2)  \\\n",
       "Order No                                                                    \n",
       "Order_No_4211           36.829741               1.919586                0   \n",
       "Order_No_25375          36.814358              11.329354                0   \n",
       "Order_No_1899           36.828195               1.879806                0   \n",
       "Order_No_9336           36.795063               4.939253                0   \n",
       "Order_No_27883          36.809817               3.711035                0   \n",
       "\n",
       "                Platform(Type3)  Platform(Type4)  Personal/Business  \n",
       "Order No                                                             \n",
       "Order_No_4211                 1                0                  0  \n",
       "Order_No_25375                1                0                  1  \n",
       "Order_No_1899                 1                0                  0  \n",
       "Order_No_9336                 1                0                  0  \n",
       "Order_No_27883                0                0                  1  "
      ]
     },
     "execution_count": 362,
     "metadata": {},
     "output_type": "execute_result"
    }
   ],
   "source": [
    "X.head()"
   ]
  },
  {
   "cell_type": "markdown",
   "metadata": {
    "heading_collapsed": true,
    "hidden": true
   },
   "source": [
    "##### Splitting the dataset"
   ]
  },
  {
   "cell_type": "code",
   "execution_count": 363,
   "metadata": {
    "hidden": true
   },
   "outputs": [],
   "source": [
    "# Using sklearn.model_selection, train_test_split() method to split the baseline_X and baseline_Y.\n",
    "# Test size will be 0.2 (20% of the data will the test case).\n",
    "\n",
    "X_train, X_test, Y_train, Y_test = train_test_split(\n",
    "    X, Y, test_size=0.2, random_state=1)"
   ]
  },
  {
   "cell_type": "markdown",
   "metadata": {
    "heading_collapsed": true
   },
   "source": [
    "# Multiple Linear Regression"
   ]
  },
  {
   "cell_type": "markdown",
   "metadata": {
    "hidden": true
   },
   "source": [
    "> **Training the model**"
   ]
  },
  {
   "cell_type": "code",
   "execution_count": 364,
   "metadata": {
    "hidden": true
   },
   "outputs": [],
   "source": [
    "multiregression= LinearRegression()"
   ]
  },
  {
   "cell_type": "code",
   "execution_count": 365,
   "metadata": {
    "hidden": true
   },
   "outputs": [
    {
     "data": {
      "text/plain": [
       "LinearRegression(copy_X=True, fit_intercept=True, n_jobs=None, normalize=False)"
      ]
     },
     "execution_count": 365,
     "metadata": {},
     "output_type": "execute_result"
    }
   ],
   "source": [
    "multiregression.fit(X_train, Y_train)"
   ]
  },
  {
   "cell_type": "code",
   "execution_count": 366,
   "metadata": {
    "hidden": true
   },
   "outputs": [
    {
     "name": "stdout",
     "output_type": "stream",
     "text": [
      "Intercept: 49439.484226825574\n"
     ]
    }
   ],
   "source": [
    "# extract model intercept\n",
    "beta0_multiregression = float(multiregression.intercept_)\n",
    "print(\"Intercept:\", beta0_multiregression)"
   ]
  },
  {
   "cell_type": "code",
   "execution_count": 367,
   "metadata": {
    "hidden": true
   },
   "outputs": [],
   "source": [
    "# extract model coefficients\n",
    "betaj_multiregression = pd.DataFrame(multiregression.coef_, X.columns, columns=['Coefficient'])\n"
   ]
  },
  {
   "cell_type": "code",
   "execution_count": 368,
   "metadata": {
    "hidden": true
   },
   "outputs": [
    {
     "data": {
      "text/html": [
       "<div>\n",
       "<style scoped>\n",
       "    .dataframe tbody tr th:only-of-type {\n",
       "        vertical-align: middle;\n",
       "    }\n",
       "\n",
       "    .dataframe tbody tr th {\n",
       "        vertical-align: top;\n",
       "    }\n",
       "\n",
       "    .dataframe thead th {\n",
       "        text-align: right;\n",
       "    }\n",
       "</style>\n",
       "<table border=\"1\" class=\"dataframe\">\n",
       "  <thead>\n",
       "    <tr style=\"text-align: right;\">\n",
       "      <th></th>\n",
       "      <th>Coefficient</th>\n",
       "    </tr>\n",
       "  </thead>\n",
       "  <tbody>\n",
       "    <tr>\n",
       "      <td>Placement(Day)</td>\n",
       "      <td>-0.998106</td>\n",
       "    </tr>\n",
       "    <tr>\n",
       "      <td>Placement(Weekday)</td>\n",
       "      <td>6.955475</td>\n",
       "    </tr>\n",
       "    <tr>\n",
       "      <td>Placement(Time)</td>\n",
       "      <td>0.002388</td>\n",
       "    </tr>\n",
       "    <tr>\n",
       "      <td>Confirmation(Time)</td>\n",
       "      <td>-0.001727</td>\n",
       "    </tr>\n",
       "    <tr>\n",
       "      <td>Arrival(Time)</td>\n",
       "      <td>-0.002030</td>\n",
       "    </tr>\n",
       "    <tr>\n",
       "      <td>Pickup(Time)</td>\n",
       "      <td>0.000181</td>\n",
       "    </tr>\n",
       "    <tr>\n",
       "      <td>Distance(KM)</td>\n",
       "      <td>82.200409</td>\n",
       "    </tr>\n",
       "    <tr>\n",
       "      <td>Temperature</td>\n",
       "      <td>2.091895</td>\n",
       "    </tr>\n",
       "    <tr>\n",
       "      <td>Pickup(Lat)</td>\n",
       "      <td>592.083498</td>\n",
       "    </tr>\n",
       "    <tr>\n",
       "      <td>Pickup(Long)</td>\n",
       "      <td>-1072.912732</td>\n",
       "    </tr>\n",
       "    <tr>\n",
       "      <td>Destination(Lat)</td>\n",
       "      <td>-402.626910</td>\n",
       "    </tr>\n",
       "    <tr>\n",
       "      <td>Destination(Long)</td>\n",
       "      <td>-249.328940</td>\n",
       "    </tr>\n",
       "    <tr>\n",
       "      <td>Distance(lat/long_KM)</td>\n",
       "      <td>27.566285</td>\n",
       "    </tr>\n",
       "    <tr>\n",
       "      <td>Platform(Type2)</td>\n",
       "      <td>2.148142</td>\n",
       "    </tr>\n",
       "    <tr>\n",
       "      <td>Platform(Type3)</td>\n",
       "      <td>39.379259</td>\n",
       "    </tr>\n",
       "    <tr>\n",
       "      <td>Platform(Type4)</td>\n",
       "      <td>-225.199796</td>\n",
       "    </tr>\n",
       "    <tr>\n",
       "      <td>Personal/Business</td>\n",
       "      <td>70.873701</td>\n",
       "    </tr>\n",
       "  </tbody>\n",
       "</table>\n",
       "</div>"
      ],
      "text/plain": [
       "                       Coefficient\n",
       "Placement(Day)           -0.998106\n",
       "Placement(Weekday)        6.955475\n",
       "Placement(Time)           0.002388\n",
       "Confirmation(Time)       -0.001727\n",
       "Arrival(Time)            -0.002030\n",
       "Pickup(Time)              0.000181\n",
       "Distance(KM)             82.200409\n",
       "Temperature               2.091895\n",
       "Pickup(Lat)             592.083498\n",
       "Pickup(Long)          -1072.912732\n",
       "Destination(Lat)       -402.626910\n",
       "Destination(Long)      -249.328940\n",
       "Distance(lat/long_KM)    27.566285\n",
       "Platform(Type2)           2.148142\n",
       "Platform(Type3)          39.379259\n",
       "Platform(Type4)        -225.199796\n",
       "Personal/Business        70.873701"
      ]
     },
     "execution_count": 368,
     "metadata": {},
     "output_type": "execute_result"
    }
   ],
   "source": [
    "betaj_multiregression"
   ]
  },
  {
   "cell_type": "markdown",
   "metadata": {
    "hidden": true
   },
   "source": [
    "> **Predictions**"
   ]
  },
  {
   "cell_type": "code",
   "execution_count": 370,
   "metadata": {
    "hidden": true
   },
   "outputs": [
    {
     "data": {
      "text/plain": [
       "array([[1305.76041207],\n",
       "       [3348.13407729],\n",
       "       [1305.9846667 ],\n",
       "       ...,\n",
       "       [1067.22323318],\n",
       "       [1001.11261072],\n",
       "       [1104.39400009]])"
      ]
     },
     "execution_count": 370,
     "metadata": {},
     "output_type": "execute_result"
    }
   ],
   "source": [
    "multiregression_predict= multiregression.predict(X_test)\n",
    "multiregression_predict[:, None]"
   ]
  },
  {
   "cell_type": "markdown",
   "metadata": {
    "hidden": true
   },
   "source": [
    "> **Assessing model accuracy**"
   ]
  },
  {
   "cell_type": "markdown",
   "metadata": {
    "hidden": true
   },
   "source": [
    "**Mean Squared Error**"
   ]
  },
  {
   "cell_type": "code",
   "execution_count": 446,
   "metadata": {
    "hidden": true
   },
   "outputs": [],
   "source": [
    "# Calculating the mean squared error between the predicted values and test set values.\n",
    "\n",
    "def mse(Y_test, multiregression_predict):\n",
    "\n",
    "    MSE = mean_squared_error(Y_test, multiregression_predict)\n",
    "    return MSE"
   ]
  },
  {
   "cell_type": "code",
   "execution_count": 447,
   "metadata": {
    "hidden": true
   },
   "outputs": [
    {
     "data": {
      "text/plain": [
       "624340.5561579801"
      ]
     },
     "execution_count": 447,
     "metadata": {},
     "output_type": "execute_result"
    }
   ],
   "source": [
    "mse(Y_test, multiregression_predict)"
   ]
  },
  {
   "cell_type": "markdown",
   "metadata": {
    "hidden": true
   },
   "source": [
    "**Residual Sum of Squares**"
   ]
  },
  {
   "cell_type": "code",
   "execution_count": 440,
   "metadata": {
    "hidden": true
   },
   "outputs": [],
   "source": [
    "# Calculating the residual sum of squares between the predicted values and test set values.\n",
    "\n",
    "def rss(Y_test, multiregression_predict):\n",
    "    \n",
    "    RSS = mean_squared_error(\n",
    "        Y_test, multiregression_predict)*len(X)\n",
    "    return RSS"
   ]
  },
  {
   "cell_type": "code",
   "execution_count": 448,
   "metadata": {
    "hidden": true
   },
   "outputs": [
    {
     "data": {
      "text/plain": [
       "13236644131.105337"
      ]
     },
     "execution_count": 448,
     "metadata": {},
     "output_type": "execute_result"
    }
   ],
   "source": [
    "rss(Y_test, multiregression_predict)"
   ]
  },
  {
   "cell_type": "markdown",
   "metadata": {
    "hidden": true
   },
   "source": [
    "**R squared**"
   ]
  },
  {
   "cell_type": "code",
   "execution_count": 449,
   "metadata": {
    "hidden": true
   },
   "outputs": [],
   "source": [
    "# Calculating the R squared between the predicted values and test set values.\n",
    "\n",
    "def r2(Y_test, multiregression_predict):\n",
    "    \n",
    "    R2 = r2_score(Y_test, multiregression_predict)\n",
    "    return R2"
   ]
  },
  {
   "cell_type": "code",
   "execution_count": 450,
   "metadata": {
    "hidden": true
   },
   "outputs": [
    {
     "data": {
      "text/plain": [
       "0.3449921881763034"
      ]
     },
     "execution_count": 450,
     "metadata": {},
     "output_type": "execute_result"
    }
   ],
   "source": [
    "r2(Y_test, multiregression_predict)"
   ]
  },
  {
   "cell_type": "markdown",
   "metadata": {
    "hidden": true
   },
   "source": [
    "**Root Mean Squared Error**"
   ]
  },
  {
   "cell_type": "code",
   "execution_count": 444,
   "metadata": {
    "hidden": true
   },
   "outputs": [],
   "source": [
    "# Calculating the root mean squared error between the predicted values and test set values.\n",
    "\n",
    "def rmse(Y_test, multiregression_predict):\n",
    "    RMSE = np.sqrt(mean_squared_error(Y_test, multiregression_predict))\n",
    "\n",
    "    return RMSE"
   ]
  },
  {
   "cell_type": "code",
   "execution_count": 451,
   "metadata": {
    "hidden": true
   },
   "outputs": [
    {
     "data": {
      "text/plain": [
       "790.1522360646587"
      ]
     },
     "execution_count": 451,
     "metadata": {},
     "output_type": "execute_result"
    }
   ],
   "source": [
    "rmse(Y_test, multiregression_predict)"
   ]
  },
  {
   "cell_type": "markdown",
   "metadata": {
    "heading_collapsed": true
   },
   "source": [
    "# XGBoost Regression"
   ]
  },
  {
   "cell_type": "markdown",
   "metadata": {
    "hidden": true
   },
   "source": [
    "> **Training the model**"
   ]
  },
  {
   "cell_type": "code",
   "execution_count": 373,
   "metadata": {
    "hidden": true
   },
   "outputs": [
    {
     "name": "stderr",
     "output_type": "stream",
     "text": [
      "C:\\Users\\Suzzy\\Anaconda3\\lib\\site-packages\\xgboost\\core.py:587: FutureWarning: Series.base is deprecated and will be removed in a future version\n",
      "  if getattr(data, 'base', None) is not None and \\\n"
     ]
    },
    {
     "name": "stdout",
     "output_type": "stream",
     "text": [
      "[11:29:54] WARNING: src/objective/regression_obj.cu:152: reg:linear is now deprecated in favor of reg:squarederror.\n"
     ]
    },
    {
     "data": {
      "text/plain": [
       "XGBRegressor(base_score=0.5, booster='gbtree', colsample_bylevel=1,\n",
       "             colsample_bynode=1, colsample_bytree=1, gamma=0,\n",
       "             importance_type='gain', learning_rate=0.1, max_delta_step=0,\n",
       "             max_depth=3, min_child_weight=1, missing=None, n_estimators=100,\n",
       "             n_jobs=1, nthread=None, objective='reg:linear', random_state=0,\n",
       "             reg_alpha=0, reg_lambda=1, scale_pos_weight=1, seed=None,\n",
       "             silent=None, subsample=1, verbosity=1)"
      ]
     },
     "execution_count": 373,
     "metadata": {},
     "output_type": "execute_result"
    }
   ],
   "source": [
    "xgbregression= xgb.XGBRegressor()\n",
    "xgbregression.fit(X_train, Y_train)"
   ]
  },
  {
   "cell_type": "markdown",
   "metadata": {
    "hidden": true
   },
   "source": [
    "> **Predictions**"
   ]
  },
  {
   "cell_type": "code",
   "execution_count": 374,
   "metadata": {
    "hidden": true
   },
   "outputs": [
    {
     "data": {
      "text/plain": [
       "array([[1123.529 ],\n",
       "       [3080.5867],\n",
       "       [1437.8683],\n",
       "       ...,\n",
       "       [1527.0631],\n",
       "       [ 940.1639],\n",
       "       [1397.5447]], dtype=float32)"
      ]
     },
     "execution_count": 374,
     "metadata": {},
     "output_type": "execute_result"
    }
   ],
   "source": [
    "xgbregression_predict= xgbregression.predict(X_test)\n",
    "xgbregression_predict[:, None]"
   ]
  },
  {
   "cell_type": "markdown",
   "metadata": {
    "hidden": true
   },
   "source": [
    "> **Assessing model accuracy**"
   ]
  },
  {
   "cell_type": "markdown",
   "metadata": {
    "hidden": true
   },
   "source": [
    "**Mean Squared Error**"
   ]
  },
  {
   "cell_type": "code",
   "execution_count": 453,
   "metadata": {
    "hidden": true
   },
   "outputs": [],
   "source": [
    "# Calculating the mean squared error between the predicted values and test set values.\n",
    "\n",
    "def mse(Y_test, xgbregression_predict):\n",
    "\n",
    "    MSE = mean_squared_error(Y_test, xgbregression_predict)\n",
    "    return MSE"
   ]
  },
  {
   "cell_type": "code",
   "execution_count": 454,
   "metadata": {
    "hidden": true
   },
   "outputs": [
    {
     "data": {
      "text/plain": [
       "587086.046361122"
      ]
     },
     "execution_count": 454,
     "metadata": {},
     "output_type": "execute_result"
    }
   ],
   "source": [
    "mse(Y_test, xgbregression_predict)"
   ]
  },
  {
   "cell_type": "markdown",
   "metadata": {
    "hidden": true
   },
   "source": [
    "**Residual Sum of Squares**"
   ]
  },
  {
   "cell_type": "code",
   "execution_count": 455,
   "metadata": {
    "hidden": true
   },
   "outputs": [],
   "source": [
    "# Calculating the residual sum of squares between the predicted values and test set values.\n",
    "\n",
    "def rss(Y_test, xgbregression_predict):\n",
    "    \n",
    "    RSS = mean_squared_error(\n",
    "        Y_test, xgbregression_predict)*len(X)\n",
    "    return RSS"
   ]
  },
  {
   "cell_type": "code",
   "execution_count": 456,
   "metadata": {
    "hidden": true
   },
   "outputs": [
    {
     "data": {
      "text/plain": [
       "12446811268.90215"
      ]
     },
     "execution_count": 456,
     "metadata": {},
     "output_type": "execute_result"
    }
   ],
   "source": [
    "rss(Y_test, xgbregression_predict)"
   ]
  },
  {
   "cell_type": "markdown",
   "metadata": {
    "hidden": true
   },
   "source": [
    "**R squared**"
   ]
  },
  {
   "cell_type": "code",
   "execution_count": 457,
   "metadata": {
    "hidden": true
   },
   "outputs": [],
   "source": [
    "# Calculating the R squared between the predicted values and test set values.\n",
    "\n",
    "def r2(Y_test, xgbregression_predict):\n",
    "    \n",
    "    R2 = r2_score(Y_test, xgbregression_predict)\n",
    "    return R2"
   ]
  },
  {
   "cell_type": "code",
   "execution_count": 458,
   "metadata": {
    "hidden": true
   },
   "outputs": [
    {
     "data": {
      "text/plain": [
       "0.3840766184634653"
      ]
     },
     "execution_count": 458,
     "metadata": {},
     "output_type": "execute_result"
    }
   ],
   "source": [
    "r2(Y_test, xgbregression_predict)"
   ]
  },
  {
   "cell_type": "markdown",
   "metadata": {
    "hidden": true
   },
   "source": [
    "**Root Mean Squared Error**"
   ]
  },
  {
   "cell_type": "code",
   "execution_count": 459,
   "metadata": {
    "hidden": true
   },
   "outputs": [],
   "source": [
    "# Calculating the root mean squared error between the predicted values and test set values.\n",
    "\n",
    "def rmse(Y_test, xgbregression_predict):\n",
    "    RMSE = np.sqrt(mean_squared_error(Y_test, xgbregression_predict))\n",
    "\n",
    "    return RMSE"
   ]
  },
  {
   "cell_type": "code",
   "execution_count": 460,
   "metadata": {
    "hidden": true
   },
   "outputs": [
    {
     "data": {
      "text/plain": [
       "766.2154046749008"
      ]
     },
     "execution_count": 460,
     "metadata": {},
     "output_type": "execute_result"
    }
   ],
   "source": [
    "rmse(Y_test, xgbregression_predict)"
   ]
  },
  {
   "cell_type": "markdown",
   "metadata": {
    "heading_collapsed": true
   },
   "source": [
    "# Polynomial Regression"
   ]
  },
  {
   "cell_type": "code",
   "execution_count": null,
   "metadata": {
    "hidden": true
   },
   "outputs": [],
   "source": [
    "\n"
   ]
  },
  {
   "cell_type": "code",
   "execution_count": null,
   "metadata": {
    "hidden": true
   },
   "outputs": [],
   "source": []
  },
  {
   "cell_type": "code",
   "execution_count": null,
   "metadata": {
    "hidden": true
   },
   "outputs": [],
   "source": []
  },
  {
   "cell_type": "code",
   "execution_count": null,
   "metadata": {
    "hidden": true
   },
   "outputs": [],
   "source": []
  },
  {
   "cell_type": "code",
   "execution_count": null,
   "metadata": {
    "hidden": true
   },
   "outputs": [],
   "source": []
  },
  {
   "cell_type": "code",
   "execution_count": null,
   "metadata": {
    "hidden": true
   },
   "outputs": [],
   "source": []
  },
  {
   "cell_type": "code",
   "execution_count": null,
   "metadata": {
    "hidden": true
   },
   "outputs": [],
   "source": []
  },
  {
   "cell_type": "code",
   "execution_count": null,
   "metadata": {
    "hidden": true
   },
   "outputs": [],
   "source": []
  },
  {
   "cell_type": "markdown",
   "metadata": {
    "heading_collapsed": true
   },
   "source": [
    "# Support Vector Regression"
   ]
  },
  {
   "cell_type": "markdown",
   "metadata": {
    "heading_collapsed": true
   },
   "source": [
    "# Decision Tree Regression"
   ]
  },
  {
   "cell_type": "markdown",
   "metadata": {
    "heading_collapsed": true
   },
   "source": [
    "# Random Forest Regression"
   ]
  },
  {
   "cell_type": "code",
   "execution_count": null,
   "metadata": {
    "hidden": true
   },
   "outputs": [],
   "source": []
  }
 ],
 "metadata": {
  "kernelspec": {
   "display_name": "Python 3",
   "language": "python",
   "name": "python3"
  },
  "language_info": {
   "codemirror_mode": {
    "name": "ipython",
    "version": 3
   },
   "file_extension": ".py",
   "mimetype": "text/x-python",
   "name": "python",
   "nbconvert_exporter": "python",
   "pygments_lexer": "ipython3",
   "version": "3.7.4"
  }
 },
 "nbformat": 4,
 "nbformat_minor": 2
}
